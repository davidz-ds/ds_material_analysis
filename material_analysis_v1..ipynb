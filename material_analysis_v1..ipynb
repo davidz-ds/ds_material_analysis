{
 "cells": [
  {
   "cell_type": "code",
   "execution_count": 1,
   "metadata": {
    "tags": []
   },
   "outputs": [
    {
     "output_type": "stream",
     "name": "stdout",
     "text": [
      "Requirement already satisfied: xlrd in /opt/anaconda3/lib/python3.7/site-packages (1.2.0)\n",
      "\u001b[33mWARNING: You are using pip version 21.0; however, version 21.0.1 is available.\n",
      "You should consider upgrading via the '/opt/anaconda3/bin/python -m pip install --upgrade pip' command.\u001b[0m\n"
     ]
    }
   ],
   "source": [
    "## lib\n",
    "import pandas as pd\n",
    "import os\n",
    "!pip install xlrd"
   ]
  },
  {
   "cell_type": "code",
   "execution_count": 2,
   "metadata": {},
   "outputs": [],
   "source": [
    "pd.options.display.max_columns = 99"
   ]
  },
  {
   "cell_type": "code",
   "execution_count": 3,
   "metadata": {},
   "outputs": [
    {
     "output_type": "execute_result",
     "data": {
      "text/plain": [
       "['88666V.S_INF-S.R2.xlsx',\n",
       " '88288V1.F_INF-S.R1.xlsx',\n",
       " '88552Q3.L_INF-R.R3.xlsx',\n",
       " '87952V.B_INF-S.R1.xlsx',\n",
       " '87740V.I_INF-P-UD.WM.xlsx',\n",
       " '88552Q3.A-F_INF-R.R3.xlsx',\n",
       " '88657V.E_INF-S.R2.xlsx',\n",
       " '87353V.G_INF-R.R1.xlsx',\n",
       " '89347V.K_INF-T-DA.xlsx',\n",
       " '88867S.I_INF-S.R2.xlsx',\n",
       " '87952V.F_INF-S.R1.xlsx',\n",
       " '87307V.B_INF-S.xlsx',\n",
       " '89347V.F_INF-P-UD2.5A.xlsx',\n",
       " '88288V1.B_INF-S.R1.xlsx',\n",
       " '88689V.C_INF-S.xlsx',\n",
       " '88666V.W_INF-S.R2.xlsx',\n",
       " '87307V.S1_INF-R.xlsx',\n",
       " '87353V.B_INF-P-UD.R1.xlsx',\n",
       " '88657V.A_INF-S.R2.xlsx',\n",
       " '88689V.H_INF-S.R1.xlsx',\n",
       " '88705V.FE_INF-S.FCAST.xlsx',\n",
       " '88666V.B_INF-S.R2.xlsx',\n",
       " '87307V.Q_INF-S.xlsx',\n",
       " '87866V.S_INF-S.xlsx',\n",
       " '88288V1.C_INF-S.R2.xlsx',\n",
       " '88288V1.A_INF-S.xlsx',\n",
       " '88657V.T_INF-S.R2.xlsx',\n",
       " '89347V.C_INF-P-UD2.5A.xlsx',\n",
       " '87866V.M_INF-S.xlsx',\n",
       " '87952V.E_INF-S.xlsx',\n",
       " '88666V.F_INF-S.R2.xlsx',\n",
       " '88867S.H_INF-S.R1.xlsx',\n",
       " '87729N.C_INF-P-UD.xlsx',\n",
       " '87353V.F_INF-R.R2.xlsx',\n",
       " '88657V.P_INF-S.R2.xlsx',\n",
       " '88674V.A_INF-S.xlsx',\n",
       " '88288V1.G_INF-S.R2.xlsx',\n",
       " '87307V.O_INF-S.xlsx',\n",
       " '88288V1.D_INF-S.xlsx',\n",
       " '87866V.V_INF-S.xlsx',\n",
       " '88666V.A_INF-S.R2.xlsx',\n",
       " '87702N.G_INF-R.R1.xlsx',\n",
       " '87353V.E_INF-R.xlsx',\n",
       " '.DS_Store',\n",
       " '87702N.E_INF-R.xlsx',\n",
       " '88674V.D_INF-S.xlsx',\n",
       " '87307V.J_INF-S.xlsx',\n",
       " '88705V.FA_INF-S.FCAST.xlsx',\n",
       " '89347V.G_INF-P-UD2.5A.xlsx',\n",
       " '88666V.E_INF-S.R2.xlsx',\n",
       " '87866V.H_INF-S.xlsx',\n",
       " '88288V1.D_INF-S.R2.xlsx',\n",
       " '87729N.C_INF-P-UD.R1.xlsx',\n",
       " '88657V.S_INF-S.R2.xlsx',\n",
       " '87866V.M_INF-S.R1.xlsx',\n",
       " '87782S.C_INF-S.xlsx',\n",
       " '87952V.A_INF-S.R1.xlsx',\n",
       " '88288V1.E_INF-S.R1.xlsx',\n",
       " '88666V.P_INF-S.R2.xlsx',\n",
       " '88666V.Z_INF-S-MASTER.xlsx',\n",
       " '89910N.C_INF-S.xlsx',\n",
       " '87761A.D_INF-S.xlsx',\n",
       " '89347V.A_INF-P-UD2.5.xlsx',\n",
       " '88657V.F_INF-S.R2.xlsx',\n",
       " '88666V.T_INF-S.R2.xlsx',\n",
       " '89347V.B_INF-P-UD2.5A.xlsx',\n",
       " '88288V1.A_INF-S.R1.xlsx',\n",
       " '89099Z.C_INF-P-UD.xlsx',\n",
       " '88689V.FC_INF-S.FCAST.xlsx',\n",
       " '88552Q3.K_INF-R.R3.xlsx',\n",
       " '87952V.E_INF-S.R1.xlsx',\n",
       " '87866V.E_INF-S.xlsx',\n",
       " '87307V.G_INF-S.xlsx',\n",
       " '89001Z.E_INF-S.xlsx',\n",
       " '87761A.A_INF-R.xlsx',\n",
       " '88657V.B_INF-S.R2.xlsx',\n",
       " '88674V.FB_INF-S.FCAST.xlsx',\n",
       " '87702N.H_INF-R.xlsx',\n",
       " '88552Q3.C-D-E_INF-R.R3.xlsx',\n",
       " '88674V.I_INF-S.xlsx',\n",
       " '89001Z.B_INF-S.xlsx',\n",
       " '89910N.A_INF-R.xlsx',\n",
       " '87761A.F_INF-R.xlsx',\n",
       " '90340S.B_INF-S.xlsx',\n",
       " '87353V.C_INF-P-UD.R1.xlsx',\n",
       " '89347V.D_INF-P-UD2.5.xlsx',\n",
       " '88689V.A_INF-S.xlsx',\n",
       " '88867S.D_INF-S.R2.xlsx',\n",
       " '87307V.O1_INF-S.xlsx',\n",
       " '87866V.B_INF-S.xlsx',\n",
       " '87761A.C_INF-S.xlsx',\n",
       " '89347V.K_INF-T-DA.R1.xlsx',\n",
       " '89347V.D_INF-P-UD2.5A.xlsx',\n",
       " '87761A.A_INF-R.R1.xlsx',\n",
       " '87307V.P1_INF-S.xlsx',\n",
       " '87761A.B_INF-S.R1.xlsx',\n",
       " '87866V.O_INF-S.xlsx',\n",
       " '88666V.O_INF-S.R2.xlsx',\n",
       " '87353V.D_INF-P-UD.xlsx',\n",
       " '88867S.A_INF-S.R1.xlsx',\n",
       " '88689V.E_INF-S.R1.xlsx',\n",
       " '88674V.C_INF-S.xlsx',\n",
       " '87702N.B_INF-R.xlsx',\n",
       " '88552Q3.K_INF-R.R4.xlsx',\n",
       " '87307V.M_INF-S.xlsx',\n",
       " 'material_analysis_v1..ipynb',\n",
       " '88689V.A_INF-S.R1.xlsx',\n",
       " '89347V.A_INF-P-UD2.5A.xlsx',\n",
       " '88552Q3.H_INF-R.R5.xlsx',\n",
       " '88867S.E_INF-S.R1.xlsx',\n",
       " '88666V.K_INF-S.R2.xlsx',\n",
       " '87866V.Q_INF-S.xlsx',\n",
       " '88288V1.C_INF-S.xlsx',\n",
       " '88674V.B_INF-S.R1.xlsx',\n",
       " '88705V.FD_INF-S.FCAST.xlsx',\n",
       " '88689V.I_INF-S.xlsx',\n",
       " '87702N.G_INF-R.xlsx',\n",
       " '88674V.F_INF-S.xlsx',\n",
       " '88867S.B_INF-S.xlsx',\n",
       " '88867S.B_INF-S.R1.xlsx',\n",
       " '88666V.L_INF-S.R2.xlsx',\n",
       " '87307V.H_INF-S.xlsx',\n",
       " '87307V.S_INF-R.xlsx',\n",
       " '88552Q3.H_INF-R.R4.xlsx',\n",
       " '87952V.B_INF-S.xlsx',\n",
       " 'bill_of_quantity.csv',\n",
       " '87866V.J_INF-S.xlsx',\n",
       " '88674V.E_INF-S.R1.xlsx',\n",
       " '87952V.X_INF-S.FCAST.xlsx',\n",
       " '88867S.G_INF-R.xlsx',\n",
       " '88288V1.F_INF-S.xlsx',\n",
       " '87353V.C_INF-P-UD.xlsx',\n",
       " '88867S.F_INF-S.R1.xlsx',\n",
       " '87866V.T_INF-S.xlsx',\n",
       " '87740V.I_INF-P-UD.WM.R2.xlsx',\n",
       " '89347V.E_INF-P-UD2.5A.xlsx',\n",
       " '87866V.J_INF-S.XXX.xlsx',\n",
       " '88689V.B_INF-S.R1.xlsx',\n",
       " '87353V.G_INF-R.xlsx',\n",
       " '88674V.A_INF-S.R1.xlsx',\n",
       " '89606V.B_INF-S.xlsx',\n",
       " '88552Q3.B_INF-R.R3.xlsx',\n",
       " '89099Z.B_INF-P-DO.xlsx',\n",
       " '88674V.FC_INF-S.FCAST.xlsx',\n",
       " '87866V.G_INF-S.xlsx',\n",
       " '87307V.E_INF-S.xlsx',\n",
       " '88689V.FB_INF-S.FCAST.xlsx',\n",
       " '88689V.D_INF-S.xlsx',\n",
       " '88288V2.A_INF-S.G1.xlsx',\n",
       " '87761A.E_INF-S.R1.xlsx',\n",
       " '88867S.G_INF-S.R2.xlsx',\n",
       " '87782S.A_INF-S.xlsx',\n",
       " '88867S.C_INF-S.R2.xlsx',\n",
       " '88657V.O_INF-S.R2.xlsx',\n",
       " '88552Q3.M_INF-R.R4.xlsx',\n",
       " '88288V1.E_INF-S.xlsx',\n",
       " '88689V.C_INF-S.R1.xlsx',\n",
       " '87866V.Q_INF-S.XXX.xlsx',\n",
       " '88867S.G_INF-S.R1.xlsx',\n",
       " '88666V.I_INF-S.R2.xlsx',\n",
       " '87353V.B_INF-P-UD.xlsx',\n",
       " '87952V.A_INF-S.xlsx',\n",
       " '87866V.I_INF-S.xlsx',\n",
       " '87307V.R1_INF-S.xlsx',\n",
       " '88666V.M_INF-S.R2.xlsx',\n",
       " '87702N.D_INF-R.xlsx',\n",
       " '87353V.C_INF-P-UD.R3.xlsx',\n",
       " '89347V.I_INF-P-UD2.5A.xlsx',\n",
       " '88689V.J_INF-S.xlsx',\n",
       " '88867S.C_INF-S.R1.xlsx',\n",
       " '88674V.E_INF-S.xlsx',\n",
       " '87307V.K_INF-S.xlsx',\n",
       " '88867S.A_INF-S.xlsx',\n",
       " '88689V.G_INF-S.R1.xlsx',\n",
       " '88657V.N_INF-S.R2.xlsx',\n",
       " '87761A.E_INF-S.xlsx',\n",
       " '88867S.B_INF-S.R2.xlsx',\n",
       " '87782S.B_INF-S.xlsx',\n",
       " '88552Q3.G_INF-R.R3.xlsx',\n",
       " '89001Z.D_INF-S.xlsx',\n",
       " '87307V.F_INF-S.xlsx',\n",
       " '87761A.D_INF-S.R1.xlsx',\n",
       " '88867S.F_INF-S.R2.xlsx',\n",
       " '90340S.D_INF-S.xlsx',\n",
       " '87740V.I_INF-P-UD.WM.R1.xlsx',\n",
       " '88689V.G_INF-S.xlsx',\n",
       " '88674V.H_INF-S.xlsx',\n",
       " '88674V.FD_INF-S.FCAST.xlsx',\n",
       " '89606V.A_INF-S.xlsx',\n",
       " '88689V.FE_INF-S.FCAST.xlsx',\n",
       " '87866V.D_INF-S.xlsx',\n",
       " '88867S.A_INF-S.R2.xlsx',\n",
       " '87761A.C_INF-S.R1.xlsx',\n",
       " '88657V.M_INF-S.R2.xlsx',\n",
       " '88689V.FA_INF-S.FCAST.xlsx',\n",
       " '89099Z.D_INF-P-DO.xlsx',\n",
       " '89606V.D_INF-S.xlsx',\n",
       " '88867S.E_INF-S.R2.xlsx',\n",
       " '87866V.A_INF-S.xlsx',\n",
       " '87353V.D_INF-P-UD.R1.xlsx',\n",
       " '89347V.C_INF-P-UD2.5.xlsx',\n",
       " '89347V.H_INF-P-UD2.5A.xlsx',\n",
       " '89910N.B_INF-R.xlsx',\n",
       " '89001Z.A_INF-S.xlsx',\n",
       " '87307V.C_INF-S.xlsx',\n",
       " '88689V.B_INF-S.xlsx',\n",
       " '90340S.A_INF-S.xlsx',\n",
       " '87866V.R_INF-S.xlsx',\n",
       " '87353V.C_INF-P-UD.R2.xlsx',\n",
       " '88666V.J_INF-S.R2.xlsx',\n",
       " '88867S.D_INF-S.R1.xlsx',\n",
       " 'material_analysis.csv',\n",
       " '88705V.FC_INF-S.FCAST.xlsx',\n",
       " '87307V.P_INF-S.xlsx',\n",
       " '87702N.A_INF-R.xlsx',\n",
       " '88288V1.XX_INF-S-FCAST.xlsx',\n",
       " '87307V.N_INF-S.xlsx',\n",
       " '87952V.D_INF-S.xlsx',\n",
       " '87866V.L_INF-S.xlsx',\n",
       " '88689V.D_INF-S.R1.xlsx',\n",
       " '87702N.H_INF-R.R1.xlsx',\n",
       " '87866V.P_INF-S.XXX.xlsx',\n",
       " '87761A.A_INF-R.R2.xlsx',\n",
       " '88666V.N_INF-S.R2.xlsx',\n",
       " '88657V.R_INF-S.R2.xlsx',\n",
       " '87866V.K_INF-S.xlsx',\n",
       " '87952V.C_INF-S.xlsx',\n",
       " '.ipynb_checkpoints',\n",
       " '88288V1.E_INF-S.R2.xlsx',\n",
       " '88689V.H_INF-S.xlsx',\n",
       " '88666V.D_INF-S.R2.xlsx',\n",
       " '87702N.F_INF-R.xlsx',\n",
       " '88674V.G_INF-S.xlsx',\n",
       " '88867S.C_INF-S.xlsx',\n",
       " '87307V.I_INF-S.xlsx',\n",
       " '88552Q3.H-I-J_INF-R.R3.xlsx',\n",
       " '87729N.A_INF-P-UD.xlsx',\n",
       " '88288V1.A_INF-S.R2.xlsx',\n",
       " '87353V.F_INF-R.xlsx',\n",
       " '88674V.I_INF-S.R1.xlsx',\n",
       " '88657V.V_INF-S.R2.xlsx',\n",
       " '88288V1.G_INF-S.xlsx',\n",
       " '88689V.J_INF-S.R1.xlsx',\n",
       " '87866V.U_INF-S.xlsx',\n",
       " '89347V.A_INF-P-UD.xlsx',\n",
       " '87307V.D_INF-S.xlsx',\n",
       " '88689V.FD_INF-S.FCAST.xlsx',\n",
       " '88689V.E_INF-S.xlsx',\n",
       " '88657V.C_INF-S.R2.xlsx',\n",
       " '87952V.D_INF-S.R1.xlsx',\n",
       " '89606V.C_INF-S.xlsx',\n",
       " '88674V.FE_INF-S.FCAST.xlsx',\n",
       " '88666V.U_INF-S.R2.xlsx',\n",
       " '87866V.F_INF-S.xlsx',\n",
       " '87353V.E_INF-R.R1.xlsx',\n",
       " '88552Q3.N_INF-R.R3.xlsx',\n",
       " '88666V.Q_INF-S.R2.xlsx',\n",
       " '88288V1.D_INF-S.R1.xlsx',\n",
       " '87729N.C_INF-P-UD.R2.xlsx',\n",
       " '88657V.Z_INF-S-MASTER.xlsx',\n",
       " '87866V.C_INF-S.xlsx',\n",
       " '87307V.A_INF-S.xlsx',\n",
       " '89001Z.C_INF-S.xlsx',\n",
       " '88666V.V_INF-S.R2.xlsx',\n",
       " '88552Q3.I-J_INF-R.R4.xlsx',\n",
       " '88288V1.C_INF-S.R1.xlsx',\n",
       " '89347V.B_INF-P-UD2.5.xlsx',\n",
       " '89099Z.A_INF-P-UD.xlsx',\n",
       " '90340S.C_INF-S.xlsx',\n",
       " '88867S.H_INF-S.R2.xlsx',\n",
       " '88657V.D_INF-S.R2.xlsx',\n",
       " '87353V.F_INF-R.R1.xlsx',\n",
       " '87952V.C_INF-S.R1.xlsx',\n",
       " '87866V.G_INF-S.XX.xlsx',\n",
       " '89347V.J_INF-P-UD2.5A.xlsx',\n",
       " '88674V.FA_INF-S.FCAST.xlsx',\n",
       " '88288V1.G_INF-S.R1.xlsx',\n",
       " '88666V.R_INF-S.R2.xlsx',\n",
       " '87761A.B_INF-S.xlsx',\n",
       " '88552Q3.M_INF-R.R3.xlsx',\n",
       " '88288V1.F_INF-S.R2.xlsx',\n",
       " '88674V.B_INF-S.xlsx',\n",
       " '87702N.C_INF-R.xlsx',\n",
       " '88657V.Q_INF-S.R2.xlsx',\n",
       " '87307V.L_INF-S.xlsx',\n",
       " '87866V.N_INF-S.xlsx',\n",
       " '87952V.F_INF-S.xlsx',\n",
       " '87729N.B_INF-P-UD.xlsx',\n",
       " '87307V.Q1_INF-S.xlsx',\n",
       " '88867S.I_INF-S.R1.xlsx',\n",
       " '87866V.P_INF-S.xlsx',\n",
       " '88288V1.B_INF-S.xlsx',\n",
       " '88657V.U_INF-S.R2.xlsx',\n",
       " '88705V.FB_INF-S.FCAST.xlsx',\n",
       " '88288V1.B_INF-S.R2.xlsx',\n",
       " '88666V.C_INF-S.R2.xlsx',\n",
       " '87353V.B_INF-P-UD.R2.xlsx',\n",
       " '87307V.N1_INF-S.xlsx',\n",
       " '88689V.I_INF-S.R1.xlsx',\n",
       " '87307V.R_INF-S.xlsx']"
      ]
     },
     "metadata": {},
     "execution_count": 3
    }
   ],
   "source": [
    "## file IO\n",
    "path = os.getcwd()\n",
    "files = os.listdir(path)\n",
    "files"
   ]
  },
  {
   "cell_type": "code",
   "execution_count": 4,
   "metadata": {},
   "outputs": [
    {
     "output_type": "execute_result",
     "data": {
      "text/plain": [
       "300"
      ]
     },
     "metadata": {},
     "execution_count": 4
    }
   ],
   "source": [
    "len(files)"
   ]
  },
  {
   "cell_type": "code",
   "execution_count": 5,
   "metadata": {},
   "outputs": [],
   "source": [
    "def data_processing(files):\n",
    "    # Load the csv file\n",
    "    df_bom = pd.DataFrame()\n",
    "    raw_df = pd.read_excel(f,header=None)\n",
    "    print(\"====successfully load file \"+f)\n",
    "    # ========== data processing code ================\n",
    "    # drop useless information \n",
    "    raw_df.drop(df_bom.iloc[:, 20:-1], inplace = True, axis = 1) \n",
    "    # assign raw data to bom data \n",
    "    df_bom = raw_df\n",
    "    # get sales order number\n",
    "    sales_order = df_bom.iloc[3][2]\n",
    "    sales_order = str(sales_order)\n",
    "    # get model type \n",
    "    model_type = df_bom.iloc[0][0]\n",
    "    # get total length of product\n",
    "    total_length = df_bom.iloc[5][5]\n",
    "    # get customer name \n",
    "    customer = df_bom.iloc[2][1]\n",
    "    # get product quantity\n",
    "    quantity = df_bom.iloc[5][1]\n",
    "    # get input date\n",
    "    date = df_bom.iloc[0][19]\n",
    "\n",
    "    #-------------------- validate point 1 ----------------------------------------\n",
    "    print(\"Sales order is \"+ sales_order)\n",
    "    # use regx to find the 'INFI' component code\n",
    "    idx_inf = df_bom.iloc[:,0].str.contains('^INFINITI16*',regex=True, na=False)\n",
    "    df_bom = df_bom[idx_inf]\n",
    "    # remove unralated \n",
    "    df_bom = df_bom.iloc[:,[0,5]]\n",
    "    df_bom.columns = ['parts_name','qty']\n",
    "    # delect all duplicate part number\n",
    "    df_bom.parts_name = df_bom.parts_name.str.rstrip()\n",
    "    df_bom.drop_duplicates(['parts_name'])\n",
    "    # fill NAN with 0\n",
    "    df_bom['qty'] = df_bom['qty'].fillna('0')\n",
    "    # Change the number type with integer\n",
    "    df_bom['qty'] = df_bom['qty'].astype(int)\n",
    "\n",
    "    #-------------------- validate point 2 ----------------------------------------\n",
    "    print('=== covert to pivot table ===')\n",
    "    # Convert to pivot table \n",
    "    df_bom = pd.pivot_table(df_bom,values ='qty',columns = 'parts_name')\n",
    "    # fill the table with sales order, order date, model, total length, customer name, quantity\n",
    "    df_bom.insert(0,'SALE_ORDER',sales_order)\n",
    "    df_bom.insert(1,'ORDER_DATE',date)\n",
    "    df_bom.insert(2,'PDT_MODEL',model_type)\n",
    "    df_bom.insert(3,'TOTAL_LENGTH',total_length)\n",
    "    df_bom.insert(4,'CUSTOMER',customer)\n",
    "    df_bom.insert(5,'TOTAL_QTY',quantity)\n",
    "    # merge the data\n",
    "    return df_bom\n"
   ]
  },
  {
   "cell_type": "code",
   "execution_count": 6,
   "metadata": {},
   "outputs": [],
   "source": [
    "##\n",
    "df_main = pd.DataFrame()"
   ]
  },
  {
   "cell_type": "code",
   "execution_count": 7,
   "metadata": {
    "tags": [
     "outputPrepend"
    ]
   },
   "outputs": [
    {
     "output_type": "stream",
     "name": "stdout",
     "text": [
      "lly load file 88867S.A_INF-S.R1.xlsx\n",
      "Sales order is 88867S\n",
      "=== covert to pivot table ===\n",
      "====successfully load file 88689V.E_INF-S.R1.xlsx\n",
      "Sales order is 88689V\n",
      "=== covert to pivot table ===\n",
      "====successfully load file 88674V.C_INF-S.xlsx\n",
      "Sales order is 88674V\n",
      "=== covert to pivot table ===\n",
      "====successfully load file 87702N.B_INF-R.xlsx\n",
      "Sales order is 87702N\n",
      "=== covert to pivot table ===\n",
      "====successfully load file 88552Q3.K_INF-R.R4.xlsx\n",
      "Sales order is 88552Q3\n",
      "=== covert to pivot table ===\n",
      "====successfully load file 87307V.M_INF-S.xlsx\n",
      "Sales order is 87307V\n",
      "=== covert to pivot table ===\n",
      "====successfully load file 88689V.A_INF-S.R1.xlsx\n",
      "Sales order is 88689V\n",
      "=== covert to pivot table ===\n",
      "====successfully load file 89347V.A_INF-P-UD2.5A.xlsx\n",
      "Sales order is 89347V\n",
      "=== covert to pivot table ===\n",
      "====successfully load file 88552Q3.H_INF-R.R5.xlsx\n",
      "Sales order is 88552Q3\n",
      "=== covert to pivot table ===\n",
      "====successfully load file 88867S.E_INF-S.R1.xlsx\n",
      "Sales order is 88867S\n",
      "=== covert to pivot table ===\n",
      "====successfully load file 88666V.K_INF-S.R2.xlsx\n",
      "Sales order is 88666V\n",
      "=== covert to pivot table ===\n",
      "====successfully load file 87866V.Q_INF-S.xlsx\n",
      "Sales order is 87866V\n",
      "=== covert to pivot table ===\n",
      "====successfully load file 88288V1.C_INF-S.xlsx\n",
      "Sales order is 88288V1\n",
      "=== covert to pivot table ===\n",
      "====successfully load file 88674V.B_INF-S.R1.xlsx\n",
      "Sales order is 88674V\n",
      "=== covert to pivot table ===\n",
      "====successfully load file 88705V.FD_INF-S.FCAST.xlsx\n",
      "Sales order is 88705V\n",
      "=== covert to pivot table ===\n",
      "====successfully load file 88689V.I_INF-S.xlsx\n",
      "Sales order is 88689V\n",
      "=== covert to pivot table ===\n",
      "====successfully load file 87702N.G_INF-R.xlsx\n",
      "Sales order is 87702N\n",
      "=== covert to pivot table ===\n",
      "====successfully load file 88674V.F_INF-S.xlsx\n",
      "Sales order is 88674V\n",
      "=== covert to pivot table ===\n",
      "====successfully load file 88867S.B_INF-S.xlsx\n",
      "Sales order is 88867S\n",
      "=== covert to pivot table ===\n",
      "====successfully load file 88867S.B_INF-S.R1.xlsx\n",
      "Sales order is 88867S\n",
      "=== covert to pivot table ===\n",
      "====successfully load file 88666V.L_INF-S.R2.xlsx\n",
      "Sales order is 88666V\n",
      "=== covert to pivot table ===\n",
      "====successfully load file 87307V.H_INF-S.xlsx\n",
      "Sales order is 87307V\n",
      "=== covert to pivot table ===\n",
      "====successfully load file 87307V.S_INF-R.xlsx\n",
      "Sales order is 87307V\n",
      "=== covert to pivot table ===\n",
      "====successfully load file 88552Q3.H_INF-R.R4.xlsx\n",
      "Sales order is 88552Q3\n",
      "=== covert to pivot table ===\n",
      "====successfully load file 87952V.B_INF-S.xlsx\n",
      "Sales order is 87952V\n",
      "=== covert to pivot table ===\n",
      "====successfully load file 87866V.J_INF-S.xlsx\n",
      "Sales order is 87866V\n",
      "=== covert to pivot table ===\n",
      "====successfully load file 88674V.E_INF-S.R1.xlsx\n",
      "Sales order is 88674V\n",
      "=== covert to pivot table ===\n",
      "====successfully load file 87952V.X_INF-S.FCAST.xlsx\n",
      "Sales order is 87952V\n",
      "=== covert to pivot table ===\n",
      "====successfully load file 88867S.G_INF-R.xlsx\n",
      "Sales order is 88867S\n",
      "=== covert to pivot table ===\n",
      "====successfully load file 88288V1.F_INF-S.xlsx\n",
      "Sales order is 88288V1\n",
      "=== covert to pivot table ===\n",
      "====successfully load file 87353V.C_INF-P-UD.xlsx\n",
      "Sales order is 87353V\n",
      "=== covert to pivot table ===\n",
      "====successfully load file 88867S.F_INF-S.R1.xlsx\n",
      "Sales order is 88867S\n",
      "=== covert to pivot table ===\n",
      "====successfully load file 87866V.T_INF-S.xlsx\n",
      "Sales order is 87866V\n",
      "=== covert to pivot table ===\n",
      "====successfully load file 87740V.I_INF-P-UD.WM.R2.xlsx\n",
      "Sales order is 87740V\n",
      "=== covert to pivot table ===\n",
      "====successfully load file 89347V.E_INF-P-UD2.5A.xlsx\n",
      "Sales order is 89347V\n",
      "=== covert to pivot table ===\n",
      "====successfully load file 87866V.J_INF-S.XXX.xlsx\n",
      "Sales order is 87866V\n",
      "=== covert to pivot table ===\n",
      "====successfully load file 88689V.B_INF-S.R1.xlsx\n",
      "Sales order is 88689V\n",
      "=== covert to pivot table ===\n",
      "====successfully load file 87353V.G_INF-R.xlsx\n",
      "Sales order is 87353V\n",
      "=== covert to pivot table ===\n",
      "====successfully load file 88674V.A_INF-S.R1.xlsx\n",
      "Sales order is 88674V\n",
      "=== covert to pivot table ===\n",
      "====successfully load file 89606V.B_INF-S.xlsx\n",
      "Sales order is 89606V\n",
      "=== covert to pivot table ===\n",
      "====successfully load file 88552Q3.B_INF-R.R3.xlsx\n",
      "Sales order is 88552Q3\n",
      "=== covert to pivot table ===\n",
      "====successfully load file 89099Z.B_INF-P-DO.xlsx\n",
      "Sales order is 89099Z\n",
      "=== covert to pivot table ===\n",
      "====successfully load file 88674V.FC_INF-S.FCAST.xlsx\n",
      "Sales order is 88674V\n",
      "=== covert to pivot table ===\n",
      "====successfully load file 87866V.G_INF-S.xlsx\n",
      "Sales order is 87866V\n",
      "=== covert to pivot table ===\n",
      "====successfully load file 87307V.E_INF-S.xlsx\n",
      "Sales order is 87307V\n",
      "=== covert to pivot table ===\n",
      "====successfully load file 88689V.FB_INF-S.FCAST.xlsx\n",
      "Sales order is 88689V\n",
      "=== covert to pivot table ===\n",
      "====successfully load file 88689V.D_INF-S.xlsx\n",
      "Sales order is 88689V\n",
      "=== covert to pivot table ===\n",
      "====successfully load file 88288V2.A_INF-S.G1.xlsx\n",
      "Sales order is 88288V2\n",
      "=== covert to pivot table ===\n",
      "====successfully load file 87761A.E_INF-S.R1.xlsx\n",
      "Sales order is 87761A\n",
      "=== covert to pivot table ===\n",
      "====successfully load file 88867S.G_INF-S.R2.xlsx\n",
      "Sales order is 88867S\n",
      "=== covert to pivot table ===\n",
      "====successfully load file 87782S.A_INF-S.xlsx\n",
      "Sales order is 87782S\n",
      "=== covert to pivot table ===\n",
      "====successfully load file 88867S.C_INF-S.R2.xlsx\n",
      "Sales order is 88867S\n",
      "=== covert to pivot table ===\n",
      "====successfully load file 88657V.O_INF-S.R2.xlsx\n",
      "Sales order is 88657V\n",
      "=== covert to pivot table ===\n",
      "====successfully load file 88552Q3.M_INF-R.R4.xlsx\n",
      "Sales order is 88552Q3\n",
      "=== covert to pivot table ===\n",
      "====successfully load file 88288V1.E_INF-S.xlsx\n",
      "Sales order is 88288V1\n",
      "=== covert to pivot table ===\n",
      "====successfully load file 88689V.C_INF-S.R1.xlsx\n",
      "Sales order is 88689V\n",
      "=== covert to pivot table ===\n",
      "====successfully load file 87866V.Q_INF-S.XXX.xlsx\n",
      "Sales order is 87866V\n",
      "=== covert to pivot table ===\n",
      "====successfully load file 88867S.G_INF-S.R1.xlsx\n",
      "Sales order is 88867S\n",
      "=== covert to pivot table ===\n",
      "====successfully load file 88666V.I_INF-S.R2.xlsx\n",
      "Sales order is 88666V\n",
      "=== covert to pivot table ===\n",
      "====successfully load file 87353V.B_INF-P-UD.xlsx\n",
      "Sales order is 87353V\n",
      "=== covert to pivot table ===\n",
      "====successfully load file 87952V.A_INF-S.xlsx\n",
      "Sales order is 87952V\n",
      "=== covert to pivot table ===\n",
      "====successfully load file 87866V.I_INF-S.xlsx\n",
      "Sales order is 87866V\n",
      "=== covert to pivot table ===\n",
      "====successfully load file 87307V.R1_INF-S.xlsx\n",
      "Sales order is 87307V\n",
      "=== covert to pivot table ===\n",
      "====successfully load file 88666V.M_INF-S.R2.xlsx\n",
      "Sales order is 88666V\n",
      "=== covert to pivot table ===\n",
      "====successfully load file 87702N.D_INF-R.xlsx\n",
      "Sales order is 87702N\n",
      "=== covert to pivot table ===\n",
      "====successfully load file 87353V.C_INF-P-UD.R3.xlsx\n",
      "Sales order is 87353V\n",
      "=== covert to pivot table ===\n",
      "====successfully load file 89347V.I_INF-P-UD2.5A.xlsx\n",
      "Sales order is 89347V\n",
      "=== covert to pivot table ===\n",
      "====successfully load file 88689V.J_INF-S.xlsx\n",
      "Sales order is 88689V\n",
      "=== covert to pivot table ===\n",
      "====successfully load file 88867S.C_INF-S.R1.xlsx\n",
      "Sales order is 88867S\n",
      "=== covert to pivot table ===\n",
      "====successfully load file 88674V.E_INF-S.xlsx\n",
      "Sales order is 88674V\n",
      "=== covert to pivot table ===\n",
      "====successfully load file 87307V.K_INF-S.xlsx\n",
      "Sales order is 87307V\n",
      "=== covert to pivot table ===\n",
      "====successfully load file 88867S.A_INF-S.xlsx\n",
      "Sales order is 88867S\n",
      "=== covert to pivot table ===\n",
      "====successfully load file 88689V.G_INF-S.R1.xlsx\n",
      "Sales order is 88689V\n",
      "=== covert to pivot table ===\n",
      "====successfully load file 88657V.N_INF-S.R2.xlsx\n",
      "Sales order is 88657V\n",
      "=== covert to pivot table ===\n",
      "====successfully load file 87761A.E_INF-S.xlsx\n",
      "Sales order is 87761A\n",
      "=== covert to pivot table ===\n",
      "====successfully load file 88867S.B_INF-S.R2.xlsx\n",
      "Sales order is 88867S\n",
      "=== covert to pivot table ===\n",
      "====successfully load file 87782S.B_INF-S.xlsx\n",
      "Sales order is 87782S\n",
      "=== covert to pivot table ===\n",
      "====successfully load file 88552Q3.G_INF-R.R3.xlsx\n",
      "Sales order is 88552Q3\n",
      "=== covert to pivot table ===\n",
      "====successfully load file 89001Z.D_INF-S.xlsx\n",
      "Sales order is 89001Z\n",
      "=== covert to pivot table ===\n",
      "====successfully load file 87307V.F_INF-S.xlsx\n",
      "Sales order is 87307V\n",
      "=== covert to pivot table ===\n",
      "====successfully load file 87761A.D_INF-S.R1.xlsx\n",
      "Sales order is 87761A\n",
      "=== covert to pivot table ===\n",
      "====successfully load file 88867S.F_INF-S.R2.xlsx\n",
      "Sales order is 88867S\n",
      "=== covert to pivot table ===\n",
      "====successfully load file 90340S.D_INF-S.xlsx\n",
      "Sales order is 90340S\n",
      "=== covert to pivot table ===\n",
      "====successfully load file 87740V.I_INF-P-UD.WM.R1.xlsx\n",
      "Sales order is 87740V\n",
      "=== covert to pivot table ===\n",
      "====successfully load file 88689V.G_INF-S.xlsx\n",
      "Sales order is 88689V\n",
      "=== covert to pivot table ===\n",
      "====successfully load file 88674V.H_INF-S.xlsx\n",
      "Sales order is 88674V\n",
      "=== covert to pivot table ===\n",
      "====successfully load file 88674V.FD_INF-S.FCAST.xlsx\n",
      "Sales order is 88674V\n",
      "=== covert to pivot table ===\n",
      "====successfully load file 89606V.A_INF-S.xlsx\n",
      "Sales order is 89606V\n",
      "=== covert to pivot table ===\n",
      "====successfully load file 88689V.FE_INF-S.FCAST.xlsx\n",
      "Sales order is 88689V\n",
      "=== covert to pivot table ===\n",
      "====successfully load file 87866V.D_INF-S.xlsx\n",
      "Sales order is 87866V\n",
      "=== covert to pivot table ===\n",
      "====successfully load file 88867S.A_INF-S.R2.xlsx\n",
      "Sales order is 88867S\n",
      "=== covert to pivot table ===\n",
      "====successfully load file 87761A.C_INF-S.R1.xlsx\n",
      "Sales order is 87761A\n",
      "=== covert to pivot table ===\n",
      "====successfully load file 88657V.M_INF-S.R2.xlsx\n",
      "Sales order is 88657V\n",
      "=== covert to pivot table ===\n",
      "====successfully load file 88689V.FA_INF-S.FCAST.xlsx\n",
      "Sales order is 88689V\n",
      "=== covert to pivot table ===\n",
      "====successfully load file 89099Z.D_INF-P-DO.xlsx\n",
      "Sales order is 89099Z\n",
      "=== covert to pivot table ===\n",
      "====successfully load file 89606V.D_INF-S.xlsx\n",
      "Sales order is 89606V\n",
      "=== covert to pivot table ===\n",
      "====successfully load file 88867S.E_INF-S.R2.xlsx\n",
      "Sales order is 88867S\n",
      "=== covert to pivot table ===\n",
      "====successfully load file 87866V.A_INF-S.xlsx\n",
      "Sales order is 87866V\n",
      "=== covert to pivot table ===\n",
      "====successfully load file 87353V.D_INF-P-UD.R1.xlsx\n",
      "Sales order is 87353V\n",
      "=== covert to pivot table ===\n",
      "====successfully load file 89347V.C_INF-P-UD2.5.xlsx\n",
      "Sales order is 89347V\n",
      "=== covert to pivot table ===\n",
      "====successfully load file 89347V.H_INF-P-UD2.5A.xlsx\n",
      "Sales order is 89347V\n",
      "=== covert to pivot table ===\n",
      "====successfully load file 89910N.B_INF-R.xlsx\n",
      "Sales order is 89910N\n",
      "=== covert to pivot table ===\n",
      "====successfully load file 89001Z.A_INF-S.xlsx\n",
      "Sales order is 89001Z\n",
      "=== covert to pivot table ===\n",
      "====successfully load file 87307V.C_INF-S.xlsx\n",
      "Sales order is 87307V\n",
      "=== covert to pivot table ===\n",
      "====successfully load file 88689V.B_INF-S.xlsx\n",
      "Sales order is 88689V\n",
      "=== covert to pivot table ===\n",
      "====successfully load file 90340S.A_INF-S.xlsx\n",
      "Sales order is 90340S\n",
      "=== covert to pivot table ===\n",
      "====successfully load file 87866V.R_INF-S.xlsx\n",
      "Sales order is 87866V\n",
      "=== covert to pivot table ===\n",
      "====successfully load file 87353V.C_INF-P-UD.R2.xlsx\n",
      "Sales order is 87353V\n",
      "=== covert to pivot table ===\n",
      "====successfully load file 88666V.J_INF-S.R2.xlsx\n",
      "Sales order is 88666V\n",
      "=== covert to pivot table ===\n",
      "====successfully load file 88867S.D_INF-S.R1.xlsx\n",
      "Sales order is 88867S\n",
      "=== covert to pivot table ===\n",
      "====successfully load file 88705V.FC_INF-S.FCAST.xlsx\n",
      "Sales order is 88705V\n",
      "=== covert to pivot table ===\n",
      "====successfully load file 87307V.P_INF-S.xlsx\n",
      "Sales order is 87307V\n",
      "=== covert to pivot table ===\n",
      "====successfully load file 87702N.A_INF-R.xlsx\n",
      "Sales order is 87702N\n",
      "=== covert to pivot table ===\n",
      "====successfully load file 88288V1.XX_INF-S-FCAST.xlsx\n",
      "Sales order is 88288V1\n",
      "=== covert to pivot table ===\n",
      "====successfully load file 87307V.N_INF-S.xlsx\n",
      "Sales order is 87307V\n",
      "=== covert to pivot table ===\n",
      "====successfully load file 87952V.D_INF-S.xlsx\n",
      "Sales order is 87952V\n",
      "=== covert to pivot table ===\n",
      "====successfully load file 87866V.L_INF-S.xlsx\n",
      "Sales order is 87866V\n",
      "=== covert to pivot table ===\n",
      "====successfully load file 88689V.D_INF-S.R1.xlsx\n",
      "Sales order is 88689V\n",
      "=== covert to pivot table ===\n",
      "====successfully load file 87702N.H_INF-R.R1.xlsx\n",
      "Sales order is 87702N\n",
      "=== covert to pivot table ===\n",
      "====successfully load file 87866V.P_INF-S.XXX.xlsx\n",
      "Sales order is 87866V\n",
      "=== covert to pivot table ===\n",
      "====successfully load file 87761A.A_INF-R.R2.xlsx\n",
      "Sales order is 87761A\n",
      "=== covert to pivot table ===\n",
      "====successfully load file 88666V.N_INF-S.R2.xlsx\n",
      "Sales order is 88666V\n",
      "=== covert to pivot table ===\n",
      "====successfully load file 88657V.R_INF-S.R2.xlsx\n",
      "Sales order is 88657V\n",
      "=== covert to pivot table ===\n",
      "====successfully load file 87866V.K_INF-S.xlsx\n",
      "Sales order is 87866V\n",
      "=== covert to pivot table ===\n",
      "====successfully load file 87952V.C_INF-S.xlsx\n",
      "Sales order is 87952V\n",
      "=== covert to pivot table ===\n",
      "====successfully load file 88288V1.E_INF-S.R2.xlsx\n",
      "Sales order is 88288V1\n",
      "=== covert to pivot table ===\n",
      "====successfully load file 88689V.H_INF-S.xlsx\n",
      "Sales order is 88689V\n",
      "=== covert to pivot table ===\n",
      "====successfully load file 88666V.D_INF-S.R2.xlsx\n",
      "Sales order is 88666V\n",
      "=== covert to pivot table ===\n",
      "====successfully load file 87702N.F_INF-R.xlsx\n",
      "Sales order is 87702N\n",
      "=== covert to pivot table ===\n",
      "====successfully load file 88674V.G_INF-S.xlsx\n",
      "Sales order is 88674V\n",
      "=== covert to pivot table ===\n",
      "====successfully load file 88867S.C_INF-S.xlsx\n",
      "Sales order is 88867S\n",
      "=== covert to pivot table ===\n",
      "====successfully load file 87307V.I_INF-S.xlsx\n",
      "Sales order is 87307V\n",
      "=== covert to pivot table ===\n",
      "====successfully load file 88552Q3.H-I-J_INF-R.R3.xlsx\n",
      "Sales order is 88552Q3\n",
      "=== covert to pivot table ===\n",
      "====successfully load file 87729N.A_INF-P-UD.xlsx\n",
      "Sales order is 87729N\n",
      "=== covert to pivot table ===\n",
      "====successfully load file 88288V1.A_INF-S.R2.xlsx\n",
      "Sales order is 88288V1\n",
      "=== covert to pivot table ===\n",
      "====successfully load file 87353V.F_INF-R.xlsx\n",
      "Sales order is 87353V\n",
      "=== covert to pivot table ===\n",
      "====successfully load file 88674V.I_INF-S.R1.xlsx\n",
      "Sales order is 88674V\n",
      "=== covert to pivot table ===\n",
      "====successfully load file 88657V.V_INF-S.R2.xlsx\n",
      "Sales order is 88657V\n",
      "=== covert to pivot table ===\n",
      "====successfully load file 88288V1.G_INF-S.xlsx\n",
      "Sales order is 88288V1\n",
      "=== covert to pivot table ===\n",
      "====successfully load file 88689V.J_INF-S.R1.xlsx\n",
      "Sales order is 88689V\n",
      "=== covert to pivot table ===\n",
      "====successfully load file 87866V.U_INF-S.xlsx\n",
      "Sales order is 87866V\n",
      "=== covert to pivot table ===\n",
      "====successfully load file 89347V.A_INF-P-UD.xlsx\n",
      "Sales order is 89347V\n",
      "=== covert to pivot table ===\n",
      "====successfully load file 87307V.D_INF-S.xlsx\n",
      "Sales order is 87307V\n",
      "=== covert to pivot table ===\n",
      "====successfully load file 88689V.FD_INF-S.FCAST.xlsx\n",
      "Sales order is 88689V\n",
      "=== covert to pivot table ===\n",
      "====successfully load file 88689V.E_INF-S.xlsx\n",
      "Sales order is 88689V\n",
      "=== covert to pivot table ===\n",
      "====successfully load file 88657V.C_INF-S.R2.xlsx\n",
      "Sales order is 88657V\n",
      "=== covert to pivot table ===\n",
      "====successfully load file 87952V.D_INF-S.R1.xlsx\n",
      "Sales order is 87952V\n",
      "=== covert to pivot table ===\n",
      "====successfully load file 89606V.C_INF-S.xlsx\n",
      "Sales order is 89606V\n",
      "=== covert to pivot table ===\n",
      "====successfully load file 88674V.FE_INF-S.FCAST.xlsx\n",
      "Sales order is 88674V\n",
      "=== covert to pivot table ===\n",
      "====successfully load file 88666V.U_INF-S.R2.xlsx\n",
      "Sales order is 88666V\n",
      "=== covert to pivot table ===\n",
      "====successfully load file 87866V.F_INF-S.xlsx\n",
      "Sales order is 87866V\n",
      "=== covert to pivot table ===\n",
      "====successfully load file 87353V.E_INF-R.R1.xlsx\n",
      "Sales order is 87353V\n",
      "=== covert to pivot table ===\n",
      "====successfully load file 88552Q3.N_INF-R.R3.xlsx\n",
      "Sales order is 88552Q3\n",
      "=== covert to pivot table ===\n",
      "====successfully load file 88666V.Q_INF-S.R2.xlsx\n",
      "Sales order is 88666V\n",
      "=== covert to pivot table ===\n",
      "====successfully load file 88288V1.D_INF-S.R1.xlsx\n",
      "Sales order is 88288V1\n",
      "=== covert to pivot table ===\n",
      "====successfully load file 87729N.C_INF-P-UD.R2.xlsx\n",
      "Sales order is 87729N\n",
      "=== covert to pivot table ===\n",
      "====successfully load file 88657V.Z_INF-S-MASTER.xlsx\n",
      "Sales order is nan\n",
      "=== covert to pivot table ===\n",
      "====successfully load file 87866V.C_INF-S.xlsx\n",
      "Sales order is 87866V\n",
      "=== covert to pivot table ===\n",
      "====successfully load file 87307V.A_INF-S.xlsx\n",
      "Sales order is 87307V\n",
      "=== covert to pivot table ===\n",
      "====successfully load file 89001Z.C_INF-S.xlsx\n",
      "Sales order is 89001Z\n",
      "=== covert to pivot table ===\n",
      "====successfully load file 88666V.V_INF-S.R2.xlsx\n",
      "Sales order is 88666V\n",
      "=== covert to pivot table ===\n",
      "====successfully load file 88552Q3.I-J_INF-R.R4.xlsx\n",
      "Sales order is 88552Q3\n",
      "=== covert to pivot table ===\n",
      "====successfully load file 88288V1.C_INF-S.R1.xlsx\n",
      "Sales order is 88288V1\n",
      "=== covert to pivot table ===\n",
      "====successfully load file 89347V.B_INF-P-UD2.5.xlsx\n",
      "Sales order is 89347V\n",
      "=== covert to pivot table ===\n",
      "====successfully load file 89099Z.A_INF-P-UD.xlsx\n",
      "Sales order is 89099Z\n",
      "=== covert to pivot table ===\n",
      "====successfully load file 90340S.C_INF-S.xlsx\n",
      "Sales order is 90340S\n",
      "=== covert to pivot table ===\n",
      "====successfully load file 88867S.H_INF-S.R2.xlsx\n",
      "Sales order is 88867S\n",
      "=== covert to pivot table ===\n",
      "====successfully load file 88657V.D_INF-S.R2.xlsx\n",
      "Sales order is 88657V\n",
      "=== covert to pivot table ===\n",
      "====successfully load file 87353V.F_INF-R.R1.xlsx\n",
      "Sales order is 87353V\n",
      "=== covert to pivot table ===\n",
      "====successfully load file 87952V.C_INF-S.R1.xlsx\n",
      "Sales order is 87952V\n",
      "=== covert to pivot table ===\n",
      "====successfully load file 87866V.G_INF-S.XX.xlsx\n",
      "Sales order is 87866V\n",
      "=== covert to pivot table ===\n",
      "====successfully load file 89347V.J_INF-P-UD2.5A.xlsx\n",
      "Sales order is 89347V\n",
      "=== covert to pivot table ===\n",
      "====successfully load file 88674V.FA_INF-S.FCAST.xlsx\n",
      "Sales order is 88674V\n",
      "=== covert to pivot table ===\n",
      "====successfully load file 88288V1.G_INF-S.R1.xlsx\n",
      "Sales order is 88288V1\n",
      "=== covert to pivot table ===\n",
      "====successfully load file 88666V.R_INF-S.R2.xlsx\n",
      "Sales order is 88666V\n",
      "=== covert to pivot table ===\n",
      "====successfully load file 87761A.B_INF-S.xlsx\n",
      "Sales order is 87761A\n",
      "=== covert to pivot table ===\n",
      "====successfully load file 88552Q3.M_INF-R.R3.xlsx\n",
      "Sales order is 88552Q3\n",
      "=== covert to pivot table ===\n",
      "====successfully load file 88288V1.F_INF-S.R2.xlsx\n",
      "Sales order is 88288V1\n",
      "=== covert to pivot table ===\n",
      "====successfully load file 88674V.B_INF-S.xlsx\n",
      "Sales order is 88674V\n",
      "=== covert to pivot table ===\n",
      "====successfully load file 87702N.C_INF-R.xlsx\n",
      "Sales order is 87702N\n",
      "=== covert to pivot table ===\n",
      "====successfully load file 88657V.Q_INF-S.R2.xlsx\n",
      "Sales order is 88657V\n",
      "=== covert to pivot table ===\n",
      "====successfully load file 87307V.L_INF-S.xlsx\n",
      "Sales order is 87307V\n",
      "=== covert to pivot table ===\n",
      "====successfully load file 87866V.N_INF-S.xlsx\n",
      "Sales order is 87866V\n",
      "=== covert to pivot table ===\n",
      "====successfully load file 87952V.F_INF-S.xlsx\n",
      "Sales order is 87952V\n",
      "=== covert to pivot table ===\n",
      "====successfully load file 87729N.B_INF-P-UD.xlsx\n",
      "Sales order is 87729N\n",
      "=== covert to pivot table ===\n",
      "====successfully load file 87307V.Q1_INF-S.xlsx\n",
      "Sales order is 87307V\n",
      "=== covert to pivot table ===\n",
      "====successfully load file 88867S.I_INF-S.R1.xlsx\n",
      "Sales order is 88867S\n",
      "=== covert to pivot table ===\n",
      "====successfully load file 87866V.P_INF-S.xlsx\n",
      "Sales order is 87866V\n",
      "=== covert to pivot table ===\n",
      "====successfully load file 88288V1.B_INF-S.xlsx\n",
      "Sales order is 88288V1\n",
      "=== covert to pivot table ===\n",
      "====successfully load file 88657V.U_INF-S.R2.xlsx\n",
      "Sales order is 88657V\n",
      "=== covert to pivot table ===\n",
      "====successfully load file 88705V.FB_INF-S.FCAST.xlsx\n",
      "Sales order is 88705V\n",
      "=== covert to pivot table ===\n",
      "====successfully load file 88288V1.B_INF-S.R2.xlsx\n",
      "Sales order is 88288V1\n",
      "=== covert to pivot table ===\n",
      "====successfully load file 88666V.C_INF-S.R2.xlsx\n",
      "Sales order is 88666V\n",
      "=== covert to pivot table ===\n",
      "====successfully load file 87353V.B_INF-P-UD.R2.xlsx\n",
      "Sales order is 87353V\n",
      "=== covert to pivot table ===\n",
      "====successfully load file 87307V.N1_INF-S.xlsx\n",
      "Sales order is 87307V\n",
      "=== covert to pivot table ===\n",
      "====successfully load file 88689V.I_INF-S.R1.xlsx\n",
      "Sales order is 88689V\n",
      "=== covert to pivot table ===\n",
      "====successfully load file 87307V.R_INF-S.xlsx\n",
      "Sales order is 87307V\n",
      "=== covert to pivot table ===\n"
     ]
    }
   ],
   "source": [
    "## Data Struction Modification \n",
    "files_xlsx = [f for f in files if f[-4:] == 'xlsx']\n",
    "for f in files_xlsx:\n",
    "    df_single_file = data_processing(f)\n",
    "    df_main = df_main.append(df_single_file,ignore_index = True)"
   ]
  },
  {
   "cell_type": "code",
   "execution_count": 8,
   "metadata": {},
   "outputs": [],
   "source": [
    "#df_main = df_main.reset_index(drop=True)"
   ]
  },
  {
   "cell_type": "code",
   "execution_count": 9,
   "metadata": {},
   "outputs": [
    {
     "output_type": "execute_result",
     "data": {
      "text/plain": [
       "Index(['SALE_ORDER', 'ORDER_DATE', 'PDT_MODEL', 'TOTAL_LENGTH', 'CUSTOMER',\n",
       "       'TOTAL_QTY', 'INFINITI160610301', 'INFINITI160610302',\n",
       "       'INFINITI160610303', 'INFINITI160610304', 'INFINITI160610305',\n",
       "       'INFINITI160610306', 'INFINITI160610307', 'INFINITI160610308',\n",
       "       'INFINITI160610309', 'INFINITI160610310', 'INFINITI160610312',\n",
       "       'INFINITI160610316', 'INFINITI160610318', 'INFINITI160610323',\n",
       "       'INFINITI160610325', 'INFINITI160610327', 'INFINITI160610364',\n",
       "       'INFINITI160610365', 'INFINITI160610367', 'INFINITI160610374',\n",
       "       'INFINITI160610377', 'INFINITI160610385', 'INFINITI160610386',\n",
       "       'INFINITI160610387', 'INFINITI160610390', 'INFINITI160610391',\n",
       "       'INFINITI160610397', 'INFINITI160610398', 'INFINITI160610399',\n",
       "       'INFINITI160610400', 'INFINITI160610401', 'INFINITI160610402',\n",
       "       'INFINITI160610403', 'INFINITI160610404', 'INFINITI160610405',\n",
       "       'INFINITI160610406', 'INFINITI160610407', 'INFINITI160610408',\n",
       "       'INFINITI160610414', 'INFINITI160610415', 'INFINITI160610417',\n",
       "       'INFINITI160610418', 'INFINITI160610321', 'INFINITI160610360',\n",
       "       'INFINITI160610380', 'INFINITI160610383', 'INFINITI160610384',\n",
       "       'INFINITI160610388', 'INFINITI160610389', 'INFINITI160610341',\n",
       "       'INFINITI160610344', 'INFINITI160610345', 'INFINITI160610346',\n",
       "       'INFINITI160610361', 'INFINITI160610374P', 'INFINITI160610375',\n",
       "       'INFINITI160610376', 'INFINITI160610378', 'INFINITI160610379',\n",
       "       'INFINITI160610381', 'INFINITI160610382', 'INFINITI160610392',\n",
       "       'INFINITI160610393', 'INFINITI160610394', 'INFINITI160610395',\n",
       "       'INFINITI160610396', 'INFINITI160610370', 'INFINITI160610371',\n",
       "       'INFINITI160610372', 'INFINITI160610409', 'INFINITI160610410',\n",
       "       'INFINITI160610411', 'INFINITI160610412', 'INFINITI160610413',\n",
       "       'INFINITI160610344.0'],\n",
       "      dtype='object')"
      ]
     },
     "metadata": {},
     "execution_count": 9
    }
   ],
   "source": [
    "df_main.columns"
   ]
  },
  {
   "cell_type": "code",
   "execution_count": 10,
   "metadata": {},
   "outputs": [
    {
     "output_type": "execute_result",
     "data": {
      "text/plain": [
       "80-S          7338          BENTLEY SA   \n",
       "4       87740V 2019-02-20  INFINITI C80-P          2830  ST CATHERINE SIENA   \n",
       "..         ...        ...             ...           ...                 ...   \n",
       "290     88666V 2019-09-20  INFINITI C80-S          4518        VSBA WYNDHAM   \n",
       "291     87353V 2019-03-06  INFINITI C80-P          3958           HONDA/KIA   \n",
       "292     87307V 2019-03-12  INFINITI C80-S          1698          PARLIAMENT   \n",
       "293     88689V 2019-08-19  INFINITI C80-S          3390      VSBA BEVERIDGE   \n",
       "294     87307V 2019-03-12  INFINITI C80-S          6492          PARLIAMENT   \n",
       "\n",
       "     TOTAL_QTY  INFINITI160610301  INFINITI160610302  INFINITI160610303  \\\n",
       "0            2               36.0                6.0               12.0   \n",
       "1            2               16.0                2.0                4.0   \n",
       "2            1                4.0                0.0                0.0   \n",
       "3            1               12.0                1.0                2.0   \n",
       "4            2                8.0                0.0                0.0   \n",
       "..         ...                ...                ...                ...   \n",
       "290          2               16.0                2.0                4.0   \n",
       "291          2               12.0                0.0                0.0   \n",
       "292          1                2.0                0.0                0.0   \n",
       "293          3               18.0                0.0                0.0   \n",
       "294          2               20.0                2.0                4.0   \n",
       "\n",
       "     INFINITI160610304  INFINITI160610305  INFINITI160610306  \\\n",
       "0                 24.0                0.0               16.0   \n",
       "1                  8.0                0.0                8.0   \n",
       "2                  0.0                0.0                2.0   \n",
       "3                  4.0                0.0                4.0   \n",
       "4                  0.0                NaN                4.0   \n",
       "..                 ...                ...                ...   \n",
       "290                8.0                0.0                8.0   \n",
       "291                0.0                NaN                4.0   \n",
       "292                0.0                0.0                2.0   \n",
       "293                0.0                0.0                6.0   \n",
       "294                8.0                0.0                8.0   \n",
       "\n",
       "     INFINITI160610307  INFINITI160610308  INFINITI160610309  \\\n",
       "0                 16.0              504.0               18.0   \n",
       "1                  8.0              254.0               30.0   \n",
       "2                  2.0               61.0                7.0   \n",
       "3                  4.0              178.0               20.0   \n",
       "4                  4.0              224.0               16.0   \n",
       "..                 ...                ...                ...   \n",
       "290                8.0              224.0                8.0   \n",
       "291                4.0              326.0               22.0   \n",
       "292                2.0               38.0                5.0   \n",
       "293                6.0              252.0               27.0   \n",
       "294                8.0              310.0               36.0   \n",
       "\n",
       "     INFINITI160610310  INFINITI160610312  INFINITI160610316  \\\n",
       "0                  0.0               18.0               36.0   \n",
       "1                  0.0                8.0               16.0   \n",
       "2                  1.0                2.0                4.0   \n",
       "3                  0.0                6.0               12.0   \n",
       "4                  NaN                NaN               16.0   \n",
       "..                 ...                ...                ...   \n",
       "290                0.0                8.0               16.0   \n",
       "291                NaN                NaN               24.0   \n",
       "292                0.0                1.0                2.0   \n",
       "293                0.0                9.0               18.0   \n",
       "294                0.0               10.0               20.0   \n",
       "\n",
       "     INFINITI160610318  INFINITI160610323  INFINITI160610325  \\\n",
       "0                 18.0               18.0                0.0   \n",
       "1                  4.0                4.0                4.0   \n",
       "2                  1.0                1.0                0.0   \n",
       "3                  4.0                4.0                0.0   \n",
       "4                  0.0                0.0                0.0   \n",
       "..                 ...                ...                ...   \n",
       "290                8.0                8.0                0.0   \n",
       "291                2.0                2.0                2.0   \n",
       "292                0.0                0.0                0.0   \n",
       "293                9.0                9.0                0.0   \n",
       "294                4.0                4.0                0.0   \n",
       "\n",
       "     INFINITI160610327  INFINITI160610364  INFINITI160610365  \\\n",
       "0                 18.0                4.0                0.0   \n",
       "1                  8.0                2.0                0.0   \n",
       "2                  2.0                NaN                NaN   \n",
       "3                  6.0                2.0                0.0   \n",
       "4                  4.0                NaN                NaN   \n",
       "..                 ...                ...                ...   \n",
       "290                8.0                4.0                0.0   \n",
       "291                6.0                NaN                NaN   \n",
       "292                1.0                0.0                1.0   \n",
       "293                9.0                6.0                0.0   \n",
       "294               10.0                2.0                0.0   \n",
       "\n",
       "     INFINITI160610367  INFINITI160610374  INFINITI160610377  \\\n",
       "0                  0.0               18.0               18.0   \n",
       "1                  NaN                5.0                NaN   \n",
       "2                  0.0                NaN                NaN   \n",
       "3                  NaN                7.0                NaN   \n",
       "4                  NaN                NaN                0.0   \n",
       "..                 ...                ...                ...   \n",
       "290                0.0                8.0                8.0   \n",
       "291                NaN                4.0                2.0   \n",
       "292                NaN                0.0                NaN   \n",
       "293                0.0                9.0                9.0   \n",
       "294                NaN                0.0                NaN   \n",
       "\n",
       "     INFINITI160610385  INFINITI160610386  INFINITI160610387  \\\n",
       "0                  0.0                0.0                0.0   \n",
       "1                  0.0                2.0                2.0   \n",
       "2                  0.0                1.0                0.0   \n",
       "3                  0.0                2.0                0.0   \n",
       "4                  NaN                4.0                0.0   \n",
       "..                 ...                ...                ...   \n",
       "290                0.0                0.0                0.0   \n",
       "291                NaN                4.0                0.0   \n",
       "292                0.0                0.0                1.0   \n",
       "293                0.0                0.0                0.0   \n",
       "294                0.0                6.0                0.0   \n",
       "\n",
       "     INFINITI160610390  INFINITI160610391  INFINITI160610397  \\\n",
       "0                  0.0                0.0                0.0   \n",
       "1                  2.0                NaN                0.0   \n",
       "2                  0.0                1.0                0.0   \n",
       "3                  0.0                NaN                0.0   \n",
       "4                  NaN                4.0                NaN   \n",
       "..                 ...                ...                ...   \n",
       "290                0.0                0.0                0.0   \n",
       "291                NaN                4.0                NaN   \n",
       "292                1.0                NaN                0.0   \n",
       "293                0.0                0.0                0.0   \n",
       "294                0.0                NaN                0.0   \n",
       "\n",
       "     INFINITI160610398  INFINITI160610399  INFINITI160610400  \\\n",
       "0                  0.0                0.0                0.0   \n",
       "1                  2.0                2.0                0.0   \n",
       "2                  1.0                0.0                0.0   \n",
       "3                  2.0                0.0                0.0   \n",
       "4                  4.0                0.0                0.0   \n",
       "..                 ...                ...                ...   \n",
       "290                0.0                0.0                0.0   \n",
       "291                4.0                0.0                0.0   \n",
       "292                0.0                1.0                0.0   \n",
       "293                0.0                0.0                0.0   \n",
       "294                6.0                0.0                0.0   \n",
       "\n",
       "     INFINITI160610401  INFINITI160610402  INFINITI160610403  \\\n",
       "0                  0.0                0.0               18.0   \n",
       "1                  0.0                4.0                0.0   \n",
       "2                  0.0                0.0                1.0   \n",
       "3                  0.0                0.0                4.0   \n",
       "4                  0.0                0.0                0.0   \n",
       "..                 ...                ...                ...   \n",
       "290                0.0                0.0                8.0   \n",
       "291                0.0                4.0                0.0   \n",
       "292                0.0                0.0                0.0   \n",
       "293                0.0                0.0                9.0   \n",
       "294                0.0                0.0                0.0   \n",
       "\n",
       "     INFINITI160610404  INFINITI160610405  INFINITI160610406  \\\n",
       "0                  0.0                0.0                0.0   \n",
       "1                  0.0                0.0                0.0   \n",
       "2                  1.0                0.0                0.0   \n",
       "3                  2.0                0.0                0.0   \n",
       "4                  4.0                0.0                NaN   \n",
       "..                 ...                ...                ...   \n",
       "290                0.0                0.0                0.0   \n",
       "291                0.0                0.0                NaN   \n",
       "292                0.0                0.0                0.0   \n",
       "293                0.0                0.0                0.0   \n",
       "294                0.0                0.0                0.0   \n",
       "\n",
       "     INFINITI160610407  INFINITI160610408  INFINITI160610414  \\\n",
       "0                  0.0                0.0                0.0   \n",
       "1                  0.0                0.0                0.0   \n",
       "2                  0.0                0.0                0.0   \n",
       "3                  0.0                0.0                0.0   \n",
       "4                  0.0                0.0                0.0   \n",
       "..                 ...                ...                ...   \n",
       "290                0.0                0.0                0.0   \n",
       "291                0.0                0.0                0.0   \n",
       "292                0.0                1.0                0.0   \n",
       "293                0.0                0.0                0.0   \n",
       "294                4.0                6.0                0.0   \n",
       "\n",
       "     INFINITI160610415  INFINITI160610417  INFINITI160610418  \\\n",
       "0                  0.0                0.0                0.0   \n",
       "1                  0.0                0.0                0.0   \n",
       "2                  0.0                0.0                0.0   \n",
       "3                  0.0                0.0                0.0   \n",
       "4                  0.0                0.0                0.0   \n",
       "..                 ...                ...                ...   \n",
       "290                0.0                0.0                0.0   \n",
       "291                0.0                0.0                0.0   \n",
       "292                0.0                0.0                0.0   \n",
       "293                0.0                0.0                0.0   \n",
       "294                0.0                0.0                0.0   \n",
       "\n",
       "     INFINITI160610321  INFINITI160610360  INFINITI160610380  \\\n",
       "0                  NaN                NaN                NaN   \n",
       "1                  4.0                7.5                4.0   \n",
       "2                  1.0                NaN                2.0   \n",
       "3                  4.0               10.0                2.0   \n",
       "4                  NaN                NaN                4.0   \n",
       "..                 ...                ...                ...   \n",
       "290                NaN                NaN                NaN   \n",
       "291                NaN                NaN                4.0   \n",
       "292                0.0                2.5                0.0   \n",
       "293                NaN                NaN                6.0   \n",
       "294                4.0                7.5                4.0   \n",
       "\n",
       "     INFINITI160610383  INFINITI160610384  INFINITI160610388  \\\n",
       "0                  NaN                NaN                NaN   \n",
       "1                  8.0                2.0                0.0   \n",
       "2                  NaN                NaN                0.0   \n",
       "3                  6.0                1.0                0.0   \n",
       "4                  0.0                NaN                NaN   \n",
       "..                 ...                ...                ...   \n",
       "290                NaN                NaN                NaN   \n",
       "291                6.0                2.0                NaN   \n",
       "292                0.0                NaN                0.0   \n",
       "293                9.0                NaN                0.0   \n",
       "294                0.0                NaN                0.0   \n",
       "\n",
       "     INFINITI160610389  INFINITI160610341  INFINITI160610344  \\\n",
       "0                  NaN                NaN                NaN   \n",
       "1                  2.0                NaN                NaN   \n",
       "2                  0.0                5.0                2.0   \n",
       "3                  2.0                NaN                NaN   \n",
       "4                  NaN                NaN                NaN   \n",
       "..                 ...                ...                ...   \n",
       "290                NaN                NaN                NaN   \n",
       "291                NaN                NaN                NaN   \n",
       "292                0.0                NaN                NaN   \n",
       "293                0.0                NaN                NaN   \n",
       "294                6.0                NaN                NaN   \n",
       "\n",
       "     INFINITI160610345  INFINITI160610346  INFINITI160610361  \\\n",
       "0                  NaN                NaN                NaN   \n",
       "1                  NaN                NaN                NaN   \n",
       "2                  0.0                4.0                NaN   \n",
       "3                  NaN                NaN                NaN   \n",
       "4                  NaN                NaN                5.0   \n",
       "..                 ...                ...                ...   \n",
       "290                NaN                NaN                NaN   \n",
       "291                NaN                NaN                5.0   \n",
       "292                NaN                NaN                NaN   \n",
       "293                NaN                NaN                NaN   \n",
       "294                NaN                NaN                NaN   \n",
       "\n",
       "     INFINITI160610374P  INFINITI160610375  INFINITI160610376  \\\n",
       "0                   NaN                NaN                NaN   \n",
       "1                   NaN                NaN                NaN   \n",
       "2                   NaN                NaN                NaN   \n",
       "3                   NaN                NaN                NaN   \n",
       "4                  10.0                8.0                4.0   \n",
       "..                  ...                ...                ...   \n",
       "290                 NaN                NaN                NaN   \n",
       "291                 NaN               12.0                6.0   \n",
       "292                 NaN                NaN                NaN   \n",
       "293                 NaN                NaN                NaN   \n",
       "294                 NaN                NaN                NaN   \n",
       "\n",
       "     INFINITI160610378  INFINITI160610379  INFINITI160610381  \\\n",
       "0                  NaN                NaN                NaN   \n",
       "1                  NaN                NaN                NaN   \n",
       "2                  NaN                NaN                NaN   \n",
       "3                  NaN                NaN                NaN   \n",
       "4                  0.0                0.0                0.0   \n",
       "..                 ...                ...                ...   \n",
       "290                NaN                NaN                NaN   \n",
       "291                2.0                2.0                0.0   \n",
       "292                NaN                NaN                NaN   \n",
       "293                NaN                NaN                NaN   \n",
       "294                NaN                NaN                NaN   \n",
       "\n",
       "     INFINITI160610382  INFINITI160610392  INFINITI160610393  \\\n",
       "0                  NaN                NaN                NaN   \n",
       "1                  NaN                NaN                NaN   \n",
       "2                  NaN                NaN                NaN   \n",
       "3                  NaN                NaN                NaN   \n",
       "4                  2.0                0.0                4.0   \n",
       "..                 ...                ...                ...   \n",
       "290                NaN                NaN                NaN   \n",
       "291                2.0                0.0                4.0   \n",
       "292                NaN                NaN                NaN   \n",
       "293                NaN                NaN                NaN   \n",
       "294                NaN                NaN                NaN   \n",
       "\n",
       "     INFINITI160610394  INFINITI160610395  INFINITI160610396  \\\n",
       "0                  NaN                NaN                NaN   \n",
       "1                  NaN                NaN                NaN   \n",
       "2                  NaN                NaN                NaN   \n",
       "3                  NaN                NaN                NaN   \n",
       "4                  0.0                4.0                0.0   \n",
       "..                 ...                ...                ...   \n",
       "290                NaN                NaN                NaN   \n",
       "291                0.0                4.0                0.0   \n",
       "292                NaN                NaN                NaN   \n",
       "293                NaN                NaN                NaN   \n",
       "294                NaN                NaN                NaN   \n",
       "\n",
       "     INFINITI160610370  INFINITI160610371  INFINITI160610372  \\\n",
       "0                  NaN                NaN                NaN   \n",
       "1                  NaN                NaN                NaN   \n",
       "2                  NaN                NaN                NaN   \n",
       "3                  NaN                NaN                NaN   \n",
       "4                  NaN                NaN                NaN   \n",
       "..                 ...                ...                ...   \n",
       "290                NaN                NaN                NaN   \n",
       "291                NaN                NaN                NaN   \n",
       "292                NaN                NaN                NaN   \n",
       "293                NaN                NaN                NaN   \n",
       "294                NaN                NaN                NaN   \n",
       "\n",
       "     INFINITI160610409  INFINITI160610410  INFINITI160610411  \\\n",
       "0                  NaN                NaN                NaN   \n",
       "1                  NaN                NaN                NaN   \n",
       "2                  NaN                NaN                NaN   \n",
       "3                  NaN                NaN                NaN   \n",
       "4                  NaN                NaN                NaN   \n",
       "..                 ...                ...                ...   \n",
       "290                NaN                NaN                NaN   \n",
       "291                NaN                NaN                NaN   \n",
       "292                NaN                NaN                NaN   \n",
       "293                NaN                NaN                NaN   \n",
       "294                NaN                NaN                NaN   \n",
       "\n",
       "     INFINITI160610412  INFINITI160610413  INFINITI160610344.0  \n",
       "0                  NaN                NaN                  NaN  \n",
       "1                  NaN                NaN                  NaN  \n",
       "2                  NaN                NaN                  NaN  \n",
       "3                  NaN                NaN                  NaN  \n",
       "4                  NaN                NaN                  NaN  \n",
       "..                 ...                ...                  ...  \n",
       "290                NaN                NaN                  NaN  \n",
       "291                NaN                NaN                  NaN  \n",
       "292                NaN                NaN                  NaN  \n",
       "293                NaN                NaN                  NaN  \n",
       "294                NaN                NaN                  NaN  \n",
       "\n",
       "[295 rows x 81 columns]"
      ],
      "text/html": "<div>\n<style scoped>\n    .dataframe tbody tr th:only-of-type {\n        vertical-align: middle;\n    }\n\n    .dataframe tbody tr th {\n        vertical-align: top;\n    }\n\n    .dataframe thead th {\n        text-align: right;\n    }\n</style>\n<table border=\"1\" class=\"dataframe\">\n  <thead>\n    <tr style=\"text-align: right;\">\n      <th></th>\n      <th>SALE_ORDER</th>\n      <th>ORDER_DATE</th>\n      <th>PDT_MODEL</th>\n      <th>TOTAL_LENGTH</th>\n      <th>CUSTOMER</th>\n      <th>TOTAL_QTY</th>\n      <th>INFINITI160610301</th>\n      <th>INFINITI160610302</th>\n      <th>INFINITI160610303</th>\n      <th>INFINITI160610304</th>\n      <th>INFINITI160610305</th>\n      <th>INFINITI160610306</th>\n      <th>INFINITI160610307</th>\n      <th>INFINITI160610308</th>\n      <th>INFINITI160610309</th>\n      <th>INFINITI160610310</th>\n      <th>INFINITI160610312</th>\n      <th>INFINITI160610316</th>\n      <th>INFINITI160610318</th>\n      <th>INFINITI160610323</th>\n      <th>INFINITI160610325</th>\n      <th>INFINITI160610327</th>\n      <th>INFINITI160610364</th>\n      <th>INFINITI160610365</th>\n      <th>INFINITI160610367</th>\n      <th>INFINITI160610374</th>\n      <th>INFINITI160610377</th>\n      <th>INFINITI160610385</th>\n      <th>INFINITI160610386</th>\n      <th>INFINITI160610387</th>\n      <th>INFINITI160610390</th>\n      <th>INFINITI160610391</th>\n      <th>INFINITI160610397</th>\n      <th>INFINITI160610398</th>\n      <th>INFINITI160610399</th>\n      <th>INFINITI160610400</th>\n      <th>INFINITI160610401</th>\n      <th>INFINITI160610402</th>\n      <th>INFINITI160610403</th>\n      <th>INFINITI160610404</th>\n      <th>INFINITI160610405</th>\n      <th>INFINITI160610406</th>\n      <th>INFINITI160610407</th>\n      <th>INFINITI160610408</th>\n      <th>INFINITI160610414</th>\n      <th>INFINITI160610415</th>\n      <th>INFINITI160610417</th>\n      <th>INFINITI160610418</th>\n      <th>INFINITI160610321</th>\n      <th>INFINITI160610360</th>\n      <th>INFINITI160610380</th>\n      <th>INFINITI160610383</th>\n      <th>INFINITI160610384</th>\n      <th>INFINITI160610388</th>\n      <th>INFINITI160610389</th>\n      <th>INFINITI160610341</th>\n      <th>INFINITI160610344</th>\n      <th>INFINITI160610345</th>\n      <th>INFINITI160610346</th>\n      <th>INFINITI160610361</th>\n      <th>INFINITI160610374P</th>\n      <th>INFINITI160610375</th>\n      <th>INFINITI160610376</th>\n      <th>INFINITI160610378</th>\n      <th>INFINITI160610379</th>\n      <th>INFINITI160610381</th>\n      <th>INFINITI160610382</th>\n      <th>INFINITI160610392</th>\n      <th>INFINITI160610393</th>\n      <th>INFINITI160610394</th>\n      <th>INFINITI160610395</th>\n      <th>INFINITI160610396</th>\n      <th>INFINITI160610370</th>\n      <th>INFINITI160610371</th>\n      <th>INFINITI160610372</th>\n      <th>INFINITI160610409</th>\n      <th>INFINITI160610410</th>\n      <th>INFINITI160610411</th>\n      <th>INFINITI160610412</th>\n      <th>INFINITI160610413</th>\n      <th>INFINITI160610344.0</th>\n    </tr>\n  </thead>\n  <tbody>\n    <tr>\n      <th>0</th>\n      <td>88666V</td>\n      <td>2019-09-20</td>\n      <td>INFINITI C80-S</td>\n      <td>10158</td>\n      <td>VSBA WYNDHAM</td>\n      <td>2</td>\n      <td>36.0</td>\n      <td>6.0</td>\n      <td>12.0</td>\n      <td>24.0</td>\n      <td>0.0</td>\n      <td>16.0</td>\n      <td>16.0</td>\n      <td>504.0</td>\n      <td>18.0</td>\n      <td>0.0</td>\n      <td>18.0</td>\n      <td>36.0</td>\n      <td>18.0</td>\n      <td>18.0</td>\n      <td>0.0</td>\n      <td>18.0</td>\n      <td>4.0</td>\n      <td>0.0</td>\n      <td>0.0</td>\n      <td>18.0</td>\n      <td>18.0</td>\n      <td>0.0</td>\n      <td>0.0</td>\n      <td>0.0</td>\n      <td>0.0</td>\n      <td>0.0</td>\n      <td>0.0</td>\n      <td>0.0</td>\n      <td>0.0</td>\n      <td>0.0</td>\n      <td>0.0</td>\n      <td>0.0</td>\n      <td>18.0</td>\n      <td>0.0</td>\n      <td>0.0</td>\n      <td>0.0</td>\n      <td>0.0</td>\n      <td>0.0</td>\n      <td>0.0</td>\n      <td>0.0</td>\n      <td>0.0</td>\n      <td>0.0</td>\n      <td>NaN</td>\n      <td>NaN</td>\n      <td>NaN</td>\n      <td>NaN</td>\n      <td>NaN</td>\n      <td>NaN</td>\n      <td>NaN</td>\n      <td>NaN</td>\n      <td>NaN</td>\n      <td>NaN</td>\n      <td>NaN</td>\n      <td>NaN</td>\n      <td>NaN</td>\n      <td>NaN</td>\n      <td>NaN</td>\n      <td>NaN</td>\n      <td>NaN</td>\n      <td>NaN</td>\n      <td>NaN</td>\n      <td>NaN</td>\n      <td>NaN</td>\n      <td>NaN</td>\n      <td>NaN</td>\n      <td>NaN</td>\n      <td>NaN</td>\n      <td>NaN</td>\n      <td>NaN</td>\n      <td>NaN</td>\n      <td>NaN</td>\n      <td>NaN</td>\n      <td>NaN</td>\n      <td>NaN</td>\n      <td>NaN</td>\n    </tr>\n    <tr>\n      <th>1</th>\n      <td>88288V1</td>\n      <td>2019-04-04</td>\n      <td>INFINITI C80-S</td>\n      <td>5364</td>\n      <td>OLYMPIC VILLAGE</td>\n      <td>2</td>\n      <td>16.0</td>\n      <td>2.0</td>\n      <td>4.0</td>\n      <td>8.0</td>\n      <td>0.0</td>\n      <td>8.0</td>\n      <td>8.0</td>\n      <td>254.0</td>\n      <td>30.0</td>\n      <td>0.0</td>\n      <td>8.0</td>\n      <td>16.0</td>\n      <td>4.0</td>\n      <td>4.0</td>\n      <td>4.0</td>\n      <td>8.0</td>\n      <td>2.0</td>\n      <td>0.0</td>\n      <td>NaN</td>\n      <td>5.0</td>\n      <td>NaN</td>\n      <td>0.0</td>\n      <td>2.0</td>\n      <td>2.0</td>\n      <td>2.0</td>\n      <td>NaN</td>\n      <td>0.0</td>\n      <td>2.0</td>\n      <td>2.0</td>\n      <td>0.0</td>\n      <td>0.0</td>\n      <td>4.0</td>\n      <td>0.0</td>\n      <td>0.0</td>\n      <td>0.0</td>\n      <td>0.0</td>\n      <td>0.0</td>\n      <td>0.0</td>\n      <td>0.0</td>\n      <td>0.0</td>\n      <td>0.0</td>\n      <td>0.0</td>\n      <td>4.0</td>\n      <td>7.5</td>\n      <td>4.0</td>\n      <td>8.0</td>\n      <td>2.0</td>\n      <td>0.0</td>\n      <td>2.0</td>\n      <td>NaN</td>\n      <td>NaN</td>\n      <td>NaN</td>\n      <td>NaN</td>\n      <td>NaN</td>\n      <td>NaN</td>\n      <td>NaN</td>\n      <td>NaN</td>\n      <td>NaN</td>\n      <td>NaN</td>\n      <td>NaN</td>\n      <td>NaN</td>\n      <td>NaN</td>\n      <td>NaN</td>\n      <td>NaN</td>\n      <td>NaN</td>\n      <td>NaN</td>\n      <td>NaN</td>\n      <td>NaN</td>\n      <td>NaN</td>\n      <td>NaN</td>\n      <td>NaN</td>\n      <td>NaN</td>\n      <td>NaN</td>\n      <td>NaN</td>\n      <td>NaN</td>\n    </tr>\n    <tr>\n      <th>2</th>\n      <td>88552Q3</td>\n      <td>2019-07-02</td>\n      <td>INFINITI C80-R</td>\n      <td>2560</td>\n      <td>DTB RETAIL UPGRDE</td>\n      <td>1</td>\n      <td>4.0</td>\n      <td>0.0</td>\n      <td>0.0</td>\n      <td>0.0</td>\n      <td>0.0</td>\n      <td>2.0</td>\n      <td>2.0</td>\n      <td>61.0</td>\n      <td>7.0</td>\n      <td>1.0</td>\n      <td>2.0</td>\n      <td>4.0</td>\n      <td>1.0</td>\n      <td>1.0</td>\n      <td>0.0</td>\n      <td>2.0</td>\n      <td>NaN</td>\n      <td>NaN</td>\n      <td>0.0</td>\n      <td>NaN</td>\n      <td>NaN</td>\n      <td>0.0</td>\n      <td>1.0</td>\n      <td>0.0</td>\n      <td>0.0</td>\n      <td>1.0</td>\n      <td>0.0</td>\n      <td>1.0</td>\n      <td>0.0</td>\n      <td>0.0</td>\n      <td>0.0</td>\n      <td>0.0</td>\n      <td>1.0</td>\n      <td>1.0</td>\n      <td>0.0</td>\n      <td>0.0</td>\n      <td>0.0</td>\n      <td>0.0</td>\n      <td>0.0</td>\n      <td>0.0</td>\n      <td>0.0</td>\n      <td>0.0</td>\n      <td>1.0</td>\n      <td>NaN</td>\n      <td>2.0</td>\n      <td>NaN</td>\n      <td>NaN</td>\n      <td>0.0</td>\n      <td>0.0</td>\n      <td>5.0</td>\n      <td>2.0</td>\n      <td>0.0</td>\n      <td>4.0</td>\n      <td>NaN</td>\n      <td>NaN</td>\n      <td>NaN</td>\n      <td>NaN</td>\n      <td>NaN</td>\n      <td>NaN</td>\n      <td>NaN</td>\n      <td>NaN</td>\n      <td>NaN</td>\n      <td>NaN</td>\n      <td>NaN</td>\n      <td>NaN</td>\n      <td>NaN</td>\n      <td>NaN</td>\n      <td>NaN</td>\n      <td>NaN</td>\n      <td>NaN</td>\n      <td>NaN</td>\n      <td>NaN</td>\n      <td>NaN</td>\n      <td>NaN</td>\n      <td>NaN</td>\n    </tr>\n    <tr>\n      <th>3</th>\n      <td>87952V</td>\n      <td>2019-03-06</td>\n      <td>INFINITI C80-S</td>\n      <td>7338</td>\n      <td>BENTLEY SA</td>\n      <td>1</td>\n      <td>12.0</td>\n      <td>1.0</td>\n      <td>2.0</td>\n      <td>4.0</td>\n      <td>0.0</td>\n      <td>4.0</td>\n      <td>4.0</td>\n      <td>178.0</td>\n      <td>20.0</td>\n      <td>0.0</td>\n      <td>6.0</td>\n      <td>12.0</td>\n      <td>4.0</td>\n      <td>4.0</td>\n      <td>0.0</td>\n      <td>6.0</td>\n      <td>2.0</td>\n      <td>0.0</td>\n      <td>NaN</td>\n      <td>7.0</td>\n      <td>NaN</td>\n      <td>0.0</td>\n      <td>2.0</td>\n      <td>0.0</td>\n      <td>0.0</td>\n      <td>NaN</td>\n      <td>0.0</td>\n      <td>2.0</td>\n      <td>0.0</td>\n      <td>0.0</td>\n      <td>0.0</td>\n      <td>0.0</td>\n      <td>4.0</td>\n      <td>2.0</td>\n      <td>0.0</td>\n      <td>0.0</td>\n      <td>0.0</td>\n      <td>0.0</td>\n      <td>0.0</td>\n      <td>0.0</td>\n      <td>0.0</td>\n      <td>0.0</td>\n      <td>4.0</td>\n      <td>10.0</td>\n      <td>2.0</td>\n      <td>6.0</td>\n      <td>1.0</td>\n      <td>0.0</td>\n      <td>2.0</td>\n      <td>NaN</td>\n      <td>NaN</td>\n      <td>NaN</td>\n      <td>NaN</td>\n      <td>NaN</td>\n      <td>NaN</td>\n      <td>NaN</td>\n      <td>NaN</td>\n      <td>NaN</td>\n      <td>NaN</td>\n      <td>NaN</td>\n      <td>NaN</td>\n      <td>NaN</td>\n      <td>NaN</td>\n      <td>NaN</td>\n      <td>NaN</td>\n      <td>NaN</td>\n      <td>NaN</td>\n      <td>NaN</td>\n      <td>NaN</td>\n      <td>NaN</td>\n      <td>NaN</td>\n      <td>NaN</td>\n      <td>NaN</td>\n      <td>NaN</td>\n      <td>NaN</td>\n    </tr>\n    <tr>\n      <th>4</th>\n      <td>87740V</td>\n      <td>2019-02-20</td>\n      <td>INFINITI C80-P</td>\n      <td>2830</td>\n      <td>ST CATHERINE SIENA</td>\n      <td>2</td>\n      <td>8.0</td>\n      <td>0.0</td>\n      <td>0.0</td>\n      <td>0.0</td>\n      <td>NaN</td>\n      <td>4.0</td>\n      <td>4.0</td>\n      <td>224.0</td>\n      <td>16.0</td>\n      <td>NaN</td>\n      <td>NaN</td>\n      <td>16.0</td>\n      <td>0.0</td>\n      <td>0.0</td>\n      <td>0.0</td>\n      <td>4.0</td>\n      <td>NaN</td>\n      <td>NaN</td>\n      <td>NaN</td>\n      <td>NaN</td>\n      <td>0.0</td>\n      <td>NaN</td>\n      <td>4.0</td>\n      <td>0.0</td>\n      <td>NaN</td>\n      <td>4.0</td>\n      <td>NaN</td>\n      <td>4.0</td>\n      <td>0.0</td>\n      <td>0.0</td>\n      <td>0.0</td>\n      <td>0.0</td>\n      <td>0.0</td>\n      <td>4.0</td>\n      <td>0.0</td>\n      <td>NaN</td>\n      <td>0.0</td>\n      <td>0.0</td>\n      <td>0.0</td>\n      <td>0.0</td>\n      <td>0.0</td>\n      <td>0.0</td>\n      <td>NaN</td>\n      <td>NaN</td>\n      <td>4.0</td>\n      <td>0.0</td>\n      <td>NaN</td>\n      <td>NaN</td>\n      <td>NaN</td>\n      <td>NaN</td>\n      <td>NaN</td>\n      <td>NaN</td>\n      <td>NaN</td>\n      <td>5.0</td>\n      <td>10.0</td>\n      <td>8.0</td>\n      <td>4.0</td>\n      <td>0.0</td>\n      <td>0.0</td>\n      <td>0.0</td>\n      <td>2.0</td>\n      <td>0.0</td>\n      <td>4.0</td>\n      <td>0.0</td>\n      <td>4.0</td>\n      <td>0.0</td>\n      <td>NaN</td>\n      <td>NaN</td>\n      <td>NaN</td>\n      <td>NaN</td>\n      <td>NaN</td>\n      <td>NaN</td>\n      <td>NaN</td>\n      <td>NaN</td>\n      <td>NaN</td>\n    </tr>\n    <tr>\n      <th>...</th>\n      <td>...</td>\n      <td>...</td>\n      <td>...</td>\n      <td>...</td>\n      <td>...</td>\n      <td>...</td>\n      <td>...</td>\n      <td>...</td>\n      <td>...</td>\n      <td>...</td>\n      <td>...</td>\n      <td>...</td>\n      <td>...</td>\n      <td>...</td>\n      <td>...</td>\n      <td>...</td>\n      <td>...</td>\n      <td>...</td>\n      <td>...</td>\n      <td>...</td>\n      <td>...</td>\n      <td>...</td>\n      <td>...</td>\n      <td>...</td>\n      <td>...</td>\n      <td>...</td>\n      <td>...</td>\n      <td>...</td>\n      <td>...</td>\n      <td>...</td>\n      <td>...</td>\n      <td>...</td>\n      <td>...</td>\n      <td>...</td>\n      <td>...</td>\n      <td>...</td>\n      <td>...</td>\n      <td>...</td>\n      <td>...</td>\n      <td>...</td>\n      <td>...</td>\n      <td>...</td>\n      <td>...</td>\n      <td>...</td>\n      <td>...</td>\n      <td>...</td>\n      <td>...</td>\n      <td>...</td>\n      <td>...</td>\n      <td>...</td>\n      <td>...</td>\n      <td>...</td>\n      <td>...</td>\n      <td>...</td>\n      <td>...</td>\n      <td>...</td>\n      <td>...</td>\n      <td>...</td>\n      <td>...</td>\n      <td>...</td>\n      <td>...</td>\n      <td>...</td>\n      <td>...</td>\n      <td>...</td>\n      <td>...</td>\n      <td>...</td>\n      <td>...</td>\n      <td>...</td>\n      <td>...</td>\n      <td>...</td>\n      <td>...</td>\n      <td>...</td>\n      <td>...</td>\n      <td>...</td>\n      <td>...</td>\n      <td>...</td>\n      <td>...</td>\n      <td>...</td>\n      <td>...</td>\n      <td>...</td>\n      <td>...</td>\n    </tr>\n    <tr>\n      <th>290</th>\n      <td>88666V</td>\n      <td>2019-09-20</td>\n      <td>INFINITI C80-S</td>\n      <td>4518</td>\n      <td>VSBA WYNDHAM</td>\n      <td>2</td>\n      <td>16.0</td>\n      <td>2.0</td>\n      <td>4.0</td>\n      <td>8.0</td>\n      <td>0.0</td>\n      <td>8.0</td>\n      <td>8.0</td>\n      <td>224.0</td>\n      <td>8.0</td>\n      <td>0.0</td>\n      <td>8.0</td>\n      <td>16.0</td>\n      <td>8.0</td>\n      <td>8.0</td>\n      <td>0.0</td>\n      <td>8.0</td>\n      <td>4.0</td>\n      <td>0.0</td>\n      <td>0.0</td>\n      <td>8.0</td>\n      <td>8.0</td>\n      <td>0.0</td>\n      <td>0.0</td>\n      <td>0.0</td>\n      <td>0.0</td>\n      <td>0.0</td>\n      <td>0.0</td>\n      <td>0.0</td>\n      <td>0.0</td>\n      <td>0.0</td>\n      <td>0.0</td>\n      <td>0.0</td>\n      <td>8.0</td>\n      <td>0.0</td>\n      <td>0.0</td>\n      <td>0.0</td>\n      <td>0.0</td>\n      <td>0.0</td>\n      <td>0.0</td>\n      <td>0.0</td>\n      <td>0.0</td>\n      <td>0.0</td>\n      <td>NaN</td>\n      <td>NaN</td>\n      <td>NaN</td>\n      <td>NaN</td>\n      <td>NaN</td>\n      <td>NaN</td>\n      <td>NaN</td>\n      <td>NaN</td>\n      <td>NaN</td>\n      <td>NaN</td>\n      <td>NaN</td>\n      <td>NaN</td>\n      <td>NaN</td>\n      <td>NaN</td>\n      <td>NaN</td>\n      <td>NaN</td>\n      <td>NaN</td>\n      <td>NaN</td>\n      <td>NaN</td>\n      <td>NaN</td>\n      <td>NaN</td>\n      <td>NaN</td>\n      <td>NaN</td>\n      <td>NaN</td>\n      <td>NaN</td>\n      <td>NaN</td>\n      <td>NaN</td>\n      <td>NaN</td>\n      <td>NaN</td>\n      <td>NaN</td>\n      <td>NaN</td>\n      <td>NaN</td>\n      <td>NaN</td>\n    </tr>\n    <tr>\n      <th>291</th>\n      <td>87353V</td>\n      <td>2019-03-06</td>\n      <td>INFINITI C80-P</td>\n      <td>3958</td>\n      <td>HONDA/KIA</td>\n      <td>2</td>\n      <td>12.0</td>\n      <td>0.0</td>\n      <td>0.0</td>\n      <td>0.0</td>\n      <td>NaN</td>\n      <td>4.0</td>\n      <td>4.0</td>\n      <td>326.0</td>\n      <td>22.0</td>\n      <td>NaN</td>\n      <td>NaN</td>\n      <td>24.0</td>\n      <td>2.0</td>\n      <td>2.0</td>\n      <td>2.0</td>\n      <td>6.0</td>\n      <td>NaN</td>\n      <td>NaN</td>\n      <td>NaN</td>\n      <td>4.0</td>\n      <td>2.0</td>\n      <td>NaN</td>\n      <td>4.0</td>\n      <td>0.0</td>\n      <td>NaN</td>\n      <td>4.0</td>\n      <td>NaN</td>\n      <td>4.0</td>\n      <td>0.0</td>\n      <td>0.0</td>\n      <td>0.0</td>\n      <td>4.0</td>\n      <td>0.0</td>\n      <td>0.0</td>\n      <td>0.0</td>\n      <td>NaN</td>\n      <td>0.0</td>\n      <td>0.0</td>\n      <td>0.0</td>\n      <td>0.0</td>\n      <td>0.0</td>\n      <td>0.0</td>\n      <td>NaN</td>\n      <td>NaN</td>\n      <td>4.0</td>\n      <td>6.0</td>\n      <td>2.0</td>\n      <td>NaN</td>\n      <td>NaN</td>\n      <td>NaN</td>\n      <td>NaN</td>\n      <td>NaN</td>\n      <td>NaN</td>\n      <td>5.0</td>\n      <td>NaN</td>\n      <td>12.0</td>\n      <td>6.0</td>\n      <td>2.0</td>\n      <td>2.0</td>\n      <td>0.0</td>\n      <td>2.0</td>\n      <td>0.0</td>\n      <td>4.0</td>\n      <td>0.0</td>\n      <td>4.0</td>\n      <td>0.0</td>\n      <td>NaN</td>\n      <td>NaN</td>\n      <td>NaN</td>\n      <td>NaN</td>\n      <td>NaN</td>\n      <td>NaN</td>\n      <td>NaN</td>\n      <td>NaN</td>\n      <td>NaN</td>\n    </tr>\n    <tr>\n      <th>292</th>\n      <td>87307V</td>\n      <td>2019-03-12</td>\n      <td>INFINITI C80-S</td>\n      <td>1698</td>\n      <td>PARLIAMENT</td>\n      <td>1</td>\n      <td>2.0</td>\n      <td>0.0</td>\n      <td>0.0</td>\n      <td>0.0</td>\n      <td>0.0</td>\n      <td>2.0</td>\n      <td>2.0</td>\n      <td>38.0</td>\n      <td>5.0</td>\n      <td>0.0</td>\n      <td>1.0</td>\n      <td>2.0</td>\n      <td>0.0</td>\n      <td>0.0</td>\n      <td>0.0</td>\n      <td>1.0</td>\n      <td>0.0</td>\n      <td>1.0</td>\n      <td>NaN</td>\n      <td>0.0</td>\n      <td>NaN</td>\n      <td>0.0</td>\n      <td>0.0</td>\n      <td>1.0</td>\n      <td>1.0</td>\n      <td>NaN</td>\n      <td>0.0</td>\n      <td>0.0</td>\n      <td>1.0</td>\n      <td>0.0</td>\n      <td>0.0</td>\n      <td>0.0</td>\n      <td>0.0</td>\n      <td>0.0</td>\n      <td>0.0</td>\n      <td>0.0</td>\n      <td>0.0</td>\n      <td>1.0</td>\n      <td>0.0</td>\n      <td>0.0</td>\n      <td>0.0</td>\n      <td>0.0</td>\n      <td>0.0</td>\n      <td>2.5</td>\n      <td>0.0</td>\n      <td>0.0</td>\n      <td>NaN</td>\n      <td>0.0</td>\n      <td>0.0</td>\n      <td>NaN</td>\n      <td>NaN</td>\n      <td>NaN</td>\n      <td>NaN</td>\n      <td>NaN</td>\n      <td>NaN</td>\n      <td>NaN</td>\n      <td>NaN</td>\n      <td>NaN</td>\n      <td>NaN</td>\n      <td>NaN</td>\n      <td>NaN</td>\n      <td>NaN</td>\n      <td>NaN</td>\n      <td>NaN</td>\n      <td>NaN</td>\n      <td>NaN</td>\n      <td>NaN</td>\n      <td>NaN</td>\n      <td>NaN</td>\n      <td>NaN</td>\n      <td>NaN</td>\n      <td>NaN</td>\n      <td>NaN</td>\n      <td>NaN</td>\n      <td>NaN</td>\n    </tr>\n    <tr>\n      <th>293</th>\n      <td>88689V</td>\n      <td>2019-08-19</td>\n      <td>INFINITI C80-S</td>\n      <td>3390</td>\n      <td>VSBA BEVERIDGE</td>\n      <td>3</td>\n      <td>18.0</td>\n      <td>0.0</td>\n      <td>0.0</td>\n      <td>0.0</td>\n      <td>0.0</td>\n      <td>6.0</td>\n      <td>6.0</td>\n      <td>252.0</td>\n      <td>27.0</td>\n      <td>0.0</td>\n      <td>9.0</td>\n      <td>18.0</td>\n      <td>9.0</td>\n      <td>9.0</td>\n      <td>0.0</td>\n      <td>9.0</td>\n      <td>6.0</td>\n      <td>0.0</td>\n      <td>0.0</td>\n      <td>9.0</td>\n      <td>9.0</td>\n      <td>0.0</td>\n      <td>0.0</td>\n      <td>0.0</td>\n      <td>0.0</td>\n      <td>0.0</td>\n      <td>0.0</td>\n      <td>0.0</td>\n      <td>0.0</td>\n      <td>0.0</td>\n      <td>0.0</td>\n      <td>0.0</td>\n      <td>9.0</td>\n      <td>0.0</td>\n      <td>0.0</td>\n      <td>0.0</td>\n      <td>0.0</td>\n      <td>0.0</td>\n      <td>0.0</td>\n      <td>0.0</td>\n      <td>0.0</td>\n      <td>0.0</td>\n      <td>NaN</td>\n      <td>NaN</td>\n      <td>6.0</td>\n      <td>9.0</td>\n      <td>NaN</td>\n      <td>0.0</td>\n      <td>0.0</td>\n      <td>NaN</td>\n      <td>NaN</td>\n      <td>NaN</td>\n      <td>NaN</td>\n      <td>NaN</td>\n      <td>NaN</td>\n      <td>NaN</td>\n      <td>NaN</td>\n      <td>NaN</td>\n      <td>NaN</td>\n      <td>NaN</td>\n      <td>NaN</td>\n      <td>NaN</td>\n      <td>NaN</td>\n      <td>NaN</td>\n      <td>NaN</td>\n      <td>NaN</td>\n      <td>NaN</td>\n      <td>NaN</td>\n      <td>NaN</td>\n      <td>NaN</td>\n      <td>NaN</td>\n      <td>NaN</td>\n      <td>NaN</td>\n      <td>NaN</td>\n      <td>NaN</td>\n    </tr>\n    <tr>\n      <th>294</th>\n      <td>87307V</td>\n      <td>2019-03-12</td>\n      <td>INFINITI C80-S</td>\n      <td>6492</td>\n      <td>PARLIAMENT</td>\n      <td>2</td>\n      <td>20.0</td>\n      <td>2.0</td>\n      <td>4.0</td>\n      <td>8.0</td>\n      <td>0.0</td>\n      <td>8.0</td>\n      <td>8.0</td>\n      <td>310.0</td>\n      <td>36.0</td>\n      <td>0.0</td>\n      <td>10.0</td>\n      <td>20.0</td>\n      <td>4.0</td>\n      <td>4.0</td>\n      <td>0.0</td>\n      <td>10.0</td>\n      <td>2.0</td>\n      <td>0.0</td>\n      <td>NaN</td>\n      <td>0.0</td>\n      <td>NaN</td>\n      <td>0.0</td>\n      <td>6.0</td>\n      <td>0.0</td>\n      <td>0.0</td>\n      <td>NaN</td>\n      <td>0.0</td>\n      <td>6.0</td>\n      <td>0.0</td>\n      <td>0.0</td>\n      <td>0.0</td>\n      <td>0.0</td>\n      <td>0.0</td>\n      <td>0.0</td>\n      <td>0.0</td>\n      <td>0.0</td>\n      <td>4.0</td>\n      <td>6.0</td>\n      <td>0.0</td>\n      <td>0.0</td>\n      <td>0.0</td>\n      <td>0.0</td>\n      <td>4.0</td>\n      <td>7.5</td>\n      <td>4.0</td>\n      <td>0.0</td>\n      <td>NaN</td>\n      <td>0.0</td>\n      <td>6.0</td>\n      <td>NaN</td>\n      <td>NaN</td>\n      <td>NaN</td>\n      <td>NaN</td>\n      <td>NaN</td>\n      <td>NaN</td>\n      <td>NaN</td>\n      <td>NaN</td>\n      <td>NaN</td>\n      <td>NaN</td>\n      <td>NaN</td>\n      <td>NaN</td>\n      <td>NaN</td>\n      <td>NaN</td>\n      <td>NaN</td>\n      <td>NaN</td>\n      <td>NaN</td>\n      <td>NaN</td>\n      <td>NaN</td>\n      <td>NaN</td>\n      <td>NaN</td>\n      <td>NaN</td>\n      <td>NaN</td>\n      <td>NaN</td>\n      <td>NaN</td>\n      <td>NaN</td>\n    </tr>\n  </tbody>\n</table>\n<p>295 rows × 81 columns</p>\n</div>"
     },
     "metadata": {},
     "execution_count": 10
    }
   ],
   "source": [
    "df_main"
   ]
  },
  {
   "cell_type": "code",
   "execution_count": 11,
   "metadata": {},
   "outputs": [
    {
     "output_type": "execute_result",
     "data": {
      "text/plain": [
       "(295, 81)"
      ]
     },
     "metadata": {},
     "execution_count": 11
    }
   ],
   "source": [
    "df_main.shape"
   ]
  },
  {
   "cell_type": "code",
   "execution_count": 12,
   "metadata": {},
   "outputs": [
    {
     "output_type": "stream",
     "name": "stdout",
     "text": [
      "<class 'pandas.core.frame.DataFrame'>\nRangeIndex: 295 entries, 0 to 294\nData columns (total 81 columns):\n #   Column               Non-Null Count  Dtype         \n---  ------               --------------  -----         \n 0   SALE_ORDER           295 non-null    object        \n 1   ORDER_DATE           293 non-null    datetime64[ns]\n 2   PDT_MODEL            295 non-null    object        \n 3   TOTAL_LENGTH         295 non-null    int64         \n 4   CUSTOMER             293 non-null    object        \n 5   TOTAL_QTY            295 non-null    int64         \n 6   INFINITI160610301    294 non-null    float64       \n 7   INFINITI160610302    292 non-null    float64       \n 8   INFINITI160610303    292 non-null    float64       \n 9   INFINITI160610304    292 non-null    float64       \n 10  INFINITI160610305    259 non-null    float64       \n 11  INFINITI160610306    294 non-null    float64       \n 12  INFINITI160610307    294 non-null    float64       \n 13  INFINITI160610308    294 non-null    float64       \n 14  INFINITI160610309    292 non-null    float64       \n 15  INFINITI160610310    256 non-null    float64       \n 16  INFINITI160610312    260 non-null    float64       \n 17  INFINITI160610316    294 non-null    float64       \n 18  INFINITI160610318    294 non-null    float64       \n 19  INFINITI160610323    293 non-null    float64       \n 20  INFINITI160610325    293 non-null    float64       \n 21  INFINITI160610327    295 non-null    float64       \n 22  INFINITI160610364    214 non-null    float64       \n 23  INFINITI160610365    213 non-null    float64       \n 24  INFINITI160610367    130 non-null    float64       \n 25  INFINITI160610374    222 non-null    float64       \n 26  INFINITI160610377    119 non-null    float64       \n 27  INFINITI160610385    259 non-null    float64       \n 28  INFINITI160610386    293 non-null    float64       \n 29  INFINITI160610387    295 non-null    float64       \n 30  INFINITI160610390    259 non-null    float64       \n 31  INFINITI160610391    153 non-null    float64       \n 32  INFINITI160610397    257 non-null    float64       \n 33  INFINITI160610398    293 non-null    float64       \n 34  INFINITI160610399    293 non-null    float64       \n 35  INFINITI160610400    292 non-null    float64       \n 36  INFINITI160610401    293 non-null    float64       \n 37  INFINITI160610402    293 non-null    float64       \n 38  INFINITI160610403    292 non-null    float64       \n 39  INFINITI160610404    292 non-null    float64       \n 40  INFINITI160610405    293 non-null    float64       \n 41  INFINITI160610406    257 non-null    float64       \n 42  INFINITI160610407    295 non-null    float64       \n 43  INFINITI160610408    295 non-null    float64       \n 44  INFINITI160610414    293 non-null    float64       \n 45  INFINITI160610415    293 non-null    float64       \n 46  INFINITI160610417    293 non-null    float64       \n 47  INFINITI160610418    293 non-null    float64       \n 48  INFINITI160610321    176 non-null    float64       \n 49  INFINITI160610360    105 non-null    float64       \n 50  INFINITI160610380    274 non-null    float64       \n 51  INFINITI160610383    232 non-null    float64       \n 52  INFINITI160610384    126 non-null    float64       \n 53  INFINITI160610388    213 non-null    float64       \n 54  INFINITI160610389    203 non-null    float64       \n 55  INFINITI160610341    42 non-null     float64       \n 56  INFINITI160610344    41 non-null     float64       \n 57  INFINITI160610345    39 non-null     float64       \n 58  INFINITI160610346    40 non-null     float64       \n 59  INFINITI160610361    32 non-null     float64       \n 60  INFINITI160610374P   27 non-null     float64       \n 61  INFINITI160610375    36 non-null     float64       \n 62  INFINITI160610376    34 non-null     float64       \n 63  INFINITI160610378    36 non-null     float64       \n 64  INFINITI160610379    36 non-null     float64       \n 65  INFINITI160610381    36 non-null     float64       \n 66  INFINITI160610382    36 non-null     float64       \n 67  INFINITI160610392    36 non-null     float64       \n 68  INFINITI160610393    36 non-null     float64       \n 69  INFINITI160610394    36 non-null     float64       \n 70  INFINITI160610395    36 non-null     float64       \n 71  INFINITI160610396    36 non-null     float64       \n 72  INFINITI160610370    2 non-null      float64       \n 73  INFINITI160610371    2 non-null      float64       \n 74  INFINITI160610372    2 non-null      float64       \n 75  INFINITI160610409    2 non-null      float64       \n 76  INFINITI160610410    2 non-null      float64       \n 77  INFINITI160610411    2 non-null      float64       \n 78  INFINITI160610412    2 non-null      float64       \n 79  INFINITI160610413    2 non-null      float64       \n 80  INFINITI160610344.0  1 non-null      float64       \ndtypes: datetime64[ns](1), float64(75), int64(2), object(3)\nmemory usage: 186.8+ KB\n"
     ]
    }
   ],
   "source": [
    "df_main.info()"
   ]
  },
  {
   "cell_type": "code",
   "execution_count": 13,
   "metadata": {},
   "outputs": [
    {
     "output_type": "execute_result",
     "data": {
      "text/plain": [
       "   SALE_ORDER ORDER_DATE       PDT_MODEL  TOTAL_LENGTH          CUSTOMER  \\\n",
       "8      89347V        NaT  INFINITI C80-T          1196  WILLIAMS LANDING   \n",
       "90     89347V        NaT  INFINITI C80-T          1196  WILLIAMS LANDING   \n",
       "\n",
       "    TOTAL_QTY  INFINITI160610301  INFINITI160610302  INFINITI160610303  \\\n",
       "8          24               48.0                NaN                NaN   \n",
       "90         24               48.0                NaN                NaN   \n",
       "\n",
       "    INFINITI160610304  INFINITI160610305  INFINITI160610306  \\\n",
       "8                 NaN                0.0               48.0   \n",
       "90                NaN                0.0               48.0   \n",
       "\n",
       "    INFINITI160610307  INFINITI160610308  INFINITI160610309  \\\n",
       "8                48.0              672.0                NaN   \n",
       "90               48.0              672.0                NaN   \n",
       "\n",
       "    INFINITI160610310  INFINITI160610312  INFINITI160610316  \\\n",
       "8                 NaN               24.0               48.0   \n",
       "90                NaN               24.0               48.0   \n",
       "\n",
       "    INFINITI160610318  INFINITI160610323  INFINITI160610325  \\\n",
       "8                24.0                NaN                NaN   \n",
       "90               24.0                NaN                NaN   \n",
       "\n",
       "    INFINITI160610327  INFINITI160610364  INFINITI160610365  \\\n",
       "8                24.0                NaN                NaN   \n",
       "90               24.0                NaN                NaN   \n",
       "\n",
       "    INFINITI160610367  INFINITI160610374  INFINITI160610377  \\\n",
       "8                 NaN                NaN                NaN   \n",
       "90                NaN                NaN                NaN   \n",
       "\n",
       "    INFINITI160610385  INFINITI160610386  INFINITI160610387  \\\n",
       "8                 0.0                NaN                0.0   \n",
       "90                0.0                NaN                0.0   \n",
       "\n",
       "    INFINITI160610390  INFINITI160610391  INFINITI160610397  \\\n",
       "8                 0.0                NaN                NaN   \n",
       "90                0.0                NaN                NaN   \n",
       "\n",
       "    INFINITI160610398  INFINITI160610399  INFINITI160610400  \\\n",
       "8                 NaN                NaN                NaN   \n",
       "90                NaN                NaN                NaN   \n",
       "\n",
       "    INFINITI160610401  INFINITI160610402  INFINITI160610403  \\\n",
       "8                 NaN                NaN                NaN   \n",
       "90                NaN                NaN                NaN   \n",
       "\n",
       "    INFINITI160610404  INFINITI160610405  INFINITI160610406  \\\n",
       "8                 NaN                NaN                NaN   \n",
       "90                NaN                NaN                NaN   \n",
       "\n",
       "    INFINITI160610407  INFINITI160610408  INFINITI160610414  \\\n",
       "8                 0.0                0.0                NaN   \n",
       "90                0.0                0.0                NaN   \n",
       "\n",
       "    INFINITI160610415  INFINITI160610417  INFINITI160610418  \\\n",
       "8                 NaN                NaN                NaN   \n",
       "90                NaN                NaN                NaN   \n",
       "\n",
       "    INFINITI160610321  INFINITI160610360  INFINITI160610380  \\\n",
       "8                24.0                NaN               48.0   \n",
       "90               24.0                NaN               48.0   \n",
       "\n",
       "    INFINITI160610383  INFINITI160610384  INFINITI160610388  \\\n",
       "8                 NaN                NaN                0.0   \n",
       "90                NaN                NaN                0.0   \n",
       "\n",
       "    INFINITI160610389  INFINITI160610341  INFINITI160610344  \\\n",
       "8                 NaN               30.0                0.0   \n",
       "90                NaN               30.0                0.0   \n",
       "\n",
       "    INFINITI160610345  INFINITI160610346  INFINITI160610361  \\\n",
       "8                 NaN                NaN                NaN   \n",
       "90               48.0                NaN                NaN   \n",
       "\n",
       "    INFINITI160610374P  INFINITI160610375  INFINITI160610376  \\\n",
       "8                  NaN                NaN                NaN   \n",
       "90                 NaN                NaN                NaN   \n",
       "\n",
       "    INFINITI160610378  INFINITI160610379  INFINITI160610381  \\\n",
       "8                 NaN                NaN                NaN   \n",
       "90                NaN                NaN                NaN   \n",
       "\n",
       "    INFINITI160610382  INFINITI160610392  INFINITI160610393  \\\n",
       "8                 NaN                NaN                NaN   \n",
       "90                NaN                NaN                NaN   \n",
       "\n",
       "    INFINITI160610394  INFINITI160610395  INFINITI160610396  \\\n",
       "8                 NaN                NaN                NaN   \n",
       "90                NaN                NaN                NaN   \n",
       "\n",
       "    INFINITI160610370  INFINITI160610371  INFINITI160610372  \\\n",
       "8                24.0                0.0               48.0   \n",
       "90               24.0                0.0               48.0   \n",
       "\n",
       "    INFINITI160610409  INFINITI160610410  INFINITI160610411  \\\n",
       "8                 0.0                0.0                0.0   \n",
       "90                0.0                0.0                0.0   \n",
       "\n",
       "    INFINITI160610412  INFINITI160610413  INFINITI160610344.0  \n",
       "8                24.0                0.0                  NaN  \n",
       "90               24.0                0.0                  NaN  "
      ],
      "text/html": "<div>\n<style scoped>\n    .dataframe tbody tr th:only-of-type {\n        vertical-align: middle;\n    }\n\n    .dataframe tbody tr th {\n        vertical-align: top;\n    }\n\n    .dataframe thead th {\n        text-align: right;\n    }\n</style>\n<table border=\"1\" class=\"dataframe\">\n  <thead>\n    <tr style=\"text-align: right;\">\n      <th></th>\n      <th>SALE_ORDER</th>\n      <th>ORDER_DATE</th>\n      <th>PDT_MODEL</th>\n      <th>TOTAL_LENGTH</th>\n      <th>CUSTOMER</th>\n      <th>TOTAL_QTY</th>\n      <th>INFINITI160610301</th>\n      <th>INFINITI160610302</th>\n      <th>INFINITI160610303</th>\n      <th>INFINITI160610304</th>\n      <th>INFINITI160610305</th>\n      <th>INFINITI160610306</th>\n      <th>INFINITI160610307</th>\n      <th>INFINITI160610308</th>\n      <th>INFINITI160610309</th>\n      <th>INFINITI160610310</th>\n      <th>INFINITI160610312</th>\n      <th>INFINITI160610316</th>\n      <th>INFINITI160610318</th>\n      <th>INFINITI160610323</th>\n      <th>INFINITI160610325</th>\n      <th>INFINITI160610327</th>\n      <th>INFINITI160610364</th>\n      <th>INFINITI160610365</th>\n      <th>INFINITI160610367</th>\n      <th>INFINITI160610374</th>\n      <th>INFINITI160610377</th>\n      <th>INFINITI160610385</th>\n      <th>INFINITI160610386</th>\n      <th>INFINITI160610387</th>\n      <th>INFINITI160610390</th>\n      <th>INFINITI160610391</th>\n      <th>INFINITI160610397</th>\n      <th>INFINITI160610398</th>\n      <th>INFINITI160610399</th>\n      <th>INFINITI160610400</th>\n      <th>INFINITI160610401</th>\n      <th>INFINITI160610402</th>\n      <th>INFINITI160610403</th>\n      <th>INFINITI160610404</th>\n      <th>INFINITI160610405</th>\n      <th>INFINITI160610406</th>\n      <th>INFINITI160610407</th>\n      <th>INFINITI160610408</th>\n      <th>INFINITI160610414</th>\n      <th>INFINITI160610415</th>\n      <th>INFINITI160610417</th>\n      <th>INFINITI160610418</th>\n      <th>INFINITI160610321</th>\n      <th>INFINITI160610360</th>\n      <th>INFINITI160610380</th>\n      <th>INFINITI160610383</th>\n      <th>INFINITI160610384</th>\n      <th>INFINITI160610388</th>\n      <th>INFINITI160610389</th>\n      <th>INFINITI160610341</th>\n      <th>INFINITI160610344</th>\n      <th>INFINITI160610345</th>\n      <th>INFINITI160610346</th>\n      <th>INFINITI160610361</th>\n      <th>INFINITI160610374P</th>\n      <th>INFINITI160610375</th>\n      <th>INFINITI160610376</th>\n      <th>INFINITI160610378</th>\n      <th>INFINITI160610379</th>\n      <th>INFINITI160610381</th>\n      <th>INFINITI160610382</th>\n      <th>INFINITI160610392</th>\n      <th>INFINITI160610393</th>\n      <th>INFINITI160610394</th>\n      <th>INFINITI160610395</th>\n      <th>INFINITI160610396</th>\n      <th>INFINITI160610370</th>\n      <th>INFINITI160610371</th>\n      <th>INFINITI160610372</th>\n      <th>INFINITI160610409</th>\n      <th>INFINITI160610410</th>\n      <th>INFINITI160610411</th>\n      <th>INFINITI160610412</th>\n      <th>INFINITI160610413</th>\n      <th>INFINITI160610344.0</th>\n    </tr>\n  </thead>\n  <tbody>\n    <tr>\n      <th>8</th>\n      <td>89347V</td>\n      <td>NaT</td>\n      <td>INFINITI C80-T</td>\n      <td>1196</td>\n      <td>WILLIAMS LANDING</td>\n      <td>24</td>\n      <td>48.0</td>\n      <td>NaN</td>\n      <td>NaN</td>\n      <td>NaN</td>\n      <td>0.0</td>\n      <td>48.0</td>\n      <td>48.0</td>\n      <td>672.0</td>\n      <td>NaN</td>\n      <td>NaN</td>\n      <td>24.0</td>\n      <td>48.0</td>\n      <td>24.0</td>\n      <td>NaN</td>\n      <td>NaN</td>\n      <td>24.0</td>\n      <td>NaN</td>\n      <td>NaN</td>\n      <td>NaN</td>\n      <td>NaN</td>\n      <td>NaN</td>\n      <td>0.0</td>\n      <td>NaN</td>\n      <td>0.0</td>\n      <td>0.0</td>\n      <td>NaN</td>\n      <td>NaN</td>\n      <td>NaN</td>\n      <td>NaN</td>\n      <td>NaN</td>\n      <td>NaN</td>\n      <td>NaN</td>\n      <td>NaN</td>\n      <td>NaN</td>\n      <td>NaN</td>\n      <td>NaN</td>\n      <td>0.0</td>\n      <td>0.0</td>\n      <td>NaN</td>\n      <td>NaN</td>\n      <td>NaN</td>\n      <td>NaN</td>\n      <td>24.0</td>\n      <td>NaN</td>\n      <td>48.0</td>\n      <td>NaN</td>\n      <td>NaN</td>\n      <td>0.0</td>\n      <td>NaN</td>\n      <td>30.0</td>\n      <td>0.0</td>\n      <td>NaN</td>\n      <td>NaN</td>\n      <td>NaN</td>\n      <td>NaN</td>\n      <td>NaN</td>\n      <td>NaN</td>\n      <td>NaN</td>\n      <td>NaN</td>\n      <td>NaN</td>\n      <td>NaN</td>\n      <td>NaN</td>\n      <td>NaN</td>\n      <td>NaN</td>\n      <td>NaN</td>\n      <td>NaN</td>\n      <td>24.0</td>\n      <td>0.0</td>\n      <td>48.0</td>\n      <td>0.0</td>\n      <td>0.0</td>\n      <td>0.0</td>\n      <td>24.0</td>\n      <td>0.0</td>\n      <td>NaN</td>\n    </tr>\n    <tr>\n      <th>90</th>\n      <td>89347V</td>\n      <td>NaT</td>\n      <td>INFINITI C80-T</td>\n      <td>1196</td>\n      <td>WILLIAMS LANDING</td>\n      <td>24</td>\n      <td>48.0</td>\n      <td>NaN</td>\n      <td>NaN</td>\n      <td>NaN</td>\n      <td>0.0</td>\n      <td>48.0</td>\n      <td>48.0</td>\n      <td>672.0</td>\n      <td>NaN</td>\n      <td>NaN</td>\n      <td>24.0</td>\n      <td>48.0</td>\n      <td>24.0</td>\n      <td>NaN</td>\n      <td>NaN</td>\n      <td>24.0</td>\n      <td>NaN</td>\n      <td>NaN</td>\n      <td>NaN</td>\n      <td>NaN</td>\n      <td>NaN</td>\n      <td>0.0</td>\n      <td>NaN</td>\n      <td>0.0</td>\n      <td>0.0</td>\n      <td>NaN</td>\n      <td>NaN</td>\n      <td>NaN</td>\n      <td>NaN</td>\n      <td>NaN</td>\n      <td>NaN</td>\n      <td>NaN</td>\n      <td>NaN</td>\n      <td>NaN</td>\n      <td>NaN</td>\n      <td>NaN</td>\n      <td>0.0</td>\n      <td>0.0</td>\n      <td>NaN</td>\n      <td>NaN</td>\n      <td>NaN</td>\n      <td>NaN</td>\n      <td>24.0</td>\n      <td>NaN</td>\n      <td>48.0</td>\n      <td>NaN</td>\n      <td>NaN</td>\n      <td>0.0</td>\n      <td>NaN</td>\n      <td>30.0</td>\n      <td>0.0</td>\n      <td>48.0</td>\n      <td>NaN</td>\n      <td>NaN</td>\n      <td>NaN</td>\n      <td>NaN</td>\n      <td>NaN</td>\n      <td>NaN</td>\n      <td>NaN</td>\n      <td>NaN</td>\n      <td>NaN</td>\n      <td>NaN</td>\n      <td>NaN</td>\n      <td>NaN</td>\n      <td>NaN</td>\n      <td>NaN</td>\n      <td>24.0</td>\n      <td>0.0</td>\n      <td>48.0</td>\n      <td>0.0</td>\n      <td>0.0</td>\n      <td>0.0</td>\n      <td>24.0</td>\n      <td>0.0</td>\n      <td>NaN</td>\n    </tr>\n  </tbody>\n</table>\n</div>"
     },
     "metadata": {},
     "execution_count": 13
    }
   ],
   "source": [
    "df_main[df_main.ORDER_DATE.isnull() == True]"
   ]
  },
  {
   "cell_type": "code",
   "execution_count": 14,
   "metadata": {},
   "outputs": [
    {
     "output_type": "execute_result",
     "data": {
      "text/plain": [
       "    SALE_ORDER ORDER_DATE       PDT_MODEL  TOTAL_LENGTH CUSTOMER  TOTAL_QTY  \\\n",
       "58         nan 2019-01-01  INFINITI C80-S          5646      NaN          1   \n",
       "254        nan 2019-01-01  INFINITI C80-S          5646      NaN          1   \n",
       "\n",
       "     INFINITI160610301  INFINITI160610302  INFINITI160610303  \\\n",
       "58                10.0                2.0                4.0   \n",
       "254               10.0                2.0                4.0   \n",
       "\n",
       "     INFINITI160610304  INFINITI160610305  INFINITI160610306  \\\n",
       "58                 8.0                0.0                6.0   \n",
       "254                8.0                0.0                6.0   \n",
       "\n",
       "     INFINITI160610307  INFINITI160610308  INFINITI160610309  \\\n",
       "58                 6.0              140.0                5.0   \n",
       "254                6.0              140.0                5.0   \n",
       "\n",
       "     INFINITI160610310  INFINITI160610312  INFINITI160610316  \\\n",
       "58                 0.0                5.0               10.0   \n",
       "254                0.0                5.0               10.0   \n",
       "\n",
       "     INFINITI160610318  INFINITI160610323  INFINITI160610325  \\\n",
       "58                 5.0                5.0                5.0   \n",
       "254                5.0                5.0                5.0   \n",
       "\n",
       "     INFINITI160610327  INFINITI160610364  INFINITI160610365  \\\n",
       "58                 5.0                1.0                0.0   \n",
       "254                5.0                1.0                0.0   \n",
       "\n",
       "     INFINITI160610367  INFINITI160610374  INFINITI160610377  \\\n",
       "58                 0.0                3.0                5.0   \n",
       "254                0.0                3.0                5.0   \n",
       "\n",
       "     INFINITI160610385  INFINITI160610386  INFINITI160610387  \\\n",
       "58                 0.0                0.0                0.0   \n",
       "254                0.0                0.0                0.0   \n",
       "\n",
       "     INFINITI160610390  INFINITI160610391  INFINITI160610397  \\\n",
       "58                 0.0                0.0                0.0   \n",
       "254                0.0                0.0                0.0   \n",
       "\n",
       "     INFINITI160610398  INFINITI160610399  INFINITI160610400  \\\n",
       "58                 0.0                0.0                0.0   \n",
       "254                0.0                0.0                0.0   \n",
       "\n",
       "     INFINITI160610401  INFINITI160610402  INFINITI160610403  \\\n",
       "58                 0.0                0.0                0.0   \n",
       "254                0.0                0.0                0.0   \n",
       "\n",
       "     INFINITI160610404  INFINITI160610405  INFINITI160610406  \\\n",
       "58                 0.0                0.0                0.0   \n",
       "254                0.0                0.0                0.0   \n",
       "\n",
       "     INFINITI160610407  INFINITI160610408  INFINITI160610414  \\\n",
       "58                 0.0                0.0                0.0   \n",
       "254                0.0                0.0                0.0   \n",
       "\n",
       "     INFINITI160610415  INFINITI160610417  INFINITI160610418  \\\n",
       "58                 0.0                0.0                0.0   \n",
       "254                0.0                0.0                0.0   \n",
       "\n",
       "     INFINITI160610321  INFINITI160610360  INFINITI160610380  \\\n",
       "58                 NaN                NaN                0.0   \n",
       "254                NaN                NaN                0.0   \n",
       "\n",
       "     INFINITI160610383  INFINITI160610384  INFINITI160610388  \\\n",
       "58                 0.0                NaN                NaN   \n",
       "254                3.0                NaN                NaN   \n",
       "\n",
       "     INFINITI160610389  INFINITI160610341  INFINITI160610344  \\\n",
       "58                 NaN                NaN                NaN   \n",
       "254                NaN                NaN                NaN   \n",
       "\n",
       "     INFINITI160610345  INFINITI160610346  INFINITI160610361  \\\n",
       "58                 NaN                NaN                NaN   \n",
       "254                NaN                NaN                NaN   \n",
       "\n",
       "     INFINITI160610374P  INFINITI160610375  INFINITI160610376  \\\n",
       "58                  NaN                NaN                NaN   \n",
       "254                 NaN                NaN                NaN   \n",
       "\n",
       "     INFINITI160610378  INFINITI160610379  INFINITI160610381  \\\n",
       "58                 NaN                NaN                NaN   \n",
       "254                NaN                NaN                NaN   \n",
       "\n",
       "     INFINITI160610382  INFINITI160610392  INFINITI160610393  \\\n",
       "58                 NaN                NaN                NaN   \n",
       "254                NaN                NaN                NaN   \n",
       "\n",
       "     INFINITI160610394  INFINITI160610395  INFINITI160610396  \\\n",
       "58                 NaN                NaN                NaN   \n",
       "254                NaN                NaN                NaN   \n",
       "\n",
       "     INFINITI160610370  INFINITI160610371  INFINITI160610372  \\\n",
       "58                 NaN                NaN                NaN   \n",
       "254                NaN                NaN                NaN   \n",
       "\n",
       "     INFINITI160610409  INFINITI160610410  INFINITI160610411  \\\n",
       "58                 NaN                NaN                NaN   \n",
       "254                NaN                NaN                NaN   \n",
       "\n",
       "     INFINITI160610412  INFINITI160610413  INFINITI160610344.0  \n",
       "58                 NaN                NaN                  NaN  \n",
       "254                NaN                NaN                  NaN  "
      ],
      "text/html": "<div>\n<style scoped>\n    .dataframe tbody tr th:only-of-type {\n        vertical-align: middle;\n    }\n\n    .dataframe tbody tr th {\n        vertical-align: top;\n    }\n\n    .dataframe thead th {\n        text-align: right;\n    }\n</style>\n<table border=\"1\" class=\"dataframe\">\n  <thead>\n    <tr style=\"text-align: right;\">\n      <th></th>\n      <th>SALE_ORDER</th>\n      <th>ORDER_DATE</th>\n      <th>PDT_MODEL</th>\n      <th>TOTAL_LENGTH</th>\n      <th>CUSTOMER</th>\n      <th>TOTAL_QTY</th>\n      <th>INFINITI160610301</th>\n      <th>INFINITI160610302</th>\n      <th>INFINITI160610303</th>\n      <th>INFINITI160610304</th>\n      <th>INFINITI160610305</th>\n      <th>INFINITI160610306</th>\n      <th>INFINITI160610307</th>\n      <th>INFINITI160610308</th>\n      <th>INFINITI160610309</th>\n      <th>INFINITI160610310</th>\n      <th>INFINITI160610312</th>\n      <th>INFINITI160610316</th>\n      <th>INFINITI160610318</th>\n      <th>INFINITI160610323</th>\n      <th>INFINITI160610325</th>\n      <th>INFINITI160610327</th>\n      <th>INFINITI160610364</th>\n      <th>INFINITI160610365</th>\n      <th>INFINITI160610367</th>\n      <th>INFINITI160610374</th>\n      <th>INFINITI160610377</th>\n      <th>INFINITI160610385</th>\n      <th>INFINITI160610386</th>\n      <th>INFINITI160610387</th>\n      <th>INFINITI160610390</th>\n      <th>INFINITI160610391</th>\n      <th>INFINITI160610397</th>\n      <th>INFINITI160610398</th>\n      <th>INFINITI160610399</th>\n      <th>INFINITI160610400</th>\n      <th>INFINITI160610401</th>\n      <th>INFINITI160610402</th>\n      <th>INFINITI160610403</th>\n      <th>INFINITI160610404</th>\n      <th>INFINITI160610405</th>\n      <th>INFINITI160610406</th>\n      <th>INFINITI160610407</th>\n      <th>INFINITI160610408</th>\n      <th>INFINITI160610414</th>\n      <th>INFINITI160610415</th>\n      <th>INFINITI160610417</th>\n      <th>INFINITI160610418</th>\n      <th>INFINITI160610321</th>\n      <th>INFINITI160610360</th>\n      <th>INFINITI160610380</th>\n      <th>INFINITI160610383</th>\n      <th>INFINITI160610384</th>\n      <th>INFINITI160610388</th>\n      <th>INFINITI160610389</th>\n      <th>INFINITI160610341</th>\n      <th>INFINITI160610344</th>\n      <th>INFINITI160610345</th>\n      <th>INFINITI160610346</th>\n      <th>INFINITI160610361</th>\n      <th>INFINITI160610374P</th>\n      <th>INFINITI160610375</th>\n      <th>INFINITI160610376</th>\n      <th>INFINITI160610378</th>\n      <th>INFINITI160610379</th>\n      <th>INFINITI160610381</th>\n      <th>INFINITI160610382</th>\n      <th>INFINITI160610392</th>\n      <th>INFINITI160610393</th>\n      <th>INFINITI160610394</th>\n      <th>INFINITI160610395</th>\n      <th>INFINITI160610396</th>\n      <th>INFINITI160610370</th>\n      <th>INFINITI160610371</th>\n      <th>INFINITI160610372</th>\n      <th>INFINITI160610409</th>\n      <th>INFINITI160610410</th>\n      <th>INFINITI160610411</th>\n      <th>INFINITI160610412</th>\n      <th>INFINITI160610413</th>\n      <th>INFINITI160610344.0</th>\n    </tr>\n  </thead>\n  <tbody>\n    <tr>\n      <th>58</th>\n      <td>nan</td>\n      <td>2019-01-01</td>\n      <td>INFINITI C80-S</td>\n      <td>5646</td>\n      <td>NaN</td>\n      <td>1</td>\n      <td>10.0</td>\n      <td>2.0</td>\n      <td>4.0</td>\n      <td>8.0</td>\n      <td>0.0</td>\n      <td>6.0</td>\n      <td>6.0</td>\n      <td>140.0</td>\n      <td>5.0</td>\n      <td>0.0</td>\n      <td>5.0</td>\n      <td>10.0</td>\n      <td>5.0</td>\n      <td>5.0</td>\n      <td>5.0</td>\n      <td>5.0</td>\n      <td>1.0</td>\n      <td>0.0</td>\n      <td>0.0</td>\n      <td>3.0</td>\n      <td>5.0</td>\n      <td>0.0</td>\n      <td>0.0</td>\n      <td>0.0</td>\n      <td>0.0</td>\n      <td>0.0</td>\n      <td>0.0</td>\n      <td>0.0</td>\n      <td>0.0</td>\n      <td>0.0</td>\n      <td>0.0</td>\n      <td>0.0</td>\n      <td>0.0</td>\n      <td>0.0</td>\n      <td>0.0</td>\n      <td>0.0</td>\n      <td>0.0</td>\n      <td>0.0</td>\n      <td>0.0</td>\n      <td>0.0</td>\n      <td>0.0</td>\n      <td>0.0</td>\n      <td>NaN</td>\n      <td>NaN</td>\n      <td>0.0</td>\n      <td>0.0</td>\n      <td>NaN</td>\n      <td>NaN</td>\n      <td>NaN</td>\n      <td>NaN</td>\n      <td>NaN</td>\n      <td>NaN</td>\n      <td>NaN</td>\n      <td>NaN</td>\n      <td>NaN</td>\n      <td>NaN</td>\n      <td>NaN</td>\n      <td>NaN</td>\n      <td>NaN</td>\n      <td>NaN</td>\n      <td>NaN</td>\n      <td>NaN</td>\n      <td>NaN</td>\n      <td>NaN</td>\n      <td>NaN</td>\n      <td>NaN</td>\n      <td>NaN</td>\n      <td>NaN</td>\n      <td>NaN</td>\n      <td>NaN</td>\n      <td>NaN</td>\n      <td>NaN</td>\n      <td>NaN</td>\n      <td>NaN</td>\n      <td>NaN</td>\n    </tr>\n    <tr>\n      <th>254</th>\n      <td>nan</td>\n      <td>2019-01-01</td>\n      <td>INFINITI C80-S</td>\n      <td>5646</td>\n      <td>NaN</td>\n      <td>1</td>\n      <td>10.0</td>\n      <td>2.0</td>\n      <td>4.0</td>\n      <td>8.0</td>\n      <td>0.0</td>\n      <td>6.0</td>\n      <td>6.0</td>\n      <td>140.0</td>\n      <td>5.0</td>\n      <td>0.0</td>\n      <td>5.0</td>\n      <td>10.0</td>\n      <td>5.0</td>\n      <td>5.0</td>\n      <td>5.0</td>\n      <td>5.0</td>\n      <td>1.0</td>\n      <td>0.0</td>\n      <td>0.0</td>\n      <td>3.0</td>\n      <td>5.0</td>\n      <td>0.0</td>\n      <td>0.0</td>\n      <td>0.0</td>\n      <td>0.0</td>\n      <td>0.0</td>\n      <td>0.0</td>\n      <td>0.0</td>\n      <td>0.0</td>\n      <td>0.0</td>\n      <td>0.0</td>\n      <td>0.0</td>\n      <td>0.0</td>\n      <td>0.0</td>\n      <td>0.0</td>\n      <td>0.0</td>\n      <td>0.0</td>\n      <td>0.0</td>\n      <td>0.0</td>\n      <td>0.0</td>\n      <td>0.0</td>\n      <td>0.0</td>\n      <td>NaN</td>\n      <td>NaN</td>\n      <td>0.0</td>\n      <td>3.0</td>\n      <td>NaN</td>\n      <td>NaN</td>\n      <td>NaN</td>\n      <td>NaN</td>\n      <td>NaN</td>\n      <td>NaN</td>\n      <td>NaN</td>\n      <td>NaN</td>\n      <td>NaN</td>\n      <td>NaN</td>\n      <td>NaN</td>\n      <td>NaN</td>\n      <td>NaN</td>\n      <td>NaN</td>\n      <td>NaN</td>\n      <td>NaN</td>\n      <td>NaN</td>\n      <td>NaN</td>\n      <td>NaN</td>\n      <td>NaN</td>\n      <td>NaN</td>\n      <td>NaN</td>\n      <td>NaN</td>\n      <td>NaN</td>\n      <td>NaN</td>\n      <td>NaN</td>\n      <td>NaN</td>\n      <td>NaN</td>\n      <td>NaN</td>\n    </tr>\n  </tbody>\n</table>\n</div>"
     },
     "metadata": {},
     "execution_count": 14
    }
   ],
   "source": [
    "df_main[df_main.CUSTOMER.isnull() == True]"
   ]
  },
  {
   "cell_type": "code",
   "execution_count": 15,
   "metadata": {},
   "outputs": [],
   "source": [
    "df_main = df_main.dropna(subset=['CUSTOMER','ORDER_DATE'])"
   ]
  },
  {
   "cell_type": "code",
   "execution_count": 16,
   "metadata": {},
   "outputs": [
    {
     "output_type": "stream",
     "name": "stdout",
     "text": [
      "<class 'pandas.core.frame.DataFrame'>\nInt64Index: 291 entries, 0 to 294\nData columns (total 81 columns):\n #   Column               Non-Null Count  Dtype         \n---  ------               --------------  -----         \n 0   SALE_ORDER           291 non-null    object        \n 1   ORDER_DATE           291 non-null    datetime64[ns]\n 2   PDT_MODEL            291 non-null    object        \n 3   TOTAL_LENGTH         291 non-null    int64         \n 4   CUSTOMER             291 non-null    object        \n 5   TOTAL_QTY            291 non-null    int64         \n 6   INFINITI160610301    290 non-null    float64       \n 7   INFINITI160610302    290 non-null    float64       \n 8   INFINITI160610303    290 non-null    float64       \n 9   INFINITI160610304    290 non-null    float64       \n 10  INFINITI160610305    255 non-null    float64       \n 11  INFINITI160610306    290 non-null    float64       \n 12  INFINITI160610307    290 non-null    float64       \n 13  INFINITI160610308    290 non-null    float64       \n 14  INFINITI160610309    290 non-null    float64       \n 15  INFINITI160610310    254 non-null    float64       \n 16  INFINITI160610312    256 non-null    float64       \n 17  INFINITI160610316    290 non-null    float64       \n 18  INFINITI160610318    290 non-null    float64       \n 19  INFINITI160610323    291 non-null    float64       \n 20  INFINITI160610325    291 non-null    float64       \n 21  INFINITI160610327    291 non-null    float64       \n 22  INFINITI160610364    212 non-null    float64       \n 23  INFINITI160610365    211 non-null    float64       \n 24  INFINITI160610367    128 non-null    float64       \n 25  INFINITI160610374    220 non-null    float64       \n 26  INFINITI160610377    117 non-null    float64       \n 27  INFINITI160610385    255 non-null    float64       \n 28  INFINITI160610386    291 non-null    float64       \n 29  INFINITI160610387    291 non-null    float64       \n 30  INFINITI160610390    255 non-null    float64       \n 31  INFINITI160610391    151 non-null    float64       \n 32  INFINITI160610397    255 non-null    float64       \n 33  INFINITI160610398    291 non-null    float64       \n 34  INFINITI160610399    291 non-null    float64       \n 35  INFINITI160610400    290 non-null    float64       \n 36  INFINITI160610401    291 non-null    float64       \n 37  INFINITI160610402    291 non-null    float64       \n 38  INFINITI160610403    290 non-null    float64       \n 39  INFINITI160610404    290 non-null    float64       \n 40  INFINITI160610405    291 non-null    float64       \n 41  INFINITI160610406    255 non-null    float64       \n 42  INFINITI160610407    291 non-null    float64       \n 43  INFINITI160610408    291 non-null    float64       \n 44  INFINITI160610414    291 non-null    float64       \n 45  INFINITI160610415    291 non-null    float64       \n 46  INFINITI160610417    291 non-null    float64       \n 47  INFINITI160610418    291 non-null    float64       \n 48  INFINITI160610321    174 non-null    float64       \n 49  INFINITI160610360    105 non-null    float64       \n 50  INFINITI160610380    270 non-null    float64       \n 51  INFINITI160610383    230 non-null    float64       \n 52  INFINITI160610384    126 non-null    float64       \n 53  INFINITI160610388    211 non-null    float64       \n 54  INFINITI160610389    203 non-null    float64       \n 55  INFINITI160610341    40 non-null     float64       \n 56  INFINITI160610344    39 non-null     float64       \n 57  INFINITI160610345    38 non-null     float64       \n 58  INFINITI160610346    40 non-null     float64       \n 59  INFINITI160610361    32 non-null     float64       \n 60  INFINITI160610374P   27 non-null     float64       \n 61  INFINITI160610375    36 non-null     float64       \n 62  INFINITI160610376    34 non-null     float64       \n 63  INFINITI160610378    36 non-null     float64       \n 64  INFINITI160610379    36 non-null     float64       \n 65  INFINITI160610381    36 non-null     float64       \n 66  INFINITI160610382    36 non-null     float64       \n 67  INFINITI160610392    36 non-null     float64       \n 68  INFINITI160610393    36 non-null     float64       \n 69  INFINITI160610394    36 non-null     float64       \n 70  INFINITI160610395    36 non-null     float64       \n 71  INFINITI160610396    36 non-null     float64       \n 72  INFINITI160610370    0 non-null      float64       \n 73  INFINITI160610371    0 non-null      float64       \n 74  INFINITI160610372    0 non-null      float64       \n 75  INFINITI160610409    0 non-null      float64       \n 76  INFINITI160610410    0 non-null      float64       \n 77  INFINITI160610411    0 non-null      float64       \n 78  INFINITI160610412    0 non-null      float64       \n 79  INFINITI160610413    0 non-null      float64       \n 80  INFINITI160610344.0  1 non-null      float64       \ndtypes: datetime64[ns](1), float64(75), int64(2), object(3)\nmemory usage: 186.4+ KB\n"
     ]
    }
   ],
   "source": [
    "df_main.info()"
   ]
  },
  {
   "cell_type": "code",
   "execution_count": 17,
   "metadata": {},
   "outputs": [
    {
     "output_type": "execute_result",
     "data": {
      "text/plain": [
       "610304  INFINITI160610305  INFINITI160610306  \\\n",
       "60                 4.0                0.0                4.0   \n",
       "73                 0.0                0.0               92.0   \n",
       "81                 0.0                0.0               16.0   \n",
       "89                 8.0                0.0                8.0   \n",
       "92                 0.0                0.0               76.0   \n",
       "94                 8.0                0.0                8.0   \n",
       "146                0.0                0.0                2.0   \n",
       "172                0.0                0.0                2.0   \n",
       "178                4.0                0.0                4.0   \n",
       "189                8.0                0.0                8.0   \n",
       "218                0.0                0.0               76.0   \n",
       "273                8.0                0.0                8.0   \n",
       "\n",
       "     INFINITI160610307  INFINITI160610308  INFINITI160610309  \\\n",
       "60                 4.0              145.0               16.0   \n",
       "73                92.0             1288.0              138.0   \n",
       "81                16.0              224.0               24.0   \n",
       "89                 8.0              356.0               40.0   \n",
       "92                76.0             1064.0              114.0   \n",
       "94                 8.0              396.0               48.0   \n",
       "146                2.0              117.0               13.0   \n",
       "172                2.0              117.0               13.0   \n",
       "178                4.0              145.0               16.0   \n",
       "189                8.0              356.0               40.0   \n",
       "218               76.0             1064.0              114.0   \n",
       "273                8.0              396.0               48.0   \n",
       "\n",
       "     INFINITI160610310  INFINITI160610312  INFINITI160610316  \\\n",
       "60                 0.0                5.0               10.0   \n",
       "73                46.0               46.0               92.0   \n",
       "81                 8.0                8.0               16.0   \n",
       "89                 0.0               12.0               24.0   \n",
       "92                38.0               38.0               76.0   \n",
       "94                 0.0               12.0               24.0   \n",
       "146                0.0                4.0                8.0   \n",
       "172                0.0                4.0                8.0   \n",
       "178                0.0                5.0               10.0   \n",
       "189                0.0               12.0               24.0   \n",
       "218               38.0               38.0               76.0   \n",
       "273                0.0               12.0               24.0   \n",
       "\n",
       "     INFINITI160610318  INFINITI160610323  INFINITI160610325  \\\n",
       "60                 4.0                4.0                0.0   \n",
       "73                46.0               46.0                0.0   \n",
       "81                 8.0                8.0                0.0   \n",
       "89                 8.0                8.0                0.0   \n",
       "92                38.0               38.0                0.0   \n",
       "94                 0.0                0.0                0.0   \n",
       "146                3.0                3.0                0.0   \n",
       "172                3.0                3.0                0.0   \n",
       "178                4.0                4.0                0.0   \n",
       "189                8.0                8.0                0.0   \n",
       "218               38.0               38.0                0.0   \n",
       "273                0.0                0.0                0.0   \n",
       "\n",
       "     INFINITI160610327  INFINITI160610364  INFINITI160610365  \\\n",
       "60                 5.0                1.0                0.0   \n",
       "73                46.0                NaN                NaN   \n",
       "81                 8.0                NaN                NaN   \n",
       "89                12.0                2.0                0.0   \n",
       "92                38.0                NaN                NaN   \n",
       "94                12.0                4.0                0.0   \n",
       "146                4.0                2.0                0.0   \n",
       "172                4.0                1.0                0.0   \n",
       "178                5.0                2.0                0.0   \n",
       "189               12.0                4.0                0.0   \n",
       "218               38.0                NaN                NaN   \n",
       "273               12.0                2.0                0.0   \n",
       "\n",
       "     INFINITI160610367  INFINITI160610374  INFINITI160610377  \\\n",
       "60                 NaN                3.0                NaN   \n",
       "73                 NaN                NaN                NaN   \n",
       "81                 NaN                NaN                NaN   \n",
       "89                 NaN                7.0                NaN   \n",
       "92                 NaN                NaN                NaN   \n",
       "94                 NaN               14.0                NaN   \n",
       "146                NaN                5.0                NaN   \n",
       "172                NaN                2.5                NaN   \n",
       "178                NaN                6.0                NaN   \n",
       "189                NaN               14.0                NaN   \n",
       "218                NaN                NaN                NaN   \n",
       "273                NaN                7.0                NaN   \n",
       "\n",
       "     INFINITI160610385  INFINITI160610386  INFINITI160610387  \\\n",
       "60                 0.0                1.0                0.0   \n",
       "73                 0.0                0.0                0.0   \n",
       "81                 0.0                0.0                0.0   \n",
       "89                 0.0                4.0                0.0   \n",
       "92                 0.0                0.0                0.0   \n",
       "94                 0.0               12.0                0.0   \n",
       "146                0.0                1.0                0.0   \n",
       "172                0.0                1.0                0.0   \n",
       "178                0.0                1.0                0.0   \n",
       "189                0.0                4.0                0.0   \n",
       "218                0.0                0.0                0.0   \n",
       "273                0.0               12.0                0.0   \n",
       "\n",
       "     INFINITI160610390  INFINITI160610391  INFINITI160610397  \\\n",
       "60                 0.0                NaN                0.0   \n",
       "73                 0.0                NaN                0.0   \n",
       "81                 0.0                NaN                0.0   \n",
       "89                 0.0                NaN                0.0   \n",
       "92                 0.0                NaN                0.0   \n",
       "94                 0.0                NaN                0.0   \n",
       "146                0.0                NaN                0.0   \n",
       "172                0.0                NaN                0.0   \n",
       "178                0.0                NaN                0.0   \n",
       "189                0.0                NaN                0.0   \n",
       "218                0.0                NaN                0.0   \n",
       "273                0.0                NaN                0.0   \n",
       "\n",
       "     INFINITI160610398  INFINITI160610399  INFINITI160610400  \\\n",
       "60                 1.0                0.0                0.0   \n",
       "73                 0.0                0.0                0.0   \n",
       "81                 0.0                0.0                0.0   \n",
       "89                 4.0                0.0                0.0   \n",
       "92                 0.0                0.0                0.0   \n",
       "94                12.0                0.0                0.0   \n",
       "146                1.0                0.0                0.0   \n",
       "172                1.0                0.0                0.0   \n",
       "178                1.0                0.0                0.0   \n",
       "189                4.0                0.0                0.0   \n",
       "218                0.0                0.0                0.0   \n",
       "273               12.0                0.0                0.0   \n",
       "\n",
       "     INFINITI160610401  INFINITI160610402  INFINITI160610403  \\\n",
       "60                 0.0                0.0                4.0   \n",
       "73                 0.0                0.0               46.0   \n",
       "81                 0.0                0.0                8.0   \n",
       "89                 0.0                0.0                8.0   \n",
       "92                 0.0                0.0               38.0   \n",
       "94                 0.0                0.0                0.0   \n",
       "146                0.0                0.0                3.0   \n",
       "172                0.0                0.0                3.0   \n",
       "178                0.0                0.0                4.0   \n",
       "189                0.0                0.0                8.0   \n",
       "218                0.0                0.0               38.0   \n",
       "273                0.0                0.0                0.0   \n",
       "\n",
       "     INFINITI160610404  INFINITI160610405  INFINITI160610406  \\\n",
       "60                 1.0                0.0                0.0   \n",
       "73                 0.0                0.0                0.0   \n",
       "81                 0.0                0.0                0.0   \n",
       "89                 4.0                0.0                0.0   \n",
       "92                 0.0                0.0                0.0   \n",
       "94                12.0                0.0                0.0   \n",
       "146                1.0                0.0                0.0   \n",
       "172                1.0                0.0                0.0   \n",
       "178                1.0                0.0                0.0   \n",
       "189                4.0                0.0                0.0   \n",
       "218                0.0                0.0                0.0   \n",
       "273               12.0                0.0                0.0   \n",
       "\n",
       "     INFINITI160610407  INFINITI160610408  INFINITI160610414  \\\n",
       "60                 0.0                0.0                0.0   \n",
       "73                 0.0                0.0                0.0   \n",
       "81                 0.0                0.0                0.0   \n",
       "89                 0.0                0.0                0.0   \n",
       "92                 0.0                0.0                0.0   \n",
       "94                 0.0                0.0                0.0   \n",
       "146                0.0                0.0                0.0   \n",
       "172                0.0                0.0                0.0   \n",
       "178                0.0                0.0                0.0   \n",
       "189                0.0                0.0                0.0   \n",
       "218                0.0                0.0                0.0   \n",
       "273                0.0                0.0                0.0   \n",
       "\n",
       "     INFINITI160610415  INFINITI160610417  INFINITI160610418  \\\n",
       "60                 0.0                0.0                0.0   \n",
       "73                 0.0                0.0                0.0   \n",
       "81                 0.0                0.0                0.0   \n",
       "89                 0.0                0.0                0.0   \n",
       "92                 0.0                0.0                0.0   \n",
       "94                 0.0                0.0                0.0   \n",
       "146                0.0                0.0                0.0   \n",
       "172                0.0                0.0                0.0   \n",
       "178                0.0                0.0                0.0   \n",
       "189                0.0                0.0                0.0   \n",
       "218                0.0                0.0                0.0   \n",
       "273                0.0                0.0                0.0   \n",
       "\n",
       "     INFINITI160610321  INFINITI160610360  INFINITI160610380  \\\n",
       "60                 4.0                5.0                2.0   \n",
       "73                46.0                NaN               92.0   \n",
       "81                 8.0                NaN               16.0   \n",
       "89                 8.0               10.0                4.0   \n",
       "92                38.0                NaN               76.0   \n",
       "94                 0.0                NaN                4.0   \n",
       "146                3.0                NaN                2.0   \n",
       "172                3.0                2.5                2.0   \n",
       "178                4.0                NaN                2.0   \n",
       "189                8.0                NaN                4.0   \n",
       "218               38.0                NaN               76.0   \n",
       "273                0.0               10.0                4.0   \n",
       "\n",
       "     INFINITI160610383  INFINITI160610384  INFINITI160610388  \\\n",
       "60                 5.0                1.0                0.0   \n",
       "73                 NaN                NaN                0.0   \n",
       "81                 NaN                NaN                0.0   \n",
       "89                12.0                2.0                0.0   \n",
       "92                 NaN                NaN                0.0   \n",
       "94                12.0                2.0                0.0   \n",
       "146                4.0                1.0                0.0   \n",
       "172                4.0                1.0                0.0   \n",
       "178                5.0                1.0                0.0   \n",
       "189               12.0                2.0                0.0   \n",
       "218                NaN                NaN                0.0   \n",
       "273               12.0                2.0                0.0   \n",
       "\n",
       "     INFINITI160610389  INFINITI160610341  INFINITI160610344  \\\n",
       "60                 1.0                NaN                NaN   \n",
       "73                 0.0               30.5                0.0   \n",
       "81                 0.0               10.0                0.0   \n",
       "89                 4.0                NaN                NaN   \n",
       "92                 0.0               25.5                0.0   \n",
       "94                12.0                NaN                NaN   \n",
       "146                1.0                NaN                NaN   \n",
       "172                1.0                NaN                NaN   \n",
       "178                1.0                NaN                NaN   \n",
       "189                4.0                NaN                NaN   \n",
       "218                0.0               51.0                0.0   \n",
       "273               12.0                NaN                NaN   \n",
       "\n",
       "     INFINITI160610345  INFINITI160610346  INFINITI160610361  \\\n",
       "60                 NaN                NaN                NaN   \n",
       "73                46.0               92.0                NaN   \n",
       "81                16.0               16.0                NaN   \n",
       "89                 NaN                NaN                NaN   \n",
       "92                38.0               76.0                NaN   \n",
       "94                 NaN                NaN                NaN   \n",
       "146                NaN                NaN                NaN   \n",
       "172                NaN                NaN                NaN   \n",
       "178                NaN                NaN                NaN   \n",
       "189                NaN                NaN                NaN   \n",
       "218               76.0               76.0                NaN   \n",
       "273                NaN                NaN                NaN   \n",
       "\n",
       "     INFINITI160610374P  INFINITI160610375  INFINITI160610376  \\\n",
       "60                  NaN                NaN                NaN   \n",
       "73                  NaN                NaN                NaN   \n",
       "81                  NaN                NaN                NaN   \n",
       "89                  NaN                NaN                NaN   \n",
       "92                  NaN                NaN                NaN   \n",
       "94                  NaN                NaN                NaN   \n",
       "146                 NaN                NaN                NaN   \n",
       "172                 NaN                NaN                NaN   \n",
       "178                 NaN                NaN                NaN   \n",
       "189                 NaN                NaN                NaN   \n",
       "218                 NaN                NaN                NaN   \n",
       "273                 NaN                NaN                NaN   \n",
       "\n",
       "     INFINITI160610378  INFINITI160610379  INFINITI160610381  \\\n",
       "60                 NaN                NaN                NaN   \n",
       "73                 NaN                NaN                NaN   \n",
       "81                 NaN                NaN                NaN   \n",
       "89                 NaN                NaN                NaN   \n",
       "92                 NaN                NaN                NaN   \n",
       "94                 NaN                NaN                NaN   \n",
       "146                NaN                NaN                NaN   \n",
       "172                NaN                NaN                NaN   \n",
       "178                NaN                NaN                NaN   \n",
       "189                NaN                NaN                NaN   \n",
       "218                NaN                NaN                NaN   \n",
       "273                NaN                NaN                NaN   \n",
       "\n",
       "     INFINITI160610382  INFINITI160610392  INFINITI160610393  \\\n",
       "60                 NaN                NaN                NaN   \n",
       "73                 NaN                NaN                NaN   \n",
       "81                 NaN                NaN                NaN   \n",
       "89                 NaN                NaN                NaN   \n",
       "92                 NaN                NaN                NaN   \n",
       "94                 NaN                NaN                NaN   \n",
       "146                NaN                NaN                NaN   \n",
       "172                NaN                NaN                NaN   \n",
       "178                NaN                NaN                NaN   \n",
       "189                NaN                NaN                NaN   \n",
       "218                NaN                NaN                NaN   \n",
       "273                NaN                NaN                NaN   \n",
       "\n",
       "     INFINITI160610394  INFINITI160610395  INFINITI160610396  \\\n",
       "60                 NaN                NaN                NaN   \n",
       "73                 NaN                NaN                NaN   \n",
       "81                 NaN                NaN                NaN   \n",
       "89                 NaN                NaN                NaN   \n",
       "92                 NaN                NaN                NaN   \n",
       "94                 NaN                NaN                NaN   \n",
       "146                NaN                NaN                NaN   \n",
       "172                NaN                NaN                NaN   \n",
       "178                NaN                NaN                NaN   \n",
       "189                NaN                NaN                NaN   \n",
       "218                NaN                NaN                NaN   \n",
       "273                NaN                NaN                NaN   \n",
       "\n",
       "     INFINITI160610370  INFINITI160610371  INFINITI160610372  \\\n",
       "60                 NaN                NaN                NaN   \n",
       "73                 NaN                NaN                NaN   \n",
       "81                 NaN                NaN                NaN   \n",
       "89                 NaN                NaN                NaN   \n",
       "92                 NaN                NaN                NaN   \n",
       "94                 NaN                NaN                NaN   \n",
       "146                NaN                NaN                NaN   \n",
       "172                NaN                NaN                NaN   \n",
       "178                NaN                NaN                NaN   \n",
       "189                NaN                NaN                NaN   \n",
       "218                NaN                NaN                NaN   \n",
       "273                NaN                NaN                NaN   \n",
       "\n",
       "     INFINITI160610409  INFINITI160610410  INFINITI160610411  \\\n",
       "60                 NaN                NaN                NaN   \n",
       "73                 NaN                NaN                NaN   \n",
       "81                 NaN                NaN                NaN   \n",
       "89                 NaN                NaN                NaN   \n",
       "92                 NaN                NaN                NaN   \n",
       "94                 NaN                NaN                NaN   \n",
       "146                NaN                NaN                NaN   \n",
       "172                NaN                NaN                NaN   \n",
       "178                NaN                NaN                NaN   \n",
       "189                NaN                NaN                NaN   \n",
       "218                NaN                NaN                NaN   \n",
       "273                NaN                NaN                NaN   \n",
       "\n",
       "     INFINITI160610412  INFINITI160610413  INFINITI160610344.0  \n",
       "60                 NaN                NaN                  NaN  \n",
       "73                 NaN                NaN                  NaN  \n",
       "81                 NaN                NaN                  NaN  \n",
       "89                 NaN                NaN                  NaN  \n",
       "92                 NaN                NaN                  NaN  \n",
       "94                 NaN                NaN                  NaN  \n",
       "146                NaN                NaN                  NaN  \n",
       "172                NaN                NaN                  NaN  \n",
       "178                NaN                NaN                  NaN  \n",
       "189                NaN                NaN                  NaN  \n",
       "218                NaN                NaN                  NaN  \n",
       "273                NaN                NaN                  NaN  "
      ],
      "text/html": "<div>\n<style scoped>\n    .dataframe tbody tr th:only-of-type {\n        vertical-align: middle;\n    }\n\n    .dataframe tbody tr th {\n        vertical-align: top;\n    }\n\n    .dataframe thead th {\n        text-align: right;\n    }\n</style>\n<table border=\"1\" class=\"dataframe\">\n  <thead>\n    <tr style=\"text-align: right;\">\n      <th></th>\n      <th>SALE_ORDER</th>\n      <th>ORDER_DATE</th>\n      <th>PDT_MODEL</th>\n      <th>TOTAL_LENGTH</th>\n      <th>CUSTOMER</th>\n      <th>TOTAL_QTY</th>\n      <th>INFINITI160610301</th>\n      <th>INFINITI160610302</th>\n      <th>INFINITI160610303</th>\n      <th>INFINITI160610304</th>\n      <th>INFINITI160610305</th>\n      <th>INFINITI160610306</th>\n      <th>INFINITI160610307</th>\n      <th>INFINITI160610308</th>\n      <th>INFINITI160610309</th>\n      <th>INFINITI160610310</th>\n      <th>INFINITI160610312</th>\n      <th>INFINITI160610316</th>\n      <th>INFINITI160610318</th>\n      <th>INFINITI160610323</th>\n      <th>INFINITI160610325</th>\n      <th>INFINITI160610327</th>\n      <th>INFINITI160610364</th>\n      <th>INFINITI160610365</th>\n      <th>INFINITI160610367</th>\n      <th>INFINITI160610374</th>\n      <th>INFINITI160610377</th>\n      <th>INFINITI160610385</th>\n      <th>INFINITI160610386</th>\n      <th>INFINITI160610387</th>\n      <th>INFINITI160610390</th>\n      <th>INFINITI160610391</th>\n      <th>INFINITI160610397</th>\n      <th>INFINITI160610398</th>\n      <th>INFINITI160610399</th>\n      <th>INFINITI160610400</th>\n      <th>INFINITI160610401</th>\n      <th>INFINITI160610402</th>\n      <th>INFINITI160610403</th>\n      <th>INFINITI160610404</th>\n      <th>INFINITI160610405</th>\n      <th>INFINITI160610406</th>\n      <th>INFINITI160610407</th>\n      <th>INFINITI160610408</th>\n      <th>INFINITI160610414</th>\n      <th>INFINITI160610415</th>\n      <th>INFINITI160610417</th>\n      <th>INFINITI160610418</th>\n      <th>INFINITI160610321</th>\n      <th>INFINITI160610360</th>\n      <th>INFINITI160610380</th>\n      <th>INFINITI160610383</th>\n      <th>INFINITI160610384</th>\n      <th>INFINITI160610388</th>\n      <th>INFINITI160610389</th>\n      <th>INFINITI160610341</th>\n      <th>INFINITI160610344</th>\n      <th>INFINITI160610345</th>\n      <th>INFINITI160610346</th>\n      <th>INFINITI160610361</th>\n      <th>INFINITI160610374P</th>\n      <th>INFINITI160610375</th>\n      <th>INFINITI160610376</th>\n      <th>INFINITI160610378</th>\n      <th>INFINITI160610379</th>\n      <th>INFINITI160610381</th>\n      <th>INFINITI160610382</th>\n      <th>INFINITI160610392</th>\n      <th>INFINITI160610393</th>\n      <th>INFINITI160610394</th>\n      <th>INFINITI160610395</th>\n      <th>INFINITI160610396</th>\n      <th>INFINITI160610370</th>\n      <th>INFINITI160610371</th>\n      <th>INFINITI160610372</th>\n      <th>INFINITI160610409</th>\n      <th>INFINITI160610410</th>\n      <th>INFINITI160610411</th>\n      <th>INFINITI160610412</th>\n      <th>INFINITI160610413</th>\n      <th>INFINITI160610344.0</th>\n    </tr>\n  </thead>\n  <tbody>\n    <tr>\n      <th>60</th>\n      <td>87761A</td>\n      <td>2019-03-06</td>\n      <td>INFINITI C80-S</td>\n      <td>5928</td>\n      <td>ST JOSEPH TRINITY</td>\n      <td>1</td>\n      <td>10.0</td>\n      <td>1.0</td>\n      <td>2.0</td>\n      <td>4.0</td>\n      <td>0.0</td>\n      <td>4.0</td>\n      <td>4.0</td>\n      <td>145.0</td>\n      <td>16.0</td>\n      <td>0.0</td>\n      <td>5.0</td>\n      <td>10.0</td>\n      <td>4.0</td>\n      <td>4.0</td>\n      <td>0.0</td>\n      <td>5.0</td>\n      <td>1.0</td>\n      <td>0.0</td>\n      <td>NaN</td>\n      <td>3.0</td>\n      <td>NaN</td>\n      <td>0.0</td>\n      <td>1.0</td>\n      <td>0.0</td>\n      <td>0.0</td>\n      <td>NaN</td>\n      <td>0.0</td>\n      <td>1.0</td>\n      <td>0.0</td>\n      <td>0.0</td>\n      <td>0.0</td>\n      <td>0.0</td>\n      <td>4.0</td>\n      <td>1.0</td>\n      <td>0.0</td>\n      <td>0.0</td>\n      <td>0.0</td>\n      <td>0.0</td>\n      <td>0.0</td>\n      <td>0.0</td>\n      <td>0.0</td>\n      <td>0.0</td>\n      <td>4.0</td>\n      <td>5.0</td>\n      <td>2.0</td>\n      <td>5.0</td>\n      <td>1.0</td>\n      <td>0.0</td>\n      <td>1.0</td>\n      <td>NaN</td>\n      <td>NaN</td>\n      <td>NaN</td>\n      <td>NaN</td>\n      <td>NaN</td>\n      <td>NaN</td>\n      <td>NaN</td>\n      <td>NaN</td>\n      <td>NaN</td>\n      <td>NaN</td>\n      <td>NaN</td>\n      <td>NaN</td>\n      <td>NaN</td>\n      <td>NaN</td>\n      <td>NaN</td>\n      <td>NaN</td>\n      <td>NaN</td>\n      <td>NaN</td>\n      <td>NaN</td>\n      <td>NaN</td>\n      <td>NaN</td>\n      <td>NaN</td>\n      <td>NaN</td>\n      <td>NaN</td>\n      <td>NaN</td>\n      <td>NaN</td>\n    </tr>\n    <tr>\n      <th>73</th>\n      <td>87761A</td>\n      <td>2019-03-06</td>\n      <td>INFINITI C80-R</td>\n      <td>1150</td>\n      <td>ST JOSEPH TRINITY</td>\n      <td>46</td>\n      <td>92.0</td>\n      <td>0.0</td>\n      <td>0.0</td>\n      <td>0.0</td>\n      <td>0.0</td>\n      <td>92.0</td>\n      <td>92.0</td>\n      <td>1288.0</td>\n      <td>138.0</td>\n      <td>46.0</td>\n      <td>46.0</td>\n      <td>92.0</td>\n      <td>46.0</td>\n      <td>46.0</td>\n      <td>0.0</td>\n      <td>46.0</td>\n      <td>NaN</td>\n      <td>NaN</td>\n      <td>NaN</td>\n      <td>NaN</td>\n      <td>NaN</td>\n      <td>0.0</td>\n      <td>0.0</td>\n      <td>0.0</td>\n      <td>0.0</td>\n      <td>NaN</td>\n      <td>0.0</td>\n      <td>0.0</td>\n      <td>0.0</td>\n      <td>0.0</td>\n      <td>0.0</td>\n      <td>0.0</td>\n      <td>46.0</td>\n      <td>0.0</td>\n      <td>0.0</td>\n      <td>0.0</td>\n      <td>0.0</td>\n      <td>0.0</td>\n      <td>0.0</td>\n      <td>0.0</td>\n      <td>0.0</td>\n      <td>0.0</td>\n      <td>46.0</td>\n      <td>NaN</td>\n      <td>92.0</td>\n      <td>NaN</td>\n      <td>NaN</td>\n      <td>0.0</td>\n      <td>0.0</td>\n      <td>30.5</td>\n      <td>0.0</td>\n      <td>46.0</td>\n      <td>92.0</td>\n      <td>NaN</td>\n      <td>NaN</td>\n      <td>NaN</td>\n      <td>NaN</td>\n      <td>NaN</td>\n      <td>NaN</td>\n      <td>NaN</td>\n      <td>NaN</td>\n      <td>NaN</td>\n      <td>NaN</td>\n      <td>NaN</td>\n      <td>NaN</td>\n      <td>NaN</td>\n      <td>NaN</td>\n      <td>NaN</td>\n      <td>NaN</td>\n      <td>NaN</td>\n      <td>NaN</td>\n      <td>NaN</td>\n      <td>NaN</td>\n      <td>NaN</td>\n      <td>NaN</td>\n    </tr>\n    <tr>\n      <th>81</th>\n      <td>87761A</td>\n      <td>2019-06-06</td>\n      <td>INFINITI C80-R</td>\n      <td>1150</td>\n      <td>ST JOSEPH TRINITY</td>\n      <td>8</td>\n      <td>16.0</td>\n      <td>0.0</td>\n      <td>0.0</td>\n      <td>0.0</td>\n      <td>0.0</td>\n      <td>16.0</td>\n      <td>16.0</td>\n      <td>224.0</td>\n      <td>24.0</td>\n      <td>8.0</td>\n      <td>8.0</td>\n      <td>16.0</td>\n      <td>8.0</td>\n      <td>8.0</td>\n      <td>0.0</td>\n      <td>8.0</td>\n      <td>NaN</td>\n      <td>NaN</td>\n      <td>NaN</td>\n      <td>NaN</td>\n      <td>NaN</td>\n      <td>0.0</td>\n      <td>0.0</td>\n      <td>0.0</td>\n      <td>0.0</td>\n      <td>NaN</td>\n      <td>0.0</td>\n      <td>0.0</td>\n      <td>0.0</td>\n      <td>0.0</td>\n      <td>0.0</td>\n      <td>0.0</td>\n      <td>8.0</td>\n      <td>0.0</td>\n      <td>0.0</td>\n      <td>0.0</td>\n      <td>0.0</td>\n      <td>0.0</td>\n      <td>0.0</td>\n      <td>0.0</td>\n      <td>0.0</td>\n      <td>0.0</td>\n      <td>8.0</td>\n      <td>NaN</td>\n      <td>16.0</td>\n      <td>NaN</td>\n      <td>NaN</td>\n      <td>0.0</td>\n      <td>0.0</td>\n      <td>10.0</td>\n      <td>0.0</td>\n      <td>16.0</td>\n      <td>16.0</td>\n      <td>NaN</td>\n      <td>NaN</td>\n      <td>NaN</td>\n      <td>NaN</td>\n      <td>NaN</td>\n      <td>NaN</td>\n      <td>NaN</td>\n      <td>NaN</td>\n      <td>NaN</td>\n      <td>NaN</td>\n      <td>NaN</td>\n      <td>NaN</td>\n      <td>NaN</td>\n      <td>NaN</td>\n      <td>NaN</td>\n      <td>NaN</td>\n      <td>NaN</td>\n      <td>NaN</td>\n      <td>NaN</td>\n      <td>NaN</td>\n      <td>NaN</td>\n      <td>NaN</td>\n    </tr>\n    <tr>\n      <th>89</th>\n      <td>87761A</td>\n      <td>2019-03-06</td>\n      <td>INFINITI C80-S</td>\n      <td>7338</td>\n      <td>ST JOSEPH TRINITY</td>\n      <td>2</td>\n      <td>24.0</td>\n      <td>2.0</td>\n      <td>4.0</td>\n      <td>8.0</td>\n      <td>0.0</td>\n      <td>8.0</td>\n      <td>8.0</td>\n      <td>356.0</td>\n      <td>40.0</td>\n      <td>0.0</td>\n      <td>12.0</td>\n      <td>24.0</td>\n      <td>8.0</td>\n      <td>8.0</td>\n      <td>0.0</td>\n      <td>12.0</td>\n      <td>2.0</td>\n      <td>0.0</td>\n      <td>NaN</td>\n      <td>7.0</td>\n      <td>NaN</td>\n      <td>0.0</td>\n      <td>4.0</td>\n      <td>0.0</td>\n      <td>0.0</td>\n      <td>NaN</td>\n      <td>0.0</td>\n      <td>4.0</td>\n      <td>0.0</td>\n      <td>0.0</td>\n      <td>0.0</td>\n      <td>0.0</td>\n      <td>8.0</td>\n      <td>4.0</td>\n      <td>0.0</td>\n      <td>0.0</td>\n      <td>0.0</td>\n      <td>0.0</td>\n      <td>0.0</td>\n      <td>0.0</td>\n      <td>0.0</td>\n      <td>0.0</td>\n      <td>8.0</td>\n      <td>10.0</td>\n      <td>4.0</td>\n      <td>12.0</td>\n      <td>2.0</td>\n      <td>0.0</td>\n      <td>4.0</td>\n      <td>NaN</td>\n      <td>NaN</td>\n      <td>NaN</td>\n      <td>NaN</td>\n      <td>NaN</td>\n      <td>NaN</td>\n      <td>NaN</td>\n      <td>NaN</td>\n      <td>NaN</td>\n      <td>NaN</td>\n      <td>NaN</td>\n      <td>NaN</td>\n      <td>NaN</td>\n      <td>NaN</td>\n      <td>NaN</td>\n      <td>NaN</td>\n      <td>NaN</td>\n      <td>NaN</td>\n      <td>NaN</td>\n      <td>NaN</td>\n      <td>NaN</td>\n      <td>NaN</td>\n      <td>NaN</td>\n      <td>NaN</td>\n      <td>NaN</td>\n      <td>NaN</td>\n    </tr>\n    <tr>\n      <th>92</th>\n      <td>87761A</td>\n      <td>2019-06-06</td>\n      <td>INFINITI C80-R</td>\n      <td>1150</td>\n      <td>ST JOSEPH TRINITY</td>\n      <td>38</td>\n      <td>76.0</td>\n      <td>0.0</td>\n      <td>0.0</td>\n      <td>0.0</td>\n      <td>0.0</td>\n      <td>76.0</td>\n      <td>76.0</td>\n      <td>1064.0</td>\n      <td>114.0</td>\n      <td>38.0</td>\n      <td>38.0</td>\n      <td>76.0</td>\n      <td>38.0</td>\n      <td>38.0</td>\n      <td>0.0</td>\n      <td>38.0</td>\n      <td>NaN</td>\n      <td>NaN</td>\n      <td>NaN</td>\n      <td>NaN</td>\n      <td>NaN</td>\n      <td>0.0</td>\n      <td>0.0</td>\n      <td>0.0</td>\n      <td>0.0</td>\n      <td>NaN</td>\n      <td>0.0</td>\n      <td>0.0</td>\n      <td>0.0</td>\n      <td>0.0</td>\n      <td>0.0</td>\n      <td>0.0</td>\n      <td>38.0</td>\n      <td>0.0</td>\n      <td>0.0</td>\n      <td>0.0</td>\n      <td>0.0</td>\n      <td>0.0</td>\n      <td>0.0</td>\n      <td>0.0</td>\n      <td>0.0</td>\n      <td>0.0</td>\n      <td>38.0</td>\n      <td>NaN</td>\n      <td>76.0</td>\n      <td>NaN</td>\n      <td>NaN</td>\n      <td>0.0</td>\n      <td>0.0</td>\n      <td>25.5</td>\n      <td>0.0</td>\n      <td>38.0</td>\n      <td>76.0</td>\n      <td>NaN</td>\n      <td>NaN</td>\n      <td>NaN</td>\n      <td>NaN</td>\n      <td>NaN</td>\n      <td>NaN</td>\n      <td>NaN</td>\n      <td>NaN</td>\n      <td>NaN</td>\n      <td>NaN</td>\n      <td>NaN</td>\n      <td>NaN</td>\n      <td>NaN</td>\n      <td>NaN</td>\n      <td>NaN</td>\n      <td>NaN</td>\n      <td>NaN</td>\n      <td>NaN</td>\n      <td>NaN</td>\n      <td>NaN</td>\n      <td>NaN</td>\n      <td>NaN</td>\n    </tr>\n    <tr>\n      <th>94</th>\n      <td>87761A</td>\n      <td>2019-03-06</td>\n      <td>INFINITI C80-S</td>\n      <td>8466</td>\n      <td>ST JOSEPH TRINITY</td>\n      <td>2</td>\n      <td>24.0</td>\n      <td>2.0</td>\n      <td>4.0</td>\n      <td>8.0</td>\n      <td>0.0</td>\n      <td>8.0</td>\n      <td>8.0</td>\n      <td>396.0</td>\n      <td>48.0</td>\n      <td>0.0</td>\n      <td>12.0</td>\n      <td>24.0</td>\n      <td>0.0</td>\n      <td>0.0</td>\n      <td>0.0</td>\n      <td>12.0</td>\n      <td>4.0</td>\n      <td>0.0</td>\n      <td>NaN</td>\n      <td>14.0</td>\n      <td>NaN</td>\n      <td>0.0</td>\n      <td>12.0</td>\n      <td>0.0</td>\n      <td>0.0</td>\n      <td>NaN</td>\n      <td>0.0</td>\n      <td>12.0</td>\n      <td>0.0</td>\n      <td>0.0</td>\n      <td>0.0</td>\n      <td>0.0</td>\n      <td>0.0</td>\n      <td>12.0</td>\n      <td>0.0</td>\n      <td>0.0</td>\n      <td>0.0</td>\n      <td>0.0</td>\n      <td>0.0</td>\n      <td>0.0</td>\n      <td>0.0</td>\n      <td>0.0</td>\n      <td>0.0</td>\n      <td>NaN</td>\n      <td>4.0</td>\n      <td>12.0</td>\n      <td>2.0</td>\n      <td>0.0</td>\n      <td>12.0</td>\n      <td>NaN</td>\n      <td>NaN</td>\n      <td>NaN</td>\n      <td>NaN</td>\n      <td>NaN</td>\n      <td>NaN</td>\n      <td>NaN</td>\n      <td>NaN</td>\n      <td>NaN</td>\n      <td>NaN</td>\n      <td>NaN</td>\n      <td>NaN</td>\n      <td>NaN</td>\n      <td>NaN</td>\n      <td>NaN</td>\n      <td>NaN</td>\n      <td>NaN</td>\n      <td>NaN</td>\n      <td>NaN</td>\n      <td>NaN</td>\n      <td>NaN</td>\n      <td>NaN</td>\n      <td>NaN</td>\n      <td>NaN</td>\n      <td>NaN</td>\n      <td>NaN</td>\n    </tr>\n    <tr>\n      <th>146</th>\n      <td>87761A</td>\n      <td>2019-03-06</td>\n      <td>INFINITI C80-S</td>\n      <td>4800</td>\n      <td>ST JOSEPH TRINITY</td>\n      <td>1</td>\n      <td>8.0</td>\n      <td>0.0</td>\n      <td>0.0</td>\n      <td>0.0</td>\n      <td>0.0</td>\n      <td>2.0</td>\n      <td>2.0</td>\n      <td>117.0</td>\n      <td>13.0</td>\n      <td>0.0</td>\n      <td>4.0</td>\n      <td>8.0</td>\n      <td>3.0</td>\n      <td>3.0</td>\n      <td>0.0</td>\n      <td>4.0</td>\n      <td>2.0</td>\n      <td>0.0</td>\n      <td>NaN</td>\n      <td>5.0</td>\n      <td>NaN</td>\n      <td>0.0</td>\n      <td>1.0</td>\n      <td>0.0</td>\n      <td>0.0</td>\n      <td>NaN</td>\n      <td>0.0</td>\n      <td>1.0</td>\n      <td>0.0</td>\n      <td>0.0</td>\n      <td>0.0</td>\n      <td>0.0</td>\n      <td>3.0</td>\n      <td>1.0</td>\n      <td>0.0</td>\n      <td>0.0</td>\n      <td>0.0</td>\n      <td>0.0</td>\n      <td>0.0</td>\n      <td>0.0</td>\n      <td>0.0</td>\n      <td>0.0</td>\n      <td>3.0</td>\n      <td>NaN</td>\n      <td>2.0</td>\n      <td>4.0</td>\n      <td>1.0</td>\n      <td>0.0</td>\n      <td>1.0</td>\n      <td>NaN</td>\n      <td>NaN</td>\n      <td>NaN</td>\n      <td>NaN</td>\n      <td>NaN</td>\n      <td>NaN</td>\n      <td>NaN</td>\n      <td>NaN</td>\n      <td>NaN</td>\n      <td>NaN</td>\n      <td>NaN</td>\n      <td>NaN</td>\n      <td>NaN</td>\n      <td>NaN</td>\n      <td>NaN</td>\n      <td>NaN</td>\n      <td>NaN</td>\n      <td>NaN</td>\n      <td>NaN</td>\n      <td>NaN</td>\n      <td>NaN</td>\n      <td>NaN</td>\n      <td>NaN</td>\n      <td>NaN</td>\n      <td>NaN</td>\n      <td>NaN</td>\n    </tr>\n    <tr>\n      <th>172</th>\n      <td>87761A</td>\n      <td>2019-03-06</td>\n      <td>INFINITI C80-S</td>\n      <td>4800</td>\n      <td>ST JOSEPH TRINITY</td>\n      <td>1</td>\n      <td>8.0</td>\n      <td>0.0</td>\n      <td>0.0</td>\n      <td>0.0</td>\n      <td>0.0</td>\n      <td>2.0</td>\n      <td>2.0</td>\n      <td>117.0</td>\n      <td>13.0</td>\n      <td>0.0</td>\n      <td>4.0</td>\n      <td>8.0</td>\n      <td>3.0</td>\n      <td>3.0</td>\n      <td>0.0</td>\n      <td>4.0</td>\n      <td>1.0</td>\n      <td>0.0</td>\n      <td>NaN</td>\n      <td>2.5</td>\n      <td>NaN</td>\n      <td>0.0</td>\n      <td>1.0</td>\n      <td>0.0</td>\n      <td>0.0</td>\n      <td>NaN</td>\n      <td>0.0</td>\n      <td>1.0</td>\n      <td>0.0</td>\n      <td>0.0</td>\n      <td>0.0</td>\n      <td>0.0</td>\n      <td>3.0</td>\n      <td>1.0</td>\n      <td>0.0</td>\n      <td>0.0</td>\n      <td>0.0</td>\n      <td>0.0</td>\n      <td>0.0</td>\n      <td>0.0</td>\n      <td>0.0</td>\n      <td>0.0</td>\n      <td>3.0</td>\n      <td>2.5</td>\n      <td>2.0</td>\n      <td>4.0</td>\n      <td>1.0</td>\n      <td>0.0</td>\n      <td>1.0</td>\n      <td>NaN</td>\n      <td>NaN</td>\n      <td>NaN</td>\n      <td>NaN</td>\n      <td>NaN</td>\n      <td>NaN</td>\n      <td>NaN</td>\n      <td>NaN</td>\n      <td>NaN</td>\n      <td>NaN</td>\n      <td>NaN</td>\n      <td>NaN</td>\n      <td>NaN</td>\n      <td>NaN</td>\n      <td>NaN</td>\n      <td>NaN</td>\n      <td>NaN</td>\n      <td>NaN</td>\n      <td>NaN</td>\n      <td>NaN</td>\n      <td>NaN</td>\n      <td>NaN</td>\n      <td>NaN</td>\n      <td>NaN</td>\n      <td>NaN</td>\n      <td>NaN</td>\n    </tr>\n    <tr>\n      <th>178</th>\n      <td>87761A</td>\n      <td>2019-03-06</td>\n      <td>INFINITI C80-S</td>\n      <td>5928</td>\n      <td>ST JOSEPH TRINITY</td>\n      <td>1</td>\n      <td>10.0</td>\n      <td>1.0</td>\n      <td>2.0</td>\n      <td>4.0</td>\n      <td>0.0</td>\n      <td>4.0</td>\n      <td>4.0</td>\n      <td>145.0</td>\n      <td>16.0</td>\n      <td>0.0</td>\n      <td>5.0</td>\n      <td>10.0</td>\n      <td>4.0</td>\n      <td>4.0</td>\n      <td>0.0</td>\n      <td>5.0</td>\n      <td>2.0</td>\n      <td>0.0</td>\n      <td>NaN</td>\n      <td>6.0</td>\n      <td>NaN</td>\n      <td>0.0</td>\n      <td>1.0</td>\n      <td>0.0</td>\n      <td>0.0</td>\n      <td>NaN</td>\n      <td>0.0</td>\n      <td>1.0</td>\n      <td>0.0</td>\n      <td>0.0</td>\n      <td>0.0</td>\n      <td>0.0</td>\n      <td>4.0</td>\n      <td>1.0</td>\n      <td>0.0</td>\n      <td>0.0</td>\n      <td>0.0</td>\n      <td>0.0</td>\n      <td>0.0</td>\n      <td>0.0</td>\n      <td>0.0</td>\n      <td>0.0</td>\n      <td>4.0</td>\n      <td>NaN</td>\n      <td>2.0</td>\n      <td>5.0</td>\n      <td>1.0</td>\n      <td>0.0</td>\n      <td>1.0</td>\n      <td>NaN</td>\n      <td>NaN</td>\n      <td>NaN</td>\n      <td>NaN</td>\n      <td>NaN</td>\n      <td>NaN</td>\n      <td>NaN</td>\n      <td>NaN</td>\n      <td>NaN</td>\n      <td>NaN</td>\n      <td>NaN</td>\n      <td>NaN</td>\n      <td>NaN</td>\n      <td>NaN</td>\n      <td>NaN</td>\n      <td>NaN</td>\n      <td>NaN</td>\n      <td>NaN</td>\n      <td>NaN</td>\n      <td>NaN</td>\n      <td>NaN</td>\n      <td>NaN</td>\n      <td>NaN</td>\n      <td>NaN</td>\n      <td>NaN</td>\n      <td>NaN</td>\n    </tr>\n    <tr>\n      <th>189</th>\n      <td>87761A</td>\n      <td>2019-03-06</td>\n      <td>INFINITI C80-S</td>\n      <td>7338</td>\n      <td>ST JOSEPH TRINITY</td>\n      <td>2</td>\n      <td>24.0</td>\n      <td>2.0</td>\n      <td>4.0</td>\n      <td>8.0</td>\n      <td>0.0</td>\n      <td>8.0</td>\n      <td>8.0</td>\n      <td>356.0</td>\n      <td>40.0</td>\n      <td>0.0</td>\n      <td>12.0</td>\n      <td>24.0</td>\n      <td>8.0</td>\n      <td>8.0</td>\n      <td>0.0</td>\n      <td>12.0</td>\n      <td>4.0</td>\n      <td>0.0</td>\n      <td>NaN</td>\n      <td>14.0</td>\n      <td>NaN</td>\n      <td>0.0</td>\n      <td>4.0</td>\n      <td>0.0</td>\n      <td>0.0</td>\n      <td>NaN</td>\n      <td>0.0</td>\n      <td>4.0</td>\n      <td>0.0</td>\n      <td>0.0</td>\n      <td>0.0</td>\n      <td>0.0</td>\n      <td>8.0</td>\n      <td>4.0</td>\n      <td>0.0</td>\n      <td>0.0</td>\n      <td>0.0</td>\n      <td>0.0</td>\n      <td>0.0</td>\n      <td>0.0</td>\n      <td>0.0</td>\n      <td>0.0</td>\n      <td>8.0</td>\n      <td>NaN</td>\n      <td>4.0</td>\n      <td>12.0</td>\n      <td>2.0</td>\n      <td>0.0</td>\n      <td>4.0</td>\n      <td>NaN</td>\n      <td>NaN</td>\n      <td>NaN</td>\n      <td>NaN</td>\n      <td>NaN</td>\n      <td>NaN</td>\n      <td>NaN</td>\n      <td>NaN</td>\n      <td>NaN</td>\n      <td>NaN</td>\n      <td>NaN</td>\n      <td>NaN</td>\n      <td>NaN</td>\n      <td>NaN</td>\n      <td>NaN</td>\n      <td>NaN</td>\n      <td>NaN</td>\n      <td>NaN</td>\n      <td>NaN</td>\n      <td>NaN</td>\n      <td>NaN</td>\n      <td>NaN</td>\n      <td>NaN</td>\n      <td>NaN</td>\n      <td>NaN</td>\n      <td>NaN</td>\n    </tr>\n    <tr>\n      <th>218</th>\n      <td>87761A</td>\n      <td>2019-06-06</td>\n      <td>INFINITI C80-R</td>\n      <td>1150</td>\n      <td>ST JOSEPH TRINITY</td>\n      <td>38</td>\n      <td>76.0</td>\n      <td>0.0</td>\n      <td>0.0</td>\n      <td>0.0</td>\n      <td>0.0</td>\n      <td>76.0</td>\n      <td>76.0</td>\n      <td>1064.0</td>\n      <td>114.0</td>\n      <td>38.0</td>\n      <td>38.0</td>\n      <td>76.0</td>\n      <td>38.0</td>\n      <td>38.0</td>\n      <td>0.0</td>\n      <td>38.0</td>\n      <td>NaN</td>\n      <td>NaN</td>\n      <td>NaN</td>\n      <td>NaN</td>\n      <td>NaN</td>\n      <td>0.0</td>\n      <td>0.0</td>\n      <td>0.0</td>\n      <td>0.0</td>\n      <td>NaN</td>\n      <td>0.0</td>\n      <td>0.0</td>\n      <td>0.0</td>\n      <td>0.0</td>\n      <td>0.0</td>\n      <td>0.0</td>\n      <td>38.0</td>\n      <td>0.0</td>\n      <td>0.0</td>\n      <td>0.0</td>\n      <td>0.0</td>\n      <td>0.0</td>\n      <td>0.0</td>\n      <td>0.0</td>\n      <td>0.0</td>\n      <td>0.0</td>\n      <td>38.0</td>\n      <td>NaN</td>\n      <td>76.0</td>\n      <td>NaN</td>\n      <td>NaN</td>\n      <td>0.0</td>\n      <td>0.0</td>\n      <td>51.0</td>\n      <td>0.0</td>\n      <td>76.0</td>\n      <td>76.0</td>\n      <td>NaN</td>\n      <td>NaN</td>\n      <td>NaN</td>\n      <td>NaN</td>\n      <td>NaN</td>\n      <td>NaN</td>\n      <td>NaN</td>\n      <td>NaN</td>\n      <td>NaN</td>\n      <td>NaN</td>\n      <td>NaN</td>\n      <td>NaN</td>\n      <td>NaN</td>\n      <td>NaN</td>\n      <td>NaN</td>\n      <td>NaN</td>\n      <td>NaN</td>\n      <td>NaN</td>\n      <td>NaN</td>\n      <td>NaN</td>\n      <td>NaN</td>\n      <td>NaN</td>\n    </tr>\n    <tr>\n      <th>273</th>\n      <td>87761A</td>\n      <td>2019-03-06</td>\n      <td>INFINITI C80-S</td>\n      <td>8466</td>\n      <td>ST JOSEPH TRINITY</td>\n      <td>2</td>\n      <td>24.0</td>\n      <td>2.0</td>\n      <td>4.0</td>\n      <td>8.0</td>\n      <td>0.0</td>\n      <td>8.0</td>\n      <td>8.0</td>\n      <td>396.0</td>\n      <td>48.0</td>\n      <td>0.0</td>\n      <td>12.0</td>\n      <td>24.0</td>\n      <td>0.0</td>\n      <td>0.0</td>\n      <td>0.0</td>\n      <td>12.0</td>\n      <td>2.0</td>\n      <td>0.0</td>\n      <td>NaN</td>\n      <td>7.0</td>\n      <td>NaN</td>\n      <td>0.0</td>\n      <td>12.0</td>\n      <td>0.0</td>\n      <td>0.0</td>\n      <td>NaN</td>\n      <td>0.0</td>\n      <td>12.0</td>\n      <td>0.0</td>\n      <td>0.0</td>\n      <td>0.0</td>\n      <td>0.0</td>\n      <td>0.0</td>\n      <td>12.0</td>\n      <td>0.0</td>\n      <td>0.0</td>\n      <td>0.0</td>\n      <td>0.0</td>\n      <td>0.0</td>\n      <td>0.0</td>\n      <td>0.0</td>\n      <td>0.0</td>\n      <td>0.0</td>\n      <td>10.0</td>\n      <td>4.0</td>\n      <td>12.0</td>\n      <td>2.0</td>\n      <td>0.0</td>\n      <td>12.0</td>\n      <td>NaN</td>\n      <td>NaN</td>\n      <td>NaN</td>\n      <td>NaN</td>\n      <td>NaN</td>\n      <td>NaN</td>\n      <td>NaN</td>\n      <td>NaN</td>\n      <td>NaN</td>\n      <td>NaN</td>\n      <td>NaN</td>\n      <td>NaN</td>\n      <td>NaN</td>\n      <td>NaN</td>\n      <td>NaN</td>\n      <td>NaN</td>\n      <td>NaN</td>\n      <td>NaN</td>\n      <td>NaN</td>\n      <td>NaN</td>\n      <td>NaN</td>\n      <td>NaN</td>\n      <td>NaN</td>\n      <td>NaN</td>\n      <td>NaN</td>\n      <td>NaN</td>\n    </tr>\n  </tbody>\n</table>\n</div>"
     },
     "metadata": {},
     "execution_count": 17
    }
   ],
   "source": [
    "df_main[df_main.SALE_ORDER == '87761A']"
   ]
  },
  {
   "cell_type": "code",
   "execution_count": 18,
   "metadata": {},
   "outputs": [
    {
     "output_type": "execute_result",
     "data": {
      "text/plain": [
       "610304  INFINITI160610305  INFINITI160610306  \\\n",
       "60                 4.0                0.0                4.0   \n",
       "73                 0.0                0.0               92.0   \n",
       "81                 0.0                0.0               16.0   \n",
       "89                 8.0                0.0                8.0   \n",
       "92                 0.0                0.0               76.0   \n",
       "94                 8.0                0.0                8.0   \n",
       "146                0.0                0.0                2.0   \n",
       "172                0.0                0.0                2.0   \n",
       "178                4.0                0.0                4.0   \n",
       "189                8.0                0.0                8.0   \n",
       "218                0.0                0.0               76.0   \n",
       "273                8.0                0.0                8.0   \n",
       "\n",
       "     INFINITI160610307  INFINITI160610308  INFINITI160610309  \\\n",
       "60                 4.0              145.0               16.0   \n",
       "73                92.0             1288.0              138.0   \n",
       "81                16.0              224.0               24.0   \n",
       "89                 8.0              356.0               40.0   \n",
       "92                76.0             1064.0              114.0   \n",
       "94                 8.0              396.0               48.0   \n",
       "146                2.0              117.0               13.0   \n",
       "172                2.0              117.0               13.0   \n",
       "178                4.0              145.0               16.0   \n",
       "189                8.0              356.0               40.0   \n",
       "218               76.0             1064.0              114.0   \n",
       "273                8.0              396.0               48.0   \n",
       "\n",
       "     INFINITI160610310  INFINITI160610312  INFINITI160610316  \\\n",
       "60                 0.0                5.0               10.0   \n",
       "73                46.0               46.0               92.0   \n",
       "81                 8.0                8.0               16.0   \n",
       "89                 0.0               12.0               24.0   \n",
       "92                38.0               38.0               76.0   \n",
       "94                 0.0               12.0               24.0   \n",
       "146                0.0                4.0                8.0   \n",
       "172                0.0                4.0                8.0   \n",
       "178                0.0                5.0               10.0   \n",
       "189                0.0               12.0               24.0   \n",
       "218               38.0               38.0               76.0   \n",
       "273                0.0               12.0               24.0   \n",
       "\n",
       "     INFINITI160610318  INFINITI160610323  INFINITI160610325  \\\n",
       "60                 4.0                4.0                0.0   \n",
       "73                46.0               46.0                0.0   \n",
       "81                 8.0                8.0                0.0   \n",
       "89                 8.0                8.0                0.0   \n",
       "92                38.0               38.0                0.0   \n",
       "94                 0.0                0.0                0.0   \n",
       "146                3.0                3.0                0.0   \n",
       "172                3.0                3.0                0.0   \n",
       "178                4.0                4.0                0.0   \n",
       "189                8.0                8.0                0.0   \n",
       "218               38.0               38.0                0.0   \n",
       "273                0.0                0.0                0.0   \n",
       "\n",
       "     INFINITI160610327  INFINITI160610364  INFINITI160610365  \\\n",
       "60                 5.0                1.0                0.0   \n",
       "73                46.0                NaN                NaN   \n",
       "81                 8.0                NaN                NaN   \n",
       "89                12.0                2.0                0.0   \n",
       "92                38.0                NaN                NaN   \n",
       "94                12.0                4.0                0.0   \n",
       "146                4.0                2.0                0.0   \n",
       "172                4.0                1.0                0.0   \n",
       "178                5.0                2.0                0.0   \n",
       "189               12.0                4.0                0.0   \n",
       "218               38.0                NaN                NaN   \n",
       "273               12.0                2.0                0.0   \n",
       "\n",
       "     INFINITI160610367  INFINITI160610374  INFINITI160610377  \\\n",
       "60                 NaN                3.0                NaN   \n",
       "73                 NaN                NaN                NaN   \n",
       "81                 NaN                NaN                NaN   \n",
       "89                 NaN                7.0                NaN   \n",
       "92                 NaN                NaN                NaN   \n",
       "94                 NaN               14.0                NaN   \n",
       "146                NaN                5.0                NaN   \n",
       "172                NaN                2.5                NaN   \n",
       "178                NaN                6.0                NaN   \n",
       "189                NaN               14.0                NaN   \n",
       "218                NaN                NaN                NaN   \n",
       "273                NaN                7.0                NaN   \n",
       "\n",
       "     INFINITI160610385  INFINITI160610386  INFINITI160610387  \\\n",
       "60                 0.0                1.0                0.0   \n",
       "73                 0.0                0.0                0.0   \n",
       "81                 0.0                0.0                0.0   \n",
       "89                 0.0                4.0                0.0   \n",
       "92                 0.0                0.0                0.0   \n",
       "94                 0.0               12.0                0.0   \n",
       "146                0.0                1.0                0.0   \n",
       "172                0.0                1.0                0.0   \n",
       "178                0.0                1.0                0.0   \n",
       "189                0.0                4.0                0.0   \n",
       "218                0.0                0.0                0.0   \n",
       "273                0.0               12.0                0.0   \n",
       "\n",
       "     INFINITI160610390  INFINITI160610391  INFINITI160610397  \\\n",
       "60                 0.0                NaN                0.0   \n",
       "73                 0.0                NaN                0.0   \n",
       "81                 0.0                NaN                0.0   \n",
       "89                 0.0                NaN                0.0   \n",
       "92                 0.0                NaN                0.0   \n",
       "94                 0.0                NaN                0.0   \n",
       "146                0.0                NaN                0.0   \n",
       "172                0.0                NaN                0.0   \n",
       "178                0.0                NaN                0.0   \n",
       "189                0.0                NaN                0.0   \n",
       "218                0.0                NaN                0.0   \n",
       "273                0.0                NaN                0.0   \n",
       "\n",
       "     INFINITI160610398  INFINITI160610399  INFINITI160610400  \\\n",
       "60                 1.0                0.0                0.0   \n",
       "73                 0.0                0.0                0.0   \n",
       "81                 0.0                0.0                0.0   \n",
       "89                 4.0                0.0                0.0   \n",
       "92                 0.0                0.0                0.0   \n",
       "94                12.0                0.0                0.0   \n",
       "146                1.0                0.0                0.0   \n",
       "172                1.0                0.0                0.0   \n",
       "178                1.0                0.0                0.0   \n",
       "189                4.0                0.0                0.0   \n",
       "218                0.0                0.0                0.0   \n",
       "273               12.0                0.0                0.0   \n",
       "\n",
       "     INFINITI160610401  INFINITI160610402  INFINITI160610403  \\\n",
       "60                 0.0                0.0                4.0   \n",
       "73                 0.0                0.0               46.0   \n",
       "81                 0.0                0.0                8.0   \n",
       "89                 0.0                0.0                8.0   \n",
       "92                 0.0                0.0               38.0   \n",
       "94                 0.0                0.0                0.0   \n",
       "146                0.0                0.0                3.0   \n",
       "172                0.0                0.0                3.0   \n",
       "178                0.0                0.0                4.0   \n",
       "189                0.0                0.0                8.0   \n",
       "218                0.0                0.0               38.0   \n",
       "273                0.0                0.0                0.0   \n",
       "\n",
       "     INFINITI160610404  INFINITI160610405  INFINITI160610406  \\\n",
       "60                 1.0                0.0                0.0   \n",
       "73                 0.0                0.0                0.0   \n",
       "81                 0.0                0.0                0.0   \n",
       "89                 4.0                0.0                0.0   \n",
       "92                 0.0                0.0                0.0   \n",
       "94                12.0                0.0                0.0   \n",
       "146                1.0                0.0                0.0   \n",
       "172                1.0                0.0                0.0   \n",
       "178                1.0                0.0                0.0   \n",
       "189                4.0                0.0                0.0   \n",
       "218                0.0                0.0                0.0   \n",
       "273               12.0                0.0                0.0   \n",
       "\n",
       "     INFINITI160610407  INFINITI160610408  INFINITI160610414  \\\n",
       "60                 0.0                0.0                0.0   \n",
       "73                 0.0                0.0                0.0   \n",
       "81                 0.0                0.0                0.0   \n",
       "89                 0.0                0.0                0.0   \n",
       "92                 0.0                0.0                0.0   \n",
       "94                 0.0                0.0                0.0   \n",
       "146                0.0                0.0                0.0   \n",
       "172                0.0                0.0                0.0   \n",
       "178                0.0                0.0                0.0   \n",
       "189                0.0                0.0                0.0   \n",
       "218                0.0                0.0                0.0   \n",
       "273                0.0                0.0                0.0   \n",
       "\n",
       "     INFINITI160610415  INFINITI160610417  INFINITI160610418  \\\n",
       "60                 0.0                0.0                0.0   \n",
       "73                 0.0                0.0                0.0   \n",
       "81                 0.0                0.0                0.0   \n",
       "89                 0.0                0.0                0.0   \n",
       "92                 0.0                0.0                0.0   \n",
       "94                 0.0                0.0                0.0   \n",
       "146                0.0                0.0                0.0   \n",
       "172                0.0                0.0                0.0   \n",
       "178                0.0                0.0                0.0   \n",
       "189                0.0                0.0                0.0   \n",
       "218                0.0                0.0                0.0   \n",
       "273                0.0                0.0                0.0   \n",
       "\n",
       "     INFINITI160610321  INFINITI160610360  INFINITI160610380  \\\n",
       "60                 4.0                5.0                2.0   \n",
       "73                46.0                NaN               92.0   \n",
       "81                 8.0                NaN               16.0   \n",
       "89                 8.0               10.0                4.0   \n",
       "92                38.0                NaN               76.0   \n",
       "94                 0.0                NaN                4.0   \n",
       "146                3.0                NaN                2.0   \n",
       "172                3.0                2.5                2.0   \n",
       "178                4.0                NaN                2.0   \n",
       "189                8.0                NaN                4.0   \n",
       "218               38.0                NaN               76.0   \n",
       "273                0.0               10.0                4.0   \n",
       "\n",
       "     INFINITI160610383  INFINITI160610384  INFINITI160610388  \\\n",
       "60                 5.0                1.0                0.0   \n",
       "73                 NaN                NaN                0.0   \n",
       "81                 NaN                NaN                0.0   \n",
       "89                12.0                2.0                0.0   \n",
       "92                 NaN                NaN                0.0   \n",
       "94                12.0                2.0                0.0   \n",
       "146                4.0                1.0                0.0   \n",
       "172                4.0                1.0                0.0   \n",
       "178                5.0                1.0                0.0   \n",
       "189               12.0                2.0                0.0   \n",
       "218                NaN                NaN                0.0   \n",
       "273               12.0                2.0                0.0   \n",
       "\n",
       "     INFINITI160610389  INFINITI160610341  INFINITI160610344  \\\n",
       "60                 1.0                NaN                NaN   \n",
       "73                 0.0               30.5                0.0   \n",
       "81                 0.0               10.0                0.0   \n",
       "89                 4.0                NaN                NaN   \n",
       "92                 0.0               25.5                0.0   \n",
       "94                12.0                NaN                NaN   \n",
       "146                1.0                NaN                NaN   \n",
       "172                1.0                NaN                NaN   \n",
       "178                1.0                NaN                NaN   \n",
       "189                4.0                NaN                NaN   \n",
       "218                0.0               51.0                0.0   \n",
       "273               12.0                NaN                NaN   \n",
       "\n",
       "     INFINITI160610345  INFINITI160610346  INFINITI160610361  \\\n",
       "60                 NaN                NaN                NaN   \n",
       "73                46.0               92.0                NaN   \n",
       "81                16.0               16.0                NaN   \n",
       "89                 NaN                NaN                NaN   \n",
       "92                38.0               76.0                NaN   \n",
       "94                 NaN                NaN                NaN   \n",
       "146                NaN                NaN                NaN   \n",
       "172                NaN                NaN                NaN   \n",
       "178                NaN                NaN                NaN   \n",
       "189                NaN                NaN                NaN   \n",
       "218               76.0               76.0                NaN   \n",
       "273                NaN                NaN                NaN   \n",
       "\n",
       "     INFINITI160610374P  INFINITI160610375  INFINITI160610376  \\\n",
       "60                  NaN                NaN                NaN   \n",
       "73                  NaN                NaN                NaN   \n",
       "81                  NaN                NaN                NaN   \n",
       "89                  NaN                NaN                NaN   \n",
       "92                  NaN                NaN                NaN   \n",
       "94                  NaN                NaN                NaN   \n",
       "146                 NaN                NaN                NaN   \n",
       "172                 NaN                NaN                NaN   \n",
       "178                 NaN                NaN                NaN   \n",
       "189                 NaN                NaN                NaN   \n",
       "218                 NaN                NaN                NaN   \n",
       "273                 NaN                NaN                NaN   \n",
       "\n",
       "     INFINITI160610378  INFINITI160610379  INFINITI160610381  \\\n",
       "60                 NaN                NaN                NaN   \n",
       "73                 NaN                NaN                NaN   \n",
       "81                 NaN                NaN                NaN   \n",
       "89                 NaN                NaN                NaN   \n",
       "92                 NaN                NaN                NaN   \n",
       "94                 NaN                NaN                NaN   \n",
       "146                NaN                NaN                NaN   \n",
       "172                NaN                NaN                NaN   \n",
       "178                NaN                NaN                NaN   \n",
       "189                NaN                NaN                NaN   \n",
       "218                NaN                NaN                NaN   \n",
       "273                NaN                NaN                NaN   \n",
       "\n",
       "     INFINITI160610382  INFINITI160610392  INFINITI160610393  \\\n",
       "60                 NaN                NaN                NaN   \n",
       "73                 NaN                NaN                NaN   \n",
       "81                 NaN                NaN                NaN   \n",
       "89                 NaN                NaN                NaN   \n",
       "92                 NaN                NaN                NaN   \n",
       "94                 NaN                NaN                NaN   \n",
       "146                NaN                NaN                NaN   \n",
       "172                NaN                NaN                NaN   \n",
       "178                NaN                NaN                NaN   \n",
       "189                NaN                NaN                NaN   \n",
       "218                NaN                NaN                NaN   \n",
       "273                NaN                NaN                NaN   \n",
       "\n",
       "     INFINITI160610394  INFINITI160610395  INFINITI160610396  \\\n",
       "60                 NaN                NaN                NaN   \n",
       "73                 NaN                NaN                NaN   \n",
       "81                 NaN                NaN                NaN   \n",
       "89                 NaN                NaN                NaN   \n",
       "92                 NaN                NaN                NaN   \n",
       "94                 NaN                NaN                NaN   \n",
       "146                NaN                NaN                NaN   \n",
       "172                NaN                NaN                NaN   \n",
       "178                NaN                NaN                NaN   \n",
       "189                NaN                NaN                NaN   \n",
       "218                NaN                NaN                NaN   \n",
       "273                NaN                NaN                NaN   \n",
       "\n",
       "     INFINITI160610370  INFINITI160610371  INFINITI160610372  \\\n",
       "60                 NaN                NaN                NaN   \n",
       "73                 NaN                NaN                NaN   \n",
       "81                 NaN                NaN                NaN   \n",
       "89                 NaN                NaN                NaN   \n",
       "92                 NaN                NaN                NaN   \n",
       "94                 NaN                NaN                NaN   \n",
       "146                NaN                NaN                NaN   \n",
       "172                NaN                NaN                NaN   \n",
       "178                NaN                NaN                NaN   \n",
       "189                NaN                NaN                NaN   \n",
       "218                NaN                NaN                NaN   \n",
       "273                NaN                NaN                NaN   \n",
       "\n",
       "     INFINITI160610409  INFINITI160610410  INFINITI160610411  \\\n",
       "60                 NaN                NaN                NaN   \n",
       "73                 NaN                NaN                NaN   \n",
       "81                 NaN                NaN                NaN   \n",
       "89                 NaN                NaN                NaN   \n",
       "92                 NaN                NaN                NaN   \n",
       "94                 NaN                NaN                NaN   \n",
       "146                NaN                NaN                NaN   \n",
       "172                NaN                NaN                NaN   \n",
       "178                NaN                NaN                NaN   \n",
       "189                NaN                NaN                NaN   \n",
       "218                NaN                NaN                NaN   \n",
       "273                NaN                NaN                NaN   \n",
       "\n",
       "     INFINITI160610412  INFINITI160610413  INFINITI160610344.0  \n",
       "60                 NaN                NaN                  NaN  \n",
       "73                 NaN                NaN                  NaN  \n",
       "81                 NaN                NaN                  NaN  \n",
       "89                 NaN                NaN                  NaN  \n",
       "92                 NaN                NaN                  NaN  \n",
       "94                 NaN                NaN                  NaN  \n",
       "146                NaN                NaN                  NaN  \n",
       "172                NaN                NaN                  NaN  \n",
       "178                NaN                NaN                  NaN  \n",
       "189                NaN                NaN                  NaN  \n",
       "218                NaN                NaN                  NaN  \n",
       "273                NaN                NaN                  NaN  "
      ],
      "text/html": "<div>\n<style scoped>\n    .dataframe tbody tr th:only-of-type {\n        vertical-align: middle;\n    }\n\n    .dataframe tbody tr th {\n        vertical-align: top;\n    }\n\n    .dataframe thead th {\n        text-align: right;\n    }\n</style>\n<table border=\"1\" class=\"dataframe\">\n  <thead>\n    <tr style=\"text-align: right;\">\n      <th></th>\n      <th>SALE_ORDER</th>\n      <th>ORDER_DATE</th>\n      <th>PDT_MODEL</th>\n      <th>TOTAL_LENGTH</th>\n      <th>CUSTOMER</th>\n      <th>TOTAL_QTY</th>\n      <th>INFINITI160610301</th>\n      <th>INFINITI160610302</th>\n      <th>INFINITI160610303</th>\n      <th>INFINITI160610304</th>\n      <th>INFINITI160610305</th>\n      <th>INFINITI160610306</th>\n      <th>INFINITI160610307</th>\n      <th>INFINITI160610308</th>\n      <th>INFINITI160610309</th>\n      <th>INFINITI160610310</th>\n      <th>INFINITI160610312</th>\n      <th>INFINITI160610316</th>\n      <th>INFINITI160610318</th>\n      <th>INFINITI160610323</th>\n      <th>INFINITI160610325</th>\n      <th>INFINITI160610327</th>\n      <th>INFINITI160610364</th>\n      <th>INFINITI160610365</th>\n      <th>INFINITI160610367</th>\n      <th>INFINITI160610374</th>\n      <th>INFINITI160610377</th>\n      <th>INFINITI160610385</th>\n      <th>INFINITI160610386</th>\n      <th>INFINITI160610387</th>\n      <th>INFINITI160610390</th>\n      <th>INFINITI160610391</th>\n      <th>INFINITI160610397</th>\n      <th>INFINITI160610398</th>\n      <th>INFINITI160610399</th>\n      <th>INFINITI160610400</th>\n      <th>INFINITI160610401</th>\n      <th>INFINITI160610402</th>\n      <th>INFINITI160610403</th>\n      <th>INFINITI160610404</th>\n      <th>INFINITI160610405</th>\n      <th>INFINITI160610406</th>\n      <th>INFINITI160610407</th>\n      <th>INFINITI160610408</th>\n      <th>INFINITI160610414</th>\n      <th>INFINITI160610415</th>\n      <th>INFINITI160610417</th>\n      <th>INFINITI160610418</th>\n      <th>INFINITI160610321</th>\n      <th>INFINITI160610360</th>\n      <th>INFINITI160610380</th>\n      <th>INFINITI160610383</th>\n      <th>INFINITI160610384</th>\n      <th>INFINITI160610388</th>\n      <th>INFINITI160610389</th>\n      <th>INFINITI160610341</th>\n      <th>INFINITI160610344</th>\n      <th>INFINITI160610345</th>\n      <th>INFINITI160610346</th>\n      <th>INFINITI160610361</th>\n      <th>INFINITI160610374P</th>\n      <th>INFINITI160610375</th>\n      <th>INFINITI160610376</th>\n      <th>INFINITI160610378</th>\n      <th>INFINITI160610379</th>\n      <th>INFINITI160610381</th>\n      <th>INFINITI160610382</th>\n      <th>INFINITI160610392</th>\n      <th>INFINITI160610393</th>\n      <th>INFINITI160610394</th>\n      <th>INFINITI160610395</th>\n      <th>INFINITI160610396</th>\n      <th>INFINITI160610370</th>\n      <th>INFINITI160610371</th>\n      <th>INFINITI160610372</th>\n      <th>INFINITI160610409</th>\n      <th>INFINITI160610410</th>\n      <th>INFINITI160610411</th>\n      <th>INFINITI160610412</th>\n      <th>INFINITI160610413</th>\n      <th>INFINITI160610344.0</th>\n    </tr>\n  </thead>\n  <tbody>\n    <tr>\n      <th>60</th>\n      <td>87761A</td>\n      <td>2019-03-06</td>\n      <td>INFINITI C80-S</td>\n      <td>5928</td>\n      <td>ST JOSEPH TRINITY</td>\n      <td>1</td>\n      <td>10.0</td>\n      <td>1.0</td>\n      <td>2.0</td>\n      <td>4.0</td>\n      <td>0.0</td>\n      <td>4.0</td>\n      <td>4.0</td>\n      <td>145.0</td>\n      <td>16.0</td>\n      <td>0.0</td>\n      <td>5.0</td>\n      <td>10.0</td>\n      <td>4.0</td>\n      <td>4.0</td>\n      <td>0.0</td>\n      <td>5.0</td>\n      <td>1.0</td>\n      <td>0.0</td>\n      <td>NaN</td>\n      <td>3.0</td>\n      <td>NaN</td>\n      <td>0.0</td>\n      <td>1.0</td>\n      <td>0.0</td>\n      <td>0.0</td>\n      <td>NaN</td>\n      <td>0.0</td>\n      <td>1.0</td>\n      <td>0.0</td>\n      <td>0.0</td>\n      <td>0.0</td>\n      <td>0.0</td>\n      <td>4.0</td>\n      <td>1.0</td>\n      <td>0.0</td>\n      <td>0.0</td>\n      <td>0.0</td>\n      <td>0.0</td>\n      <td>0.0</td>\n      <td>0.0</td>\n      <td>0.0</td>\n      <td>0.0</td>\n      <td>4.0</td>\n      <td>5.0</td>\n      <td>2.0</td>\n      <td>5.0</td>\n      <td>1.0</td>\n      <td>0.0</td>\n      <td>1.0</td>\n      <td>NaN</td>\n      <td>NaN</td>\n      <td>NaN</td>\n      <td>NaN</td>\n      <td>NaN</td>\n      <td>NaN</td>\n      <td>NaN</td>\n      <td>NaN</td>\n      <td>NaN</td>\n      <td>NaN</td>\n      <td>NaN</td>\n      <td>NaN</td>\n      <td>NaN</td>\n      <td>NaN</td>\n      <td>NaN</td>\n      <td>NaN</td>\n      <td>NaN</td>\n      <td>NaN</td>\n      <td>NaN</td>\n      <td>NaN</td>\n      <td>NaN</td>\n      <td>NaN</td>\n      <td>NaN</td>\n      <td>NaN</td>\n      <td>NaN</td>\n      <td>NaN</td>\n    </tr>\n    <tr>\n      <th>73</th>\n      <td>87761A</td>\n      <td>2019-03-06</td>\n      <td>INFINITI C80-R</td>\n      <td>1150</td>\n      <td>ST JOSEPH TRINITY</td>\n      <td>46</td>\n      <td>92.0</td>\n      <td>0.0</td>\n      <td>0.0</td>\n      <td>0.0</td>\n      <td>0.0</td>\n      <td>92.0</td>\n      <td>92.0</td>\n      <td>1288.0</td>\n      <td>138.0</td>\n      <td>46.0</td>\n      <td>46.0</td>\n      <td>92.0</td>\n      <td>46.0</td>\n      <td>46.0</td>\n      <td>0.0</td>\n      <td>46.0</td>\n      <td>NaN</td>\n      <td>NaN</td>\n      <td>NaN</td>\n      <td>NaN</td>\n      <td>NaN</td>\n      <td>0.0</td>\n      <td>0.0</td>\n      <td>0.0</td>\n      <td>0.0</td>\n      <td>NaN</td>\n      <td>0.0</td>\n      <td>0.0</td>\n      <td>0.0</td>\n      <td>0.0</td>\n      <td>0.0</td>\n      <td>0.0</td>\n      <td>46.0</td>\n      <td>0.0</td>\n      <td>0.0</td>\n      <td>0.0</td>\n      <td>0.0</td>\n      <td>0.0</td>\n      <td>0.0</td>\n      <td>0.0</td>\n      <td>0.0</td>\n      <td>0.0</td>\n      <td>46.0</td>\n      <td>NaN</td>\n      <td>92.0</td>\n      <td>NaN</td>\n      <td>NaN</td>\n      <td>0.0</td>\n      <td>0.0</td>\n      <td>30.5</td>\n      <td>0.0</td>\n      <td>46.0</td>\n      <td>92.0</td>\n      <td>NaN</td>\n      <td>NaN</td>\n      <td>NaN</td>\n      <td>NaN</td>\n      <td>NaN</td>\n      <td>NaN</td>\n      <td>NaN</td>\n      <td>NaN</td>\n      <td>NaN</td>\n      <td>NaN</td>\n      <td>NaN</td>\n      <td>NaN</td>\n      <td>NaN</td>\n      <td>NaN</td>\n      <td>NaN</td>\n      <td>NaN</td>\n      <td>NaN</td>\n      <td>NaN</td>\n      <td>NaN</td>\n      <td>NaN</td>\n      <td>NaN</td>\n      <td>NaN</td>\n    </tr>\n    <tr>\n      <th>81</th>\n      <td>87761A</td>\n      <td>2019-06-06</td>\n      <td>INFINITI C80-R</td>\n      <td>1150</td>\n      <td>ST JOSEPH TRINITY</td>\n      <td>8</td>\n      <td>16.0</td>\n      <td>0.0</td>\n      <td>0.0</td>\n      <td>0.0</td>\n      <td>0.0</td>\n      <td>16.0</td>\n      <td>16.0</td>\n      <td>224.0</td>\n      <td>24.0</td>\n      <td>8.0</td>\n      <td>8.0</td>\n      <td>16.0</td>\n      <td>8.0</td>\n      <td>8.0</td>\n      <td>0.0</td>\n      <td>8.0</td>\n      <td>NaN</td>\n      <td>NaN</td>\n      <td>NaN</td>\n      <td>NaN</td>\n      <td>NaN</td>\n      <td>0.0</td>\n      <td>0.0</td>\n      <td>0.0</td>\n      <td>0.0</td>\n      <td>NaN</td>\n      <td>0.0</td>\n      <td>0.0</td>\n      <td>0.0</td>\n      <td>0.0</td>\n      <td>0.0</td>\n      <td>0.0</td>\n      <td>8.0</td>\n      <td>0.0</td>\n      <td>0.0</td>\n      <td>0.0</td>\n      <td>0.0</td>\n      <td>0.0</td>\n      <td>0.0</td>\n      <td>0.0</td>\n      <td>0.0</td>\n      <td>0.0</td>\n      <td>8.0</td>\n      <td>NaN</td>\n      <td>16.0</td>\n      <td>NaN</td>\n      <td>NaN</td>\n      <td>0.0</td>\n      <td>0.0</td>\n      <td>10.0</td>\n      <td>0.0</td>\n      <td>16.0</td>\n      <td>16.0</td>\n      <td>NaN</td>\n      <td>NaN</td>\n      <td>NaN</td>\n      <td>NaN</td>\n      <td>NaN</td>\n      <td>NaN</td>\n      <td>NaN</td>\n      <td>NaN</td>\n      <td>NaN</td>\n      <td>NaN</td>\n      <td>NaN</td>\n      <td>NaN</td>\n      <td>NaN</td>\n      <td>NaN</td>\n      <td>NaN</td>\n      <td>NaN</td>\n      <td>NaN</td>\n      <td>NaN</td>\n      <td>NaN</td>\n      <td>NaN</td>\n      <td>NaN</td>\n      <td>NaN</td>\n    </tr>\n    <tr>\n      <th>89</th>\n      <td>87761A</td>\n      <td>2019-03-06</td>\n      <td>INFINITI C80-S</td>\n      <td>7338</td>\n      <td>ST JOSEPH TRINITY</td>\n      <td>2</td>\n      <td>24.0</td>\n      <td>2.0</td>\n      <td>4.0</td>\n      <td>8.0</td>\n      <td>0.0</td>\n      <td>8.0</td>\n      <td>8.0</td>\n      <td>356.0</td>\n      <td>40.0</td>\n      <td>0.0</td>\n      <td>12.0</td>\n      <td>24.0</td>\n      <td>8.0</td>\n      <td>8.0</td>\n      <td>0.0</td>\n      <td>12.0</td>\n      <td>2.0</td>\n      <td>0.0</td>\n      <td>NaN</td>\n      <td>7.0</td>\n      <td>NaN</td>\n      <td>0.0</td>\n      <td>4.0</td>\n      <td>0.0</td>\n      <td>0.0</td>\n      <td>NaN</td>\n      <td>0.0</td>\n      <td>4.0</td>\n      <td>0.0</td>\n      <td>0.0</td>\n      <td>0.0</td>\n      <td>0.0</td>\n      <td>8.0</td>\n      <td>4.0</td>\n      <td>0.0</td>\n      <td>0.0</td>\n      <td>0.0</td>\n      <td>0.0</td>\n      <td>0.0</td>\n      <td>0.0</td>\n      <td>0.0</td>\n      <td>0.0</td>\n      <td>8.0</td>\n      <td>10.0</td>\n      <td>4.0</td>\n      <td>12.0</td>\n      <td>2.0</td>\n      <td>0.0</td>\n      <td>4.0</td>\n      <td>NaN</td>\n      <td>NaN</td>\n      <td>NaN</td>\n      <td>NaN</td>\n      <td>NaN</td>\n      <td>NaN</td>\n      <td>NaN</td>\n      <td>NaN</td>\n      <td>NaN</td>\n      <td>NaN</td>\n      <td>NaN</td>\n      <td>NaN</td>\n      <td>NaN</td>\n      <td>NaN</td>\n      <td>NaN</td>\n      <td>NaN</td>\n      <td>NaN</td>\n      <td>NaN</td>\n      <td>NaN</td>\n      <td>NaN</td>\n      <td>NaN</td>\n      <td>NaN</td>\n      <td>NaN</td>\n      <td>NaN</td>\n      <td>NaN</td>\n      <td>NaN</td>\n    </tr>\n    <tr>\n      <th>92</th>\n      <td>87761A</td>\n      <td>2019-06-06</td>\n      <td>INFINITI C80-R</td>\n      <td>1150</td>\n      <td>ST JOSEPH TRINITY</td>\n      <td>38</td>\n      <td>76.0</td>\n      <td>0.0</td>\n      <td>0.0</td>\n      <td>0.0</td>\n      <td>0.0</td>\n      <td>76.0</td>\n      <td>76.0</td>\n      <td>1064.0</td>\n      <td>114.0</td>\n      <td>38.0</td>\n      <td>38.0</td>\n      <td>76.0</td>\n      <td>38.0</td>\n      <td>38.0</td>\n      <td>0.0</td>\n      <td>38.0</td>\n      <td>NaN</td>\n      <td>NaN</td>\n      <td>NaN</td>\n      <td>NaN</td>\n      <td>NaN</td>\n      <td>0.0</td>\n      <td>0.0</td>\n      <td>0.0</td>\n      <td>0.0</td>\n      <td>NaN</td>\n      <td>0.0</td>\n      <td>0.0</td>\n      <td>0.0</td>\n      <td>0.0</td>\n      <td>0.0</td>\n      <td>0.0</td>\n      <td>38.0</td>\n      <td>0.0</td>\n      <td>0.0</td>\n      <td>0.0</td>\n      <td>0.0</td>\n      <td>0.0</td>\n      <td>0.0</td>\n      <td>0.0</td>\n      <td>0.0</td>\n      <td>0.0</td>\n      <td>38.0</td>\n      <td>NaN</td>\n      <td>76.0</td>\n      <td>NaN</td>\n      <td>NaN</td>\n      <td>0.0</td>\n      <td>0.0</td>\n      <td>25.5</td>\n      <td>0.0</td>\n      <td>38.0</td>\n      <td>76.0</td>\n      <td>NaN</td>\n      <td>NaN</td>\n      <td>NaN</td>\n      <td>NaN</td>\n      <td>NaN</td>\n      <td>NaN</td>\n      <td>NaN</td>\n      <td>NaN</td>\n      <td>NaN</td>\n      <td>NaN</td>\n      <td>NaN</td>\n      <td>NaN</td>\n      <td>NaN</td>\n      <td>NaN</td>\n      <td>NaN</td>\n      <td>NaN</td>\n      <td>NaN</td>\n      <td>NaN</td>\n      <td>NaN</td>\n      <td>NaN</td>\n      <td>NaN</td>\n      <td>NaN</td>\n    </tr>\n    <tr>\n      <th>94</th>\n      <td>87761A</td>\n      <td>2019-03-06</td>\n      <td>INFINITI C80-S</td>\n      <td>8466</td>\n      <td>ST JOSEPH TRINITY</td>\n      <td>2</td>\n      <td>24.0</td>\n      <td>2.0</td>\n      <td>4.0</td>\n      <td>8.0</td>\n      <td>0.0</td>\n      <td>8.0</td>\n      <td>8.0</td>\n      <td>396.0</td>\n      <td>48.0</td>\n      <td>0.0</td>\n      <td>12.0</td>\n      <td>24.0</td>\n      <td>0.0</td>\n      <td>0.0</td>\n      <td>0.0</td>\n      <td>12.0</td>\n      <td>4.0</td>\n      <td>0.0</td>\n      <td>NaN</td>\n      <td>14.0</td>\n      <td>NaN</td>\n      <td>0.0</td>\n      <td>12.0</td>\n      <td>0.0</td>\n      <td>0.0</td>\n      <td>NaN</td>\n      <td>0.0</td>\n      <td>12.0</td>\n      <td>0.0</td>\n      <td>0.0</td>\n      <td>0.0</td>\n      <td>0.0</td>\n      <td>0.0</td>\n      <td>12.0</td>\n      <td>0.0</td>\n      <td>0.0</td>\n      <td>0.0</td>\n      <td>0.0</td>\n      <td>0.0</td>\n      <td>0.0</td>\n      <td>0.0</td>\n      <td>0.0</td>\n      <td>0.0</td>\n      <td>NaN</td>\n      <td>4.0</td>\n      <td>12.0</td>\n      <td>2.0</td>\n      <td>0.0</td>\n      <td>12.0</td>\n      <td>NaN</td>\n      <td>NaN</td>\n      <td>NaN</td>\n      <td>NaN</td>\n      <td>NaN</td>\n      <td>NaN</td>\n      <td>NaN</td>\n      <td>NaN</td>\n      <td>NaN</td>\n      <td>NaN</td>\n      <td>NaN</td>\n      <td>NaN</td>\n      <td>NaN</td>\n      <td>NaN</td>\n      <td>NaN</td>\n      <td>NaN</td>\n      <td>NaN</td>\n      <td>NaN</td>\n      <td>NaN</td>\n      <td>NaN</td>\n      <td>NaN</td>\n      <td>NaN</td>\n      <td>NaN</td>\n      <td>NaN</td>\n      <td>NaN</td>\n      <td>NaN</td>\n    </tr>\n    <tr>\n      <th>146</th>\n      <td>87761A</td>\n      <td>2019-03-06</td>\n      <td>INFINITI C80-S</td>\n      <td>4800</td>\n      <td>ST JOSEPH TRINITY</td>\n      <td>1</td>\n      <td>8.0</td>\n      <td>0.0</td>\n      <td>0.0</td>\n      <td>0.0</td>\n      <td>0.0</td>\n      <td>2.0</td>\n      <td>2.0</td>\n      <td>117.0</td>\n      <td>13.0</td>\n      <td>0.0</td>\n      <td>4.0</td>\n      <td>8.0</td>\n      <td>3.0</td>\n      <td>3.0</td>\n      <td>0.0</td>\n      <td>4.0</td>\n      <td>2.0</td>\n      <td>0.0</td>\n      <td>NaN</td>\n      <td>5.0</td>\n      <td>NaN</td>\n      <td>0.0</td>\n      <td>1.0</td>\n      <td>0.0</td>\n      <td>0.0</td>\n      <td>NaN</td>\n      <td>0.0</td>\n      <td>1.0</td>\n      <td>0.0</td>\n      <td>0.0</td>\n      <td>0.0</td>\n      <td>0.0</td>\n      <td>3.0</td>\n      <td>1.0</td>\n      <td>0.0</td>\n      <td>0.0</td>\n      <td>0.0</td>\n      <td>0.0</td>\n      <td>0.0</td>\n      <td>0.0</td>\n      <td>0.0</td>\n      <td>0.0</td>\n      <td>3.0</td>\n      <td>NaN</td>\n      <td>2.0</td>\n      <td>4.0</td>\n      <td>1.0</td>\n      <td>0.0</td>\n      <td>1.0</td>\n      <td>NaN</td>\n      <td>NaN</td>\n      <td>NaN</td>\n      <td>NaN</td>\n      <td>NaN</td>\n      <td>NaN</td>\n      <td>NaN</td>\n      <td>NaN</td>\n      <td>NaN</td>\n      <td>NaN</td>\n      <td>NaN</td>\n      <td>NaN</td>\n      <td>NaN</td>\n      <td>NaN</td>\n      <td>NaN</td>\n      <td>NaN</td>\n      <td>NaN</td>\n      <td>NaN</td>\n      <td>NaN</td>\n      <td>NaN</td>\n      <td>NaN</td>\n      <td>NaN</td>\n      <td>NaN</td>\n      <td>NaN</td>\n      <td>NaN</td>\n      <td>NaN</td>\n    </tr>\n    <tr>\n      <th>172</th>\n      <td>87761A</td>\n      <td>2019-03-06</td>\n      <td>INFINITI C80-S</td>\n      <td>4800</td>\n      <td>ST JOSEPH TRINITY</td>\n      <td>1</td>\n      <td>8.0</td>\n      <td>0.0</td>\n      <td>0.0</td>\n      <td>0.0</td>\n      <td>0.0</td>\n      <td>2.0</td>\n      <td>2.0</td>\n      <td>117.0</td>\n      <td>13.0</td>\n      <td>0.0</td>\n      <td>4.0</td>\n      <td>8.0</td>\n      <td>3.0</td>\n      <td>3.0</td>\n      <td>0.0</td>\n      <td>4.0</td>\n      <td>1.0</td>\n      <td>0.0</td>\n      <td>NaN</td>\n      <td>2.5</td>\n      <td>NaN</td>\n      <td>0.0</td>\n      <td>1.0</td>\n      <td>0.0</td>\n      <td>0.0</td>\n      <td>NaN</td>\n      <td>0.0</td>\n      <td>1.0</td>\n      <td>0.0</td>\n      <td>0.0</td>\n      <td>0.0</td>\n      <td>0.0</td>\n      <td>3.0</td>\n      <td>1.0</td>\n      <td>0.0</td>\n      <td>0.0</td>\n      <td>0.0</td>\n      <td>0.0</td>\n      <td>0.0</td>\n      <td>0.0</td>\n      <td>0.0</td>\n      <td>0.0</td>\n      <td>3.0</td>\n      <td>2.5</td>\n      <td>2.0</td>\n      <td>4.0</td>\n      <td>1.0</td>\n      <td>0.0</td>\n      <td>1.0</td>\n      <td>NaN</td>\n      <td>NaN</td>\n      <td>NaN</td>\n      <td>NaN</td>\n      <td>NaN</td>\n      <td>NaN</td>\n      <td>NaN</td>\n      <td>NaN</td>\n      <td>NaN</td>\n      <td>NaN</td>\n      <td>NaN</td>\n      <td>NaN</td>\n      <td>NaN</td>\n      <td>NaN</td>\n      <td>NaN</td>\n      <td>NaN</td>\n      <td>NaN</td>\n      <td>NaN</td>\n      <td>NaN</td>\n      <td>NaN</td>\n      <td>NaN</td>\n      <td>NaN</td>\n      <td>NaN</td>\n      <td>NaN</td>\n      <td>NaN</td>\n      <td>NaN</td>\n    </tr>\n    <tr>\n      <th>178</th>\n      <td>87761A</td>\n      <td>2019-03-06</td>\n      <td>INFINITI C80-S</td>\n      <td>5928</td>\n      <td>ST JOSEPH TRINITY</td>\n      <td>1</td>\n      <td>10.0</td>\n      <td>1.0</td>\n      <td>2.0</td>\n      <td>4.0</td>\n      <td>0.0</td>\n      <td>4.0</td>\n      <td>4.0</td>\n      <td>145.0</td>\n      <td>16.0</td>\n      <td>0.0</td>\n      <td>5.0</td>\n      <td>10.0</td>\n      <td>4.0</td>\n      <td>4.0</td>\n      <td>0.0</td>\n      <td>5.0</td>\n      <td>2.0</td>\n      <td>0.0</td>\n      <td>NaN</td>\n      <td>6.0</td>\n      <td>NaN</td>\n      <td>0.0</td>\n      <td>1.0</td>\n      <td>0.0</td>\n      <td>0.0</td>\n      <td>NaN</td>\n      <td>0.0</td>\n      <td>1.0</td>\n      <td>0.0</td>\n      <td>0.0</td>\n      <td>0.0</td>\n      <td>0.0</td>\n      <td>4.0</td>\n      <td>1.0</td>\n      <td>0.0</td>\n      <td>0.0</td>\n      <td>0.0</td>\n      <td>0.0</td>\n      <td>0.0</td>\n      <td>0.0</td>\n      <td>0.0</td>\n      <td>0.0</td>\n      <td>4.0</td>\n      <td>NaN</td>\n      <td>2.0</td>\n      <td>5.0</td>\n      <td>1.0</td>\n      <td>0.0</td>\n      <td>1.0</td>\n      <td>NaN</td>\n      <td>NaN</td>\n      <td>NaN</td>\n      <td>NaN</td>\n      <td>NaN</td>\n      <td>NaN</td>\n      <td>NaN</td>\n      <td>NaN</td>\n      <td>NaN</td>\n      <td>NaN</td>\n      <td>NaN</td>\n      <td>NaN</td>\n      <td>NaN</td>\n      <td>NaN</td>\n      <td>NaN</td>\n      <td>NaN</td>\n      <td>NaN</td>\n      <td>NaN</td>\n      <td>NaN</td>\n      <td>NaN</td>\n      <td>NaN</td>\n      <td>NaN</td>\n      <td>NaN</td>\n      <td>NaN</td>\n      <td>NaN</td>\n      <td>NaN</td>\n    </tr>\n    <tr>\n      <th>189</th>\n      <td>87761A</td>\n      <td>2019-03-06</td>\n      <td>INFINITI C80-S</td>\n      <td>7338</td>\n      <td>ST JOSEPH TRINITY</td>\n      <td>2</td>\n      <td>24.0</td>\n      <td>2.0</td>\n      <td>4.0</td>\n      <td>8.0</td>\n      <td>0.0</td>\n      <td>8.0</td>\n      <td>8.0</td>\n      <td>356.0</td>\n      <td>40.0</td>\n      <td>0.0</td>\n      <td>12.0</td>\n      <td>24.0</td>\n      <td>8.0</td>\n      <td>8.0</td>\n      <td>0.0</td>\n      <td>12.0</td>\n      <td>4.0</td>\n      <td>0.0</td>\n      <td>NaN</td>\n      <td>14.0</td>\n      <td>NaN</td>\n      <td>0.0</td>\n      <td>4.0</td>\n      <td>0.0</td>\n      <td>0.0</td>\n      <td>NaN</td>\n      <td>0.0</td>\n      <td>4.0</td>\n      <td>0.0</td>\n      <td>0.0</td>\n      <td>0.0</td>\n      <td>0.0</td>\n      <td>8.0</td>\n      <td>4.0</td>\n      <td>0.0</td>\n      <td>0.0</td>\n      <td>0.0</td>\n      <td>0.0</td>\n      <td>0.0</td>\n      <td>0.0</td>\n      <td>0.0</td>\n      <td>0.0</td>\n      <td>8.0</td>\n      <td>NaN</td>\n      <td>4.0</td>\n      <td>12.0</td>\n      <td>2.0</td>\n      <td>0.0</td>\n      <td>4.0</td>\n      <td>NaN</td>\n      <td>NaN</td>\n      <td>NaN</td>\n      <td>NaN</td>\n      <td>NaN</td>\n      <td>NaN</td>\n      <td>NaN</td>\n      <td>NaN</td>\n      <td>NaN</td>\n      <td>NaN</td>\n      <td>NaN</td>\n      <td>NaN</td>\n      <td>NaN</td>\n      <td>NaN</td>\n      <td>NaN</td>\n      <td>NaN</td>\n      <td>NaN</td>\n      <td>NaN</td>\n      <td>NaN</td>\n      <td>NaN</td>\n      <td>NaN</td>\n      <td>NaN</td>\n      <td>NaN</td>\n      <td>NaN</td>\n      <td>NaN</td>\n      <td>NaN</td>\n    </tr>\n    <tr>\n      <th>218</th>\n      <td>87761A</td>\n      <td>2019-06-06</td>\n      <td>INFINITI C80-R</td>\n      <td>1150</td>\n      <td>ST JOSEPH TRINITY</td>\n      <td>38</td>\n      <td>76.0</td>\n      <td>0.0</td>\n      <td>0.0</td>\n      <td>0.0</td>\n      <td>0.0</td>\n      <td>76.0</td>\n      <td>76.0</td>\n      <td>1064.0</td>\n      <td>114.0</td>\n      <td>38.0</td>\n      <td>38.0</td>\n      <td>76.0</td>\n      <td>38.0</td>\n      <td>38.0</td>\n      <td>0.0</td>\n      <td>38.0</td>\n      <td>NaN</td>\n      <td>NaN</td>\n      <td>NaN</td>\n      <td>NaN</td>\n      <td>NaN</td>\n      <td>0.0</td>\n      <td>0.0</td>\n      <td>0.0</td>\n      <td>0.0</td>\n      <td>NaN</td>\n      <td>0.0</td>\n      <td>0.0</td>\n      <td>0.0</td>\n      <td>0.0</td>\n      <td>0.0</td>\n      <td>0.0</td>\n      <td>38.0</td>\n      <td>0.0</td>\n      <td>0.0</td>\n      <td>0.0</td>\n      <td>0.0</td>\n      <td>0.0</td>\n      <td>0.0</td>\n      <td>0.0</td>\n      <td>0.0</td>\n      <td>0.0</td>\n      <td>38.0</td>\n      <td>NaN</td>\n      <td>76.0</td>\n      <td>NaN</td>\n      <td>NaN</td>\n      <td>0.0</td>\n      <td>0.0</td>\n      <td>51.0</td>\n      <td>0.0</td>\n      <td>76.0</td>\n      <td>76.0</td>\n      <td>NaN</td>\n      <td>NaN</td>\n      <td>NaN</td>\n      <td>NaN</td>\n      <td>NaN</td>\n      <td>NaN</td>\n      <td>NaN</td>\n      <td>NaN</td>\n      <td>NaN</td>\n      <td>NaN</td>\n      <td>NaN</td>\n      <td>NaN</td>\n      <td>NaN</td>\n      <td>NaN</td>\n      <td>NaN</td>\n      <td>NaN</td>\n      <td>NaN</td>\n      <td>NaN</td>\n      <td>NaN</td>\n      <td>NaN</td>\n      <td>NaN</td>\n      <td>NaN</td>\n    </tr>\n    <tr>\n      <th>273</th>\n      <td>87761A</td>\n      <td>2019-03-06</td>\n      <td>INFINITI C80-S</td>\n      <td>8466</td>\n      <td>ST JOSEPH TRINITY</td>\n      <td>2</td>\n      <td>24.0</td>\n      <td>2.0</td>\n      <td>4.0</td>\n      <td>8.0</td>\n      <td>0.0</td>\n      <td>8.0</td>\n      <td>8.0</td>\n      <td>396.0</td>\n      <td>48.0</td>\n      <td>0.0</td>\n      <td>12.0</td>\n      <td>24.0</td>\n      <td>0.0</td>\n      <td>0.0</td>\n      <td>0.0</td>\n      <td>12.0</td>\n      <td>2.0</td>\n      <td>0.0</td>\n      <td>NaN</td>\n      <td>7.0</td>\n      <td>NaN</td>\n      <td>0.0</td>\n      <td>12.0</td>\n      <td>0.0</td>\n      <td>0.0</td>\n      <td>NaN</td>\n      <td>0.0</td>\n      <td>12.0</td>\n      <td>0.0</td>\n      <td>0.0</td>\n      <td>0.0</td>\n      <td>0.0</td>\n      <td>0.0</td>\n      <td>12.0</td>\n      <td>0.0</td>\n      <td>0.0</td>\n      <td>0.0</td>\n      <td>0.0</td>\n      <td>0.0</td>\n      <td>0.0</td>\n      <td>0.0</td>\n      <td>0.0</td>\n      <td>0.0</td>\n      <td>10.0</td>\n      <td>4.0</td>\n      <td>12.0</td>\n      <td>2.0</td>\n      <td>0.0</td>\n      <td>12.0</td>\n      <td>NaN</td>\n      <td>NaN</td>\n      <td>NaN</td>\n      <td>NaN</td>\n      <td>NaN</td>\n      <td>NaN</td>\n      <td>NaN</td>\n      <td>NaN</td>\n      <td>NaN</td>\n      <td>NaN</td>\n      <td>NaN</td>\n      <td>NaN</td>\n      <td>NaN</td>\n      <td>NaN</td>\n      <td>NaN</td>\n      <td>NaN</td>\n      <td>NaN</td>\n      <td>NaN</td>\n      <td>NaN</td>\n      <td>NaN</td>\n      <td>NaN</td>\n      <td>NaN</td>\n      <td>NaN</td>\n      <td>NaN</td>\n      <td>NaN</td>\n      <td>NaN</td>\n    </tr>\n  </tbody>\n</table>\n</div>"
     },
     "metadata": {},
     "execution_count": 18
    }
   ],
   "source": [
    "df_main[df_main.SALE_ORDER == '87761A']"
   ]
  },
  {
   "cell_type": "code",
   "execution_count": 19,
   "metadata": {},
   "outputs": [
    {
     "output_type": "execute_result",
     "data": {
      "text/plain": [
       "INFINITI C80-S    215\n",
       "INFINITI C80-R     40\n",
       "INFINITI C80-P     36\n",
       "Name: PDT_MODEL, dtype: int64"
      ]
     },
     "metadata": {},
     "execution_count": 19
    }
   ],
   "source": [
    "df_main['PDT_MODEL'].value_counts()"
   ]
  },
  {
   "cell_type": "code",
   "execution_count": 20,
   "metadata": {},
   "outputs": [],
   "source": [
    "def price_calc(x,y,z):\n",
    "    if x =='INFINITI C80-R' or x =='INFINITI C80-S':\n",
    "        return 0.3*y*z\n",
    "    else:\n",
    "        return 0.45*y*z"
   ]
  },
  {
   "cell_type": "code",
   "execution_count": 21,
   "metadata": {},
   "outputs": [],
   "source": [
    "def tlength_calc(x,y):\n",
    "    return x*y"
   ]
  },
  {
   "cell_type": "code",
   "execution_count": 22,
   "metadata": {},
   "outputs": [],
   "source": [
    "df_main['SALE_PRICE'] =df_main.apply(lambda x:price_calc(x['PDT_MODEL'],x['TOTAL_LENGTH'],x['TOTAL_QTY']),axis=1) "
   ]
  },
  {
   "cell_type": "code",
   "execution_count": 23,
   "metadata": {},
   "outputs": [],
   "source": [
    "df_main = df_main.fillna(0)"
   ]
  },
  {
   "cell_type": "code",
   "execution_count": null,
   "metadata": {},
   "outputs": [],
   "source": []
  },
  {
   "cell_type": "code",
   "execution_count": 24,
   "metadata": {},
   "outputs": [],
   "source": [
    "#########################################################################################################################"
   ]
  },
  {
   "cell_type": "code",
   "execution_count": null,
   "metadata": {},
   "outputs": [],
   "source": []
  },
  {
   "cell_type": "code",
   "execution_count": 25,
   "metadata": {},
   "outputs": [],
   "source": [
    "col_list1 = ['SALE_ORDER','ORDER_DATE','PDT_MODEL','TOTAL_LENGTH','CUSTOMER','TOTAL_QTY','SALE_PRICE']\n",
    "df_main_s1 = df_main[col_list1]"
   ]
  },
  {
   "cell_type": "code",
   "execution_count": 26,
   "metadata": {},
   "outputs": [],
   "source": [
    "df_main_s2 = df_main"
   ]
  },
  {
   "cell_type": "code",
   "execution_count": 27,
   "metadata": {},
   "outputs": [],
   "source": [
    "df_main_s2.to_csv('bill_of_quantity_2.csv',index = False)"
   ]
  },
  {
   "cell_type": "code",
   "execution_count": null,
   "metadata": {},
   "outputs": [],
   "source": []
  },
  {
   "cell_type": "code",
   "execution_count": 28,
   "metadata": {},
   "outputs": [],
   "source": [
    "df_main_s1['ORDER_YEAR_MONTH'] = pd.DatetimeIndex(df_main_s1['ORDER_DATE']).year.astype(str) +'-'+pd.DatetimeIndex(df_main_s1['ORDER_DATE']).month.astype(str)\n",
    "df_main_s1['ORDER_YEAR_MONTH'] = pd.to_datetime(df_main_s1['ORDER_YEAR_MONTH'],format = '%Y-%m')"
   ]
  },
  {
   "cell_type": "code",
   "execution_count": 29,
   "metadata": {},
   "outputs": [
    {
     "output_type": "execute_result",
     "data": {
      "text/plain": [
       "dtype('<M8[ns]')"
      ]
     },
     "metadata": {},
     "execution_count": 29
    }
   ],
   "source": [
    "df_main_s1['ORDER_YEAR_MONTH'].dtype"
   ]
  },
  {
   "cell_type": "code",
   "execution_count": 30,
   "metadata": {},
   "outputs": [],
   "source": [
    "tmp_1 = df_main_s1[['ORDER_YEAR_MONTH','PDT_MODEL','SALE_PRICE']]"
   ]
  },
  {
   "cell_type": "code",
   "execution_count": 31,
   "metadata": {},
   "outputs": [
    {
     "output_type": "execute_result",
     "data": {
      "text/plain": [
       "   ORDER_YEAR_MONTH       PDT_MODEL  SALE_PRICE\n",
       "0        2018-02-01  INFINITI C80-P     19701.0\n",
       "4        2019-02-01  INFINITI C80-P     32784.3\n",
       "7        2019-03-01  INFINITI C80-P     11710.8\n",
       "10       2019-04-01  INFINITI C80-P     11808.0\n",
       "15       2019-07-01  INFINITI C80-P     96904.8"
      ],
      "text/html": "<div>\n<style scoped>\n    .dataframe tbody tr th:only-of-type {\n        vertical-align: middle;\n    }\n\n    .dataframe tbody tr th {\n        vertical-align: top;\n    }\n\n    .dataframe thead th {\n        text-align: right;\n    }\n</style>\n<table border=\"1\" class=\"dataframe\">\n  <thead>\n    <tr style=\"text-align: right;\">\n      <th></th>\n      <th>ORDER_YEAR_MONTH</th>\n      <th>PDT_MODEL</th>\n      <th>SALE_PRICE</th>\n    </tr>\n  </thead>\n  <tbody>\n    <tr>\n      <th>0</th>\n      <td>2018-02-01</td>\n      <td>INFINITI C80-P</td>\n      <td>19701.0</td>\n    </tr>\n    <tr>\n      <th>4</th>\n      <td>2019-02-01</td>\n      <td>INFINITI C80-P</td>\n      <td>32784.3</td>\n    </tr>\n    <tr>\n      <th>7</th>\n      <td>2019-03-01</td>\n      <td>INFINITI C80-P</td>\n      <td>11710.8</td>\n    </tr>\n    <tr>\n      <th>10</th>\n      <td>2019-04-01</td>\n      <td>INFINITI C80-P</td>\n      <td>11808.0</td>\n    </tr>\n    <tr>\n      <th>15</th>\n      <td>2019-07-01</td>\n      <td>INFINITI C80-P</td>\n      <td>96904.8</td>\n    </tr>\n  </tbody>\n</table>\n</div>"
     },
     "metadata": {},
     "execution_count": 31
    }
   ],
   "source": [
    "df_agg_date_price = tmp_1.groupby(['ORDER_YEAR_MONTH','PDT_MODEL']).sum().reset_index()\n",
    "df_agg_date_price[df_agg_date_price['PDT_MODEL']=='INFINITI C80-P']"
   ]
  },
  {
   "cell_type": "code",
   "execution_count": 32,
   "metadata": {},
   "outputs": [],
   "source": [
    "df_main_s1.to_csv('bill_of_quantity.csv',index = False)"
   ]
  },
  {
   "cell_type": "code",
   "execution_count": 33,
   "metadata": {},
   "outputs": [],
   "source": [
    "#df_industry = df['INdustry Name'].value_counts()\n",
    "#df_industry_Pct = pd.DataFrame({'Industry_name':df_industry.index,'Industry_name_units':df_industry.values})\n",
    "#df_industry_Pct['Industry_name_Percent'] = df_industry_Pct['Industry_name_units']/276546"
   ]
  },
  {
   "cell_type": "code",
   "execution_count": 34,
   "metadata": {},
   "outputs": [
    {
     "output_type": "display_data",
     "data": {
      "application/vnd.plotly.v1+json": {
       "config": {
        "plotlyServerURL": "https://plot.ly"
       },
       "data": [
        {
         "domain": {
          "x": [
           0,
           1
          ],
          "y": [
           0,
           1
          ]
         },
         "hovertemplate": "PDT_MODEL=%{label}<br>SALE_PRICE=%{value}<extra></extra>",
         "labels": [
          "INFINITI C80-S",
          "INFINITI C80-S",
          "INFINITI C80-R",
          "INFINITI C80-S",
          "INFINITI C80-P",
          "INFINITI C80-R",
          "INFINITI C80-S",
          "INFINITI C80-R",
          "INFINITI C80-S",
          "INFINITI C80-S",
          "INFINITI C80-S",
          "INFINITI C80-P",
          "INFINITI C80-S",
          "INFINITI C80-S",
          "INFINITI C80-S",
          "INFINITI C80-R",
          "INFINITI C80-P",
          "INFINITI C80-S",
          "INFINITI C80-S",
          "INFINITI C80-S",
          "INFINITI C80-S",
          "INFINITI C80-S",
          "INFINITI C80-S",
          "INFINITI C80-S",
          "INFINITI C80-S",
          "INFINITI C80-S",
          "INFINITI C80-P",
          "INFINITI C80-S",
          "INFINITI C80-S",
          "INFINITI C80-S",
          "INFINITI C80-S",
          "INFINITI C80-P",
          "INFINITI C80-R",
          "INFINITI C80-S",
          "INFINITI C80-S",
          "INFINITI C80-S",
          "INFINITI C80-S",
          "INFINITI C80-S",
          "INFINITI C80-S",
          "INFINITI C80-S",
          "INFINITI C80-R",
          "INFINITI C80-R",
          "INFINITI C80-R",
          "INFINITI C80-S",
          "INFINITI C80-S",
          "INFINITI C80-S",
          "INFINITI C80-P",
          "INFINITI C80-S",
          "INFINITI C80-S",
          "INFINITI C80-S",
          "INFINITI C80-P",
          "INFINITI C80-S",
          "INFINITI C80-S",
          "INFINITI C80-S",
          "INFINITI C80-S",
          "INFINITI C80-S",
          "INFINITI C80-S",
          "INFINITI C80-S",
          "INFINITI C80-S",
          "INFINITI C80-P",
          "INFINITI C80-S",
          "INFINITI C80-S",
          "INFINITI C80-P",
          "INFINITI C80-S",
          "INFINITI C80-P",
          "INFINITI C80-S",
          "INFINITI C80-R",
          "INFINITI C80-S",
          "INFINITI C80-S",
          "INFINITI C80-S",
          "INFINITI C80-S",
          "INFINITI C80-R",
          "INFINITI C80-S",
          "INFINITI C80-S",
          "INFINITI C80-R",
          "INFINITI C80-R",
          "INFINITI C80-S",
          "INFINITI C80-S",
          "INFINITI C80-R",
          "INFINITI C80-R",
          "INFINITI C80-S",
          "INFINITI C80-P",
          "INFINITI C80-P",
          "INFINITI C80-S",
          "INFINITI C80-S",
          "INFINITI C80-S",
          "INFINITI C80-S",
          "INFINITI C80-S",
          "INFINITI C80-P",
          "INFINITI C80-R",
          "INFINITI C80-S",
          "INFINITI C80-S",
          "INFINITI C80-S",
          "INFINITI C80-S",
          "INFINITI C80-P",
          "INFINITI C80-S",
          "INFINITI C80-S",
          "INFINITI C80-S",
          "INFINITI C80-R",
          "INFINITI C80-R",
          "INFINITI C80-S",
          "INFINITI C80-S",
          "INFINITI C80-P",
          "INFINITI C80-R",
          "INFINITI C80-S",
          "INFINITI C80-S",
          "INFINITI C80-S",
          "INFINITI C80-S",
          "INFINITI C80-S",
          "INFINITI C80-S",
          "INFINITI C80-S",
          "INFINITI C80-R",
          "INFINITI C80-S",
          "INFINITI C80-S",
          "INFINITI C80-S",
          "INFINITI C80-S",
          "INFINITI C80-S",
          "INFINITI C80-R",
          "INFINITI C80-R",
          "INFINITI C80-S",
          "INFINITI C80-S",
          "INFINITI C80-S",
          "INFINITI C80-S",
          "INFINITI C80-R",
          "INFINITI C80-S",
          "INFINITI C80-P",
          "INFINITI C80-S",
          "INFINITI C80-S",
          "INFINITI C80-P",
          "INFINITI C80-P",
          "INFINITI C80-S",
          "INFINITI C80-S",
          "INFINITI C80-R",
          "INFINITI C80-S",
          "INFINITI C80-S",
          "INFINITI C80-R",
          "INFINITI C80-P",
          "INFINITI C80-S",
          "INFINITI C80-S",
          "INFINITI C80-S",
          "INFINITI C80-S",
          "INFINITI C80-S",
          "INFINITI C80-S",
          "INFINITI C80-S",
          "INFINITI C80-S",
          "INFINITI C80-S",
          "INFINITI C80-S",
          "INFINITI C80-S",
          "INFINITI C80-R",
          "INFINITI C80-S",
          "INFINITI C80-S",
          "INFINITI C80-S",
          "INFINITI C80-S",
          "INFINITI C80-S",
          "INFINITI C80-P",
          "INFINITI C80-S",
          "INFINITI C80-S",
          "INFINITI C80-S",
          "INFINITI C80-S",
          "INFINITI C80-R",
          "INFINITI C80-P",
          "INFINITI C80-P",
          "INFINITI C80-S",
          "INFINITI C80-S",
          "INFINITI C80-S",
          "INFINITI C80-S",
          "INFINITI C80-S",
          "INFINITI C80-S",
          "INFINITI C80-S",
          "INFINITI C80-S",
          "INFINITI C80-S",
          "INFINITI C80-S",
          "INFINITI C80-R",
          "INFINITI C80-S",
          "INFINITI C80-S",
          "INFINITI C80-S",
          "INFINITI C80-S",
          "INFINITI C80-S",
          "INFINITI C80-P",
          "INFINITI C80-S",
          "INFINITI C80-S",
          "INFINITI C80-S",
          "INFINITI C80-S",
          "INFINITI C80-S",
          "INFINITI C80-S",
          "INFINITI C80-S",
          "INFINITI C80-S",
          "INFINITI C80-S",
          "INFINITI C80-S",
          "INFINITI C80-P",
          "INFINITI C80-S",
          "INFINITI C80-S",
          "INFINITI C80-S",
          "INFINITI C80-P",
          "INFINITI C80-P",
          "INFINITI C80-P",
          "INFINITI C80-R",
          "INFINITI C80-S",
          "INFINITI C80-S",
          "INFINITI C80-S",
          "INFINITI C80-S",
          "INFINITI C80-S",
          "INFINITI C80-P",
          "INFINITI C80-S",
          "INFINITI C80-S",
          "INFINITI C80-S",
          "INFINITI C80-S",
          "INFINITI C80-R",
          "INFINITI C80-S",
          "INFINITI C80-S",
          "INFINITI C80-S",
          "INFINITI C80-S",
          "INFINITI C80-S",
          "INFINITI C80-R",
          "INFINITI C80-S",
          "INFINITI C80-R",
          "INFINITI C80-S",
          "INFINITI C80-S",
          "INFINITI C80-S",
          "INFINITI C80-S",
          "INFINITI C80-S",
          "INFINITI C80-S",
          "INFINITI C80-S",
          "INFINITI C80-R",
          "INFINITI C80-S",
          "INFINITI C80-S",
          "INFINITI C80-S",
          "INFINITI C80-R",
          "INFINITI C80-P",
          "INFINITI C80-S",
          "INFINITI C80-R",
          "INFINITI C80-S",
          "INFINITI C80-S",
          "INFINITI C80-S",
          "INFINITI C80-S",
          "INFINITI C80-S",
          "INFINITI C80-P",
          "INFINITI C80-S",
          "INFINITI C80-S",
          "INFINITI C80-S",
          "INFINITI C80-S",
          "INFINITI C80-S",
          "INFINITI C80-S",
          "INFINITI C80-S",
          "INFINITI C80-S",
          "INFINITI C80-S",
          "INFINITI C80-R",
          "INFINITI C80-R",
          "INFINITI C80-S",
          "INFINITI C80-S",
          "INFINITI C80-P",
          "INFINITI C80-S",
          "INFINITI C80-S",
          "INFINITI C80-S",
          "INFINITI C80-S",
          "INFINITI C80-R",
          "INFINITI C80-S",
          "INFINITI C80-P",
          "INFINITI C80-P",
          "INFINITI C80-S",
          "INFINITI C80-S",
          "INFINITI C80-S",
          "INFINITI C80-R",
          "INFINITI C80-S",
          "INFINITI C80-S",
          "INFINITI C80-P",
          "INFINITI C80-S",
          "INFINITI C80-S",
          "INFINITI C80-S",
          "INFINITI C80-S",
          "INFINITI C80-R",
          "INFINITI C80-S",
          "INFINITI C80-S",
          "INFINITI C80-R",
          "INFINITI C80-S",
          "INFINITI C80-S",
          "INFINITI C80-S",
          "INFINITI C80-S",
          "INFINITI C80-P",
          "INFINITI C80-S",
          "INFINITI C80-S",
          "INFINITI C80-S",
          "INFINITI C80-S",
          "INFINITI C80-S",
          "INFINITI C80-S",
          "INFINITI C80-S",
          "INFINITI C80-S",
          "INFINITI C80-P",
          "INFINITI C80-S",
          "INFINITI C80-S",
          "INFINITI C80-S"
         ],
         "legendgroup": "",
         "name": "",
         "showlegend": true,
         "type": "pie",
         "values": [
          6094.8,
          3218.4,
          768,
          2201.4,
          2547,
          2554.2,
          6093,
          429.59999999999997,
          2455.2,
          678.6,
          340.2,
          8126.1,
          6775.2,
          3051,
          22019.399999999998,
          351.59999999999997,
          3562.2000000000003,
          3402,
          678.6,
          11226.6,
          1357.2,
          2880,
          1017,
          1186.2,
          5589,
          20309.4,
          3430.8,
          3893.3999999999996,
          1863,
          5418,
          340.2,
          12315.6,
          1191,
          23713.2,
          9482.4,
          48772.799999999996,
          1782,
          763.1999999999999,
          2032.1999999999998,
          4082.3999999999996,
          1275.6,
          1614,
          937.1999999999999,
          10843.199999999999,
          763.1999999999999,
          9525.6,
          9648.9,
          4741.2,
          5248.8,
          763.1999999999999,
          11808,
          24705,
          3893.3999999999996,
          6433.2,
          1186.2,
          424.8,
          4064.3999999999996,
          1101.6,
          1778.3999999999999,
          639,
          6431.4,
          680.4,
          1273.5,
          5589,
          4608.900000000001,
          21092.399999999998,
          598.8,
          1863,
          1017,
          678.6,
          1188,
          15870,
          2032.1999999999998,
          7144.2,
          1444.8,
          4565.4,
          16938,
          1695.6,
          2889.6,
          2760,
          2205.6,
          4065.3,
          4699.8,
          9482.4,
          1355.3999999999999,
          2376,
          594,
          4402.8,
          4699.8,
          13110,
          763.1999999999999,
          5079.599999999999,
          4908.599999999999,
          2710.7999999999997,
          2034.9,
          5418,
          6775.2,
          3051,
          598.8,
          514.1999999999999,
          1101.6,
          9482.4,
          639,
          1332.6,
          1693.8,
          12189.6,
          6346.8,
          1186.2,
          7111.799999999999,
          10206,
          3051,
          1275.6,
          680.4,
          5079.599999999999,
          5079.599999999999,
          1017,
          2035.8000000000002,
          175.79999999999998,
          1332.6,
          2201.4,
          6264,
          6775.2,
          11507.4,
          6.6,
          3218.4,
          4192.2,
          2032.1999999999998,
          1440,
          1024.2,
          6095.7,
          6264,
          7111.799999999999,
          429.59999999999997,
          9482.4,
          3729.6,
          847.5,
          4096.8,
          21092.399999999998,
          2116.7999999999997,
          594,
          7144.2,
          10843.199999999999,
          676.8,
          1440,
          2714.4,
          4402.8,
          2709,
          4068,
          683.4,
          424.8,
          3051,
          6262.2,
          2714.4,
          6094.8,
          1781.1000000000001,
          1186.2,
          2624.4,
          1947.6,
          4082.3999999999996,
          768,
          4065.3,
          12060,
          16938,
          2709,
          6775.2,
          847.8,
          5418,
          680.4,
          678.6,
          1440,
          5079.599999999999,
          6264,
          1039.8,
          340.2,
          2714.4,
          1778.3999999999999,
          2032.1999999999998,
          1695,
          1024.2,
          680.4,
          3051,
          10206,
          680.4,
          11226.6,
          847.8,
          5418,
          4402.8,
          1360.8,
          9525.6,
          1024.2,
          1782,
          1693.8,
          340.2,
          2034.9,
          3430.8,
          10791,
          690,
          2376,
          680.4,
          7111.799999999999,
          2713.2,
          6431.4,
          4065.3,
          3387.6,
          1355.3999999999999,
          11226.6,
          1526.3999999999999,
          1542.6,
          66582,
          2037.6,
          2539.7999999999997,
          3470.4,
          10843.199999999999,
          1444.8,
          6177.599999999999,
          13110,
          1357.2,
          8800.199999999999,
          3301.2,
          3047.4,
          424.8,
          678.6,
          4064.3999999999996,
          1191,
          678.6,
          5418,
          1526.3999999999999,
          4465.8,
          3059.1000000000004,
          5589,
          3573,
          16938,
          5081.4,
          48772.799999999996,
          16938,
          1524.6,
          639,
          1188,
          10206,
          6775.2,
          2370.6,
          2539.7999999999997,
          3558.6000000000004,
          11226.6,
          678.6,
          2880,
          1614,
          598.8,
          4741.2,
          763.1999999999999,
          11808,
          763.1999999999999,
          680.4,
          680.4,
          2034,
          3169.7999999999997,
          1186.2,
          1273.5,
          6145.200000000001,
          2205.6,
          340.2,
          9478.8,
          1191,
          3047.4,
          2116.7999999999997,
          13582.800000000001,
          9525.6,
          48772.799999999996,
          5418,
          5079.599999999999,
          768,
          3218.4,
          7111.799999999999,
          2733.6,
          7785,
          1101.6,
          4485.599999999999,
          678.6,
          3054.6,
          1440,
          2455.2,
          6177.599999999999,
          6775.2,
          23355,
          7144.2,
          6775.2,
          2710.7999999999997,
          3562.2000000000003,
          509.4,
          3051,
          3895.2
         ]
        }
       ],
       "layout": {
        "legend": {
         "tracegroupgap": 0
        },
        "margin": {
         "t": 60
        },
        "template": {
         "data": {
          "bar": [
           {
            "error_x": {
             "color": "#2a3f5f"
            },
            "error_y": {
             "color": "#2a3f5f"
            },
            "marker": {
             "line": {
              "color": "#E5ECF6",
              "width": 0.5
             }
            },
            "type": "bar"
           }
          ],
          "barpolar": [
           {
            "marker": {
             "line": {
              "color": "#E5ECF6",
              "width": 0.5
             }
            },
            "type": "barpolar"
           }
          ],
          "carpet": [
           {
            "aaxis": {
             "endlinecolor": "#2a3f5f",
             "gridcolor": "white",
             "linecolor": "white",
             "minorgridcolor": "white",
             "startlinecolor": "#2a3f5f"
            },
            "baxis": {
             "endlinecolor": "#2a3f5f",
             "gridcolor": "white",
             "linecolor": "white",
             "minorgridcolor": "white",
             "startlinecolor": "#2a3f5f"
            },
            "type": "carpet"
           }
          ],
          "choropleth": [
           {
            "colorbar": {
             "outlinewidth": 0,
             "ticks": ""
            },
            "type": "choropleth"
           }
          ],
          "contour": [
           {
            "colorbar": {
             "outlinewidth": 0,
             "ticks": ""
            },
            "colorscale": [
             [
              0,
              "#0d0887"
             ],
             [
              0.1111111111111111,
              "#46039f"
             ],
             [
              0.2222222222222222,
              "#7201a8"
             ],
             [
              0.3333333333333333,
              "#9c179e"
             ],
             [
              0.4444444444444444,
              "#bd3786"
             ],
             [
              0.5555555555555556,
              "#d8576b"
             ],
             [
              0.6666666666666666,
              "#ed7953"
             ],
             [
              0.7777777777777778,
              "#fb9f3a"
             ],
             [
              0.8888888888888888,
              "#fdca26"
             ],
             [
              1,
              "#f0f921"
             ]
            ],
            "type": "contour"
           }
          ],
          "contourcarpet": [
           {
            "colorbar": {
             "outlinewidth": 0,
             "ticks": ""
            },
            "type": "contourcarpet"
           }
          ],
          "heatmap": [
           {
            "colorbar": {
             "outlinewidth": 0,
             "ticks": ""
            },
            "colorscale": [
             [
              0,
              "#0d0887"
             ],
             [
              0.1111111111111111,
              "#46039f"
             ],
             [
              0.2222222222222222,
              "#7201a8"
             ],
             [
              0.3333333333333333,
              "#9c179e"
             ],
             [
              0.4444444444444444,
              "#bd3786"
             ],
             [
              0.5555555555555556,
              "#d8576b"
             ],
             [
              0.6666666666666666,
              "#ed7953"
             ],
             [
              0.7777777777777778,
              "#fb9f3a"
             ],
             [
              0.8888888888888888,
              "#fdca26"
             ],
             [
              1,
              "#f0f921"
             ]
            ],
            "type": "heatmap"
           }
          ],
          "heatmapgl": [
           {
            "colorbar": {
             "outlinewidth": 0,
             "ticks": ""
            },
            "colorscale": [
             [
              0,
              "#0d0887"
             ],
             [
              0.1111111111111111,
              "#46039f"
             ],
             [
              0.2222222222222222,
              "#7201a8"
             ],
             [
              0.3333333333333333,
              "#9c179e"
             ],
             [
              0.4444444444444444,
              "#bd3786"
             ],
             [
              0.5555555555555556,
              "#d8576b"
             ],
             [
              0.6666666666666666,
              "#ed7953"
             ],
             [
              0.7777777777777778,
              "#fb9f3a"
             ],
             [
              0.8888888888888888,
              "#fdca26"
             ],
             [
              1,
              "#f0f921"
             ]
            ],
            "type": "heatmapgl"
           }
          ],
          "histogram": [
           {
            "marker": {
             "colorbar": {
              "outlinewidth": 0,
              "ticks": ""
             }
            },
            "type": "histogram"
           }
          ],
          "histogram2d": [
           {
            "colorbar": {
             "outlinewidth": 0,
             "ticks": ""
            },
            "colorscale": [
             [
              0,
              "#0d0887"
             ],
             [
              0.1111111111111111,
              "#46039f"
             ],
             [
              0.2222222222222222,
              "#7201a8"
             ],
             [
              0.3333333333333333,
              "#9c179e"
             ],
             [
              0.4444444444444444,
              "#bd3786"
             ],
             [
              0.5555555555555556,
              "#d8576b"
             ],
             [
              0.6666666666666666,
              "#ed7953"
             ],
             [
              0.7777777777777778,
              "#fb9f3a"
             ],
             [
              0.8888888888888888,
              "#fdca26"
             ],
             [
              1,
              "#f0f921"
             ]
            ],
            "type": "histogram2d"
           }
          ],
          "histogram2dcontour": [
           {
            "colorbar": {
             "outlinewidth": 0,
             "ticks": ""
            },
            "colorscale": [
             [
              0,
              "#0d0887"
             ],
             [
              0.1111111111111111,
              "#46039f"
             ],
             [
              0.2222222222222222,
              "#7201a8"
             ],
             [
              0.3333333333333333,
              "#9c179e"
             ],
             [
              0.4444444444444444,
              "#bd3786"
             ],
             [
              0.5555555555555556,
              "#d8576b"
             ],
             [
              0.6666666666666666,
              "#ed7953"
             ],
             [
              0.7777777777777778,
              "#fb9f3a"
             ],
             [
              0.8888888888888888,
              "#fdca26"
             ],
             [
              1,
              "#f0f921"
             ]
            ],
            "type": "histogram2dcontour"
           }
          ],
          "mesh3d": [
           {
            "colorbar": {
             "outlinewidth": 0,
             "ticks": ""
            },
            "type": "mesh3d"
           }
          ],
          "parcoords": [
           {
            "line": {
             "colorbar": {
              "outlinewidth": 0,
              "ticks": ""
             }
            },
            "type": "parcoords"
           }
          ],
          "pie": [
           {
            "automargin": true,
            "type": "pie"
           }
          ],
          "scatter": [
           {
            "marker": {
             "colorbar": {
              "outlinewidth": 0,
              "ticks": ""
             }
            },
            "type": "scatter"
           }
          ],
          "scatter3d": [
           {
            "line": {
             "colorbar": {
              "outlinewidth": 0,
              "ticks": ""
             }
            },
            "marker": {
             "colorbar": {
              "outlinewidth": 0,
              "ticks": ""
             }
            },
            "type": "scatter3d"
           }
          ],
          "scattercarpet": [
           {
            "marker": {
             "colorbar": {
              "outlinewidth": 0,
              "ticks": ""
             }
            },
            "type": "scattercarpet"
           }
          ],
          "scattergeo": [
           {
            "marker": {
             "colorbar": {
              "outlinewidth": 0,
              "ticks": ""
             }
            },
            "type": "scattergeo"
           }
          ],
          "scattergl": [
           {
            "marker": {
             "colorbar": {
              "outlinewidth": 0,
              "ticks": ""
             }
            },
            "type": "scattergl"
           }
          ],
          "scattermapbox": [
           {
            "marker": {
             "colorbar": {
              "outlinewidth": 0,
              "ticks": ""
             }
            },
            "type": "scattermapbox"
           }
          ],
          "scatterpolar": [
           {
            "marker": {
             "colorbar": {
              "outlinewidth": 0,
              "ticks": ""
             }
            },
            "type": "scatterpolar"
           }
          ],
          "scatterpolargl": [
           {
            "marker": {
             "colorbar": {
              "outlinewidth": 0,
              "ticks": ""
             }
            },
            "type": "scatterpolargl"
           }
          ],
          "scatterternary": [
           {
            "marker": {
             "colorbar": {
              "outlinewidth": 0,
              "ticks": ""
             }
            },
            "type": "scatterternary"
           }
          ],
          "surface": [
           {
            "colorbar": {
             "outlinewidth": 0,
             "ticks": ""
            },
            "colorscale": [
             [
              0,
              "#0d0887"
             ],
             [
              0.1111111111111111,
              "#46039f"
             ],
             [
              0.2222222222222222,
              "#7201a8"
             ],
             [
              0.3333333333333333,
              "#9c179e"
             ],
             [
              0.4444444444444444,
              "#bd3786"
             ],
             [
              0.5555555555555556,
              "#d8576b"
             ],
             [
              0.6666666666666666,
              "#ed7953"
             ],
             [
              0.7777777777777778,
              "#fb9f3a"
             ],
             [
              0.8888888888888888,
              "#fdca26"
             ],
             [
              1,
              "#f0f921"
             ]
            ],
            "type": "surface"
           }
          ],
          "table": [
           {
            "cells": {
             "fill": {
              "color": "#EBF0F8"
             },
             "line": {
              "color": "white"
             }
            },
            "header": {
             "fill": {
              "color": "#C8D4E3"
             },
             "line": {
              "color": "white"
             }
            },
            "type": "table"
           }
          ]
         },
         "layout": {
          "annotationdefaults": {
           "arrowcolor": "#2a3f5f",
           "arrowhead": 0,
           "arrowwidth": 1
          },
          "coloraxis": {
           "colorbar": {
            "outlinewidth": 0,
            "ticks": ""
           }
          },
          "colorscale": {
           "diverging": [
            [
             0,
             "#8e0152"
            ],
            [
             0.1,
             "#c51b7d"
            ],
            [
             0.2,
             "#de77ae"
            ],
            [
             0.3,
             "#f1b6da"
            ],
            [
             0.4,
             "#fde0ef"
            ],
            [
             0.5,
             "#f7f7f7"
            ],
            [
             0.6,
             "#e6f5d0"
            ],
            [
             0.7,
             "#b8e186"
            ],
            [
             0.8,
             "#7fbc41"
            ],
            [
             0.9,
             "#4d9221"
            ],
            [
             1,
             "#276419"
            ]
           ],
           "sequential": [
            [
             0,
             "#0d0887"
            ],
            [
             0.1111111111111111,
             "#46039f"
            ],
            [
             0.2222222222222222,
             "#7201a8"
            ],
            [
             0.3333333333333333,
             "#9c179e"
            ],
            [
             0.4444444444444444,
             "#bd3786"
            ],
            [
             0.5555555555555556,
             "#d8576b"
            ],
            [
             0.6666666666666666,
             "#ed7953"
            ],
            [
             0.7777777777777778,
             "#fb9f3a"
            ],
            [
             0.8888888888888888,
             "#fdca26"
            ],
            [
             1,
             "#f0f921"
            ]
           ],
           "sequentialminus": [
            [
             0,
             "#0d0887"
            ],
            [
             0.1111111111111111,
             "#46039f"
            ],
            [
             0.2222222222222222,
             "#7201a8"
            ],
            [
             0.3333333333333333,
             "#9c179e"
            ],
            [
             0.4444444444444444,
             "#bd3786"
            ],
            [
             0.5555555555555556,
             "#d8576b"
            ],
            [
             0.6666666666666666,
             "#ed7953"
            ],
            [
             0.7777777777777778,
             "#fb9f3a"
            ],
            [
             0.8888888888888888,
             "#fdca26"
            ],
            [
             1,
             "#f0f921"
            ]
           ]
          },
          "colorway": [
           "#636efa",
           "#EF553B",
           "#00cc96",
           "#ab63fa",
           "#FFA15A",
           "#19d3f3",
           "#FF6692",
           "#B6E880",
           "#FF97FF",
           "#FECB52"
          ],
          "font": {
           "color": "#2a3f5f"
          },
          "geo": {
           "bgcolor": "white",
           "lakecolor": "white",
           "landcolor": "#E5ECF6",
           "showlakes": true,
           "showland": true,
           "subunitcolor": "white"
          },
          "hoverlabel": {
           "align": "left"
          },
          "hovermode": "closest",
          "mapbox": {
           "style": "light"
          },
          "paper_bgcolor": "white",
          "plot_bgcolor": "#E5ECF6",
          "polar": {
           "angularaxis": {
            "gridcolor": "white",
            "linecolor": "white",
            "ticks": ""
           },
           "bgcolor": "#E5ECF6",
           "radialaxis": {
            "gridcolor": "white",
            "linecolor": "white",
            "ticks": ""
           }
          },
          "scene": {
           "xaxis": {
            "backgroundcolor": "#E5ECF6",
            "gridcolor": "white",
            "gridwidth": 2,
            "linecolor": "white",
            "showbackground": true,
            "ticks": "",
            "zerolinecolor": "white"
           },
           "yaxis": {
            "backgroundcolor": "#E5ECF6",
            "gridcolor": "white",
            "gridwidth": 2,
            "linecolor": "white",
            "showbackground": true,
            "ticks": "",
            "zerolinecolor": "white"
           },
           "zaxis": {
            "backgroundcolor": "#E5ECF6",
            "gridcolor": "white",
            "gridwidth": 2,
            "linecolor": "white",
            "showbackground": true,
            "ticks": "",
            "zerolinecolor": "white"
           }
          },
          "shapedefaults": {
           "line": {
            "color": "#2a3f5f"
           }
          },
          "ternary": {
           "aaxis": {
            "gridcolor": "white",
            "linecolor": "white",
            "ticks": ""
           },
           "baxis": {
            "gridcolor": "white",
            "linecolor": "white",
            "ticks": ""
           },
           "bgcolor": "#E5ECF6",
           "caxis": {
            "gridcolor": "white",
            "linecolor": "white",
            "ticks": ""
           }
          },
          "title": {
           "x": 0.05
          },
          "xaxis": {
           "automargin": true,
           "gridcolor": "white",
           "linecolor": "white",
           "ticks": "",
           "title": {
            "standoff": 15
           },
           "zerolinecolor": "white",
           "zerolinewidth": 2
          },
          "yaxis": {
           "automargin": true,
           "gridcolor": "white",
           "linecolor": "white",
           "ticks": "",
           "title": {
            "standoff": 15
           },
           "zerolinecolor": "white",
           "zerolinewidth": 2
          }
         }
        }
       }
      }
     },
     "metadata": {}
    }
   ],
   "source": [
    "# Plot the pie chart using plotly\n",
    "import plotly.express as px\n",
    "fig = px.pie(df_main_s1,values = 'SALE_PRICE',names='PDT_MODEL')\n",
    "fig.show()"
   ]
  },
  {
   "cell_type": "code",
   "execution_count": 35,
   "metadata": {},
   "outputs": [
    {
     "output_type": "display_data",
     "data": {
      "application/vnd.plotly.v1+json": {
       "config": {
        "plotlyServerURL": "https://plot.ly"
       },
       "data": [
        {
         "alignmentgroup": "True",
         "hovertemplate": "x=%{x}<br>SALE_PRICE=%{y}<extra></extra>",
         "legendgroup": "",
         "marker": {
          "color": "#636efa"
         },
         "name": "",
         "offsetgroup": "",
         "orientation": "v",
         "showlegend": false,
         "textposition": "auto",
         "type": "bar",
         "x": [
          "2019-09-20T00:00:00",
          "2019-04-04T00:00:00",
          "2019-07-02T00:00:00",
          "2019-03-06T00:00:00",
          "2019-02-20T00:00:00",
          "2019-09-04T00:00:00",
          "2019-09-18T00:00:00",
          "2019-03-06T00:00:00",
          "2019-08-16T00:00:00",
          "2019-03-06T00:00:00",
          "2019-03-12T00:00:00",
          "2019-07-31T00:00:00",
          "2019-04-04T00:00:00",
          "2019-07-24T00:00:00",
          "2019-09-20T00:00:00",
          "2019-03-18T00:00:00",
          "2019-09-18T00:00:00",
          "2019-08-19T00:00:00",
          "2019-05-29T00:00:00",
          "2019-09-20T00:00:00",
          "2019-03-12T00:00:00",
          "2019-04-30T00:00:00",
          "2019-04-04T00:00:00",
          "2019-04-04T00:00:00",
          "2019-09-23T00:00:00",
          "2019-07-31T00:00:00",
          "2019-03-07T00:00:00",
          "2019-02-27T00:00:00",
          "2019-09-20T00:00:00",
          "2019-08-01T00:00:00",
          "2019-02-28T00:00:00",
          "2019-03-06T00:00:00",
          "2019-09-18T00:00:00",
          "2019-06-21T00:00:00",
          "2019-04-04T00:00:00",
          "2019-03-12T00:00:00",
          "2019-04-04T00:00:00",
          "2019-04-30T00:00:00",
          "2019-09-20T00:00:00",
          "2019-02-22T00:00:00",
          "2019-02-28T00:00:00",
          "2019-02-07T00:00:00",
          "2019-06-21T00:00:00",
          "2019-03-12T00:00:00",
          "2019-05-29T00:00:00",
          "2019-07-31T00:00:00",
          "2019-09-20T00:00:00",
          "2019-03-07T00:00:00",
          "2019-04-04T00:00:00",
          "2019-02-28T00:00:00",
          "2019-09-23T00:00:00",
          "2019-03-07T00:00:00",
          "2019-04-05T00:00:00",
          "2019-03-06T00:00:00",
          "2019-04-04T00:00:00",
          "2019-09-20T00:00:00",
          "2019-01-01T00:00:00",
          "2019-03-06T00:00:00",
          "2019-07-31T00:00:00",
          "2019-09-18T00:00:00",
          "2019-09-20T00:00:00",
          "2019-07-31T00:00:00",
          "2019-04-04T00:00:00",
          "2019-07-11T00:00:00",
          "2019-05-29T00:00:00",
          "2019-07-02T00:00:00",
          "2019-03-06T00:00:00",
          "2019-03-07T00:00:00",
          "2019-03-12T00:00:00",
          "2019-06-17T00:00:00",
          "2019-03-06T00:00:00",
          "2019-09-18T00:00:00",
          "2019-05-28T00:00:00",
          "2019-02-07T00:00:00",
          "2019-09-04T00:00:00",
          "2019-06-21T00:00:00",
          "2019-06-17T00:00:00",
          "2019-11-07T00:00:00",
          "2019-06-06T00:00:00",
          "2019-10-23T00:00:00",
          "2019-07-31T00:00:00",
          "2019-07-24T00:00:00",
          "2019-08-16T00:00:00",
          "2019-03-12T00:00:00",
          "2019-03-07T00:00:00",
          "2019-03-06T00:00:00",
          "2019-07-31T00:00:00",
          "2019-06-06T00:00:00",
          "2019-03-12T00:00:00",
          "2019-03-06T00:00:00",
          "2019-03-07T00:00:00",
          "2019-09-20T00:00:00",
          "2019-08-01T00:00:00",
          "2019-08-19T00:00:00",
          "2019-06-21T00:00:00",
          "2019-02-07T00:00:00",
          "2019-07-02T00:00:00",
          "2019-03-12T00:00:00",
          "2019-08-19T00:00:00",
          "2019-07-31T00:00:00",
          "2019-09-12T00:00:00",
          "2019-08-01T00:00:00",
          "2019-09-20T00:00:00",
          "2019-04-30T00:00:00",
          "2019-04-04T00:00:00",
          "2019-06-21T00:00:00",
          "2019-05-29T00:00:00",
          "2019-07-24T00:00:00",
          "2019-02-07T00:00:00",
          "2019-06-21T00:00:00",
          "2019-07-10T00:00:00",
          "2019-08-01T00:00:00",
          "2019-09-20T00:00:00",
          "2019-03-12T00:00:00",
          "2019-03-18T00:00:00",
          "2019-09-12T00:00:00",
          "2019-02-27T00:00:00",
          "2019-03-07T00:00:00",
          "2019-06-21T00:00:00",
          "2019-02-27T00:00:00",
          "2019-01-01T00:00:00",
          "2019-04-04T00:00:00",
          "2019-08-01T00:00:00",
          "2019-04-30T00:00:00",
          "2019-03-07T00:00:00",
          "2019-07-31T00:00:00",
          "2019-03-07T00:00:00",
          "2019-08-19T00:00:00",
          "2019-02-28T00:00:00",
          "2019-06-21T00:00:00",
          "2019-08-13T00:00:00",
          "2019-09-04T00:00:00",
          "2019-07-11T00:00:00",
          "2019-05-28T00:00:00",
          "2019-03-07T00:00:00",
          "2019-03-12T00:00:00",
          "2019-05-29T00:00:00",
          "2019-07-23T00:00:00",
          "2019-01-01T00:00:00",
          "2019-03-06T00:00:00",
          "2019-08-16T00:00:00",
          "2019-04-05T00:00:00",
          "2019-08-16T00:00:00",
          "2019-09-18T00:00:00",
          "2019-07-02T00:00:00",
          "2019-04-04T00:00:00",
          "2019-08-19T00:00:00",
          "2019-03-07T00:00:00",
          "2019-08-01T00:00:00",
          "2019-09-20T00:00:00",
          "2019-02-27T00:00:00",
          "2019-03-07T00:00:00",
          "2019-03-12T00:00:00",
          "2019-09-20T00:00:00",
          "2019-02-07T00:00:00",
          "2019-03-06T00:00:00",
          "2019-07-31T00:00:00",
          "2019-07-24T00:00:00",
          "2019-08-01T00:00:00",
          "2019-06-21T00:00:00",
          "2019-03-12T00:00:00",
          "2019-07-10T00:00:00",
          "2019-08-19T00:00:00",
          "2019-09-18T00:00:00",
          "2019-03-06T00:00:00",
          "2019-08-16T00:00:00",
          "2019-04-05T00:00:00",
          "2019-09-04T00:00:00",
          "2019-06-17T00:00:00",
          "2019-03-12T00:00:00",
          "2019-03-06T00:00:00",
          "2019-08-16T00:00:00",
          "2019-10-23T00:00:00",
          "2019-03-07T00:00:00",
          "2019-07-24T00:00:00",
          "2019-06-21T00:00:00",
          "2019-05-28T00:00:00",
          "2019-08-13T00:00:00",
          "2019-05-29T00:00:00",
          "2019-03-07T00:00:00",
          "2019-08-16T00:00:00",
          "2019-03-06T00:00:00",
          "2019-09-18T00:00:00",
          "2019-05-29T00:00:00",
          "2019-07-11T00:00:00",
          "2019-08-13T00:00:00",
          "2019-08-16T00:00:00",
          "2019-03-07T00:00:00",
          "2019-03-06T00:00:00",
          "2019-07-31T00:00:00",
          "2019-07-31T00:00:00",
          "2019-09-13T00:00:00",
          "2019-06-17T00:00:00",
          "2019-03-12T00:00:00",
          "2019-07-24T00:00:00",
          "2019-10-23T00:00:00",
          "2019-03-07T00:00:00",
          "2019-09-20T00:00:00",
          "2019-08-01T00:00:00",
          "2019-05-29T00:00:00",
          "2019-03-12T00:00:00",
          "2019-02-07T00:00:00",
          "2019-04-04T00:00:00",
          "2019-03-12T00:00:00",
          "2019-02-27T00:00:00",
          "2019-03-07T00:00:00",
          "2019-08-19T00:00:00",
          "2019-02-22T00:00:00",
          "2019-03-07T00:00:00",
          "2019-06-06T00:00:00",
          "2019-09-20T00:00:00",
          "2019-09-23T00:00:00",
          "2019-03-07T00:00:00",
          "2019-02-27T00:00:00",
          "2019-04-04T00:00:00",
          "2019-07-24T00:00:00",
          "2019-09-20T00:00:00",
          "2019-02-07T00:00:00",
          "2019-06-21T00:00:00",
          "2019-07-10T00:00:00",
          "2019-03-12T00:00:00",
          "2019-09-04T00:00:00",
          "2019-02-28T00:00:00",
          "2019-04-04T00:00:00",
          "2019-06-21T00:00:00",
          "2019-09-23T00:00:00",
          "2019-04-04T00:00:00",
          "2019-08-19T00:00:00",
          "2019-04-30T00:00:00",
          "2019-07-31T00:00:00",
          "2019-03-12T00:00:00",
          "2019-05-29T00:00:00",
          "2019-07-24T00:00:00",
          "2019-09-18T00:00:00",
          "2019-03-06T00:00:00",
          "2019-08-13T00:00:00",
          "2019-05-28T00:00:00",
          "2019-09-20T00:00:00",
          "2019-03-07T00:00:00",
          "2019-03-06T00:00:00",
          "2019-07-02T00:00:00",
          "2019-09-20T00:00:00",
          "2019-04-04T00:00:00",
          "2019-04-08T00:00:00",
          "2019-03-07T00:00:00",
          "2019-03-12T00:00:00",
          "2019-06-17T00:00:00",
          "2019-09-20T00:00:00",
          "2019-09-12T00:00:00",
          "2019-04-04T00:00:00",
          "2019-07-31T00:00:00",
          "2019-07-11T00:00:00",
          "2019-10-23T00:00:00",
          "2019-08-16T00:00:00",
          "2019-09-18T00:00:00",
          "2019-02-28T00:00:00",
          "2019-03-06T00:00:00",
          "2019-03-07T00:00:00",
          "2019-07-31T00:00:00",
          "2019-05-28T00:00:00",
          "2019-04-04T00:00:00",
          "2019-09-20T00:00:00",
          "2019-03-06T00:00:00",
          "2019-07-02T00:00:00",
          "2019-04-04T00:00:00",
          "2019-06-21T00:00:00",
          "2019-02-07T00:00:00",
          "2019-09-23T00:00:00",
          "2019-03-12T00:00:00",
          "2019-03-07T00:00:00",
          "2019-02-27T00:00:00",
          "2019-02-28T00:00:00",
          "2019-03-12T00:00:00",
          "2019-08-01T00:00:00",
          "2019-04-30T00:00:00",
          "2019-04-04T00:00:00",
          "2019-09-23T00:00:00",
          "2019-05-29T00:00:00",
          "2019-04-04T00:00:00",
          "2019-09-20T00:00:00",
          "2019-03-06T00:00:00",
          "2019-03-12T00:00:00",
          "2019-08-19T00:00:00",
          "2019-03-12T00:00:00"
         ],
         "xaxis": "x",
         "y": [
          6094.8,
          3218.4,
          768,
          2201.4,
          2547,
          2554.2,
          6093,
          429.59999999999997,
          2455.2,
          678.6,
          340.2,
          8126.1,
          6775.2,
          3051,
          22019.399999999998,
          351.59999999999997,
          3402,
          678.6,
          11226.6,
          1357.2,
          2880,
          1017,
          1186.2,
          5589,
          20309.4,
          3430.8,
          3893.3999999999996,
          1863,
          5418,
          340.2,
          12315.6,
          1191,
          23713.2,
          9482.4,
          48772.799999999996,
          1782,
          763.1999999999999,
          2032.1999999999998,
          4082.3999999999996,
          1275.6,
          1614,
          937.1999999999999,
          10843.199999999999,
          763.1999999999999,
          9525.6,
          9648.9,
          4741.2,
          5248.8,
          763.1999999999999,
          11808,
          24705,
          3893.3999999999996,
          6433.2,
          1186.2,
          424.8,
          4064.3999999999996,
          1101.6,
          1778.3999999999999,
          639,
          6431.4,
          680.4,
          1273.5,
          5589,
          4608.900000000001,
          21092.399999999998,
          598.8,
          1863,
          1017,
          678.6,
          1188,
          15870,
          2032.1999999999998,
          7144.2,
          1444.8,
          4565.4,
          16938,
          1695.6,
          2889.6,
          2760,
          2205.6,
          4699.8,
          9482.4,
          1355.3999999999999,
          2376,
          594,
          4402.8,
          4699.8,
          13110,
          763.1999999999999,
          5079.599999999999,
          4908.599999999999,
          2710.7999999999997,
          5418,
          6775.2,
          3051,
          598.8,
          514.1999999999999,
          1101.6,
          9482.4,
          639,
          1332.6,
          1693.8,
          12189.6,
          6346.8,
          1186.2,
          7111.799999999999,
          10206,
          3051,
          1275.6,
          680.4,
          5079.599999999999,
          5079.599999999999,
          1017,
          2035.8000000000002,
          175.79999999999998,
          1332.6,
          2201.4,
          6264,
          6775.2,
          11507.4,
          6.6,
          3218.4,
          2032.1999999999998,
          1440,
          1024.2,
          6095.7,
          6264,
          7111.799999999999,
          429.59999999999997,
          9482.4,
          3729.6,
          847.5,
          4096.8,
          21092.399999999998,
          2116.7999999999997,
          594,
          7144.2,
          10843.199999999999,
          676.8,
          1440,
          2714.4,
          4402.8,
          2709,
          4068,
          683.4,
          424.8,
          3051,
          6262.2,
          2714.4,
          6094.8,
          1186.2,
          2624.4,
          1947.6,
          4082.3999999999996,
          768,
          4065.3,
          12060,
          16938,
          2709,
          6775.2,
          847.8,
          5418,
          680.4,
          678.6,
          1440,
          5079.599999999999,
          6264,
          1039.8,
          340.2,
          2714.4,
          1778.3999999999999,
          2032.1999999999998,
          1695,
          1024.2,
          680.4,
          3051,
          10206,
          680.4,
          11226.6,
          847.8,
          5418,
          4402.8,
          1360.8,
          9525.6,
          1024.2,
          1782,
          1693.8,
          340.2,
          2034.9,
          3430.8,
          10791,
          690,
          2376,
          680.4,
          7111.799999999999,
          2713.2,
          6431.4,
          3387.6,
          1355.3999999999999,
          11226.6,
          1526.3999999999999,
          1542.6,
          66582,
          2037.6,
          2539.7999999999997,
          3470.4,
          10843.199999999999,
          1444.8,
          6177.599999999999,
          13110,
          1357.2,
          8800.199999999999,
          3301.2,
          3047.4,
          424.8,
          678.6,
          4064.3999999999996,
          1191,
          678.6,
          5418,
          1526.3999999999999,
          4465.8,
          3059.1000000000004,
          5589,
          16938,
          5081.4,
          48772.799999999996,
          16938,
          1524.6,
          639,
          1188,
          10206,
          6775.2,
          2370.6,
          2539.7999999999997,
          3558.6000000000004,
          11226.6,
          678.6,
          2880,
          1614,
          598.8,
          4741.2,
          763.1999999999999,
          11808,
          763.1999999999999,
          680.4,
          680.4,
          2034,
          3169.7999999999997,
          1186.2,
          1273.5,
          6145.200000000001,
          2205.6,
          340.2,
          9478.8,
          1191,
          3047.4,
          2116.7999999999997,
          13582.800000000001,
          9525.6,
          48772.799999999996,
          5418,
          5079.599999999999,
          768,
          3218.4,
          7111.799999999999,
          2733.6,
          7785,
          1101.6,
          4485.599999999999,
          678.6,
          3054.6,
          1440,
          2455.2,
          6177.599999999999,
          6775.2,
          23355,
          7144.2,
          6775.2,
          2710.7999999999997,
          3562.2000000000003,
          509.4,
          3051,
          3895.2
         ],
         "yaxis": "y"
        }
       ],
       "layout": {
        "barmode": "relative",
        "legend": {
         "tracegroupgap": 0
        },
        "margin": {
         "t": 60
        },
        "template": {
         "data": {
          "bar": [
           {
            "error_x": {
             "color": "#2a3f5f"
            },
            "error_y": {
             "color": "#2a3f5f"
            },
            "marker": {
             "line": {
              "color": "#E5ECF6",
              "width": 0.5
             }
            },
            "type": "bar"
           }
          ],
          "barpolar": [
           {
            "marker": {
             "line": {
              "color": "#E5ECF6",
              "width": 0.5
             }
            },
            "type": "barpolar"
           }
          ],
          "carpet": [
           {
            "aaxis": {
             "endlinecolor": "#2a3f5f",
             "gridcolor": "white",
             "linecolor": "white",
             "minorgridcolor": "white",
             "startlinecolor": "#2a3f5f"
            },
            "baxis": {
             "endlinecolor": "#2a3f5f",
             "gridcolor": "white",
             "linecolor": "white",
             "minorgridcolor": "white",
             "startlinecolor": "#2a3f5f"
            },
            "type": "carpet"
           }
          ],
          "choropleth": [
           {
            "colorbar": {
             "outlinewidth": 0,
             "ticks": ""
            },
            "type": "choropleth"
           }
          ],
          "contour": [
           {
            "colorbar": {
             "outlinewidth": 0,
             "ticks": ""
            },
            "colorscale": [
             [
              0,
              "#0d0887"
             ],
             [
              0.1111111111111111,
              "#46039f"
             ],
             [
              0.2222222222222222,
              "#7201a8"
             ],
             [
              0.3333333333333333,
              "#9c179e"
             ],
             [
              0.4444444444444444,
              "#bd3786"
             ],
             [
              0.5555555555555556,
              "#d8576b"
             ],
             [
              0.6666666666666666,
              "#ed7953"
             ],
             [
              0.7777777777777778,
              "#fb9f3a"
             ],
             [
              0.8888888888888888,
              "#fdca26"
             ],
             [
              1,
              "#f0f921"
             ]
            ],
            "type": "contour"
           }
          ],
          "contourcarpet": [
           {
            "colorbar": {
             "outlinewidth": 0,
             "ticks": ""
            },
            "type": "contourcarpet"
           }
          ],
          "heatmap": [
           {
            "colorbar": {
             "outlinewidth": 0,
             "ticks": ""
            },
            "colorscale": [
             [
              0,
              "#0d0887"
             ],
             [
              0.1111111111111111,
              "#46039f"
             ],
             [
              0.2222222222222222,
              "#7201a8"
             ],
             [
              0.3333333333333333,
              "#9c179e"
             ],
             [
              0.4444444444444444,
              "#bd3786"
             ],
             [
              0.5555555555555556,
              "#d8576b"
             ],
             [
              0.6666666666666666,
              "#ed7953"
             ],
             [
              0.7777777777777778,
              "#fb9f3a"
             ],
             [
              0.8888888888888888,
              "#fdca26"
             ],
             [
              1,
              "#f0f921"
             ]
            ],
            "type": "heatmap"
           }
          ],
          "heatmapgl": [
           {
            "colorbar": {
             "outlinewidth": 0,
             "ticks": ""
            },
            "colorscale": [
             [
              0,
              "#0d0887"
             ],
             [
              0.1111111111111111,
              "#46039f"
             ],
             [
              0.2222222222222222,
              "#7201a8"
             ],
             [
              0.3333333333333333,
              "#9c179e"
             ],
             [
              0.4444444444444444,
              "#bd3786"
             ],
             [
              0.5555555555555556,
              "#d8576b"
             ],
             [
              0.6666666666666666,
              "#ed7953"
             ],
             [
              0.7777777777777778,
              "#fb9f3a"
             ],
             [
              0.8888888888888888,
              "#fdca26"
             ],
             [
              1,
              "#f0f921"
             ]
            ],
            "type": "heatmapgl"
           }
          ],
          "histogram": [
           {
            "marker": {
             "colorbar": {
              "outlinewidth": 0,
              "ticks": ""
             }
            },
            "type": "histogram"
           }
          ],
          "histogram2d": [
           {
            "colorbar": {
             "outlinewidth": 0,
             "ticks": ""
            },
            "colorscale": [
             [
              0,
              "#0d0887"
             ],
             [
              0.1111111111111111,
              "#46039f"
             ],
             [
              0.2222222222222222,
              "#7201a8"
             ],
             [
              0.3333333333333333,
              "#9c179e"
             ],
             [
              0.4444444444444444,
              "#bd3786"
             ],
             [
              0.5555555555555556,
              "#d8576b"
             ],
             [
              0.6666666666666666,
              "#ed7953"
             ],
             [
              0.7777777777777778,
              "#fb9f3a"
             ],
             [
              0.8888888888888888,
              "#fdca26"
             ],
             [
              1,
              "#f0f921"
             ]
            ],
            "type": "histogram2d"
           }
          ],
          "histogram2dcontour": [
           {
            "colorbar": {
             "outlinewidth": 0,
             "ticks": ""
            },
            "colorscale": [
             [
              0,
              "#0d0887"
             ],
             [
              0.1111111111111111,
              "#46039f"
             ],
             [
              0.2222222222222222,
              "#7201a8"
             ],
             [
              0.3333333333333333,
              "#9c179e"
             ],
             [
              0.4444444444444444,
              "#bd3786"
             ],
             [
              0.5555555555555556,
              "#d8576b"
             ],
             [
              0.6666666666666666,
              "#ed7953"
             ],
             [
              0.7777777777777778,
              "#fb9f3a"
             ],
             [
              0.8888888888888888,
              "#fdca26"
             ],
             [
              1,
              "#f0f921"
             ]
            ],
            "type": "histogram2dcontour"
           }
          ],
          "mesh3d": [
           {
            "colorbar": {
             "outlinewidth": 0,
             "ticks": ""
            },
            "type": "mesh3d"
           }
          ],
          "parcoords": [
           {
            "line": {
             "colorbar": {
              "outlinewidth": 0,
              "ticks": ""
             }
            },
            "type": "parcoords"
           }
          ],
          "pie": [
           {
            "automargin": true,
            "type": "pie"
           }
          ],
          "scatter": [
           {
            "marker": {
             "colorbar": {
              "outlinewidth": 0,
              "ticks": ""
             }
            },
            "type": "scatter"
           }
          ],
          "scatter3d": [
           {
            "line": {
             "colorbar": {
              "outlinewidth": 0,
              "ticks": ""
             }
            },
            "marker": {
             "colorbar": {
              "outlinewidth": 0,
              "ticks": ""
             }
            },
            "type": "scatter3d"
           }
          ],
          "scattercarpet": [
           {
            "marker": {
             "colorbar": {
              "outlinewidth": 0,
              "ticks": ""
             }
            },
            "type": "scattercarpet"
           }
          ],
          "scattergeo": [
           {
            "marker": {
             "colorbar": {
              "outlinewidth": 0,
              "ticks": ""
             }
            },
            "type": "scattergeo"
           }
          ],
          "scattergl": [
           {
            "marker": {
             "colorbar": {
              "outlinewidth": 0,
              "ticks": ""
             }
            },
            "type": "scattergl"
           }
          ],
          "scattermapbox": [
           {
            "marker": {
             "colorbar": {
              "outlinewidth": 0,
              "ticks": ""
             }
            },
            "type": "scattermapbox"
           }
          ],
          "scatterpolar": [
           {
            "marker": {
             "colorbar": {
              "outlinewidth": 0,
              "ticks": ""
             }
            },
            "type": "scatterpolar"
           }
          ],
          "scatterpolargl": [
           {
            "marker": {
             "colorbar": {
              "outlinewidth": 0,
              "ticks": ""
             }
            },
            "type": "scatterpolargl"
           }
          ],
          "scatterternary": [
           {
            "marker": {
             "colorbar": {
              "outlinewidth": 0,
              "ticks": ""
             }
            },
            "type": "scatterternary"
           }
          ],
          "surface": [
           {
            "colorbar": {
             "outlinewidth": 0,
             "ticks": ""
            },
            "colorscale": [
             [
              0,
              "#0d0887"
             ],
             [
              0.1111111111111111,
              "#46039f"
             ],
             [
              0.2222222222222222,
              "#7201a8"
             ],
             [
              0.3333333333333333,
              "#9c179e"
             ],
             [
              0.4444444444444444,
              "#bd3786"
             ],
             [
              0.5555555555555556,
              "#d8576b"
             ],
             [
              0.6666666666666666,
              "#ed7953"
             ],
             [
              0.7777777777777778,
              "#fb9f3a"
             ],
             [
              0.8888888888888888,
              "#fdca26"
             ],
             [
              1,
              "#f0f921"
             ]
            ],
            "type": "surface"
           }
          ],
          "table": [
           {
            "cells": {
             "fill": {
              "color": "#EBF0F8"
             },
             "line": {
              "color": "white"
             }
            },
            "header": {
             "fill": {
              "color": "#C8D4E3"
             },
             "line": {
              "color": "white"
             }
            },
            "type": "table"
           }
          ]
         },
         "layout": {
          "annotationdefaults": {
           "arrowcolor": "#2a3f5f",
           "arrowhead": 0,
           "arrowwidth": 1
          },
          "coloraxis": {
           "colorbar": {
            "outlinewidth": 0,
            "ticks": ""
           }
          },
          "colorscale": {
           "diverging": [
            [
             0,
             "#8e0152"
            ],
            [
             0.1,
             "#c51b7d"
            ],
            [
             0.2,
             "#de77ae"
            ],
            [
             0.3,
             "#f1b6da"
            ],
            [
             0.4,
             "#fde0ef"
            ],
            [
             0.5,
             "#f7f7f7"
            ],
            [
             0.6,
             "#e6f5d0"
            ],
            [
             0.7,
             "#b8e186"
            ],
            [
             0.8,
             "#7fbc41"
            ],
            [
             0.9,
             "#4d9221"
            ],
            [
             1,
             "#276419"
            ]
           ],
           "sequential": [
            [
             0,
             "#0d0887"
            ],
            [
             0.1111111111111111,
             "#46039f"
            ],
            [
             0.2222222222222222,
             "#7201a8"
            ],
            [
             0.3333333333333333,
             "#9c179e"
            ],
            [
             0.4444444444444444,
             "#bd3786"
            ],
            [
             0.5555555555555556,
             "#d8576b"
            ],
            [
             0.6666666666666666,
             "#ed7953"
            ],
            [
             0.7777777777777778,
             "#fb9f3a"
            ],
            [
             0.8888888888888888,
             "#fdca26"
            ],
            [
             1,
             "#f0f921"
            ]
           ],
           "sequentialminus": [
            [
             0,
             "#0d0887"
            ],
            [
             0.1111111111111111,
             "#46039f"
            ],
            [
             0.2222222222222222,
             "#7201a8"
            ],
            [
             0.3333333333333333,
             "#9c179e"
            ],
            [
             0.4444444444444444,
             "#bd3786"
            ],
            [
             0.5555555555555556,
             "#d8576b"
            ],
            [
             0.6666666666666666,
             "#ed7953"
            ],
            [
             0.7777777777777778,
             "#fb9f3a"
            ],
            [
             0.8888888888888888,
             "#fdca26"
            ],
            [
             1,
             "#f0f921"
            ]
           ]
          },
          "colorway": [
           "#636efa",
           "#EF553B",
           "#00cc96",
           "#ab63fa",
           "#FFA15A",
           "#19d3f3",
           "#FF6692",
           "#B6E880",
           "#FF97FF",
           "#FECB52"
          ],
          "font": {
           "color": "#2a3f5f"
          },
          "geo": {
           "bgcolor": "white",
           "lakecolor": "white",
           "landcolor": "#E5ECF6",
           "showlakes": true,
           "showland": true,
           "subunitcolor": "white"
          },
          "hoverlabel": {
           "align": "left"
          },
          "hovermode": "closest",
          "mapbox": {
           "style": "light"
          },
          "paper_bgcolor": "white",
          "plot_bgcolor": "#E5ECF6",
          "polar": {
           "angularaxis": {
            "gridcolor": "white",
            "linecolor": "white",
            "ticks": ""
           },
           "bgcolor": "#E5ECF6",
           "radialaxis": {
            "gridcolor": "white",
            "linecolor": "white",
            "ticks": ""
           }
          },
          "scene": {
           "xaxis": {
            "backgroundcolor": "#E5ECF6",
            "gridcolor": "white",
            "gridwidth": 2,
            "linecolor": "white",
            "showbackground": true,
            "ticks": "",
            "zerolinecolor": "white"
           },
           "yaxis": {
            "backgroundcolor": "#E5ECF6",
            "gridcolor": "white",
            "gridwidth": 2,
            "linecolor": "white",
            "showbackground": true,
            "ticks": "",
            "zerolinecolor": "white"
           },
           "zaxis": {
            "backgroundcolor": "#E5ECF6",
            "gridcolor": "white",
            "gridwidth": 2,
            "linecolor": "white",
            "showbackground": true,
            "ticks": "",
            "zerolinecolor": "white"
           }
          },
          "shapedefaults": {
           "line": {
            "color": "#2a3f5f"
           }
          },
          "ternary": {
           "aaxis": {
            "gridcolor": "white",
            "linecolor": "white",
            "ticks": ""
           },
           "baxis": {
            "gridcolor": "white",
            "linecolor": "white",
            "ticks": ""
           },
           "bgcolor": "#E5ECF6",
           "caxis": {
            "gridcolor": "white",
            "linecolor": "white",
            "ticks": ""
           }
          },
          "title": {
           "x": 0.05
          },
          "xaxis": {
           "automargin": true,
           "gridcolor": "white",
           "linecolor": "white",
           "ticks": "",
           "title": {
            "standoff": 15
           },
           "zerolinecolor": "white",
           "zerolinewidth": 2
          },
          "yaxis": {
           "automargin": true,
           "gridcolor": "white",
           "linecolor": "white",
           "ticks": "",
           "title": {
            "standoff": 15
           },
           "zerolinecolor": "white",
           "zerolinewidth": 2
          }
         }
        },
        "xaxis": {
         "anchor": "y",
         "domain": [
          0,
          1
         ],
         "title": {
          "text": "x"
         }
        },
        "yaxis": {
         "anchor": "x",
         "domain": [
          0,
          1
         ],
         "title": {
          "text": "SALE_PRICE"
         }
        }
       }
      }
     },
     "metadata": {}
    }
   ],
   "source": [
    "fig_2 = px.bar(df_main_s1[df_main_s1['ORDER_YEAR_MONTH']>='2019-01'],x=df_main_s1[df_main_s1['ORDER_YEAR_MONTH']>='2019-01'].ORDER_DATE,y='SALE_PRICE')\n",
    "\n",
    "fig_2.show()"
   ]
  },
  {
   "cell_type": "code",
   "execution_count": 36,
   "metadata": {},
   "outputs": [],
   "source": [
    "import plotly.graph_objects as go"
   ]
  },
  {
   "cell_type": "code",
   "execution_count": 37,
   "metadata": {},
   "outputs": [
    {
     "output_type": "display_data",
     "data": {
      "application/vnd.plotly.v1+json": {
       "config": {
        "plotlyServerURL": "https://plot.ly"
       },
       "data": [
        {
         "marker": {
          "color": "rgb(158,202,225)",
          "line": {
           "color": "rgb(8,48,107)",
           "width": 4
          }
         },
         "opacity": 0.6,
         "type": "bar",
         "x": [
          "2019-09-20T00:00:00",
          "2019-04-04T00:00:00",
          "2019-07-02T00:00:00",
          "2019-03-06T00:00:00",
          "2019-02-20T00:00:00",
          "2019-09-04T00:00:00",
          "2019-09-18T00:00:00",
          "2019-03-06T00:00:00",
          "2019-08-16T00:00:00",
          "2019-03-06T00:00:00",
          "2019-03-12T00:00:00",
          "2019-07-31T00:00:00",
          "2019-04-04T00:00:00",
          "2019-07-24T00:00:00",
          "2019-09-20T00:00:00",
          "2019-03-18T00:00:00",
          "2019-09-18T00:00:00",
          "2019-08-19T00:00:00",
          "2019-05-29T00:00:00",
          "2019-09-20T00:00:00",
          "2019-03-12T00:00:00",
          "2019-04-30T00:00:00",
          "2019-04-04T00:00:00",
          "2019-04-04T00:00:00",
          "2019-09-23T00:00:00",
          "2019-07-31T00:00:00",
          "2019-03-07T00:00:00",
          "2019-02-27T00:00:00",
          "2019-09-20T00:00:00",
          "2019-08-01T00:00:00",
          "2019-02-28T00:00:00",
          "2019-03-06T00:00:00",
          "2019-09-18T00:00:00",
          "2019-06-21T00:00:00",
          "2019-04-04T00:00:00",
          "2019-03-12T00:00:00",
          "2019-04-04T00:00:00",
          "2019-04-30T00:00:00",
          "2019-09-20T00:00:00",
          "2019-02-22T00:00:00",
          "2019-02-28T00:00:00",
          "2019-02-07T00:00:00",
          "2019-06-21T00:00:00",
          "2019-03-12T00:00:00",
          "2019-05-29T00:00:00",
          "2019-07-31T00:00:00",
          "2019-09-20T00:00:00",
          "2019-03-07T00:00:00",
          "2019-04-04T00:00:00",
          "2019-02-28T00:00:00",
          "2019-09-23T00:00:00",
          "2019-03-07T00:00:00",
          "2019-04-05T00:00:00",
          "2019-03-06T00:00:00",
          "2019-04-04T00:00:00",
          "2019-09-20T00:00:00",
          "2019-01-01T00:00:00",
          "2019-03-06T00:00:00",
          "2019-07-31T00:00:00",
          "2019-09-18T00:00:00",
          "2019-09-20T00:00:00",
          "2019-07-31T00:00:00",
          "2019-04-04T00:00:00",
          "2019-07-11T00:00:00",
          "2019-05-29T00:00:00",
          "2019-07-02T00:00:00",
          "2019-03-06T00:00:00",
          "2019-03-07T00:00:00",
          "2019-03-12T00:00:00",
          "2019-06-17T00:00:00",
          "2019-03-06T00:00:00",
          "2019-09-18T00:00:00",
          "2019-05-28T00:00:00",
          "2019-02-07T00:00:00",
          "2019-09-04T00:00:00",
          "2019-06-21T00:00:00",
          "2019-06-17T00:00:00",
          "2019-11-07T00:00:00",
          "2019-06-06T00:00:00",
          "2019-10-23T00:00:00",
          "2019-07-31T00:00:00",
          "2019-07-24T00:00:00",
          "2019-08-16T00:00:00",
          "2019-03-12T00:00:00",
          "2019-03-07T00:00:00",
          "2019-03-06T00:00:00",
          "2019-07-31T00:00:00",
          "2019-06-06T00:00:00",
          "2019-03-12T00:00:00",
          "2019-03-06T00:00:00",
          "2019-03-07T00:00:00",
          "2019-09-20T00:00:00",
          "2019-08-01T00:00:00",
          "2019-08-19T00:00:00",
          "2019-06-21T00:00:00",
          "2019-02-07T00:00:00",
          "2019-07-02T00:00:00",
          "2019-03-12T00:00:00",
          "2019-08-19T00:00:00",
          "2019-07-31T00:00:00",
          "2019-09-12T00:00:00",
          "2019-08-01T00:00:00",
          "2019-09-20T00:00:00",
          "2019-04-30T00:00:00",
          "2019-04-04T00:00:00",
          "2019-06-21T00:00:00",
          "2019-05-29T00:00:00",
          "2019-07-24T00:00:00",
          "2019-02-07T00:00:00",
          "2019-06-21T00:00:00",
          "2019-07-10T00:00:00",
          "2019-08-01T00:00:00",
          "2019-09-20T00:00:00",
          "2019-03-12T00:00:00",
          "2019-03-18T00:00:00",
          "2019-09-12T00:00:00",
          "2019-02-27T00:00:00",
          "2019-03-07T00:00:00",
          "2019-06-21T00:00:00",
          "2019-02-27T00:00:00",
          "2019-01-01T00:00:00",
          "2019-04-04T00:00:00",
          "2019-08-01T00:00:00",
          "2019-04-30T00:00:00",
          "2019-03-07T00:00:00",
          "2019-07-31T00:00:00",
          "2019-03-07T00:00:00",
          "2019-08-19T00:00:00",
          "2019-02-28T00:00:00",
          "2019-06-21T00:00:00",
          "2019-08-13T00:00:00",
          "2019-09-04T00:00:00",
          "2019-07-11T00:00:00",
          "2019-05-28T00:00:00",
          "2019-03-07T00:00:00",
          "2019-03-12T00:00:00",
          "2019-05-29T00:00:00",
          "2019-07-23T00:00:00",
          "2019-01-01T00:00:00",
          "2019-03-06T00:00:00",
          "2019-08-16T00:00:00",
          "2019-04-05T00:00:00",
          "2019-08-16T00:00:00",
          "2019-09-18T00:00:00",
          "2019-07-02T00:00:00",
          "2019-04-04T00:00:00",
          "2019-08-19T00:00:00",
          "2019-03-07T00:00:00",
          "2019-08-01T00:00:00",
          "2019-09-20T00:00:00",
          "2019-02-27T00:00:00",
          "2019-03-07T00:00:00",
          "2019-03-12T00:00:00",
          "2019-09-20T00:00:00",
          "2019-02-07T00:00:00",
          "2019-03-06T00:00:00",
          "2019-07-31T00:00:00",
          "2019-07-24T00:00:00",
          "2019-08-01T00:00:00",
          "2019-06-21T00:00:00",
          "2019-03-12T00:00:00",
          "2019-07-10T00:00:00",
          "2019-08-19T00:00:00",
          "2019-09-18T00:00:00",
          "2019-03-06T00:00:00",
          "2019-08-16T00:00:00",
          "2019-04-05T00:00:00",
          "2019-09-04T00:00:00",
          "2019-06-17T00:00:00",
          "2019-03-12T00:00:00",
          "2019-03-06T00:00:00",
          "2019-08-16T00:00:00",
          "2019-10-23T00:00:00",
          "2019-03-07T00:00:00",
          "2019-07-24T00:00:00",
          "2019-06-21T00:00:00",
          "2019-05-28T00:00:00",
          "2019-08-13T00:00:00",
          "2019-05-29T00:00:00",
          "2019-03-07T00:00:00",
          "2019-08-16T00:00:00",
          "2019-03-06T00:00:00",
          "2019-09-18T00:00:00",
          "2019-05-29T00:00:00",
          "2019-07-11T00:00:00",
          "2019-08-13T00:00:00",
          "2019-08-16T00:00:00",
          "2019-03-07T00:00:00",
          "2019-03-06T00:00:00",
          "2019-07-31T00:00:00",
          "2019-07-31T00:00:00",
          "2019-09-13T00:00:00",
          "2019-06-17T00:00:00",
          "2019-03-12T00:00:00",
          "2019-07-24T00:00:00",
          "2019-10-23T00:00:00",
          "2019-03-07T00:00:00",
          "2019-09-20T00:00:00",
          "2019-08-01T00:00:00",
          "2019-05-29T00:00:00",
          "2019-03-12T00:00:00",
          "2019-02-07T00:00:00",
          "2019-04-04T00:00:00",
          "2019-03-12T00:00:00",
          "2019-02-27T00:00:00",
          "2019-03-07T00:00:00",
          "2019-08-19T00:00:00",
          "2019-02-22T00:00:00",
          "2019-03-07T00:00:00",
          "2019-06-06T00:00:00",
          "2019-09-20T00:00:00",
          "2019-09-23T00:00:00",
          "2019-03-07T00:00:00",
          "2019-02-27T00:00:00",
          "2019-04-04T00:00:00",
          "2019-07-24T00:00:00",
          "2019-09-20T00:00:00",
          "2019-02-07T00:00:00",
          "2019-06-21T00:00:00",
          "2019-07-10T00:00:00",
          "2019-03-12T00:00:00",
          "2019-09-04T00:00:00",
          "2019-02-28T00:00:00",
          "2019-04-04T00:00:00",
          "2019-06-21T00:00:00",
          "2019-09-23T00:00:00",
          "2019-04-04T00:00:00",
          "2019-08-19T00:00:00",
          "2019-04-30T00:00:00",
          "2019-07-31T00:00:00",
          "2019-03-12T00:00:00",
          "2019-05-29T00:00:00",
          "2019-07-24T00:00:00",
          "2019-09-18T00:00:00",
          "2019-03-06T00:00:00",
          "2019-08-13T00:00:00",
          "2019-05-28T00:00:00",
          "2019-09-20T00:00:00",
          "2019-03-07T00:00:00",
          "2019-03-06T00:00:00",
          "2019-07-02T00:00:00",
          "2019-09-20T00:00:00",
          "2019-04-04T00:00:00",
          "2019-04-08T00:00:00",
          "2019-03-07T00:00:00",
          "2019-03-12T00:00:00",
          "2019-06-17T00:00:00",
          "2019-09-20T00:00:00",
          "2019-09-12T00:00:00",
          "2019-04-04T00:00:00",
          "2019-07-31T00:00:00",
          "2019-07-11T00:00:00",
          "2019-10-23T00:00:00",
          "2019-08-16T00:00:00",
          "2019-09-18T00:00:00",
          "2019-02-28T00:00:00",
          "2019-03-06T00:00:00",
          "2019-03-07T00:00:00",
          "2019-07-31T00:00:00",
          "2019-05-28T00:00:00",
          "2019-04-04T00:00:00",
          "2019-09-20T00:00:00",
          "2019-03-06T00:00:00",
          "2019-07-02T00:00:00",
          "2019-04-04T00:00:00",
          "2019-06-21T00:00:00",
          "2019-02-07T00:00:00",
          "2019-09-23T00:00:00",
          "2019-03-12T00:00:00",
          "2019-03-07T00:00:00",
          "2019-02-27T00:00:00",
          "2019-02-28T00:00:00",
          "2019-03-12T00:00:00",
          "2019-08-01T00:00:00",
          "2019-04-30T00:00:00",
          "2019-04-04T00:00:00",
          "2019-09-23T00:00:00",
          "2019-05-29T00:00:00",
          "2019-04-04T00:00:00",
          "2019-09-20T00:00:00",
          "2019-03-06T00:00:00",
          "2019-03-12T00:00:00",
          "2019-08-19T00:00:00",
          "2019-03-12T00:00:00"
         ],
         "y": [
          6094.8,
          3218.4,
          768,
          2201.4,
          2547,
          2554.2,
          6093,
          429.59999999999997,
          2455.2,
          678.6,
          340.2,
          8126.1,
          6775.2,
          3051,
          22019.399999999998,
          351.59999999999997,
          3402,
          678.6,
          11226.6,
          1357.2,
          2880,
          1017,
          1186.2,
          5589,
          20309.4,
          3430.8,
          3893.3999999999996,
          1863,
          5418,
          340.2,
          12315.6,
          1191,
          23713.2,
          9482.4,
          48772.799999999996,
          1782,
          763.1999999999999,
          2032.1999999999998,
          4082.3999999999996,
          1275.6,
          1614,
          937.1999999999999,
          10843.199999999999,
          763.1999999999999,
          9525.6,
          9648.9,
          4741.2,
          5248.8,
          763.1999999999999,
          11808,
          24705,
          3893.3999999999996,
          6433.2,
          1186.2,
          424.8,
          4064.3999999999996,
          1101.6,
          1778.3999999999999,
          639,
          6431.4,
          680.4,
          1273.5,
          5589,
          4608.900000000001,
          21092.399999999998,
          598.8,
          1863,
          1017,
          678.6,
          1188,
          15870,
          2032.1999999999998,
          7144.2,
          1444.8,
          4565.4,
          16938,
          1695.6,
          2889.6,
          2760,
          2205.6,
          4699.8,
          9482.4,
          1355.3999999999999,
          2376,
          594,
          4402.8,
          4699.8,
          13110,
          763.1999999999999,
          5079.599999999999,
          4908.599999999999,
          2710.7999999999997,
          5418,
          6775.2,
          3051,
          598.8,
          514.1999999999999,
          1101.6,
          9482.4,
          639,
          1332.6,
          1693.8,
          12189.6,
          6346.8,
          1186.2,
          7111.799999999999,
          10206,
          3051,
          1275.6,
          680.4,
          5079.599999999999,
          5079.599999999999,
          1017,
          2035.8000000000002,
          175.79999999999998,
          1332.6,
          2201.4,
          6264,
          6775.2,
          11507.4,
          6.6,
          3218.4,
          2032.1999999999998,
          1440,
          1024.2,
          6095.7,
          6264,
          7111.799999999999,
          429.59999999999997,
          9482.4,
          3729.6,
          847.5,
          4096.8,
          21092.399999999998,
          2116.7999999999997,
          594,
          7144.2,
          10843.199999999999,
          676.8,
          1440,
          2714.4,
          4402.8,
          2709,
          4068,
          683.4,
          424.8,
          3051,
          6262.2,
          2714.4,
          6094.8,
          1186.2,
          2624.4,
          1947.6,
          4082.3999999999996,
          768,
          4065.3,
          12060,
          16938,
          2709,
          6775.2,
          847.8,
          5418,
          680.4,
          678.6,
          1440,
          5079.599999999999,
          6264,
          1039.8,
          340.2,
          2714.4,
          1778.3999999999999,
          2032.1999999999998,
          1695,
          1024.2,
          680.4,
          3051,
          10206,
          680.4,
          11226.6,
          847.8,
          5418,
          4402.8,
          1360.8,
          9525.6,
          1024.2,
          1782,
          1693.8,
          340.2,
          2034.9,
          3430.8,
          10791,
          690,
          2376,
          680.4,
          7111.799999999999,
          2713.2,
          6431.4,
          3387.6,
          1355.3999999999999,
          11226.6,
          1526.3999999999999,
          1542.6,
          66582,
          2037.6,
          2539.7999999999997,
          3470.4,
          10843.199999999999,
          1444.8,
          6177.599999999999,
          13110,
          1357.2,
          8800.199999999999,
          3301.2,
          3047.4,
          424.8,
          678.6,
          4064.3999999999996,
          1191,
          678.6,
          5418,
          1526.3999999999999,
          4465.8,
          3059.1000000000004,
          5589,
          16938,
          5081.4,
          48772.799999999996,
          16938,
          1524.6,
          639,
          1188,
          10206,
          6775.2,
          2370.6,
          2539.7999999999997,
          3558.6000000000004,
          11226.6,
          678.6,
          2880,
          1614,
          598.8,
          4741.2,
          763.1999999999999,
          11808,
          763.1999999999999,
          680.4,
          680.4,
          2034,
          3169.7999999999997,
          1186.2,
          1273.5,
          6145.200000000001,
          2205.6,
          340.2,
          9478.8,
          1191,
          3047.4,
          2116.7999999999997,
          13582.800000000001,
          9525.6,
          48772.799999999996,
          5418,
          5079.599999999999,
          768,
          3218.4,
          7111.799999999999,
          2733.6,
          7785,
          1101.6,
          4485.599999999999,
          678.6,
          3054.6,
          1440,
          2455.2,
          6177.599999999999,
          6775.2,
          23355,
          7144.2,
          6775.2,
          2710.7999999999997,
          3562.2000000000003,
          509.4,
          3051,
          3895.2
         ]
        }
       ],
       "layout": {
        "template": {
         "data": {
          "bar": [
           {
            "error_x": {
             "color": "#2a3f5f"
            },
            "error_y": {
             "color": "#2a3f5f"
            },
            "marker": {
             "line": {
              "color": "#E5ECF6",
              "width": 0.5
             }
            },
            "type": "bar"
           }
          ],
          "barpolar": [
           {
            "marker": {
             "line": {
              "color": "#E5ECF6",
              "width": 0.5
             }
            },
            "type": "barpolar"
           }
          ],
          "carpet": [
           {
            "aaxis": {
             "endlinecolor": "#2a3f5f",
             "gridcolor": "white",
             "linecolor": "white",
             "minorgridcolor": "white",
             "startlinecolor": "#2a3f5f"
            },
            "baxis": {
             "endlinecolor": "#2a3f5f",
             "gridcolor": "white",
             "linecolor": "white",
             "minorgridcolor": "white",
             "startlinecolor": "#2a3f5f"
            },
            "type": "carpet"
           }
          ],
          "choropleth": [
           {
            "colorbar": {
             "outlinewidth": 0,
             "ticks": ""
            },
            "type": "choropleth"
           }
          ],
          "contour": [
           {
            "colorbar": {
             "outlinewidth": 0,
             "ticks": ""
            },
            "colorscale": [
             [
              0,
              "#0d0887"
             ],
             [
              0.1111111111111111,
              "#46039f"
             ],
             [
              0.2222222222222222,
              "#7201a8"
             ],
             [
              0.3333333333333333,
              "#9c179e"
             ],
             [
              0.4444444444444444,
              "#bd3786"
             ],
             [
              0.5555555555555556,
              "#d8576b"
             ],
             [
              0.6666666666666666,
              "#ed7953"
             ],
             [
              0.7777777777777778,
              "#fb9f3a"
             ],
             [
              0.8888888888888888,
              "#fdca26"
             ],
             [
              1,
              "#f0f921"
             ]
            ],
            "type": "contour"
           }
          ],
          "contourcarpet": [
           {
            "colorbar": {
             "outlinewidth": 0,
             "ticks": ""
            },
            "type": "contourcarpet"
           }
          ],
          "heatmap": [
           {
            "colorbar": {
             "outlinewidth": 0,
             "ticks": ""
            },
            "colorscale": [
             [
              0,
              "#0d0887"
             ],
             [
              0.1111111111111111,
              "#46039f"
             ],
             [
              0.2222222222222222,
              "#7201a8"
             ],
             [
              0.3333333333333333,
              "#9c179e"
             ],
             [
              0.4444444444444444,
              "#bd3786"
             ],
             [
              0.5555555555555556,
              "#d8576b"
             ],
             [
              0.6666666666666666,
              "#ed7953"
             ],
             [
              0.7777777777777778,
              "#fb9f3a"
             ],
             [
              0.8888888888888888,
              "#fdca26"
             ],
             [
              1,
              "#f0f921"
             ]
            ],
            "type": "heatmap"
           }
          ],
          "heatmapgl": [
           {
            "colorbar": {
             "outlinewidth": 0,
             "ticks": ""
            },
            "colorscale": [
             [
              0,
              "#0d0887"
             ],
             [
              0.1111111111111111,
              "#46039f"
             ],
             [
              0.2222222222222222,
              "#7201a8"
             ],
             [
              0.3333333333333333,
              "#9c179e"
             ],
             [
              0.4444444444444444,
              "#bd3786"
             ],
             [
              0.5555555555555556,
              "#d8576b"
             ],
             [
              0.6666666666666666,
              "#ed7953"
             ],
             [
              0.7777777777777778,
              "#fb9f3a"
             ],
             [
              0.8888888888888888,
              "#fdca26"
             ],
             [
              1,
              "#f0f921"
             ]
            ],
            "type": "heatmapgl"
           }
          ],
          "histogram": [
           {
            "marker": {
             "colorbar": {
              "outlinewidth": 0,
              "ticks": ""
             }
            },
            "type": "histogram"
           }
          ],
          "histogram2d": [
           {
            "colorbar": {
             "outlinewidth": 0,
             "ticks": ""
            },
            "colorscale": [
             [
              0,
              "#0d0887"
             ],
             [
              0.1111111111111111,
              "#46039f"
             ],
             [
              0.2222222222222222,
              "#7201a8"
             ],
             [
              0.3333333333333333,
              "#9c179e"
             ],
             [
              0.4444444444444444,
              "#bd3786"
             ],
             [
              0.5555555555555556,
              "#d8576b"
             ],
             [
              0.6666666666666666,
              "#ed7953"
             ],
             [
              0.7777777777777778,
              "#fb9f3a"
             ],
             [
              0.8888888888888888,
              "#fdca26"
             ],
             [
              1,
              "#f0f921"
             ]
            ],
            "type": "histogram2d"
           }
          ],
          "histogram2dcontour": [
           {
            "colorbar": {
             "outlinewidth": 0,
             "ticks": ""
            },
            "colorscale": [
             [
              0,
              "#0d0887"
             ],
             [
              0.1111111111111111,
              "#46039f"
             ],
             [
              0.2222222222222222,
              "#7201a8"
             ],
             [
              0.3333333333333333,
              "#9c179e"
             ],
             [
              0.4444444444444444,
              "#bd3786"
             ],
             [
              0.5555555555555556,
              "#d8576b"
             ],
             [
              0.6666666666666666,
              "#ed7953"
             ],
             [
              0.7777777777777778,
              "#fb9f3a"
             ],
             [
              0.8888888888888888,
              "#fdca26"
             ],
             [
              1,
              "#f0f921"
             ]
            ],
            "type": "histogram2dcontour"
           }
          ],
          "mesh3d": [
           {
            "colorbar": {
             "outlinewidth": 0,
             "ticks": ""
            },
            "type": "mesh3d"
           }
          ],
          "parcoords": [
           {
            "line": {
             "colorbar": {
              "outlinewidth": 0,
              "ticks": ""
             }
            },
            "type": "parcoords"
           }
          ],
          "pie": [
           {
            "automargin": true,
            "type": "pie"
           }
          ],
          "scatter": [
           {
            "marker": {
             "colorbar": {
              "outlinewidth": 0,
              "ticks": ""
             }
            },
            "type": "scatter"
           }
          ],
          "scatter3d": [
           {
            "line": {
             "colorbar": {
              "outlinewidth": 0,
              "ticks": ""
             }
            },
            "marker": {
             "colorbar": {
              "outlinewidth": 0,
              "ticks": ""
             }
            },
            "type": "scatter3d"
           }
          ],
          "scattercarpet": [
           {
            "marker": {
             "colorbar": {
              "outlinewidth": 0,
              "ticks": ""
             }
            },
            "type": "scattercarpet"
           }
          ],
          "scattergeo": [
           {
            "marker": {
             "colorbar": {
              "outlinewidth": 0,
              "ticks": ""
             }
            },
            "type": "scattergeo"
           }
          ],
          "scattergl": [
           {
            "marker": {
             "colorbar": {
              "outlinewidth": 0,
              "ticks": ""
             }
            },
            "type": "scattergl"
           }
          ],
          "scattermapbox": [
           {
            "marker": {
             "colorbar": {
              "outlinewidth": 0,
              "ticks": ""
             }
            },
            "type": "scattermapbox"
           }
          ],
          "scatterpolar": [
           {
            "marker": {
             "colorbar": {
              "outlinewidth": 0,
              "ticks": ""
             }
            },
            "type": "scatterpolar"
           }
          ],
          "scatterpolargl": [
           {
            "marker": {
             "colorbar": {
              "outlinewidth": 0,
              "ticks": ""
             }
            },
            "type": "scatterpolargl"
           }
          ],
          "scatterternary": [
           {
            "marker": {
             "colorbar": {
              "outlinewidth": 0,
              "ticks": ""
             }
            },
            "type": "scatterternary"
           }
          ],
          "surface": [
           {
            "colorbar": {
             "outlinewidth": 0,
             "ticks": ""
            },
            "colorscale": [
             [
              0,
              "#0d0887"
             ],
             [
              0.1111111111111111,
              "#46039f"
             ],
             [
              0.2222222222222222,
              "#7201a8"
             ],
             [
              0.3333333333333333,
              "#9c179e"
             ],
             [
              0.4444444444444444,
              "#bd3786"
             ],
             [
              0.5555555555555556,
              "#d8576b"
             ],
             [
              0.6666666666666666,
              "#ed7953"
             ],
             [
              0.7777777777777778,
              "#fb9f3a"
             ],
             [
              0.8888888888888888,
              "#fdca26"
             ],
             [
              1,
              "#f0f921"
             ]
            ],
            "type": "surface"
           }
          ],
          "table": [
           {
            "cells": {
             "fill": {
              "color": "#EBF0F8"
             },
             "line": {
              "color": "white"
             }
            },
            "header": {
             "fill": {
              "color": "#C8D4E3"
             },
             "line": {
              "color": "white"
             }
            },
            "type": "table"
           }
          ]
         },
         "layout": {
          "annotationdefaults": {
           "arrowcolor": "#2a3f5f",
           "arrowhead": 0,
           "arrowwidth": 1
          },
          "coloraxis": {
           "colorbar": {
            "outlinewidth": 0,
            "ticks": ""
           }
          },
          "colorscale": {
           "diverging": [
            [
             0,
             "#8e0152"
            ],
            [
             0.1,
             "#c51b7d"
            ],
            [
             0.2,
             "#de77ae"
            ],
            [
             0.3,
             "#f1b6da"
            ],
            [
             0.4,
             "#fde0ef"
            ],
            [
             0.5,
             "#f7f7f7"
            ],
            [
             0.6,
             "#e6f5d0"
            ],
            [
             0.7,
             "#b8e186"
            ],
            [
             0.8,
             "#7fbc41"
            ],
            [
             0.9,
             "#4d9221"
            ],
            [
             1,
             "#276419"
            ]
           ],
           "sequential": [
            [
             0,
             "#0d0887"
            ],
            [
             0.1111111111111111,
             "#46039f"
            ],
            [
             0.2222222222222222,
             "#7201a8"
            ],
            [
             0.3333333333333333,
             "#9c179e"
            ],
            [
             0.4444444444444444,
             "#bd3786"
            ],
            [
             0.5555555555555556,
             "#d8576b"
            ],
            [
             0.6666666666666666,
             "#ed7953"
            ],
            [
             0.7777777777777778,
             "#fb9f3a"
            ],
            [
             0.8888888888888888,
             "#fdca26"
            ],
            [
             1,
             "#f0f921"
            ]
           ],
           "sequentialminus": [
            [
             0,
             "#0d0887"
            ],
            [
             0.1111111111111111,
             "#46039f"
            ],
            [
             0.2222222222222222,
             "#7201a8"
            ],
            [
             0.3333333333333333,
             "#9c179e"
            ],
            [
             0.4444444444444444,
             "#bd3786"
            ],
            [
             0.5555555555555556,
             "#d8576b"
            ],
            [
             0.6666666666666666,
             "#ed7953"
            ],
            [
             0.7777777777777778,
             "#fb9f3a"
            ],
            [
             0.8888888888888888,
             "#fdca26"
            ],
            [
             1,
             "#f0f921"
            ]
           ]
          },
          "colorway": [
           "#636efa",
           "#EF553B",
           "#00cc96",
           "#ab63fa",
           "#FFA15A",
           "#19d3f3",
           "#FF6692",
           "#B6E880",
           "#FF97FF",
           "#FECB52"
          ],
          "font": {
           "color": "#2a3f5f"
          },
          "geo": {
           "bgcolor": "white",
           "lakecolor": "white",
           "landcolor": "#E5ECF6",
           "showlakes": true,
           "showland": true,
           "subunitcolor": "white"
          },
          "hoverlabel": {
           "align": "left"
          },
          "hovermode": "closest",
          "mapbox": {
           "style": "light"
          },
          "paper_bgcolor": "white",
          "plot_bgcolor": "#E5ECF6",
          "polar": {
           "angularaxis": {
            "gridcolor": "white",
            "linecolor": "white",
            "ticks": ""
           },
           "bgcolor": "#E5ECF6",
           "radialaxis": {
            "gridcolor": "white",
            "linecolor": "white",
            "ticks": ""
           }
          },
          "scene": {
           "xaxis": {
            "backgroundcolor": "#E5ECF6",
            "gridcolor": "white",
            "gridwidth": 2,
            "linecolor": "white",
            "showbackground": true,
            "ticks": "",
            "zerolinecolor": "white"
           },
           "yaxis": {
            "backgroundcolor": "#E5ECF6",
            "gridcolor": "white",
            "gridwidth": 2,
            "linecolor": "white",
            "showbackground": true,
            "ticks": "",
            "zerolinecolor": "white"
           },
           "zaxis": {
            "backgroundcolor": "#E5ECF6",
            "gridcolor": "white",
            "gridwidth": 2,
            "linecolor": "white",
            "showbackground": true,
            "ticks": "",
            "zerolinecolor": "white"
           }
          },
          "shapedefaults": {
           "line": {
            "color": "#2a3f5f"
           }
          },
          "ternary": {
           "aaxis": {
            "gridcolor": "white",
            "linecolor": "white",
            "ticks": ""
           },
           "baxis": {
            "gridcolor": "white",
            "linecolor": "white",
            "ticks": ""
           },
           "bgcolor": "#E5ECF6",
           "caxis": {
            "gridcolor": "white",
            "linecolor": "white",
            "ticks": ""
           }
          },
          "title": {
           "x": 0.05
          },
          "xaxis": {
           "automargin": true,
           "gridcolor": "white",
           "linecolor": "white",
           "ticks": "",
           "title": {
            "standoff": 15
           },
           "zerolinecolor": "white",
           "zerolinewidth": 2
          },
          "yaxis": {
           "automargin": true,
           "gridcolor": "white",
           "linecolor": "white",
           "ticks": "",
           "title": {
            "standoff": 15
           },
           "zerolinecolor": "white",
           "zerolinewidth": 2
          }
         }
        },
        "title": {
         "text": "From 2019 Jan - 2019 Dec Sales Report"
        }
       }
      }
     },
     "metadata": {}
    }
   ],
   "source": [
    "# Use the hovertext kw argument for hover text\n",
    "fig = go.Figure(data=[go.Bar(x=df_main_s1[df_main_s1['ORDER_YEAR_MONTH']>='2019-01'].ORDER_DATE, y=df_main_s1[df_main_s1['ORDER_YEAR_MONTH']>='2019-01'].SALE_PRICE)])\n",
    "# Customize aspect\n",
    "fig.update_traces(marker_color='rgb(158,202,225)', marker_line_color='rgb(8,48,107)',\n",
    "                  marker_line_width=4, opacity=0.6)\n",
    "fig.update_layout(title_text='From 2019 Jan - 2019 Dec Sales Report')\n",
    "fig.show()"
   ]
  },
  {
   "cell_type": "code",
   "execution_count": 38,
   "metadata": {},
   "outputs": [
    {
     "output_type": "execute_result",
     "data": {
      "text/plain": [
       "numpy.ndarray"
      ]
     },
     "metadata": {},
     "execution_count": 38
    }
   ],
   "source": [
    "type(df_main_s1['PDT_MODEL'].unique())"
   ]
  },
  {
   "cell_type": "code",
   "execution_count": 39,
   "metadata": {},
   "outputs": [
    {
     "output_type": "execute_result",
     "data": {
      "text/plain": [
       "                                ORDER_DATE\n",
       "SALE_ORDER CUSTOMER                       \n",
       "87307V     PARLIAMENT                   25\n",
       "87353V     HONDA/KIA                    16\n",
       "87702N     TOILET UPGRADE               10\n",
       "87729N     PLC EARLY LEARN               5\n",
       "87740V     ST CATHERINE SIENA            3\n",
       "87761A     ST JOSEPH TRINITY            12\n",
       "87782S     XAVIER COLLEGE                3\n",
       "87866V     LAVALLA                      27\n",
       "87952V     BENTLEY SA                   13\n",
       "88288V1    OLYMPIC VILLAGE              22\n",
       "88288V2    OLYMPIC VILLAGE               1\n",
       "88552Q3    DTB RETAIL UPGRDE            14\n",
       "88657V     VSBA CRAIGIEBURN             16\n",
       "88666V     VSBA WYNDHAM                 21\n",
       "88674V     CLYDE                         5\n",
       "           VSBA CLYDE                   13\n",
       "88689V     BEVERIDGE WEST                5\n",
       "           VSBA BEVERIDGE               18\n",
       "88705V     BOTANIC RIDGE                 5\n",
       "88867S     MT BARKER DEPOT              22\n",
       "89001Z     TRISTRAM MARINE               5\n",
       "89099Z     LSD TAURANGA                  4\n",
       "89347V     WILLIAMS LANDING             15\n",
       "89606V     GIPPSLAND NAGLE               4\n",
       "89910N     ANU RSPE STAGE 1              3\n",
       "90340S     McDONALDS FREWVILLE           4"
      ],
      "text/html": "<div>\n<style scoped>\n    .dataframe tbody tr th:only-of-type {\n        vertical-align: middle;\n    }\n\n    .dataframe tbody tr th {\n        vertical-align: top;\n    }\n\n    .dataframe thead th {\n        text-align: right;\n    }\n</style>\n<table border=\"1\" class=\"dataframe\">\n  <thead>\n    <tr style=\"text-align: right;\">\n      <th></th>\n      <th></th>\n      <th>ORDER_DATE</th>\n    </tr>\n    <tr>\n      <th>SALE_ORDER</th>\n      <th>CUSTOMER</th>\n      <th></th>\n    </tr>\n  </thead>\n  <tbody>\n    <tr>\n      <th>87307V</th>\n      <th>PARLIAMENT</th>\n      <td>25</td>\n    </tr>\n    <tr>\n      <th>87353V</th>\n      <th>HONDA/KIA</th>\n      <td>16</td>\n    </tr>\n    <tr>\n      <th>87702N</th>\n      <th>TOILET UPGRADE</th>\n      <td>10</td>\n    </tr>\n    <tr>\n      <th>87729N</th>\n      <th>PLC EARLY LEARN</th>\n      <td>5</td>\n    </tr>\n    <tr>\n      <th>87740V</th>\n      <th>ST CATHERINE SIENA</th>\n      <td>3</td>\n    </tr>\n    <tr>\n      <th>87761A</th>\n      <th>ST JOSEPH TRINITY</th>\n      <td>12</td>\n    </tr>\n    <tr>\n      <th>87782S</th>\n      <th>XAVIER COLLEGE</th>\n      <td>3</td>\n    </tr>\n    <tr>\n      <th>87866V</th>\n      <th>LAVALLA</th>\n      <td>27</td>\n    </tr>\n    <tr>\n      <th>87952V</th>\n      <th>BENTLEY SA</th>\n      <td>13</td>\n    </tr>\n    <tr>\n      <th>88288V1</th>\n      <th>OLYMPIC VILLAGE</th>\n      <td>22</td>\n    </tr>\n    <tr>\n      <th>88288V2</th>\n      <th>OLYMPIC VILLAGE</th>\n      <td>1</td>\n    </tr>\n    <tr>\n      <th>88552Q3</th>\n      <th>DTB RETAIL UPGRDE</th>\n      <td>14</td>\n    </tr>\n    <tr>\n      <th>88657V</th>\n      <th>VSBA CRAIGIEBURN</th>\n      <td>16</td>\n    </tr>\n    <tr>\n      <th>88666V</th>\n      <th>VSBA WYNDHAM</th>\n      <td>21</td>\n    </tr>\n    <tr>\n      <th rowspan=\"2\" valign=\"top\">88674V</th>\n      <th>CLYDE</th>\n      <td>5</td>\n    </tr>\n    <tr>\n      <th>VSBA CLYDE</th>\n      <td>13</td>\n    </tr>\n    <tr>\n      <th rowspan=\"2\" valign=\"top\">88689V</th>\n      <th>BEVERIDGE WEST</th>\n      <td>5</td>\n    </tr>\n    <tr>\n      <th>VSBA BEVERIDGE</th>\n      <td>18</td>\n    </tr>\n    <tr>\n      <th>88705V</th>\n      <th>BOTANIC RIDGE</th>\n      <td>5</td>\n    </tr>\n    <tr>\n      <th>88867S</th>\n      <th>MT BARKER DEPOT</th>\n      <td>22</td>\n    </tr>\n    <tr>\n      <th>89001Z</th>\n      <th>TRISTRAM MARINE</th>\n      <td>5</td>\n    </tr>\n    <tr>\n      <th>89099Z</th>\n      <th>LSD TAURANGA</th>\n      <td>4</td>\n    </tr>\n    <tr>\n      <th>89347V</th>\n      <th>WILLIAMS LANDING</th>\n      <td>15</td>\n    </tr>\n    <tr>\n      <th>89606V</th>\n      <th>GIPPSLAND NAGLE</th>\n      <td>4</td>\n    </tr>\n    <tr>\n      <th>89910N</th>\n      <th>ANU RSPE STAGE 1</th>\n      <td>3</td>\n    </tr>\n    <tr>\n      <th>90340S</th>\n      <th>McDONALDS FREWVILLE</th>\n      <td>4</td>\n    </tr>\n  </tbody>\n</table>\n</div>"
     },
     "metadata": {},
     "execution_count": 39
    }
   ],
   "source": [
    "# how many sub files in each jobs\n",
    "df_main_s1[['SALE_ORDER','CUSTOMER','ORDER_DATE']].groupby(['SALE_ORDER','CUSTOMER']).count()"
   ]
  },
  {
   "cell_type": "code",
   "execution_count": null,
   "metadata": {},
   "outputs": [],
   "source": []
  },
  {
   "cell_type": "code",
   "execution_count": 40,
   "metadata": {},
   "outputs": [
    {
     "output_type": "execute_result",
     "data": {
      "text/plain": [
       "2018-02-02     4\n",
       "2018-02-28     2\n",
       "2018-10-12     1\n",
       "2019-01-01     3\n",
       "2019-02-07     8\n",
       "2019-02-20     1\n",
       "2019-02-22     2\n",
       "2019-02-27     7\n",
       "2019-02-28     7\n",
       "2019-03-06    21\n",
       "2019-03-07    23\n",
       "2019-03-12    23\n",
       "2019-03-18     2\n",
       "2019-04-04    22\n",
       "2019-04-05     3\n",
       "2019-04-08     1\n",
       "2019-04-30     6\n",
       "2019-05-28     5\n",
       "2019-05-29    10\n",
       "2019-06-06     3\n",
       "2019-06-17     5\n",
       "2019-06-21    13\n",
       "2019-07-02     6\n",
       "2019-07-10     3\n",
       "2019-07-11     4\n",
       "2019-07-23     1\n",
       "2019-07-24     8\n",
       "2019-07-31    15\n",
       "2019-08-01     9\n",
       "2019-08-13     4\n",
       "2019-08-16     9\n",
       "2019-08-19     9\n",
       "2019-09-04     5\n",
       "2019-09-12     3\n",
       "2019-09-13     1\n",
       "2019-09-18    10\n",
       "2019-09-20    21\n",
       "2019-09-23     6\n",
       "2019-10-23     4\n",
       "2019-11-07     1\n",
       "Name: ORDER_DATE, dtype: int64"
      ]
     },
     "metadata": {},
     "execution_count": 40
    }
   ],
   "source": [
    "df_main_s1['ORDER_DATE'].value_counts().sort_index()"
   ]
  },
  {
   "cell_type": "code",
   "execution_count": 41,
   "metadata": {},
   "outputs": [
    {
     "output_type": "execute_result",
     "data": {
      "text/plain": [
       "                           SALE_PRICE\n",
       "ORDER_DATE PDT_MODEL                 \n",
       "2018-02-02 INFINITI C80-P     12073.5\n",
       "2018-02-28 INFINITI C80-P      7627.5\n",
       "2018-10-12 INFINITI C80-R      3573.0\n",
       "2019-01-01 INFINITI C80-R         6.6\n",
       "           INFINITI C80-S      1778.4\n",
       "2019-02-07 INFINITI C80-R     10491.6\n",
       "2019-02-20 INFINITI C80-P      2547.0\n",
       "2019-02-22 INFINITI C80-R      2720.4\n",
       "2019-02-27 INFINITI C80-S     23023.8\n",
       "2019-02-28 INFINITI C80-P     30237.3\n",
       "           INFINITI C80-R      3234.6\n",
       "2019-03-06 INFINITI C80-P      9662.4\n",
       "           INFINITI C80-R     19104.6\n",
       "           INFINITI C80-S     36918.0\n",
       "2019-03-07 INFINITI C80-P      2048.4\n",
       "           INFINITI C80-S     73900.8\n",
       "2019-03-12 INFINITI C80-S     33409.8\n",
       "2019-03-18 INFINITI C80-R       527.4\n",
       "2019-04-04 INFINITI C80-S    266770.8\n",
       "2019-04-05 INFINITI C80-S     17100.0\n",
       "2019-04-08 INFINITI C80-P     11808.0\n",
       "2019-04-30 INFINITI C80-S     18538.2\n",
       "2019-05-28 INFINITI C80-S     59194.8\n",
       "2019-05-29 INFINITI C80-S    108523.8\n",
       "2019-06-06 INFINITI C80-R     28980.0\n",
       "2019-06-17 INFINITI C80-S      6280.2\n",
       "2019-06-21 INFINITI C80-S     98919.0\n",
       "2019-07-02 INFINITI C80-R      3931.2\n",
       "2019-07-10 INFINITI C80-S     15915.6\n",
       "2019-07-11 INFINITI C80-P     15875.1\n",
       "2019-07-23 INFINITI C80-S     10843.2\n",
       "2019-07-24 INFINITI C80-S     47768.4\n",
       "2019-07-31 INFINITI C80-P     81029.7\n",
       "2019-08-01 INFINITI C80-S     23797.8\n",
       "2019-08-13 INFINITI C80-S      9750.6\n",
       "2019-08-16 INFINITI C80-S     23797.8\n",
       "2019-08-19 INFINITI C80-S     58611.6\n",
       "2019-09-04 INFINITI C80-R     13472.7\n",
       "2019-09-12 INFINITI C80-R      5835.0\n",
       "2019-09-13 INFINITI C80-R       690.0\n",
       "2019-09-18 INFINITI C80-S     59628.6\n",
       "2019-09-20 INFINITI C80-S     98944.2\n",
       "2019-09-23 INFINITI C80-S     90036.0\n",
       "2019-10-23 INFINITI C80-S      8819.4\n",
       "2019-11-07 INFINITI C80-R      2889.6"
      ],
      "text/html": "<div>\n<style scoped>\n    .dataframe tbody tr th:only-of-type {\n        vertical-align: middle;\n    }\n\n    .dataframe tbody tr th {\n        vertical-align: top;\n    }\n\n    .dataframe thead th {\n        text-align: right;\n    }\n</style>\n<table border=\"1\" class=\"dataframe\">\n  <thead>\n    <tr style=\"text-align: right;\">\n      <th></th>\n      <th></th>\n      <th>SALE_PRICE</th>\n    </tr>\n    <tr>\n      <th>ORDER_DATE</th>\n      <th>PDT_MODEL</th>\n      <th></th>\n    </tr>\n  </thead>\n  <tbody>\n    <tr>\n      <th>2018-02-02</th>\n      <th>INFINITI C80-P</th>\n      <td>12073.5</td>\n    </tr>\n    <tr>\n      <th>2018-02-28</th>\n      <th>INFINITI C80-P</th>\n      <td>7627.5</td>\n    </tr>\n    <tr>\n      <th>2018-10-12</th>\n      <th>INFINITI C80-R</th>\n      <td>3573.0</td>\n    </tr>\n    <tr>\n      <th rowspan=\"2\" valign=\"top\">2019-01-01</th>\n      <th>INFINITI C80-R</th>\n      <td>6.6</td>\n    </tr>\n    <tr>\n      <th>INFINITI C80-S</th>\n      <td>1778.4</td>\n    </tr>\n    <tr>\n      <th>2019-02-07</th>\n      <th>INFINITI C80-R</th>\n      <td>10491.6</td>\n    </tr>\n    <tr>\n      <th>2019-02-20</th>\n      <th>INFINITI C80-P</th>\n      <td>2547.0</td>\n    </tr>\n    <tr>\n      <th>2019-02-22</th>\n      <th>INFINITI C80-R</th>\n      <td>2720.4</td>\n    </tr>\n    <tr>\n      <th>2019-02-27</th>\n      <th>INFINITI C80-S</th>\n      <td>23023.8</td>\n    </tr>\n    <tr>\n      <th rowspan=\"2\" valign=\"top\">2019-02-28</th>\n      <th>INFINITI C80-P</th>\n      <td>30237.3</td>\n    </tr>\n    <tr>\n      <th>INFINITI C80-R</th>\n      <td>3234.6</td>\n    </tr>\n    <tr>\n      <th rowspan=\"3\" valign=\"top\">2019-03-06</th>\n      <th>INFINITI C80-P</th>\n      <td>9662.4</td>\n    </tr>\n    <tr>\n      <th>INFINITI C80-R</th>\n      <td>19104.6</td>\n    </tr>\n    <tr>\n      <th>INFINITI C80-S</th>\n      <td>36918.0</td>\n    </tr>\n    <tr>\n      <th rowspan=\"2\" valign=\"top\">2019-03-07</th>\n      <th>INFINITI C80-P</th>\n      <td>2048.4</td>\n    </tr>\n    <tr>\n      <th>INFINITI C80-S</th>\n      <td>73900.8</td>\n    </tr>\n    <tr>\n      <th>2019-03-12</th>\n      <th>INFINITI C80-S</th>\n      <td>33409.8</td>\n    </tr>\n    <tr>\n      <th>2019-03-18</th>\n      <th>INFINITI C80-R</th>\n      <td>527.4</td>\n    </tr>\n    <tr>\n      <th>2019-04-04</th>\n      <th>INFINITI C80-S</th>\n      <td>266770.8</td>\n    </tr>\n    <tr>\n      <th>2019-04-05</th>\n      <th>INFINITI C80-S</th>\n      <td>17100.0</td>\n    </tr>\n    <tr>\n      <th>2019-04-08</th>\n      <th>INFINITI C80-P</th>\n      <td>11808.0</td>\n    </tr>\n    <tr>\n      <th>2019-04-30</th>\n      <th>INFINITI C80-S</th>\n      <td>18538.2</td>\n    </tr>\n    <tr>\n      <th>2019-05-28</th>\n      <th>INFINITI C80-S</th>\n      <td>59194.8</td>\n    </tr>\n    <tr>\n      <th>2019-05-29</th>\n      <th>INFINITI C80-S</th>\n      <td>108523.8</td>\n    </tr>\n    <tr>\n      <th>2019-06-06</th>\n      <th>INFINITI C80-R</th>\n      <td>28980.0</td>\n    </tr>\n    <tr>\n      <th>2019-06-17</th>\n      <th>INFINITI C80-S</th>\n      <td>6280.2</td>\n    </tr>\n    <tr>\n      <th>2019-06-21</th>\n      <th>INFINITI C80-S</th>\n      <td>98919.0</td>\n    </tr>\n    <tr>\n      <th>2019-07-02</th>\n      <th>INFINITI C80-R</th>\n      <td>3931.2</td>\n    </tr>\n    <tr>\n      <th>2019-07-10</th>\n      <th>INFINITI C80-S</th>\n      <td>15915.6</td>\n    </tr>\n    <tr>\n      <th>2019-07-11</th>\n      <th>INFINITI C80-P</th>\n      <td>15875.1</td>\n    </tr>\n    <tr>\n      <th>2019-07-23</th>\n      <th>INFINITI C80-S</th>\n      <td>10843.2</td>\n    </tr>\n    <tr>\n      <th>2019-07-24</th>\n      <th>INFINITI C80-S</th>\n      <td>47768.4</td>\n    </tr>\n    <tr>\n      <th>2019-07-31</th>\n      <th>INFINITI C80-P</th>\n      <td>81029.7</td>\n    </tr>\n    <tr>\n      <th>2019-08-01</th>\n      <th>INFINITI C80-S</th>\n      <td>23797.8</td>\n    </tr>\n    <tr>\n      <th>2019-08-13</th>\n      <th>INFINITI C80-S</th>\n      <td>9750.6</td>\n    </tr>\n    <tr>\n      <th>2019-08-16</th>\n      <th>INFINITI C80-S</th>\n      <td>23797.8</td>\n    </tr>\n    <tr>\n      <th>2019-08-19</th>\n      <th>INFINITI C80-S</th>\n      <td>58611.6</td>\n    </tr>\n    <tr>\n      <th>2019-09-04</th>\n      <th>INFINITI C80-R</th>\n      <td>13472.7</td>\n    </tr>\n    <tr>\n      <th>2019-09-12</th>\n      <th>INFINITI C80-R</th>\n      <td>5835.0</td>\n    </tr>\n    <tr>\n      <th>2019-09-13</th>\n      <th>INFINITI C80-R</th>\n      <td>690.0</td>\n    </tr>\n    <tr>\n      <th>2019-09-18</th>\n      <th>INFINITI C80-S</th>\n      <td>59628.6</td>\n    </tr>\n    <tr>\n      <th>2019-09-20</th>\n      <th>INFINITI C80-S</th>\n      <td>98944.2</td>\n    </tr>\n    <tr>\n      <th>2019-09-23</th>\n      <th>INFINITI C80-S</th>\n      <td>90036.0</td>\n    </tr>\n    <tr>\n      <th>2019-10-23</th>\n      <th>INFINITI C80-S</th>\n      <td>8819.4</td>\n    </tr>\n    <tr>\n      <th>2019-11-07</th>\n      <th>INFINITI C80-R</th>\n      <td>2889.6</td>\n    </tr>\n  </tbody>\n</table>\n</div>"
     },
     "metadata": {},
     "execution_count": 41
    }
   ],
   "source": [
    "df_main_s1[['ORDER_DATE','PDT_MODEL','SALE_PRICE']].groupby(['ORDER_DATE','PDT_MODEL']).sum()"
   ]
  },
  {
   "cell_type": "code",
   "execution_count": 42,
   "metadata": {},
   "outputs": [
    {
     "output_type": "execute_result",
     "data": {
      "text/plain": [
       "                                    SALE_PRICE\n",
       "CUSTOMER            PDT_MODEL                 \n",
       "ANU RSPE STAGE 1    INFINITI C80-R      3579.6\n",
       "                    INFINITI C80-S      1101.6\n",
       "BENTLEY SA          INFINITI C80-S     34540.2\n",
       "BEVERIDGE WEST      INFINITI C80-S     59194.8\n",
       "BOTANIC RIDGE       INFINITI C80-S     49329.0\n",
       "CLYDE               INFINITI C80-S     59194.8\n",
       "DTB RETAIL UPGRDE   INFINITI C80-R     23238.9\n",
       "GIPPSLAND NAGLE     INFINITI C80-S      9750.6\n",
       "HONDA/KIA           INFINITI C80-P     29363.4\n",
       "                    INFINITI C80-R     10042.2\n",
       "LAVALLA             INFINITI C80-S     92439.0\n",
       "LSD TAURANGA        INFINITI C80-P     15875.1\n",
       "MT BARKER DEPOT     INFINITI C80-R         6.6\n",
       "                    INFINITI C80-S     63511.2\n",
       "McDONALDS FREWVILLE INFINITI C80-S      8819.4\n",
       "OLYMPIC VILLAGE     INFINITI C80-S    267447.6\n",
       "PARLIAMENT          INFINITI C80-R       527.4\n",
       "                    INFINITI C80-S     33409.8\n",
       "PLC EARLY LEARN     INFINITI C80-P     42045.3\n",
       "ST CATHERINE SIENA  INFINITI C80-P      4595.4\n",
       "ST JOSEPH TRINITY   INFINITI C80-R     44850.0\n",
       "                    INFINITI C80-S     25401.6\n",
       "TOILET UPGRADE      INFINITI C80-R     13212.0\n",
       "TRISTRAM MARINE     INFINITI C80-S      6280.2\n",
       "VSBA BEVERIDGE      INFINITI C80-S    117223.2\n",
       "VSBA CLYDE          INFINITI C80-S     98919.0\n",
       "VSBA CRAIGIEBURN    INFINITI C80-S    149664.6\n",
       "VSBA WYNDHAM        INFINITI C80-S     98944.2\n",
       "WILLIAMS LANDING    INFINITI C80-P     81029.7\n",
       "XAVIER COLLEGE      INFINITI C80-S     17100.0"
      ],
      "text/html": "<div>\n<style scoped>\n    .dataframe tbody tr th:only-of-type {\n        vertical-align: middle;\n    }\n\n    .dataframe tbody tr th {\n        vertical-align: top;\n    }\n\n    .dataframe thead th {\n        text-align: right;\n    }\n</style>\n<table border=\"1\" class=\"dataframe\">\n  <thead>\n    <tr style=\"text-align: right;\">\n      <th></th>\n      <th></th>\n      <th>SALE_PRICE</th>\n    </tr>\n    <tr>\n      <th>CUSTOMER</th>\n      <th>PDT_MODEL</th>\n      <th></th>\n    </tr>\n  </thead>\n  <tbody>\n    <tr>\n      <th rowspan=\"2\" valign=\"top\">ANU RSPE STAGE 1</th>\n      <th>INFINITI C80-R</th>\n      <td>3579.6</td>\n    </tr>\n    <tr>\n      <th>INFINITI C80-S</th>\n      <td>1101.6</td>\n    </tr>\n    <tr>\n      <th>BENTLEY SA</th>\n      <th>INFINITI C80-S</th>\n      <td>34540.2</td>\n    </tr>\n    <tr>\n      <th>BEVERIDGE WEST</th>\n      <th>INFINITI C80-S</th>\n      <td>59194.8</td>\n    </tr>\n    <tr>\n      <th>BOTANIC RIDGE</th>\n      <th>INFINITI C80-S</th>\n      <td>49329.0</td>\n    </tr>\n    <tr>\n      <th>CLYDE</th>\n      <th>INFINITI C80-S</th>\n      <td>59194.8</td>\n    </tr>\n    <tr>\n      <th>DTB RETAIL UPGRDE</th>\n      <th>INFINITI C80-R</th>\n      <td>23238.9</td>\n    </tr>\n    <tr>\n      <th>GIPPSLAND NAGLE</th>\n      <th>INFINITI C80-S</th>\n      <td>9750.6</td>\n    </tr>\n    <tr>\n      <th rowspan=\"2\" valign=\"top\">HONDA/KIA</th>\n      <th>INFINITI C80-P</th>\n      <td>29363.4</td>\n    </tr>\n    <tr>\n      <th>INFINITI C80-R</th>\n      <td>10042.2</td>\n    </tr>\n    <tr>\n      <th>LAVALLA</th>\n      <th>INFINITI C80-S</th>\n      <td>92439.0</td>\n    </tr>\n    <tr>\n      <th>LSD TAURANGA</th>\n      <th>INFINITI C80-P</th>\n      <td>15875.1</td>\n    </tr>\n    <tr>\n      <th rowspan=\"2\" valign=\"top\">MT BARKER DEPOT</th>\n      <th>INFINITI C80-R</th>\n      <td>6.6</td>\n    </tr>\n    <tr>\n      <th>INFINITI C80-S</th>\n      <td>63511.2</td>\n    </tr>\n    <tr>\n      <th>McDONALDS FREWVILLE</th>\n      <th>INFINITI C80-S</th>\n      <td>8819.4</td>\n    </tr>\n    <tr>\n      <th>OLYMPIC VILLAGE</th>\n      <th>INFINITI C80-S</th>\n      <td>267447.6</td>\n    </tr>\n    <tr>\n      <th rowspan=\"2\" valign=\"top\">PARLIAMENT</th>\n      <th>INFINITI C80-R</th>\n      <td>527.4</td>\n    </tr>\n    <tr>\n      <th>INFINITI C80-S</th>\n      <td>33409.8</td>\n    </tr>\n    <tr>\n      <th>PLC EARLY LEARN</th>\n      <th>INFINITI C80-P</th>\n      <td>42045.3</td>\n    </tr>\n    <tr>\n      <th>ST CATHERINE SIENA</th>\n      <th>INFINITI C80-P</th>\n      <td>4595.4</td>\n    </tr>\n    <tr>\n      <th rowspan=\"2\" valign=\"top\">ST JOSEPH TRINITY</th>\n      <th>INFINITI C80-R</th>\n      <td>44850.0</td>\n    </tr>\n    <tr>\n      <th>INFINITI C80-S</th>\n      <td>25401.6</td>\n    </tr>\n    <tr>\n      <th>TOILET UPGRADE</th>\n      <th>INFINITI C80-R</th>\n      <td>13212.0</td>\n    </tr>\n    <tr>\n      <th>TRISTRAM MARINE</th>\n      <th>INFINITI C80-S</th>\n      <td>6280.2</td>\n    </tr>\n    <tr>\n      <th>VSBA BEVERIDGE</th>\n      <th>INFINITI C80-S</th>\n      <td>117223.2</td>\n    </tr>\n    <tr>\n      <th>VSBA CLYDE</th>\n      <th>INFINITI C80-S</th>\n      <td>98919.0</td>\n    </tr>\n    <tr>\n      <th>VSBA CRAIGIEBURN</th>\n      <th>INFINITI C80-S</th>\n      <td>149664.6</td>\n    </tr>\n    <tr>\n      <th>VSBA WYNDHAM</th>\n      <th>INFINITI C80-S</th>\n      <td>98944.2</td>\n    </tr>\n    <tr>\n      <th>WILLIAMS LANDING</th>\n      <th>INFINITI C80-P</th>\n      <td>81029.7</td>\n    </tr>\n    <tr>\n      <th>XAVIER COLLEGE</th>\n      <th>INFINITI C80-S</th>\n      <td>17100.0</td>\n    </tr>\n  </tbody>\n</table>\n</div>"
     },
     "metadata": {},
     "execution_count": 42
    }
   ],
   "source": [
    "df_main_s1[['CUSTOMER','PDT_MODEL','SALE_PRICE']].groupby(['CUSTOMER','PDT_MODEL']).sum()"
   ]
  },
  {
   "cell_type": "code",
   "execution_count": 43,
   "metadata": {},
   "outputs": [],
   "source": [
    "tmp_2_L = df_main_s2[['SALE_ORDER','CUSTOMER','INFINITI160610397','INFINITI160610323','INFINITI160610398','INFINITI160610399']]"
   ]
  },
  {
   "cell_type": "code",
   "execution_count": 44,
   "metadata": {},
   "outputs": [
    {
     "output_type": "execute_result",
     "data": {
      "text/plain": [
       "   SALE_ORDER             CUSTOMER  INFINITI160610397  INFINITI160610323  \\\n",
       "0      87307V           PARLIAMENT               13.0               46.0   \n",
       "1      87353V            HONDA/KIA                0.0               51.0   \n",
       "2      87702N       TOILET UPGRADE                1.0               16.0   \n",
       "3      87729N      PLC EARLY LEARN                0.0               76.0   \n",
       "4      87740V   ST CATHERINE SIENA                0.0                4.0   \n",
       "5      87761A    ST JOSEPH TRINITY                0.0              160.0   \n",
       "6      87782S       XAVIER COLLEGE                0.0               18.0   \n",
       "7      87866V              LAVALLA                1.0              175.0   \n",
       "8      87952V           BENTLEY SA                0.0               62.0   \n",
       "9     88288V1      OLYMPIC VILLAGE                0.0              717.0   \n",
       "10    88288V2      OLYMPIC VILLAGE                0.0                0.0   \n",
       "11    88552Q3    DTB RETAIL UPGRDE                2.0               26.0   \n",
       "12     88657V     VSBA CRAIGIEBURN                0.0              442.0   \n",
       "13     88666V         VSBA WYNDHAM                0.0              292.0   \n",
       "14     88674V                CLYDE                0.0              174.0   \n",
       "15     88674V           VSBA CLYDE                0.0              292.0   \n",
       "16     88689V       BEVERIDGE WEST                0.0              174.0   \n",
       "17     88689V       VSBA BEVERIDGE                0.0              346.0   \n",
       "18     88705V        BOTANIC RIDGE                0.0              145.0   \n",
       "19     88867S      MT BARKER DEPOT                0.0              140.0   \n",
       "20     89001Z      TRISTRAM MARINE                6.0                3.0   \n",
       "21     89099Z         LSD TAURANGA                0.0               31.0   \n",
       "22     89347V     WILLIAMS LANDING                0.0                0.0   \n",
       "23     89606V      GIPPSLAND NAGLE                3.0                5.0   \n",
       "24     89910N     ANU RSPE STAGE 1                0.0               10.0   \n",
       "25     90340S  McDONALDS FREWVILLE                0.0               21.0   \n",
       "\n",
       "    INFINITI160610398  INFINITI160610399  \n",
       "0                32.0                5.0  \n",
       "1                29.0                0.0  \n",
       "2                13.0                4.0  \n",
       "3                 0.0                4.0  \n",
       "4                 4.0                0.0  \n",
       "5                36.0                0.0  \n",
       "6                26.0                0.0  \n",
       "7                78.0                0.0  \n",
       "8                32.0                0.0  \n",
       "9                47.0                8.0  \n",
       "10                0.0                0.0  \n",
       "11               29.0                2.0  \n",
       "12                0.0                0.0  \n",
       "13                0.0                0.0  \n",
       "14                0.0                0.0  \n",
       "15                0.0                0.0  \n",
       "16                0.0                0.0  \n",
       "17                0.0                0.0  \n",
       "18                0.0                0.0  \n",
       "19               38.0                0.0  \n",
       "20               10.0                0.0  \n",
       "21                0.0                0.0  \n",
       "22              106.0               18.0  \n",
       "23               13.0                4.0  \n",
       "24                3.0                0.0  \n",
       "25                4.0                0.0  "
      ],
      "text/html": "<div>\n<style scoped>\n    .dataframe tbody tr th:only-of-type {\n        vertical-align: middle;\n    }\n\n    .dataframe tbody tr th {\n        vertical-align: top;\n    }\n\n    .dataframe thead th {\n        text-align: right;\n    }\n</style>\n<table border=\"1\" class=\"dataframe\">\n  <thead>\n    <tr style=\"text-align: right;\">\n      <th></th>\n      <th>SALE_ORDER</th>\n      <th>CUSTOMER</th>\n      <th>INFINITI160610397</th>\n      <th>INFINITI160610323</th>\n      <th>INFINITI160610398</th>\n      <th>INFINITI160610399</th>\n    </tr>\n  </thead>\n  <tbody>\n    <tr>\n      <th>0</th>\n      <td>87307V</td>\n      <td>PARLIAMENT</td>\n      <td>13.0</td>\n      <td>46.0</td>\n      <td>32.0</td>\n      <td>5.0</td>\n    </tr>\n    <tr>\n      <th>1</th>\n      <td>87353V</td>\n      <td>HONDA/KIA</td>\n      <td>0.0</td>\n      <td>51.0</td>\n      <td>29.0</td>\n      <td>0.0</td>\n    </tr>\n    <tr>\n      <th>2</th>\n      <td>87702N</td>\n      <td>TOILET UPGRADE</td>\n      <td>1.0</td>\n      <td>16.0</td>\n      <td>13.0</td>\n      <td>4.0</td>\n    </tr>\n    <tr>\n      <th>3</th>\n      <td>87729N</td>\n      <td>PLC EARLY LEARN</td>\n      <td>0.0</td>\n      <td>76.0</td>\n      <td>0.0</td>\n      <td>4.0</td>\n    </tr>\n    <tr>\n      <th>4</th>\n      <td>87740V</td>\n      <td>ST CATHERINE SIENA</td>\n      <td>0.0</td>\n      <td>4.0</td>\n      <td>4.0</td>\n      <td>0.0</td>\n    </tr>\n    <tr>\n      <th>5</th>\n      <td>87761A</td>\n      <td>ST JOSEPH TRINITY</td>\n      <td>0.0</td>\n      <td>160.0</td>\n      <td>36.0</td>\n      <td>0.0</td>\n    </tr>\n    <tr>\n      <th>6</th>\n      <td>87782S</td>\n      <td>XAVIER COLLEGE</td>\n      <td>0.0</td>\n      <td>18.0</td>\n      <td>26.0</td>\n      <td>0.0</td>\n    </tr>\n    <tr>\n      <th>7</th>\n      <td>87866V</td>\n      <td>LAVALLA</td>\n      <td>1.0</td>\n      <td>175.0</td>\n      <td>78.0</td>\n      <td>0.0</td>\n    </tr>\n    <tr>\n      <th>8</th>\n      <td>87952V</td>\n      <td>BENTLEY SA</td>\n      <td>0.0</td>\n      <td>62.0</td>\n      <td>32.0</td>\n      <td>0.0</td>\n    </tr>\n    <tr>\n      <th>9</th>\n      <td>88288V1</td>\n      <td>OLYMPIC VILLAGE</td>\n      <td>0.0</td>\n      <td>717.0</td>\n      <td>47.0</td>\n      <td>8.0</td>\n    </tr>\n    <tr>\n      <th>10</th>\n      <td>88288V2</td>\n      <td>OLYMPIC VILLAGE</td>\n      <td>0.0</td>\n      <td>0.0</td>\n      <td>0.0</td>\n      <td>0.0</td>\n    </tr>\n    <tr>\n      <th>11</th>\n      <td>88552Q3</td>\n      <td>DTB RETAIL UPGRDE</td>\n      <td>2.0</td>\n      <td>26.0</td>\n      <td>29.0</td>\n      <td>2.0</td>\n    </tr>\n    <tr>\n      <th>12</th>\n      <td>88657V</td>\n      <td>VSBA CRAIGIEBURN</td>\n      <td>0.0</td>\n      <td>442.0</td>\n      <td>0.0</td>\n      <td>0.0</td>\n    </tr>\n    <tr>\n      <th>13</th>\n      <td>88666V</td>\n      <td>VSBA WYNDHAM</td>\n      <td>0.0</td>\n      <td>292.0</td>\n      <td>0.0</td>\n      <td>0.0</td>\n    </tr>\n    <tr>\n      <th>14</th>\n      <td>88674V</td>\n      <td>CLYDE</td>\n      <td>0.0</td>\n      <td>174.0</td>\n      <td>0.0</td>\n      <td>0.0</td>\n    </tr>\n    <tr>\n      <th>15</th>\n      <td>88674V</td>\n      <td>VSBA CLYDE</td>\n      <td>0.0</td>\n      <td>292.0</td>\n      <td>0.0</td>\n      <td>0.0</td>\n    </tr>\n    <tr>\n      <th>16</th>\n      <td>88689V</td>\n      <td>BEVERIDGE WEST</td>\n      <td>0.0</td>\n      <td>174.0</td>\n      <td>0.0</td>\n      <td>0.0</td>\n    </tr>\n    <tr>\n      <th>17</th>\n      <td>88689V</td>\n      <td>VSBA BEVERIDGE</td>\n      <td>0.0</td>\n      <td>346.0</td>\n      <td>0.0</td>\n      <td>0.0</td>\n    </tr>\n    <tr>\n      <th>18</th>\n      <td>88705V</td>\n      <td>BOTANIC RIDGE</td>\n      <td>0.0</td>\n      <td>145.0</td>\n      <td>0.0</td>\n      <td>0.0</td>\n    </tr>\n    <tr>\n      <th>19</th>\n      <td>88867S</td>\n      <td>MT BARKER DEPOT</td>\n      <td>0.0</td>\n      <td>140.0</td>\n      <td>38.0</td>\n      <td>0.0</td>\n    </tr>\n    <tr>\n      <th>20</th>\n      <td>89001Z</td>\n      <td>TRISTRAM MARINE</td>\n      <td>6.0</td>\n      <td>3.0</td>\n      <td>10.0</td>\n      <td>0.0</td>\n    </tr>\n    <tr>\n      <th>21</th>\n      <td>89099Z</td>\n      <td>LSD TAURANGA</td>\n      <td>0.0</td>\n      <td>31.0</td>\n      <td>0.0</td>\n      <td>0.0</td>\n    </tr>\n    <tr>\n      <th>22</th>\n      <td>89347V</td>\n      <td>WILLIAMS LANDING</td>\n      <td>0.0</td>\n      <td>0.0</td>\n      <td>106.0</td>\n      <td>18.0</td>\n    </tr>\n    <tr>\n      <th>23</th>\n      <td>89606V</td>\n      <td>GIPPSLAND NAGLE</td>\n      <td>3.0</td>\n      <td>5.0</td>\n      <td>13.0</td>\n      <td>4.0</td>\n    </tr>\n    <tr>\n      <th>24</th>\n      <td>89910N</td>\n      <td>ANU RSPE STAGE 1</td>\n      <td>0.0</td>\n      <td>10.0</td>\n      <td>3.0</td>\n      <td>0.0</td>\n    </tr>\n    <tr>\n      <th>25</th>\n      <td>90340S</td>\n      <td>McDONALDS FREWVILLE</td>\n      <td>0.0</td>\n      <td>21.0</td>\n      <td>4.0</td>\n      <td>0.0</td>\n    </tr>\n  </tbody>\n</table>\n</div>"
     },
     "metadata": {},
     "execution_count": 44
    }
   ],
   "source": [
    "tmp_2_L_a = tmp_2_L.groupby(['SALE_ORDER','CUSTOMER']).sum().reset_index()\n",
    "tmp_2_L_a"
   ]
  },
  {
   "cell_type": "code",
   "execution_count": null,
   "metadata": {},
   "outputs": [],
   "source": []
  },
  {
   "cell_type": "code",
   "execution_count": 45,
   "metadata": {},
   "outputs": [],
   "source": [
    "new_row = {'SALES_ORDER':'IN TOTAL',\n",
    "            'CUSTOMER':'IN TOTAL',\n",
    "            'INFINITI160610397':tmp_2_L_a['INFINITI160610397'].sum(),\n",
    "            'INFINITI160610323':tmp_2_L_a['INFINITI160610323'].sum(),\n",
    "            'INFINITI160610398':tmp_2_L_a['INFINITI160610398'].sum(),\n",
    "            'INFINITI160610399':tmp_2_L_a['INFINITI160610399'].sum()\n",
    "        }\n",
    "        \n",
    "df_modular_sum = pd.DataFrame(new_row,columns=['SALES_ORDER','CUSTOMER','INFINITI160610397','INFINITI160610323','INFINITI160610398','INFINITI160610399'],index=[0])"
   ]
  },
  {
   "cell_type": "code",
   "execution_count": 46,
   "metadata": {},
   "outputs": [
    {
     "output_type": "execute_result",
     "data": {
      "text/plain": [
       "  SALES_ORDER  CUSTOMER  INFINITI160610397  INFINITI160610323  \\\n",
       "0    IN TOTAL  IN TOTAL               26.0             3426.0   \n",
       "\n",
       "   INFINITI160610398  INFINITI160610399  \n",
       "0              500.0               45.0  "
      ],
      "text/html": "<div>\n<style scoped>\n    .dataframe tbody tr th:only-of-type {\n        vertical-align: middle;\n    }\n\n    .dataframe tbody tr th {\n        vertical-align: top;\n    }\n\n    .dataframe thead th {\n        text-align: right;\n    }\n</style>\n<table border=\"1\" class=\"dataframe\">\n  <thead>\n    <tr style=\"text-align: right;\">\n      <th></th>\n      <th>SALES_ORDER</th>\n      <th>CUSTOMER</th>\n      <th>INFINITI160610397</th>\n      <th>INFINITI160610323</th>\n      <th>INFINITI160610398</th>\n      <th>INFINITI160610399</th>\n    </tr>\n  </thead>\n  <tbody>\n    <tr>\n      <th>0</th>\n      <td>IN TOTAL</td>\n      <td>IN TOTAL</td>\n      <td>26.0</td>\n      <td>3426.0</td>\n      <td>500.0</td>\n      <td>45.0</td>\n    </tr>\n  </tbody>\n</table>\n</div>"
     },
     "metadata": {},
     "execution_count": 46
    }
   ],
   "source": [
    "df_modular_sum "
   ]
  },
  {
   "cell_type": "code",
   "execution_count": 47,
   "metadata": {},
   "outputs": [
    {
     "output_type": "execute_result",
     "data": {
      "text/plain": [
       "numpy.float64"
      ]
     },
     "metadata": {},
     "execution_count": 47
    }
   ],
   "source": [
    "type(tmp_2_L_a['INFINITI160610397'].sum())"
   ]
  },
  {
   "cell_type": "code",
   "execution_count": 48,
   "metadata": {},
   "outputs": [
    {
     "output_type": "execute_result",
     "data": {
      "text/plain": [
       "26.0"
      ]
     },
     "metadata": {},
     "execution_count": 48
    }
   ],
   "source": [
    "tmp_2_L_a['INFINITI160610397'].sum()"
   ]
  },
  {
   "cell_type": "code",
   "execution_count": 49,
   "metadata": {},
   "outputs": [
    {
     "output_type": "execute_result",
     "data": {
      "text/plain": [
       "    SALE_ORDER ORDER_DATE       PDT_MODEL  TOTAL_LENGTH            CUSTOMER  \\\n",
       "0       88666V 2019-09-20  INFINITI C80-S         10158        VSBA WYNDHAM   \n",
       "1      88288V1 2019-04-04  INFINITI C80-S          5364     OLYMPIC VILLAGE   \n",
       "2      88552Q3 2019-07-02  INFINITI C80-R          2560   DTB RETAIL UPGRDE   \n",
       "3       87952V 2019-03-06  INFINITI C80-S          7338          BENTLEY SA   \n",
       "4       87740V 2019-02-20  INFINITI C80-P          2830  ST CATHERINE SIENA   \n",
       "..         ...        ...             ...           ...                 ...   \n",
       "290     88666V 2019-09-20  INFINITI C80-S          4518        VSBA WYNDHAM   \n",
       "291     87353V 2019-03-06  INFINITI C80-P          3958           HONDA/KIA   \n",
       "292     87307V 2019-03-12  INFINITI C80-S          1698          PARLIAMENT   \n",
       "293     88689V 2019-08-19  INFINITI C80-S          3390      VSBA BEVERIDGE   \n",
       "294     87307V 2019-03-12  INFINITI C80-S          6492          PARLIAMENT   \n",
       "\n",
       "     TOTAL_QTY  SALE_PRICE ORDER_YEAR_MONTH  \n",
       "0            2      6094.8       2019-09-01  \n",
       "1            2      3218.4       2019-04-01  \n",
       "2            1       768.0       2019-07-01  \n",
       "3            1      2201.4       2019-03-01  \n",
       "4            2      2547.0       2019-02-01  \n",
       "..         ...         ...              ...  \n",
       "290          2      2710.8       2019-09-01  \n",
       "291          2      3562.2       2019-03-01  \n",
       "292          1       509.4       2019-03-01  \n",
       "293          3      3051.0       2019-08-01  \n",
       "294          2      3895.2       2019-03-01  \n",
       "\n",
       "[291 rows x 8 columns]"
      ],
      "text/html": "<div>\n<style scoped>\n    .dataframe tbody tr th:only-of-type {\n        vertical-align: middle;\n    }\n\n    .dataframe tbody tr th {\n        vertical-align: top;\n    }\n\n    .dataframe thead th {\n        text-align: right;\n    }\n</style>\n<table border=\"1\" class=\"dataframe\">\n  <thead>\n    <tr style=\"text-align: right;\">\n      <th></th>\n      <th>SALE_ORDER</th>\n      <th>ORDER_DATE</th>\n      <th>PDT_MODEL</th>\n      <th>TOTAL_LENGTH</th>\n      <th>CUSTOMER</th>\n      <th>TOTAL_QTY</th>\n      <th>SALE_PRICE</th>\n      <th>ORDER_YEAR_MONTH</th>\n    </tr>\n  </thead>\n  <tbody>\n    <tr>\n      <th>0</th>\n      <td>88666V</td>\n      <td>2019-09-20</td>\n      <td>INFINITI C80-S</td>\n      <td>10158</td>\n      <td>VSBA WYNDHAM</td>\n      <td>2</td>\n      <td>6094.8</td>\n      <td>2019-09-01</td>\n    </tr>\n    <tr>\n      <th>1</th>\n      <td>88288V1</td>\n      <td>2019-04-04</td>\n      <td>INFINITI C80-S</td>\n      <td>5364</td>\n      <td>OLYMPIC VILLAGE</td>\n      <td>2</td>\n      <td>3218.4</td>\n      <td>2019-04-01</td>\n    </tr>\n    <tr>\n      <th>2</th>\n      <td>88552Q3</td>\n      <td>2019-07-02</td>\n      <td>INFINITI C80-R</td>\n      <td>2560</td>\n      <td>DTB RETAIL UPGRDE</td>\n      <td>1</td>\n      <td>768.0</td>\n      <td>2019-07-01</td>\n    </tr>\n    <tr>\n      <th>3</th>\n      <td>87952V</td>\n      <td>2019-03-06</td>\n      <td>INFINITI C80-S</td>\n      <td>7338</td>\n      <td>BENTLEY SA</td>\n      <td>1</td>\n      <td>2201.4</td>\n      <td>2019-03-01</td>\n    </tr>\n    <tr>\n      <th>4</th>\n      <td>87740V</td>\n      <td>2019-02-20</td>\n      <td>INFINITI C80-P</td>\n      <td>2830</td>\n      <td>ST CATHERINE SIENA</td>\n      <td>2</td>\n      <td>2547.0</td>\n      <td>2019-02-01</td>\n    </tr>\n    <tr>\n      <th>...</th>\n      <td>...</td>\n      <td>...</td>\n      <td>...</td>\n      <td>...</td>\n      <td>...</td>\n      <td>...</td>\n      <td>...</td>\n      <td>...</td>\n    </tr>\n    <tr>\n      <th>290</th>\n      <td>88666V</td>\n      <td>2019-09-20</td>\n      <td>INFINITI C80-S</td>\n      <td>4518</td>\n      <td>VSBA WYNDHAM</td>\n      <td>2</td>\n      <td>2710.8</td>\n      <td>2019-09-01</td>\n    </tr>\n    <tr>\n      <th>291</th>\n      <td>87353V</td>\n      <td>2019-03-06</td>\n      <td>INFINITI C80-P</td>\n      <td>3958</td>\n      <td>HONDA/KIA</td>\n      <td>2</td>\n      <td>3562.2</td>\n      <td>2019-03-01</td>\n    </tr>\n    <tr>\n      <th>292</th>\n      <td>87307V</td>\n      <td>2019-03-12</td>\n      <td>INFINITI C80-S</td>\n      <td>1698</td>\n      <td>PARLIAMENT</td>\n      <td>1</td>\n      <td>509.4</td>\n      <td>2019-03-01</td>\n    </tr>\n    <tr>\n      <th>293</th>\n      <td>88689V</td>\n      <td>2019-08-19</td>\n      <td>INFINITI C80-S</td>\n      <td>3390</td>\n      <td>VSBA BEVERIDGE</td>\n      <td>3</td>\n      <td>3051.0</td>\n      <td>2019-08-01</td>\n    </tr>\n    <tr>\n      <th>294</th>\n      <td>87307V</td>\n      <td>2019-03-12</td>\n      <td>INFINITI C80-S</td>\n      <td>6492</td>\n      <td>PARLIAMENT</td>\n      <td>2</td>\n      <td>3895.2</td>\n      <td>2019-03-01</td>\n    </tr>\n  </tbody>\n</table>\n<p>291 rows × 8 columns</p>\n</div>"
     },
     "metadata": {},
     "execution_count": 49
    }
   ],
   "source": [
    "df_main_s1"
   ]
  },
  {
   "cell_type": "code",
   "execution_count": 50,
   "metadata": {},
   "outputs": [],
   "source": [
    "df_agg_customer_price = df_main_s1[['CUSTOMER','SALE_PRICE']].groupby(['CUSTOMER']).sum().reset_index()"
   ]
  },
  {
   "cell_type": "code",
   "execution_count": 52,
   "metadata": {},
   "outputs": [
    {
     "output_type": "execute_result",
     "data": {
      "text/plain": [
       "               CUSTOMER  SALE_PRICE\n",
       "0      ANU RSPE STAGE 1      4681.2\n",
       "1            BENTLEY SA     34540.2\n",
       "2        BEVERIDGE WEST     59194.8\n",
       "3         BOTANIC RIDGE     49329.0\n",
       "4                 CLYDE     59194.8\n",
       "5     DTB RETAIL UPGRDE     23238.9\n",
       "6       GIPPSLAND NAGLE      9750.6\n",
       "7             HONDA/KIA     39405.6\n",
       "8               LAVALLA     92439.0\n",
       "9          LSD TAURANGA     15875.1\n",
       "10      MT BARKER DEPOT     63517.8\n",
       "11  McDONALDS FREWVILLE      8819.4\n",
       "12      OLYMPIC VILLAGE    267447.6\n",
       "13           PARLIAMENT     33937.2\n",
       "14      PLC EARLY LEARN     42045.3\n",
       "15   ST CATHERINE SIENA      4595.4\n",
       "16    ST JOSEPH TRINITY     70251.6\n",
       "17       TOILET UPGRADE     13212.0\n",
       "18      TRISTRAM MARINE      6280.2\n",
       "19       VSBA BEVERIDGE    117223.2\n",
       "20           VSBA CLYDE     98919.0\n",
       "21     VSBA CRAIGIEBURN    149664.6\n",
       "22         VSBA WYNDHAM     98944.2\n",
       "23     WILLIAMS LANDING     81029.7\n",
       "24       XAVIER COLLEGE     17100.0"
      ],
      "text/html": "<div>\n<style scoped>\n    .dataframe tbody tr th:only-of-type {\n        vertical-align: middle;\n    }\n\n    .dataframe tbody tr th {\n        vertical-align: top;\n    }\n\n    .dataframe thead th {\n        text-align: right;\n    }\n</style>\n<table border=\"1\" class=\"dataframe\">\n  <thead>\n    <tr style=\"text-align: right;\">\n      <th></th>\n      <th>CUSTOMER</th>\n      <th>SALE_PRICE</th>\n    </tr>\n  </thead>\n  <tbody>\n    <tr>\n      <th>0</th>\n      <td>ANU RSPE STAGE 1</td>\n      <td>4681.2</td>\n    </tr>\n    <tr>\n      <th>1</th>\n      <td>BENTLEY SA</td>\n      <td>34540.2</td>\n    </tr>\n    <tr>\n      <th>2</th>\n      <td>BEVERIDGE WEST</td>\n      <td>59194.8</td>\n    </tr>\n    <tr>\n      <th>3</th>\n      <td>BOTANIC RIDGE</td>\n      <td>49329.0</td>\n    </tr>\n    <tr>\n      <th>4</th>\n      <td>CLYDE</td>\n      <td>59194.8</td>\n    </tr>\n    <tr>\n      <th>5</th>\n      <td>DTB RETAIL UPGRDE</td>\n      <td>23238.9</td>\n    </tr>\n    <tr>\n      <th>6</th>\n      <td>GIPPSLAND NAGLE</td>\n      <td>9750.6</td>\n    </tr>\n    <tr>\n      <th>7</th>\n      <td>HONDA/KIA</td>\n      <td>39405.6</td>\n    </tr>\n    <tr>\n      <th>8</th>\n      <td>LAVALLA</td>\n      <td>92439.0</td>\n    </tr>\n    <tr>\n      <th>9</th>\n      <td>LSD TAURANGA</td>\n      <td>15875.1</td>\n    </tr>\n    <tr>\n      <th>10</th>\n      <td>MT BARKER DEPOT</td>\n      <td>63517.8</td>\n    </tr>\n    <tr>\n      <th>11</th>\n      <td>McDONALDS FREWVILLE</td>\n      <td>8819.4</td>\n    </tr>\n    <tr>\n      <th>12</th>\n      <td>OLYMPIC VILLAGE</td>\n      <td>267447.6</td>\n    </tr>\n    <tr>\n      <th>13</th>\n      <td>PARLIAMENT</td>\n      <td>33937.2</td>\n    </tr>\n    <tr>\n      <th>14</th>\n      <td>PLC EARLY LEARN</td>\n      <td>42045.3</td>\n    </tr>\n    <tr>\n      <th>15</th>\n      <td>ST CATHERINE SIENA</td>\n      <td>4595.4</td>\n    </tr>\n    <tr>\n      <th>16</th>\n      <td>ST JOSEPH TRINITY</td>\n      <td>70251.6</td>\n    </tr>\n    <tr>\n      <th>17</th>\n      <td>TOILET UPGRADE</td>\n      <td>13212.0</td>\n    </tr>\n    <tr>\n      <th>18</th>\n      <td>TRISTRAM MARINE</td>\n      <td>6280.2</td>\n    </tr>\n    <tr>\n      <th>19</th>\n      <td>VSBA BEVERIDGE</td>\n      <td>117223.2</td>\n    </tr>\n    <tr>\n      <th>20</th>\n      <td>VSBA CLYDE</td>\n      <td>98919.0</td>\n    </tr>\n    <tr>\n      <th>21</th>\n      <td>VSBA CRAIGIEBURN</td>\n      <td>149664.6</td>\n    </tr>\n    <tr>\n      <th>22</th>\n      <td>VSBA WYNDHAM</td>\n      <td>98944.2</td>\n    </tr>\n    <tr>\n      <th>23</th>\n      <td>WILLIAMS LANDING</td>\n      <td>81029.7</td>\n    </tr>\n    <tr>\n      <th>24</th>\n      <td>XAVIER COLLEGE</td>\n      <td>17100.0</td>\n    </tr>\n  </tbody>\n</table>\n</div>"
     },
     "metadata": {},
     "execution_count": 52
    }
   ],
   "source": [
    "df_agg_customer_price"
   ]
  },
  {
   "cell_type": "code",
   "execution_count": 56,
   "metadata": {},
   "outputs": [],
   "source": [
    "best_customer = df_agg_customer_price[df_agg_customer_price['SALE_PRICE'] == df_agg_customer_price['SALE_PRICE'].max()].CUSTOMER"
   ]
  },
  {
   "cell_type": "code",
   "execution_count": 57,
   "metadata": {},
   "outputs": [
    {
     "output_type": "execute_result",
     "data": {
      "text/plain": [
       "12    OLYMPIC VILLAGE\n",
       "Name: CUSTOMER, dtype: object"
      ]
     },
     "metadata": {},
     "execution_count": 57
    }
   ],
   "source": [
    "best_customer"
   ]
  },
  {
   "cell_type": "code",
   "execution_count": 51,
   "metadata": {},
   "outputs": [
    {
     "output_type": "execute_result",
     "data": {
      "text/plain": [
       "                           SALE_PRICE\n",
       "ORDER_DATE PDT_MODEL                 \n",
       "2018-02-02 INFINITI C80-P     12073.5\n",
       "2018-02-28 INFINITI C80-P      7627.5\n",
       "2018-10-12 INFINITI C80-R      3573.0\n",
       "2019-01-01 INFINITI C80-R         6.6\n",
       "           INFINITI C80-S      1778.4\n",
       "2019-02-07 INFINITI C80-R     10491.6\n",
       "2019-02-20 INFINITI C80-P      2547.0\n",
       "2019-02-22 INFINITI C80-R      2720.4\n",
       "2019-02-27 INFINITI C80-S     23023.8\n",
       "2019-02-28 INFINITI C80-P     30237.3\n",
       "           INFINITI C80-R      3234.6\n",
       "2019-03-06 INFINITI C80-P      9662.4\n",
       "           INFINITI C80-R     19104.6\n",
       "           INFINITI C80-S     36918.0\n",
       "2019-03-07 INFINITI C80-P      2048.4\n",
       "           INFINITI C80-S     73900.8\n",
       "2019-03-12 INFINITI C80-S     33409.8\n",
       "2019-03-18 INFINITI C80-R       527.4\n",
       "2019-04-04 INFINITI C80-S    266770.8\n",
       "2019-04-05 INFINITI C80-S     17100.0\n",
       "2019-04-08 INFINITI C80-P     11808.0\n",
       "2019-04-30 INFINITI C80-S     18538.2\n",
       "2019-05-28 INFINITI C80-S     59194.8\n",
       "2019-05-29 INFINITI C80-S    108523.8\n",
       "2019-06-06 INFINITI C80-R     28980.0\n",
       "2019-06-17 INFINITI C80-S      6280.2\n",
       "2019-06-21 INFINITI C80-S     98919.0\n",
       "2019-07-02 INFINITI C80-R      3931.2\n",
       "2019-07-10 INFINITI C80-S     15915.6\n",
       "2019-07-11 INFINITI C80-P     15875.1\n",
       "2019-07-23 INFINITI C80-S     10843.2\n",
       "2019-07-24 INFINITI C80-S     47768.4\n",
       "2019-07-31 INFINITI C80-P     81029.7\n",
       "2019-08-01 INFINITI C80-S     23797.8\n",
       "2019-08-13 INFINITI C80-S      9750.6\n",
       "2019-08-16 INFINITI C80-S     23797.8\n",
       "2019-08-19 INFINITI C80-S     58611.6\n",
       "2019-09-04 INFINITI C80-R     13472.7\n",
       "2019-09-12 INFINITI C80-R      5835.0\n",
       "2019-09-13 INFINITI C80-R       690.0\n",
       "2019-09-18 INFINITI C80-S     59628.6\n",
       "2019-09-20 INFINITI C80-S     98944.2\n",
       "2019-09-23 INFINITI C80-S     90036.0\n",
       "2019-10-23 INFINITI C80-S      8819.4\n",
       "2019-11-07 INFINITI C80-R      2889.6"
      ],
      "text/html": "<div>\n<style scoped>\n    .dataframe tbody tr th:only-of-type {\n        vertical-align: middle;\n    }\n\n    .dataframe tbody tr th {\n        vertical-align: top;\n    }\n\n    .dataframe thead th {\n        text-align: right;\n    }\n</style>\n<table border=\"1\" class=\"dataframe\">\n  <thead>\n    <tr style=\"text-align: right;\">\n      <th></th>\n      <th></th>\n      <th>SALE_PRICE</th>\n    </tr>\n    <tr>\n      <th>ORDER_DATE</th>\n      <th>PDT_MODEL</th>\n      <th></th>\n    </tr>\n  </thead>\n  <tbody>\n    <tr>\n      <th>2018-02-02</th>\n      <th>INFINITI C80-P</th>\n      <td>12073.5</td>\n    </tr>\n    <tr>\n      <th>2018-02-28</th>\n      <th>INFINITI C80-P</th>\n      <td>7627.5</td>\n    </tr>\n    <tr>\n      <th>2018-10-12</th>\n      <th>INFINITI C80-R</th>\n      <td>3573.0</td>\n    </tr>\n    <tr>\n      <th rowspan=\"2\" valign=\"top\">2019-01-01</th>\n      <th>INFINITI C80-R</th>\n      <td>6.6</td>\n    </tr>\n    <tr>\n      <th>INFINITI C80-S</th>\n      <td>1778.4</td>\n    </tr>\n    <tr>\n      <th>2019-02-07</th>\n      <th>INFINITI C80-R</th>\n      <td>10491.6</td>\n    </tr>\n    <tr>\n      <th>2019-02-20</th>\n      <th>INFINITI C80-P</th>\n      <td>2547.0</td>\n    </tr>\n    <tr>\n      <th>2019-02-22</th>\n      <th>INFINITI C80-R</th>\n      <td>2720.4</td>\n    </tr>\n    <tr>\n      <th>2019-02-27</th>\n      <th>INFINITI C80-S</th>\n      <td>23023.8</td>\n    </tr>\n    <tr>\n      <th rowspan=\"2\" valign=\"top\">2019-02-28</th>\n      <th>INFINITI C80-P</th>\n      <td>30237.3</td>\n    </tr>\n    <tr>\n      <th>INFINITI C80-R</th>\n      <td>3234.6</td>\n    </tr>\n    <tr>\n      <th rowspan=\"3\" valign=\"top\">2019-03-06</th>\n      <th>INFINITI C80-P</th>\n      <td>9662.4</td>\n    </tr>\n    <tr>\n      <th>INFINITI C80-R</th>\n      <td>19104.6</td>\n    </tr>\n    <tr>\n      <th>INFINITI C80-S</th>\n      <td>36918.0</td>\n    </tr>\n    <tr>\n      <th rowspan=\"2\" valign=\"top\">2019-03-07</th>\n      <th>INFINITI C80-P</th>\n      <td>2048.4</td>\n    </tr>\n    <tr>\n      <th>INFINITI C80-S</th>\n      <td>73900.8</td>\n    </tr>\n    <tr>\n      <th>2019-03-12</th>\n      <th>INFINITI C80-S</th>\n      <td>33409.8</td>\n    </tr>\n    <tr>\n      <th>2019-03-18</th>\n      <th>INFINITI C80-R</th>\n      <td>527.4</td>\n    </tr>\n    <tr>\n      <th>2019-04-04</th>\n      <th>INFINITI C80-S</th>\n      <td>266770.8</td>\n    </tr>\n    <tr>\n      <th>2019-04-05</th>\n      <th>INFINITI C80-S</th>\n      <td>17100.0</td>\n    </tr>\n    <tr>\n      <th>2019-04-08</th>\n      <th>INFINITI C80-P</th>\n      <td>11808.0</td>\n    </tr>\n    <tr>\n      <th>2019-04-30</th>\n      <th>INFINITI C80-S</th>\n      <td>18538.2</td>\n    </tr>\n    <tr>\n      <th>2019-05-28</th>\n      <th>INFINITI C80-S</th>\n      <td>59194.8</td>\n    </tr>\n    <tr>\n      <th>2019-05-29</th>\n      <th>INFINITI C80-S</th>\n      <td>108523.8</td>\n    </tr>\n    <tr>\n      <th>2019-06-06</th>\n      <th>INFINITI C80-R</th>\n      <td>28980.0</td>\n    </tr>\n    <tr>\n      <th>2019-06-17</th>\n      <th>INFINITI C80-S</th>\n      <td>6280.2</td>\n    </tr>\n    <tr>\n      <th>2019-06-21</th>\n      <th>INFINITI C80-S</th>\n      <td>98919.0</td>\n    </tr>\n    <tr>\n      <th>2019-07-02</th>\n      <th>INFINITI C80-R</th>\n      <td>3931.2</td>\n    </tr>\n    <tr>\n      <th>2019-07-10</th>\n      <th>INFINITI C80-S</th>\n      <td>15915.6</td>\n    </tr>\n    <tr>\n      <th>2019-07-11</th>\n      <th>INFINITI C80-P</th>\n      <td>15875.1</td>\n    </tr>\n    <tr>\n      <th>2019-07-23</th>\n      <th>INFINITI C80-S</th>\n      <td>10843.2</td>\n    </tr>\n    <tr>\n      <th>2019-07-24</th>\n      <th>INFINITI C80-S</th>\n      <td>47768.4</td>\n    </tr>\n    <tr>\n      <th>2019-07-31</th>\n      <th>INFINITI C80-P</th>\n      <td>81029.7</td>\n    </tr>\n    <tr>\n      <th>2019-08-01</th>\n      <th>INFINITI C80-S</th>\n      <td>23797.8</td>\n    </tr>\n    <tr>\n      <th>2019-08-13</th>\n      <th>INFINITI C80-S</th>\n      <td>9750.6</td>\n    </tr>\n    <tr>\n      <th>2019-08-16</th>\n      <th>INFINITI C80-S</th>\n      <td>23797.8</td>\n    </tr>\n    <tr>\n      <th>2019-08-19</th>\n      <th>INFINITI C80-S</th>\n      <td>58611.6</td>\n    </tr>\n    <tr>\n      <th>2019-09-04</th>\n      <th>INFINITI C80-R</th>\n      <td>13472.7</td>\n    </tr>\n    <tr>\n      <th>2019-09-12</th>\n      <th>INFINITI C80-R</th>\n      <td>5835.0</td>\n    </tr>\n    <tr>\n      <th>2019-09-13</th>\n      <th>INFINITI C80-R</th>\n      <td>690.0</td>\n    </tr>\n    <tr>\n      <th>2019-09-18</th>\n      <th>INFINITI C80-S</th>\n      <td>59628.6</td>\n    </tr>\n    <tr>\n      <th>2019-09-20</th>\n      <th>INFINITI C80-S</th>\n      <td>98944.2</td>\n    </tr>\n    <tr>\n      <th>2019-09-23</th>\n      <th>INFINITI C80-S</th>\n      <td>90036.0</td>\n    </tr>\n    <tr>\n      <th>2019-10-23</th>\n      <th>INFINITI C80-S</th>\n      <td>8819.4</td>\n    </tr>\n    <tr>\n      <th>2019-11-07</th>\n      <th>INFINITI C80-R</th>\n      <td>2889.6</td>\n    </tr>\n  </tbody>\n</table>\n</div>"
     },
     "metadata": {},
     "execution_count": 51
    }
   ],
   "source": [
    "df_main_s1[['ORDER_DATE','PDT_MODEL','SALE_PRICE']].groupby(['ORDER_DATE','PDT_MODEL']).sum()"
   ]
  },
  {
   "cell_type": "code",
   "execution_count": 58,
   "metadata": {},
   "outputs": [
    {
     "output_type": "execute_result",
     "data": {
      "text/plain": [
       "                                    ORDER_DATE\n",
       "CUSTOMER            PDT_MODEL                 \n",
       "ANU RSPE STAGE 1    INFINITI C80-R           2\n",
       "                    INFINITI C80-S           1\n",
       "BENTLEY SA          INFINITI C80-S          13\n",
       "BEVERIDGE WEST      INFINITI C80-S           5\n",
       "BOTANIC RIDGE       INFINITI C80-S           5\n",
       "CLYDE               INFINITI C80-S           5\n",
       "DTB RETAIL UPGRDE   INFINITI C80-R          14\n",
       "GIPPSLAND NAGLE     INFINITI C80-S           4\n",
       "HONDA/KIA           INFINITI C80-P           9\n",
       "                    INFINITI C80-R           7\n",
       "LAVALLA             INFINITI C80-S          27\n",
       "LSD TAURANGA        INFINITI C80-P           4\n",
       "MT BARKER DEPOT     INFINITI C80-R           1\n",
       "                    INFINITI C80-S          21\n",
       "McDONALDS FREWVILLE INFINITI C80-S           4\n",
       "OLYMPIC VILLAGE     INFINITI C80-S          23\n",
       "PARLIAMENT          INFINITI C80-R           2\n",
       "                    INFINITI C80-S          23\n",
       "PLC EARLY LEARN     INFINITI C80-P           5\n",
       "ST CATHERINE SIENA  INFINITI C80-P           3\n",
       "ST JOSEPH TRINITY   INFINITI C80-R           4\n",
       "                    INFINITI C80-S           8\n",
       "TOILET UPGRADE      INFINITI C80-R          10\n",
       "TRISTRAM MARINE     INFINITI C80-S           5\n",
       "VSBA BEVERIDGE      INFINITI C80-S          18\n",
       "VSBA CLYDE          INFINITI C80-S          13\n",
       "VSBA CRAIGIEBURN    INFINITI C80-S          16\n",
       "VSBA WYNDHAM        INFINITI C80-S          21\n",
       "WILLIAMS LANDING    INFINITI C80-P          15\n",
       "XAVIER COLLEGE      INFINITI C80-S           3"
      ],
      "text/html": "<div>\n<style scoped>\n    .dataframe tbody tr th:only-of-type {\n        vertical-align: middle;\n    }\n\n    .dataframe tbody tr th {\n        vertical-align: top;\n    }\n\n    .dataframe thead th {\n        text-align: right;\n    }\n</style>\n<table border=\"1\" class=\"dataframe\">\n  <thead>\n    <tr style=\"text-align: right;\">\n      <th></th>\n      <th></th>\n      <th>ORDER_DATE</th>\n    </tr>\n    <tr>\n      <th>CUSTOMER</th>\n      <th>PDT_MODEL</th>\n      <th></th>\n    </tr>\n  </thead>\n  <tbody>\n    <tr>\n      <th rowspan=\"2\" valign=\"top\">ANU RSPE STAGE 1</th>\n      <th>INFINITI C80-R</th>\n      <td>2</td>\n    </tr>\n    <tr>\n      <th>INFINITI C80-S</th>\n      <td>1</td>\n    </tr>\n    <tr>\n      <th>BENTLEY SA</th>\n      <th>INFINITI C80-S</th>\n      <td>13</td>\n    </tr>\n    <tr>\n      <th>BEVERIDGE WEST</th>\n      <th>INFINITI C80-S</th>\n      <td>5</td>\n    </tr>\n    <tr>\n      <th>BOTANIC RIDGE</th>\n      <th>INFINITI C80-S</th>\n      <td>5</td>\n    </tr>\n    <tr>\n      <th>CLYDE</th>\n      <th>INFINITI C80-S</th>\n      <td>5</td>\n    </tr>\n    <tr>\n      <th>DTB RETAIL UPGRDE</th>\n      <th>INFINITI C80-R</th>\n      <td>14</td>\n    </tr>\n    <tr>\n      <th>GIPPSLAND NAGLE</th>\n      <th>INFINITI C80-S</th>\n      <td>4</td>\n    </tr>\n    <tr>\n      <th rowspan=\"2\" valign=\"top\">HONDA/KIA</th>\n      <th>INFINITI C80-P</th>\n      <td>9</td>\n    </tr>\n    <tr>\n      <th>INFINITI C80-R</th>\n      <td>7</td>\n    </tr>\n    <tr>\n      <th>LAVALLA</th>\n      <th>INFINITI C80-S</th>\n      <td>27</td>\n    </tr>\n    <tr>\n      <th>LSD TAURANGA</th>\n      <th>INFINITI C80-P</th>\n      <td>4</td>\n    </tr>\n    <tr>\n      <th rowspan=\"2\" valign=\"top\">MT BARKER DEPOT</th>\n      <th>INFINITI C80-R</th>\n      <td>1</td>\n    </tr>\n    <tr>\n      <th>INFINITI C80-S</th>\n      <td>21</td>\n    </tr>\n    <tr>\n      <th>McDONALDS FREWVILLE</th>\n      <th>INFINITI C80-S</th>\n      <td>4</td>\n    </tr>\n    <tr>\n      <th>OLYMPIC VILLAGE</th>\n      <th>INFINITI C80-S</th>\n      <td>23</td>\n    </tr>\n    <tr>\n      <th rowspan=\"2\" valign=\"top\">PARLIAMENT</th>\n      <th>INFINITI C80-R</th>\n      <td>2</td>\n    </tr>\n    <tr>\n      <th>INFINITI C80-S</th>\n      <td>23</td>\n    </tr>\n    <tr>\n      <th>PLC EARLY LEARN</th>\n      <th>INFINITI C80-P</th>\n      <td>5</td>\n    </tr>\n    <tr>\n      <th>ST CATHERINE SIENA</th>\n      <th>INFINITI C80-P</th>\n      <td>3</td>\n    </tr>\n    <tr>\n      <th rowspan=\"2\" valign=\"top\">ST JOSEPH TRINITY</th>\n      <th>INFINITI C80-R</th>\n      <td>4</td>\n    </tr>\n    <tr>\n      <th>INFINITI C80-S</th>\n      <td>8</td>\n    </tr>\n    <tr>\n      <th>TOILET UPGRADE</th>\n      <th>INFINITI C80-R</th>\n      <td>10</td>\n    </tr>\n    <tr>\n      <th>TRISTRAM MARINE</th>\n      <th>INFINITI C80-S</th>\n      <td>5</td>\n    </tr>\n    <tr>\n      <th>VSBA BEVERIDGE</th>\n      <th>INFINITI C80-S</th>\n      <td>18</td>\n    </tr>\n    <tr>\n      <th>VSBA CLYDE</th>\n      <th>INFINITI C80-S</th>\n      <td>13</td>\n    </tr>\n    <tr>\n      <th>VSBA CRAIGIEBURN</th>\n      <th>INFINITI C80-S</th>\n      <td>16</td>\n    </tr>\n    <tr>\n      <th>VSBA WYNDHAM</th>\n      <th>INFINITI C80-S</th>\n      <td>21</td>\n    </tr>\n    <tr>\n      <th>WILLIAMS LANDING</th>\n      <th>INFINITI C80-P</th>\n      <td>15</td>\n    </tr>\n    <tr>\n      <th>XAVIER COLLEGE</th>\n      <th>INFINITI C80-S</th>\n      <td>3</td>\n    </tr>\n  </tbody>\n</table>\n</div>"
     },
     "metadata": {},
     "execution_count": 58
    }
   ],
   "source": [
    "df_main_s1[['CUSTOMER','PDT_MODEL','ORDER_DATE']].groupby(['CUSTOMER','PDT_MODEL']).count()"
   ]
  },
  {
   "cell_type": "code",
   "execution_count": 67,
   "metadata": {},
   "outputs": [],
   "source": [
    "kpi_highsales = df_main_s1[df_main_s1['SALE_PRICE']==df_main_s1['SALE_PRICE'].max()].SALE_PRICE"
   ]
  },
  {
   "cell_type": "code",
   "execution_count": 66,
   "metadata": {},
   "outputs": [
    {
     "output_type": "stream",
     "name": "stdout",
     "text": [
      "['OLYMPIC VILLAGE']\n"
     ]
    }
   ],
   "source": [
    "print(kpi_highsales.values)"
   ]
  },
  {
   "cell_type": "code",
   "execution_count": null,
   "metadata": {},
   "outputs": [],
   "source": []
  }
 ],
 "metadata": {
  "kernelspec": {
   "display_name": "Python 3",
   "language": "python",
   "name": "python3"
  },
  "language_info": {
   "codemirror_mode": {
    "name": "ipython",
    "version": 3
   },
   "file_extension": ".py",
   "mimetype": "text/x-python",
   "name": "python",
   "nbconvert_exporter": "python",
   "pygments_lexer": "ipython3",
   "version": "3.7.4-final"
  }
 },
 "nbformat": 4,
 "nbformat_minor": 2
}